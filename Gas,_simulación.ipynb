{
  "nbformat": 4,
  "nbformat_minor": 0,
  "metadata": {
    "colab": {
      "name": "Gas, simulación.ipynb",
      "provenance": []
    },
    "kernelspec": {
      "name": "python3",
      "display_name": "Python 3"
    }
  },
  "cells": [
    {
      "cell_type": "code",
      "metadata": {
        "id": "P8HzaPI4Go0-"
      },
      "source": [
        "%load_ext Cython"
      ],
      "execution_count": null,
      "outputs": []
    },
    {
      "cell_type": "code",
      "metadata": {
        "id": "Q2CfCO_mGjtM"
      },
      "source": [
        "%%cython\n",
        "class Particula:\n",
        "    def __init__(self,m,R,u,r):\n",
        "        \"\"\"Las partículas tiene masa m, radio R, velocidad u y vector posición r. Estos últimos 2\n",
        "        son vectores de 3 componentes que se representan como arrays de numpy\"\"\"\n",
        "        self.m = m\n",
        "        self.R = R\n",
        "        self.u = u\n",
        "        self.r = r\n",
        "    \n",
        "    def paso_dt(self, dt):\n",
        "        \"\"\"Actualiza la posición de la particula al transcurrir un intervalo de tiempo dt\"\"\"\n",
        "        self.r = self.r + dt*self.u\n",
        "    \n",
        "    def colision(self,dt):\n",
        "\n",
        "\n",
        "# prueba 2"
      ],
      "execution_count": null,
      "outputs": []
    },
    {
      "cell_type": "code",
      "metadata": {
        "id": "SclpLjCaGtNs"
      },
      "source": [
        ""
      ],
      "execution_count": null,
      "outputs": []
    }
  ]
}