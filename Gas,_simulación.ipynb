{
  "nbformat": 4,
  "nbformat_minor": 0,
  "metadata": {
    "colab": {
      "name": "Gas, simulación.ipynb",
      "provenance": []
    },
    "kernelspec": {
      "name": "python3",
      "display_name": "Python 3"
    }
  },
  "cells": [
    {
      "cell_type": "code",
      "metadata": {
        "id": "P8HzaPI4Go0-",
        "outputId": "6bdea53f-aa57-4c79-836f-d255bfb3f372",
        "colab": {
          "base_uri": "https://localhost:8080/"
        }
      },
      "source": [
        "%load_ext Cython\n",
        "from numpy import linalg"
      ],
      "execution_count": 18,
      "outputs": [
        {
          "output_type": "stream",
          "text": [
            "The Cython extension is already loaded. To reload it, use:\n",
            "  %reload_ext Cython\n"
          ],
          "name": "stdout"
        }
      ]
    },
    {
      "cell_type": "code",
      "metadata": {
        "id": "Q2CfCO_mGjtM"
      },
      "source": [
        "%%cython\n",
        "import numpy as np\n",
        "\n",
        "class Particula:#En esta clase definimos los métodos fundamentales que debe seguir cada partícula\n",
        "\n",
        "    def __init__(self, (float,float) posicion, (float,float) velocidad, float masa, float radio): \n",
        "       \"\"\"comenzamos definiendo el método que debe \n",
        "        inicializar la clase, en este definimos los atributos básicos de la clase partícula\n",
        "        las entradas masa y radio son de tipo float y las entradas de posición son tuplas conformadas por floats\"\"\"  \n",
        "       self.radio=radio  \n",
        "       self.masa=masa \n",
        "       \n",
        "       self.posicion=np.array(posicion)   #Estas variables son arrays de numpy, y las trataremos como vectores\n",
        "       self.velocidad=np.array(velocidad)\n",
        "       self.velocidad_mag=np.linalg.norm(self.velocidad)#Este atributo no es otra cosa que la magnitud del vector velocidad\n",
        "     \n",
        "       \"\"\"Creamos tres listas con los vectores posición y velocidad y velocidad_mag, posteriormente las usaremos\n",
        "       para generar una lista con todos los valores que ha tenido la velocidad y posición\"\"\"\n",
        "       \n",
        "       self.velocidad_n=[self.velocidad]    ##Velocidad_n y posición_n son listas de vectores que contienen las listas correspondiente a\n",
        "       self.posicion_n=[self.posicion]      ##todos los valores de estos vectores\n",
        "       self.velocidad_mag_n=[self.velocidad_mag]\n",
        "     \n",
        "  ##########################################################################\n",
        "    def paso_dt(self,float dt):   #Falta definir el valor que va a tomar dt  \n",
        "       \"\"\"Este método lo que hace es avanzar en el tiempo, cambia la posición de la partícula y agrega a las listas\n",
        "       una actualización tanto de la posición de la partícula como la velocidad de la misma\"\"\"\n",
        "      \n",
        "       self.posicion=self.posicion + self.velocidad*dt  \n",
        "       self.posicion_n.append(self.posicion) #Se añaden \n",
        "       self.velocidad_n.append(self.velocidad)\n",
        "       self.velocidad_mag_n.append(self.velocidad_mag)\n",
        " ###############################################################################################\n",
        "    def ver_colision_pp(self,otra_p):\n",
        "       \"\"\"Este método verifica si se dio luegar a una colisión entre dos partículas, las entradas\n",
        "      son dos partículas, se definen sus radios y posiciones y se plantea una condición que indica \n",
        "      si las partículas chocaron\"\"\"\n",
        "       cdef float r1=self.radio\n",
        "       cdef float r2=otra_p.radio\n",
        "       p1=self.posicion\n",
        "       p2=otra_p.posicion\n",
        "       cdef float sep=np.linalg.norm(p1-p2)#Norma del vector separación de ambas partículas.\n",
        "       if sep-(r1+r2)<=0:#Si la separación es menor o igual a la suma de sus radios, entonces las partículas están en contacto y por lo tanto chocaron.\n",
        "         return True\n",
        "       else:\n",
        "         return False\n",
        "######################################################################################################\n",
        "    def ver_colision_esquina(self, float Lx, float Ly):\n",
        "       \"Revisa si hay colisión con una esquina, Lx y Ly son las dimensiones horizontal y vertical de la caja respectivamente\"\n",
        "       extremo_izquierdo = self.posicion[0] - self.radio #da la posición del extremo izquido de la partícula\n",
        "       extremo_inferior = self.posicion[1] - self.radio  #da la posición del extremo inferior de la partícula\n",
        "       extremo_derecho  = self.posicion[0] + self.radio  #da la posición del extremo derech0 de la partícula\n",
        "       extremo_superior = self.posicion[1] + self.radio  #da la posición del extremo superior de la partícula\n",
        "       #Ahora construimos las variables donde se va a almacenar el hecho de chocar contra una esquina o no\n",
        "       cdef bint choque_00 = extremo_izquierdo >0 and extremo_inferior> 0   #Esto corresponde a no chocar con la esquina (0,0)\n",
        "       cdef bint choque_Lx0 = extremo_derecho <Lx and extremo_inferior > 0 #Esto corresponde a no chocar con la esquina (Lx,0)\n",
        "       cdef bint choque_LxLy =  extremo_derecho <Lx and extremo_superior <Ly  #Esto corresponde a no chocar con la esquina (Lx,Ly)\n",
        "       cdef bint choque_0Ly = extremo_izquierdo > 0 and extremo_superior <Ly  #Esto corresponde a chocar con la esquina (0,Ly)\n",
        "       if not choque_00 or not choque_Lx0 or not choque_LxLy or not choque_0Ly:\n",
        "         return  True \n",
        "       else:\n",
        "         return False\n",
        "       \n",
        "        \n",
        "#####################################################################################################\n",
        "    def ver_colision_muro(self, float Lx, float Ly):\n",
        "        \"\"\"Este método revisa si la partícula ha chocado contra un muro.\"\"\"\n",
        "        \"\"\"La condición ve que si la posición en \"x\" es diferente 0 o la longitud horizontal (Lx) de la caja y adicionalmente\n",
        "     #  si la posición en \"y\" es diferente de 0 o la longitud vertical (Ly) entonces la partícula no está chocando contra un muro\"\"\"\n",
        "        cdef bint choque_paredes_horizontal = self.posicion[0] + self.radio <Lx and  self.posicion[0] - self.radio!=0\n",
        "        cdef bint choque_paredes_verticales = self.posicion[1] + self.radio <Ly and  self.posicion[1] - self.radio !=0\n",
        "        if  choque_paredes_horizontal and choque_paredes_verticales:\n",
        "          return False\n",
        "        else:\n",
        "          return True \n",
        "        \n",
        "######################################################################################################\n",
        "    def resolver_colision_particula(self,otra_p):#Método que actualiza las velocidades de dos partículas después de chocar\n",
        "      M1=self.masa    #Definimos las magnitudes a usar para resolver el choque\n",
        "      M2=otra_p.masa\n",
        "      p1=self.posicion\n",
        "      p2=otra_p.posicion\n",
        "      V1=self.velocidad\n",
        "      V2=otra_p.velocidad\n",
        "      if self.ver_colision_pp:\n",
        "        self.velocidad= self.velocidad-((2*M2)/(M1+M2))*(np.dot(p1-p2,V1-V2)/(np.linalg.norm(p1-p2)**2))*(p1-p2)\n",
        "        otra_p.velocidad= otra_p.velocidad-((2*M1)/(M1+M2))*(np.dot(p2-p1,V2-V1)/(np.linalg.norm(p2-p1)**2))*(p2-p1)\n",
        "  "
      ],
      "execution_count": 21,
      "outputs": []
    },
    {
      "cell_type": "code",
      "metadata": {
        "id": "gQUaQ-Qgi3n7",
        "outputId": "0f664d06-cfb3-476a-e757-4544040bdc5f",
        "colab": {
          "base_uri": "https://localhost:8080/"
        }
      },
      "source": [
        "#Prueba de ver_colision_muro\n",
        "p1 = Particula((0,0),(3,4),1,0.5)\n",
        "for j in range(10):\n",
        "  p1.paso_dt(1)\n",
        "  if p1.ver_colision_muro(20,20):\n",
        "    print(\"se paró en muro\")\n",
        "    break\n",
        "print(p1.posicion_n)"
      ],
      "execution_count": null,
      "outputs": [
        {
          "output_type": "stream",
          "text": [
            "se paró en muro\n",
            "[array([0., 0.]), array([3., 4.]), array([6., 8.]), array([ 9., 12.]), array([12., 16.]), array([15., 20.])]\n"
          ],
          "name": "stdout"
        }
      ]
    },
    {
      "cell_type": "code",
      "metadata": {
        "id": "JsWE9dp_QOy5",
        "outputId": "8966ff0a-6b1a-466e-f351-e2a1add4e34f",
        "colab": {
          "base_uri": "https://localhost:8080/"
        }
      },
      "source": [
        "#Prueba de ver_colision_esquina\n",
        "p1 = Particula((0,0),(3,4),1,0.5)\n",
        "for j in range(10):\n",
        "  p1.paso_dt(1)\n",
        "  if p1.ver_colision_esquina(9,12):\n",
        "    print(\"se paró\")\n",
        "    break\n",
        "print(p1.posicion_n)"
      ],
      "execution_count": null,
      "outputs": [
        {
          "output_type": "stream",
          "text": [
            "se paró\n",
            "[array([0., 0.]), array([3., 4.]), array([6., 8.]), array([ 9., 12.])]\n"
          ],
          "name": "stdout"
        }
      ]
    },
    {
      "cell_type": "code",
      "metadata": {
        "id": "2kCCkRsgKEgL",
        "outputId": "570634a5-0e30-4f70-8780-6940445a0f2b",
        "colab": {
          "base_uri": "https://localhost:8080/"
        }
      },
      "source": [
        "#Prueba de colision con dos partículas\n",
        "p1=Particula((2,6),(3,4),2,1)\n",
        "p2=Particula((4,6),(5,2),2,1)\n",
        "p1.resolver_colision_particula(p2)\n",
        "print(p1.velocidad)\n",
        "print(p2.velocidad)\n"
      ],
      "execution_count": 25,
      "outputs": [
        {
          "output_type": "stream",
          "text": [
            "[5. 4.]\n",
            "[3. 2.]\n"
          ],
          "name": "stdout"
        }
      ]
    },
    {
      "cell_type": "code",
      "metadata": {
        "id": "SclpLjCaGtNs"
      },
      "source": [
        "import matplotlib.pyplot as plt\n",
        "from matplotlib.animation import FuncAnimation"
      ],
      "execution_count": null,
      "outputs": []
    },
    {
      "cell_type": "code",
      "metadata": {
        "id": "su2Y4OCeUZk6"
      },
      "source": [
        "fig, axes=plt.subplots()\n",
        "x_datos=[]\n",
        "y_datos=[]\n",
        "graficar,=plt.plot([],[])\n",
        "\n",
        "def lim():\n",
        "  axes.set_xlim(0,2*np.pi)\n",
        "  axes.set_ylim(-1,1)\n",
        "  return graficar,\n",
        "\n",
        "def funcion(x):\n",
        "  x_datos.append(x)\n",
        "  y_datos.append(np.cos(3*x))\n",
        "  graficar.set_data(x_datos,y_datos)\n",
        "  return graficar,\n",
        "\n",
        "ani=FuncAnimation(fig,funcion,frames=np.linspace(0,4*np.pi,500),init_func=lim,blit=True)\n",
        "from IPython.display import HTML\n",
        "HTML(ani.to_jshtml())"
      ],
      "execution_count": null,
      "outputs": []
    }
  ]
}