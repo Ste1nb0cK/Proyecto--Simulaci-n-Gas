{
  "nbformat": 4,
  "nbformat_minor": 0,
  "metadata": {
    "colab": {
      "name": "Gas, simulación.ipynb",
      "provenance": []
    },
    "kernelspec": {
      "name": "python3",
      "display_name": "Python 3"
    }
  },
  "cells": [
    {
      "cell_type": "code",
      "metadata": {
        "id": "P8HzaPI4Go0-"
      },
      "source": [
        "%load_ext Cython"
      ],
      "execution_count": 2,
      "outputs": []
    },
    {
      "cell_type": "code",
      "metadata": {
        "id": "Q2CfCO_mGjtM"
      },
      "source": [
        "%%cython\n",
        "import numpy as np\n",
        "class Particula:#En esta clase definimos los métodos fundamentales que debe seguir cada partícula\n",
        "\n",
        "    def __init__(self, (float,float) posicion , (float,float) velocidad , float masa ,float radio): \n",
        "       \"\"\"comenzamos definiendo el método que debe \n",
        "        inicializar la clase, en este definimos los atributos básicos de la clase partícula\n",
        "        las entradas masa y radio son de tipo float y las entradas de posición son tuplas conformadas por floats\"\"\"  \n",
        "       self.radio=radio #Estas variables son de tipo entero  \n",
        "       self.masa=masa \n",
        "       \n",
        "       self.posicion=np.array(posicion)   #Estas variables son arrays de numpy, y las trataremos como vectores\n",
        "       self.velocidad=np.array(velocidad)\n",
        "       self.velocidad_mag=np.linalg.norm(self.velocidad)#Este atributo no es otra cosa que la magnitud del vector velocidad\n",
        "     \n",
        "       \"\"\"Creamos dos listas con copias de los vectores posición y velocidad y velocidad_mag, posteriormente las usaremos\n",
        "       para generar una lista con todos los valores que ha tenido la velocidad y posición\"\"\"\n",
        "       \n",
        "       self.velocidad_n=[self.velocidad]    ##Velocidad_n y posición_n son listas de vectores que contienen las listas correspondiente a\n",
        "       self.posicion_n=[self.posicion]      ##todos los valores de estos vectores\n",
        "       self.velocidad_mag_n=[self.velocidad_mag]\n",
        "     \n",
        "  ##########################################################################\n",
        "    def paso_dt(self,float dt):   #Falta definir el valor que va a tomar dt  \n",
        "       \"\"\"Este método lo que hace es avanzar en el tiempo, cambia la posición de la partícula y agrega a las listas\n",
        "       una actualización tanto de la posición de la partícula como la velocidad de la misma\"\"\"\n",
        "      \n",
        "       self.posicion=self.posicion + self.velocidad*dt  \n",
        "       self.posicion_n.append(self.posicion) #Se añaden \n",
        "       self.velocidad_n.append(self.velocidad)\n",
        "       self.velocidad_mag_n.append(self.velocidad_mag)\n",
        " ###############################################################################################\n",
        "    def ver_colision_pp(self,otra_p):\n",
        "       \"\"\"Este método verifica si se dio luegar a una colisión entre dos partículas, las entradas\n",
        "      son dos partículas, se definen sus radios y posiciones y se plantea una condición que indica \n",
        "      si las partículas chocaron\"\"\"\n",
        "       cdef float r1=self.radio\n",
        "       cdef float r2=otra_p.radio\n",
        "       p1=self.posicion\n",
        "       p2=otra_p.posicion\n",
        "       cdef float sep=np.linalg.norm(p1-p2)#Norma del vector separación de ambas partículas.\n",
        "       if sep-(r1+r2)<=0:#Si la separación es menor o igual a la suma de sus radios, entonces las partículas están en contacto y por lo tanto chocaron.\n",
        "         return True\n",
        "       else:\n",
        "         return False\n",
        "######################################################################################################\n",
        "    def ver_colision_esquina(self, float Lx, float Ly):\n",
        "       \"Revisa si hay colisión con una esquina, Lx y Ly son las dimensiones horizontal y vertical de la caja respectivamente\"\n",
        "       if self.posicion[0] - self.radio >0 and self.posicion[1] - self.radio > 0:  #Esto corresponde a no chocar con la esquina (0,0)\n",
        "         return False\n",
        "       elif self.posicion[0] + self.radio <Lx and self.posicion[1] - self.radio > 0: #Esto corresponde a no chocar con la esquina (Lx,0)\n",
        "         return False\n",
        "       elif self.posicion[0] + self.radio <Lx and self.posicion[1] + self.radio <Ly:  #Esto corresponde a no chocar con la esquina (Lx,Ly)\n",
        "         return False\n",
        "       elif self.posicion[0] - self.radi0 > 0 and self.posicion[1] + self.radio <Ly:  #Esto corresponde a chocar con la esquina (0,Ly)\n",
        "         return False\n",
        "       else:\n",
        "         return True\n",
        "        \n",
        "#####################################################################################################\n",
        "    def ver_colision_muro(self, float Lx, float Ly):\n",
        "        \"\"\"Este método revisa si la partícula ha chocado contra un muro.\"\"\"\n",
        "        \"\"\"La condición ve que si la posición en \"x\" es diferente 0 o la longitud horizontal (Lx) de la caja y adicionalmente\n",
        "         #  si la posición en \"y\" es diferente de 0 o la longitud vertical (Ly) entonces la partícula no está chocando contra un muro\"\"\"\n",
        "        if self.posicion[0] + self.radio <Lx and self.posicion[0] - self.radio!=0:\n",
        "          return False\n",
        "        elif self.posicion[1] - self.radio <Ly and self.posicion[1] - self.radio !=0:\n",
        "          return False\n",
        "        else:\n",
        "          return True \n",
        "        \n",
        "######################################################################################################\n",
        "    #def resolver_colision_pared(self,otra_p):\n",
        "     #   dt = 1 #Hay que definir el tamaño de dt\n",
        "      #  self.paso_dt(dt)\n",
        "        \n"
      ],
      "execution_count": 4,
      "outputs": []
    },
    {
      "cell_type": "code",
      "metadata": {
        "id": "gQUaQ-Qgi3n7",
        "outputId": "67d94aa4-93b4-4329-949b-8c7f3fd46817",
        "colab": {
          "base_uri": "https://localhost:8080/"
        }
      },
      "source": [
        "p1 = Particula((0,0),(3,4),1,0.5)\n",
        "for j in range(10):\n",
        "  p1.paso_dt(1)\n",
        "print(p1.posicion_n)"
      ],
      "execution_count": 5,
      "outputs": [
        {
          "output_type": "stream",
          "text": [
            "[array([0., 0.]), array([3., 4.]), array([6., 8.]), array([ 9., 12.]), array([12., 16.]), array([15., 20.]), array([18., 24.]), array([21., 28.]), array([24., 32.]), array([27., 36.]), array([30., 40.])]\n"
          ],
          "name": "stdout"
        }
      ]
    },
    {
      "cell_type": "code",
      "metadata": {
        "id": "SclpLjCaGtNs"
      },
      "source": [
        "import matplotlib.pyplot as plt\n",
        "from matplotlib.animation import FuncAnimation"
      ],
      "execution_count": null,
      "outputs": []
    },
    {
      "cell_type": "code",
      "metadata": {
        "id": "su2Y4OCeUZk6"
      },
      "source": [
        "fig, axes=plt.subplots()\n",
        "x_datos=[]\n",
        "y_datos=[]\n",
        "graficar,=plt.plot([],[])\n",
        "\n",
        "def lim():\n",
        "  axes.set_xlim(0,2*np.pi)\n",
        "  axes.set_ylim(-1,1)\n",
        "  return graficar,\n",
        "\n",
        "def funcion(x):\n",
        "  x_datos.append(x)\n",
        "  y_datos.append(np.cos(3*x))\n",
        "  graficar.set_data(x_datos,y_datos)\n",
        "  return graficar,\n",
        "\n",
        "ani=FuncAnimation(fig,funcion,frames=np.linspace(0,4*np.pi,500),init_func=lim,blit=True)\n",
        "from IPython.display import HTML\n",
        "HTML(ani.to_jshtml())"
      ],
      "execution_count": null,
      "outputs": []
    }
  ]
}