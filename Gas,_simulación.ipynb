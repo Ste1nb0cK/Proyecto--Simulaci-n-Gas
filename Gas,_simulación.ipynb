{
  "nbformat": 4,
  "nbformat_minor": 0,
  "metadata": {
    "colab": {
      "name": "Gas, simulación.ipynb",
      "provenance": []
    },
    "kernelspec": {
      "name": "python3",
      "display_name": "Python 3"
    }
  },
  "cells": [
    {
      "cell_type": "code",
      "metadata": {
        "id": "P8HzaPI4Go0-"
      },
      "source": [
        "%load_ext Cython"
      ],
      "execution_count": null,
      "outputs": []
    },
    {
      "cell_type": "code",
      "metadata": {
        "id": "Q2CfCO_mGjtM"
      },
      "source": [
        "%%cython\n",
        "import numpy as np\n",
        "class Particula:#En esta clase definimos los métodos fundamentales que debe seguir cada partícula\n",
        "  \n",
        "     def __init__(self, (float,float) velocidad , int masa , (float,float) posicion ,float radio): \n",
        "       \"\"\"comenzamos definiendo el método que debe \n",
        "        inicializar la clase, en este definimos los atributos básicos de la clase partícula\n",
        "        las entradas masa y radio son de tipo entero y las entradas de posición son tuplas\"\"\"  \n",
        "       self.radio=radio #Estas variables son de tipo entero  ##¿Por qué la masa y el radio son enteros? Att: Nicolás\n",
        "       self.masa=masa \n",
        "     \n",
        "       self.posicion=np.array(posicion) #Estas variables son arrays de numpy, y las trataremos como vecotores\n",
        "       self.velocidad=np.array(velocidad)\n",
        "       self.velocidad_mag=np.linalg.norm(self.velocidad)#Este atributo no es otra cosa que la magnitud del vector velocidad\n",
        "     \n",
        "       \"\"\"Creamos dos listas con copias de los vectores posición y velocidad y velocidad_mag, posteriormente las usaremos\n",
        "       para actualizar la información a medida que vaya avanzando la simulación\"\"\"\n",
        "       \n",
        "       self.velocidad_n=[np.copy(self.velocidad)]\n",
        "       self.posicion_n=[np.copy(self.posicion)]\n",
        "       self.velocidad_mag_n=[np.copy(self.velocidad_mag)]\n",
        "     \n",
        "  ##########################################################################\n",
        "     def paso_dt(self,int dt):\n",
        "       \"\"\"Este método lo que hace es avanzar en el tiempo, cambia la posición de la partícula y agrega a las listas\n",
        "       una actualización tanto de la posición de la partícula como la velocidad de la misma\"\"\"\n",
        "      \n",
        "       self.posicion=self.posicion + self.velocidad*dt\n",
        "       self.velocidad_n.append(np.copy(self.velcidad))\n",
        "       self.posicion_n.append(np.copy(self.posicion))\n",
        "       self.velocidad_mag_n.append(np.copy(self.velocidad_mag))\n",
        " ###############################################################################################\n",
        "     def ver_colision(self,otra_p):\n",
        "       \"\"\"Este método verifica si se dio luegar a una colisión entre dos partículas, las entradas\n",
        "      son dos partículas, se definen sus radios y posiciones y se plantea una condición que indica \n",
        "      si las partículas chocaron\"\"\"\n",
        "       cdef int r1=self.radio\n",
        "       cdef int r2=otra_p.radio\n",
        "       p1=self.posicion\n",
        "       p2=otra_p.posicion\n",
        "       cdef float sep=np.linalg.norm(p1-p2)#Norma del vector separación de ambas partículas\n",
        "       if sep-(r1+r2)<=0:#Si la separación es menor o igual a la suma de sus radios, entonces las partículas están en contacto y por lo tanto chocaron\n",
        "         return True\n",
        "       else:\n",
        "         return False"
      ],
      "execution_count": null,
      "outputs": []
    },
    {
      "cell_type": "code",
      "metadata": {
        "id": "SclpLjCaGtNs"
      },
      "source": [
        "import matplotlib.pyplot as plt\n",
        "from matplotlib.animation import FuncAnimation"
      ],
      "execution_count": 1,
      "outputs": []
    },
    {
      "cell_type": "code",
      "metadata": {
        "id": "su2Y4OCeUZk6"
      },
      "source": [
        "fig, axes=plt.subplots()\n",
        "x_datos=[]\n",
        "y_datos=[]\n",
        "graficar,=plt.plot([],[])\n",
        "\n",
        "def lim():\n",
        "  axes.set_xlim(0,2*np.pi)\n",
        "  axes.set_ylim(-1,1)\n",
        "  return graficar,\n",
        "\n",
        "def funcion(x):\n",
        "  x_datos.append(x)\n",
        "  y_datos.append(np.cos(3*x))\n",
        "  graficar.set_data(x_datos,y_datos)\n",
        "  return graficar,\n",
        "\n",
        "ani=FuncAnimation(fig,funcion,frames=np.linspace(0,4*np.pi,500),init_func=lim,blit=True)\n",
        "from IPython.display import HTML\n",
        "HTML(ani.to_jshtml())"
      ],
      "execution_count": null,
      "outputs": []
    }
  ]
}