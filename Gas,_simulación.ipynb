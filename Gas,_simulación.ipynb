{
 "cells": [
  {
   "cell_type": "code",
   "execution_count": 2,
   "metadata": {
    "id": "P8HzaPI4Go0-"
   },
   "outputs": [],
   "source": [
    "%load_ext Cython\n",
    "from numpy import linalg"
   ]
  },
  {
   "cell_type": "code",
   "execution_count": 56,
   "metadata": {
    "id": "Q2CfCO_mGjtM"
   },
   "outputs": [],
   "source": [
    "%%cython\n",
    "import numpy as np\n",
    "\n",
    "class Particula:#En esta clase definimos los métodos fundamentales que debe seguir cada partícula\n",
    "\n",
    "    def __init__(self, (float,float) posicion, (float,float) velocidad, float masa, float radio): \n",
    "       \"\"\"comenzamos definiendo el método que debe \n",
    "        inicializar la clase, en este definimos los atributos básicos de la clase partícula\n",
    "        las entradas masa y radio son de tipo float y las entradas de posición son tuplas conformadas por floats\"\"\"  \n",
    "       self.radio=radio  \n",
    "       self.masa=masa \n",
    "       \n",
    "       self.posicion=np.array(posicion)   #Estas variables son arrays de numpy, y las trataremos como vectores\n",
    "       self.velocidad=np.array(velocidad)\n",
    "       self.velocidad_mag=np.linalg.norm(self.velocidad)#Este atributo no es otra cosa que la magnitud del vector velocidad\n",
    "     \n",
    "       \"\"\"Creamos tres listas con los vectores posición y velocidad y velocidad_mag, posteriormente las usaremos\n",
    "       para generar una lista con todos los valores que ha tenido la velocidad y posición\"\"\"\n",
    "       \n",
    "       self.velocidad_n=[self.velocidad]    ##Velocidad_n y posición_n son listas de vectores que contienen las listas correspondiente a\n",
    "       self.posicion_n=[self.posicion]      ##todos los valores de estos vectores\n",
    "       self.velocidad_mag_n=[self.velocidad_mag]\n",
    "     \n",
    "  ##########################################################################\n",
    "    def paso_dt(self,float dt):   #Falta definir el valor que va a tomar dt  \n",
    "       \"\"\"Este método lo que hace es avanzar en el tiempo, cambia la posición de la partícula y agrega a las listas\n",
    "       una actualización tanto de la posición de la partícula como la velocidad de la misma\"\"\"\n",
    "      \n",
    "       self.posicion=self.posicion + self.velocidad*dt  \n",
    "       self.posicion_n.append(self.posicion) #Se añaden \n",
    "       self.velocidad_n.append(self.velocidad)\n",
    "       self.velocidad_mag_n.append(self.velocidad_mag)\n",
    " ###############################################################################################\n",
    "    def ver_colision_pp(self,otra_p):\n",
    "       \"\"\"Este método verifica si se dio luegar a una colisión entre dos partículas, las entradas\n",
    "      son dos partículas, se definen sus radios y posiciones y se plantea una condición que indica \n",
    "      si las partículas chocaron\"\"\"\n",
    "       cdef float r1=self.radio\n",
    "       cdef float r2=otra_p.radio\n",
    "       p1=self.posicion\n",
    "       p2=otra_p.posicion\n",
    "       cdef float sep=np.linalg.norm(p1-p2)#Norma del vector separación de ambas partículas.\n",
    "       if sep-(r1+r2)<=0:#Si la separación es menor o igual a la suma de sus radios, entonces las partículas están en contacto y por lo tanto chocaron.\n",
    "         return True\n",
    "       else:\n",
    "         return False\n",
    "######################################################################################################\n",
    "    def ver_colision_esquina(self, float Lx, float Ly):\n",
    "       \"Revisa si hay colisión con una esquina, Lx y Ly son las dimensiones horizontal y vertical de la caja respectivamente\"\n",
    "       extremo_izquierdo = self.posicion[0] - self.radio #da la posición del extremo izquido de la partícula\n",
    "       extremo_inferior = self.posicion[1] - self.radio  #da la posición del extremo inferior de la partícula\n",
    "       extremo_derecho  = self.posicion[0] + self.radio  #da la posición del extremo derech0 de la partícula\n",
    "       extremo_superior = self.posicion[1] + self.radio  #da la posición del extremo superior de la partícula\n",
    "       #Ahora construimos las variables donde se va a almacenar el hecho de chocar contra una esquina o no\n",
    "       cdef bint choque_00 = extremo_izquierdo >0 and extremo_inferior> 0   #Esto corresponde a no chocar con la esquina (0,0)\n",
    "       cdef bint choque_Lx0 = extremo_derecho <Lx and extremo_inferior > 0 #Esto corresponde a no chocar con la esquina (Lx,0)\n",
    "       cdef bint choque_LxLy =  extremo_derecho <Lx and extremo_superior <Ly  #Esto corresponde a no chocar con la esquina (Lx,Ly)\n",
    "       cdef bint choque_0Ly = extremo_izquierdo > 0 and extremo_superior <Ly  #Esto corresponde a chocar con la esquina (0,Ly)\n",
    "       if not choque_00 or not choque_Lx0 or not choque_LxLy or not choque_0Ly:\n",
    "         return  True \n",
    "       else:\n",
    "         return False\n",
    "       \n",
    "        \n",
    "#####################################################################################################\n",
    "    def ver_colision_muro(self, float Lx, float Ly):\n",
    "        \"\"\"Este método revisa si la partícula ha chocado contra un muro.\"\"\"\n",
    "        \"\"\"La condición ve que si la posición en \"x\" es diferente 0 o la longitud horizontal (Lx) de la caja y adicionalmente\n",
    "     #  si la posición en \"y\" es diferente de 0 o la longitud vertical (Ly) entonces la partícula no está chocando contra un muro\"\"\"\n",
    "        cdef bint choque_paredes_horizontal = self.posicion[0] + self.radio <Lx and  self.posicion[0] - self.radio!=0\n",
    "        #ambas condiciones corresponden a no chocar con esas paredes\n",
    "        cdef bint choque_paredes_verticales = self.posicion[1] + self.radio <Ly and  self.posicion[1] - self.radio !=0\n",
    "        if  choque_paredes_horizontal and choque_paredes_verticales:\n",
    "          return False\n",
    "        else:\n",
    "          return True \n",
    "        \n",
    "######################################################################################################\n",
    "    def resolver_colision_particula(self,otra_p):#Método que actualiza las velocidades de dos partículas después de chocar\n",
    "      M1=self.masa    #Definimos las magnitudes a usar para resolver el choque\n",
    "      M2=otra_p.masa\n",
    "      p1=self.posicion\n",
    "      p2=otra_p.posicion\n",
    "      V1=self.velocidad\n",
    "      V2=otra_p.velocidad\n",
    "      if self.ver_colision_pp:\n",
    "        self.velocidad= self.velocidad-((2*M2)/(M1+M2))*(np.dot(p1-p2,V1-V2)/(np.linalg.norm(p1-p2)**2))*(p1-p2)\n",
    "        otra_p.velocidad= otra_p.velocidad-((2*M1)/(M1+M2))*(np.dot(p2-p1,V2-V1)/(np.linalg.norm(p2-p1)**2))*(p2-p1)\n",
    "  \n",
    "\n",
    "    def resolver_colision_muro(self,float Lx,float Ly): \n",
    "        \"\"\"#Método que actualiza la velocidad después de que una partícula choca con un muro. Recibe la\n",
    "        partícula y las dimensiones de la caja\"\"\"\n",
    "        cdef bint choque_paredes_horizontal = self.posicion[0] + self.radio <Lx and  self.posicion[0] - self.radio!=0\n",
    "        cdef bint choque_paredes_verticales = self.posicion[1] + self.radio <Ly and  self.posicion[1] - self.radio !=0\n",
    "        if not choque_paredes_horizontal:\n",
    "            self.velocidad[0] = -1 * self.velocidad[0]\n",
    "        elif not choque_paredes_verticales:\n",
    "            self.velocidad[1] =-1 * self.velocidad[1]\n",
    "    \n",
    "    def resolver_colision_esquina(self):\n",
    "        \"\"\"Método que actualiza la velocidad después de que una partícula choca con una esquina\"\"\"\n",
    "        self.velocidad = -1* self.velocidad #se invierte todo el vector\n",
    "            \n",
    "        "
   ]
  },
  {
   "cell_type": "code",
   "execution_count": 9,
   "metadata": {
    "colab": {
     "base_uri": "https://localhost:8080/"
    },
    "id": "gQUaQ-Qgi3n7",
    "outputId": "0f664d06-cfb3-476a-e757-4544040bdc5f"
   },
   "outputs": [
    {
     "name": "stdout",
     "output_type": "stream",
     "text": [
      "se paró en muro\n",
      "[array([0., 0.]), array([3., 4.]), array([6., 8.]), array([ 9., 12.]), array([12., 16.]), array([15., 20.])]\n"
     ]
    }
   ],
   "source": [
    "#Prueba de ver_colision_muro\n",
    "p1 = Particula((0,0),(3,4),1,0.5)\n",
    "for j in range(10):\n",
    "  p1.paso_dt(1)\n",
    "  if p1.ver_colision_muro(20,20):\n",
    "    print(\"se paró en muro\")\n",
    "    break\n",
    "print(p1.posicion_n)"
   ]
  },
  {
   "cell_type": "code",
   "execution_count": 59,
   "metadata": {
    "colab": {
     "base_uri": "https://localhost:8080/"
    },
    "id": "JsWE9dp_QOy5",
    "outputId": "8966ff0a-6b1a-466e-f351-e2a1add4e34f"
   },
   "outputs": [
    {
     "name": "stdout",
     "output_type": "stream",
     "text": [
      "se paró\n",
      "[array([3., 2.]), array([6., 6.]), array([ 9., 10.])]\n"
     ]
    }
   ],
   "source": [
    "#Prueba de ver_colision_esquina\n",
    "p1 = Particula((,),(3,4),1,0.5)\n",
    "for j in range(10):\n",
    "  p1.paso_dt(1)\n",
    "  if p1.ver_colision_esquina(9,12):\n",
    "    print(\"se paró\")\n",
    "    break\n",
    "print(p1.posicion_n)"
   ]
  },
  {
   "cell_type": "code",
   "execution_count": 11,
   "metadata": {
    "colab": {
     "base_uri": "https://localhost:8080/"
    },
    "id": "2kCCkRsgKEgL",
    "outputId": "20a4c2df-25bf-47bb-9a68-417a715da5f1"
   },
   "outputs": [
    {
     "name": "stdout",
     "output_type": "stream",
     "text": [
      "[-1.  0.]\n",
      "[1. 0.]\n"
     ]
    }
   ],
   "source": [
    "#Prueba de colision con dos partículas\n",
    "p1=Particula((2,6),(1,0),2,1)\n",
    "p2=Particula((4,6),(-1,0),2,1)\n",
    "p1.resolver_colision_particula(p2)\n",
    "print(p1.velocidad)\n",
    "print(p2.velocidad)\n"
   ]
  },
  {
   "cell_type": "code",
   "execution_count": 14,
   "metadata": {},
   "outputs": [
    {
     "name": "stdout",
     "output_type": "stream",
     "text": [
      "[15. 20.]\n",
      "[ 3. -4.]\n"
     ]
    }
   ],
   "source": [
    "#Prueba de resolver_colision_muro\n",
    "p1 = Particula((0,0),(3,4),1,0.5)\n",
    "for j in range(10):\n",
    "  p1.paso_dt(1)\n",
    "  if p1.ver_colision_muro(20,20):\n",
    "     p1.resolver_colision_muro(20,20)\n",
    "     break\n",
    "print(p1.posicion)\n",
    "print(p1.velocidad)"
   ]
  },
  {
   "cell_type": "code",
   "execution_count": 18,
   "metadata": {},
   "outputs": [
    {
     "name": "stdout",
     "output_type": "stream",
     "text": [
      "[ 9. 12.]\n",
      "[-3. -4.]\n"
     ]
    }
   ],
   "source": [
    "#Prueba de resolver_colision_esquina\n",
    "p1 = Particula((0,0),(3,4),1,0.5)\n",
    "for j in range(10):\n",
    "  p1.paso_dt(1)\n",
    "  if p1.ver_colision_esquina(9,12):\n",
    "     p1.resolver_colision_esquina()\n",
    "     break\n",
    "print(p1.posicion)\n",
    "print(p1.velocidad)"
   ]
  },
  {
   "cell_type": "code",
   "execution_count": 85,
   "metadata": {
    "scrolled": true
   },
   "outputs": [
    {
     "data": {
      "image/png": "[encoded data removed]",
      "text/plain": [
       "<Figure size 432x288 with 1 Axes>"
      ]
     },
     "metadata": {
      "needs_background": "light"
     },
     "output_type": "display_data"
    },
    {
     "name": "stdout",
     "output_type": "stream",
     "text": [
      "[array([3., 3.]), array([3.3, 3. ]), array([3.60000001, 3.        ]), array([3.90000001, 3.        ]), array([4.20000002, 3.        ]), array([4.50000002, 3.        ]), array([4.80000003, 3.        ]), array([5.10000003, 3.        ]), array([5.40000004, 3.        ]), array([5.70000004, 3.        ]), array([6.00000004, 3.        ]), array([6.30000005, 3.        ]), array([6.60000005, 3.        ]), array([6.30000005, 3.        ]), array([6.00000004, 3.        ]), array([5.70000004, 3.        ]), array([5.40000004, 3.        ]), array([5.10000003, 3.        ]), array([4.80000003, 3.        ]), array([4.50000002, 3.        ]), array([4.20000002, 3.        ]), array([3.90000001, 3.        ]), array([3.60000001, 3.        ]), array([3.3, 3. ]), array([3., 3.]), array([2.7, 3. ]), array([2.39999999, 3.        ]), array([2.09999999, 3.        ]), array([1.79999998, 3.        ]), array([1.49999998, 3.        ]), array([1.19999997, 3.        ]), array([0.89999997, 3.        ]), array([0.59999996, 3.        ]), array([0.29999996, 3.        ]), array([0.59999996, 3.        ]), array([0.89999997, 3.        ]), array([1.19999997, 3.        ]), array([1.49999998, 3.        ]), array([1.79999998, 3.        ]), array([2.09999999, 3.        ]), array([2.39999999, 3.        ]), array([2.7, 3. ]), array([3., 3.]), array([3.3, 3. ]), array([3.60000001, 3.        ]), array([3.90000001, 3.        ]), array([4.20000002, 3.        ]), array([4.50000002, 3.        ]), array([4.80000003, 3.        ]), array([5.10000003, 3.        ]), array([5.40000004, 3.        ]), array([5.70000004, 3.        ]), array([6.00000004, 3.        ]), array([6.30000005, 3.        ]), array([6.60000005, 3.        ]), array([6.30000005, 3.        ]), array([6.00000004, 3.        ]), array([5.70000004, 3.        ]), array([5.40000004, 3.        ]), array([5.10000003, 3.        ]), array([4.80000003, 3.        ]), array([4.50000002, 3.        ]), array([4.20000002, 3.        ]), array([3.90000001, 3.        ]), array([3.60000001, 3.        ]), array([3.3, 3. ]), array([3., 3.]), array([2.7, 3. ]), array([2.39999999, 3.        ]), array([2.09999999, 3.        ]), array([1.79999998, 3.        ]), array([1.49999998, 3.        ]), array([1.19999997, 3.        ]), array([0.89999997, 3.        ]), array([0.59999996, 3.        ]), array([0.29999996, 3.        ]), array([0.59999996, 3.        ]), array([0.89999997, 3.        ]), array([1.19999997, 3.        ]), array([1.49999998, 3.        ]), array([1.79999998, 3.        ]), array([2.09999999, 3.        ]), array([2.39999999, 3.        ]), array([2.7, 3. ]), array([3., 3.]), array([3.3, 3. ]), array([3.60000001, 3.        ]), array([3.90000001, 3.        ]), array([4.20000002, 3.        ]), array([4.50000002, 3.        ]), array([4.80000003, 3.        ]), array([5.10000003, 3.        ]), array([5.40000004, 3.        ]), array([5.70000004, 3.        ]), array([6.00000004, 3.        ]), array([6.30000005, 3.        ]), array([6.60000005, 3.        ]), array([6.30000005, 3.        ]), array([6.00000004, 3.        ]), array([5.70000004, 3.        ]), array([5.40000004, 3.        ])]\n"
     ]
    }
   ],
   "source": [
    "# prueba movimiento de una partícula sola en una dimensión\n",
    "import matplotlib.pyplot as plt\n",
    "t = [0]\n",
    "p1 = Particula((3,3),(3,0),1,0.5)\n",
    "for n in range(100):\n",
    "    p1.paso_dt(0.1)  \n",
    "    t.append(n*0.1)\n",
    "    if p1.ver_colision_muro(7,0):\n",
    "        p1.resolver_colision_muro(7,0)\n",
    "        \n",
    "\n",
    "y = []\n",
    "x = []\n",
    "for p in p1.posicion_n:\n",
    "    x.append(p[0])\n",
    "    y.append(p[1])\n",
    "    \n",
    "plt.plot(t,x)\n",
    "plt.show()\n",
    "print(p1.posicion_n)\n",
    "    \n",
    "       "
   ]
  },
  {
   "cell_type": "code",
   "execution_count": 84,
   "metadata": {},
   "outputs": [
    {
     "data": {
      "image/png": "[encoded data removed]",
      "text/plain": [
       "<Figure size 432x288 with 1 Axes>"
      ]
     },
     "metadata": {
      "needs_background": "light"
     },
     "output_type": "display_data"
    },
    {
     "name": "stdout",
     "output_type": "stream",
     "text": [
      "[array([3., 3.]), array([3.3, 3.2]), array([3.60000001, 3.40000001]), array([3.90000001, 3.60000001]), array([4.20000002, 3.80000001]), array([4.50000002, 4.00000001]), array([4.80000003, 4.20000002]), array([5.10000003, 4.40000002]), array([5.40000004, 4.60000002]), array([5.70000004, 4.80000003]), array([6.00000004, 5.00000003]), array([6.30000005, 5.20000003]), array([6.60000005, 5.40000004]), array([6.90000006, 5.60000004]), array([7.20000006, 5.80000004]), array([7.50000007, 6.00000004]), array([7.80000007, 6.20000005]), array([8.10000008, 6.40000005]), array([8.40000008, 6.60000005]), array([8.70000008, 6.80000006]), array([9.00000009, 7.00000006]), array([9.30000009, 7.20000006]), array([9.6000001 , 7.40000007]), array([9.30000009, 7.60000007]), array([9.00000009, 7.80000007]), array([8.70000008, 8.00000007]), array([8.40000008, 8.20000008]), array([8.10000008, 8.40000008]), array([7.80000007, 8.60000008]), array([7.50000007, 8.80000009]), array([7.20000006, 9.00000009]), array([6.90000006, 9.20000009]), array([6.60000005, 9.4000001 ]), array([6.30000005, 9.6000001 ]), array([6.00000004, 9.4000001 ]), array([5.70000004, 9.20000009]), array([5.40000004, 9.00000009]), array([5.10000003, 8.80000009]), array([4.80000003, 8.60000008]), array([4.50000002, 8.40000008]), array([4.20000002, 8.20000008]), array([3.90000001, 8.00000007]), array([3.60000001, 7.80000007]), array([3.3       , 7.60000007]), array([3.        , 7.40000007]), array([2.7       , 7.20000006]), array([2.39999999, 7.00000006]), array([2.09999999, 6.80000006]), array([1.79999998, 6.60000005]), array([1.49999998, 6.40000005]), array([1.19999997, 6.20000005]), array([0.89999997, 6.00000004]), array([0.59999996, 5.80000004]), array([0.29999996, 5.60000004]), array([0.59999996, 5.40000004]), array([0.89999997, 5.20000003]), array([1.19999997, 5.00000003]), array([1.49999998, 4.80000003]), array([1.79999998, 4.60000002]), array([2.09999999, 4.40000002]), array([2.39999999, 4.20000002]), array([2.7       , 4.00000001]), array([3.        , 3.80000001]), array([3.3       , 3.60000001]), array([3.60000001, 3.40000001]), array([3.90000001, 3.2       ]), array([4.20000002, 3.        ]), array([4.50000002, 2.8       ]), array([4.80000003, 2.59999999]), array([5.10000003, 2.39999999]), array([5.40000004, 2.19999999]), array([5.70000004, 1.99999999]), array([6.00000004, 1.79999998]), array([6.30000005, 1.59999998]), array([6.60000005, 1.39999998]), array([6.90000006, 1.19999997]), array([7.20000006, 0.99999997]), array([7.50000007, 0.79999997]), array([7.80000007, 0.59999996]), array([8.10000008, 0.39999996]), array([8.40000008, 0.19999996]), array([ 8.70000008e+00, -4.47034836e-08]), array([ 9.00000009, -0.20000005]), array([ 9.30000009, -0.40000005]), array([ 9.6000001 , -0.60000005]), array([ 9.30000009, -0.80000006]), array([ 9.00000009, -1.00000006]), array([ 8.70000008, -1.20000006]), array([ 8.40000008, -1.40000007]), array([ 8.10000008, -1.60000007]), array([ 7.80000007, -1.80000007]), array([ 7.50000007, -2.00000007]), array([ 7.20000006, -2.20000008]), array([ 6.90000006, -2.40000008]), array([ 6.60000005, -2.60000008]), array([ 6.30000005, -2.80000009]), array([ 6.00000004, -3.00000009]), array([ 5.70000004, -3.20000009]), array([ 5.40000004, -3.4000001 ]), array([ 5.10000003, -3.6000001 ]), array([ 4.80000003, -3.8000001 ])]\n"
     ]
    }
   ],
   "source": [
    "#Prueba 1 partícula en dos dimensiones\n",
    "# prueba movimiento de una partícula sola en una dimensión\n",
    "import matplotlib.pyplot as plt\n",
    "t = [0]\n",
    "p1 = Particula((3,3),(3,2),1,0.5)\n",
    "for n in range(100):\n",
    "    p1.paso_dt(0.1)  \n",
    "    t.append(n*0.1)\n",
    "    if p1.ver_colision_muro(10,10):\n",
    "        p1.resolver_colision_muro(10,10)\n",
    "        \n",
    "\n",
    "y = []\n",
    "x = []\n",
    "for p in p1.posicion_n:\n",
    "    x.append(p[0])\n",
    "    y.append(p[1])\n",
    "    \n",
    "plt.plot(x,y)\n",
    "plt.show()\n",
    "print(p1.posicion_n)\n",
    "    "
   ]
  },
  {
   "cell_type": "code",
   "execution_count": null,
   "metadata": {},
   "outputs": [],
   "source": []
  }
 ],
 "metadata": {
  "colab": {
   "name": "Gas, simulación.ipynb",
   "provenance": []
  },
  "kernelspec": {
   "display_name": "Python 3",
   "language": "python",
   "name": "python3"
  },
  "language_info": {
   "codemirror_mode": {
    "name": "ipython",
    "version": 3
   },
   "file_extension": ".py",
   "mimetype": "text/x-python",
   "name": "python",
   "nbconvert_exporter": "python",
   "pygments_lexer": "ipython3",
   "version": "3.8.3"
  }
 },
 "nbformat": 4,
 "nbformat_minor": 1
}
