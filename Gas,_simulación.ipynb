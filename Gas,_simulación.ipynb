{
 "cells": [
  {
   "cell_type": "code",
   "execution_count": 1,
   "metadata": {
    "colab": {
     "base_uri": "https://localhost:8080/"
    },
    "id": "P8HzaPI4Go0-",
    "outputId": "8d5c7d61-0ab5-43d1-9fe8-739dffbe656d"
   },
   "outputs": [],
   "source": [
    "%load_ext Cython\n",
    "from numpy import linalg"
   ]
  },
  {
   "cell_type": "code",
   "execution_count": 11,
   "metadata": {
    "id": "Q2CfCO_mGjtM"
   },
   "outputs": [],
   "source": [
    "%%cython\n",
    "import numpy as np\n",
    "\n",
    "class Particula:#En esta clase definimos los métodos fundamentales que debe seguir cada partícula\n",
    "\n",
    "    def __init__(self, (float,float) posicion, (float,float) velocidad, float masa, float radio): \n",
    "       \"\"\"comenzamos definiendo el método que debe \n",
    "        inicializar la clase, en este definimos los atributos básicos de la clase partícula\n",
    "        las entradas masa y radio son de tipo float y las entradas de posición son tuplas conformadas por floats\"\"\"  \n",
    "       self.radio=radio  \n",
    "       self.masa=masa \n",
    "       \n",
    "       self.posicion=np.array(posicion)   #Estas variables son arrays de numpy, y las trataremos como vectores\n",
    "       self.velocidad=np.array(velocidad)\n",
    "       self.velocidad_mag=np.linalg.norm(self.velocidad)#Este atributo no es otra cosa que la magnitud del vector velocidad\n",
    "     \n",
    "       \"\"\"Creamos tres listas con los vectores posición y velocidad y velocidad_mag, posteriormente las usaremos\n",
    "       para generar una lista con todos los valores que ha tenido la velocidad y posición\"\"\"\n",
    "       \n",
    "       self.velocidad_n=[self.velocidad]    ##Velocidad_n y posición_n son listas de vectores que contienen las listas correspondiente a\n",
    "       self.posicion_n=[self.posicion]      ##todos los valores de estos vectores\n",
    "       self.velocidad_mag_n=[self.velocidad_mag]\n",
    "     \n",
    "  ##########################################################################\n",
    "    def paso_dt(self,float dt):   #Falta definir el valor que va a tomar dt  \n",
    "       \"\"\"Este método lo que hace es avanzar en el tiempo, cambia la posición de la partícula y agrega a las listas\n",
    "       una actualización tanto de la posición de la partícula como la velocidad de la misma\"\"\"\n",
    "      \n",
    "       self.posicion=self.posicion + self.velocidad*dt  \n",
    "       self.posicion_n.append(self.posicion) #Se añaden \n",
    "       self.velocidad_n.append(self.velocidad)\n",
    "       self.velocidad_mag_n.append(self.velocidad_mag)\n",
    " ###############################################################################################\n",
    "    def ver_colision_pp(self,otra_p):\n",
    "       \"\"\"Este método verifica si se dio luegar a una colisión entre dos partículas, las entradas\n",
    "      son dos partículas, se definen sus radios y posiciones y se plantea una condición que indica \n",
    "      si las partículas chocaron\"\"\"\n",
    "       cdef float r1=self.radio\n",
    "       cdef float r2=otra_p.radio\n",
    "       p1=self.posicion\n",
    "       p2=otra_p.posicion\n",
    "       cdef float sep=np.linalg.norm(p1-p2)#Norma del vector separación de ambas partículas.\n",
    "       if sep-(r1+r2)*1.1<=0:#Si la separación es menor o igual a la suma de sus radios, entonces las partículas están en contacto y por lo tanto chocaron.\n",
    "         return True\n",
    "       else:\n",
    "         return False\n",
    "######################################################################################################\n",
    "    def ver_colision_esquina(self, float Lx, float Ly):\n",
    "       \"Revisa si hay colisión con una esquina, Lx y Ly son las dimensiones horizontal y vertical de la caja respectivamente\"\n",
    "       extremo_izquierdo = self.posicion[0] - self.radio #da la posición del extremo izquido de la partícula\n",
    "       extremo_inferior = self.posicion[1] - self.radio  #da la posición del extremo inferior de la partícula\n",
    "       extremo_derecho  = self.posicion[0] + self.radio  #da la posición del extremo derech0 de la partícula\n",
    "       extremo_superior = self.posicion[1] + self.radio  #da la posición del extremo superior de la partícula\n",
    "       #Ahora construimos las variables donde se va a almacenar el hecho de chocar contra una esquina o no\n",
    "       cdef bint choque_00 = extremo_izquierdo >0 and extremo_inferior> 0   #Esto corresponde a no chocar con la esquina (0,0)\n",
    "       cdef bint choque_Lx0 = extremo_derecho <Lx and extremo_inferior > 0 #Esto corresponde a no chocar con la esquina (Lx,0)\n",
    "       cdef bint choque_LxLy =  extremo_derecho <Lx and extremo_superior <Ly  #Esto corresponde a no chocar con la esquina (Lx,Ly)\n",
    "       cdef bint choque_0Ly = extremo_izquierdo > 0 and extremo_superior <Ly  #Esto corresponde a chocar con la esquina (0,Ly)\n",
    "       if not choque_00 or not choque_Lx0 or not choque_LxLy or not choque_0Ly:\n",
    "         return  True \n",
    "       else:\n",
    "         return False\n",
    "       \n",
    "        \n",
    "#####################################################################################################\n",
    "    def ver_colision_muro(self, float Lx, float Ly):\n",
    "        \"\"\"Este método revisa si la partícula ha chocado contra un muro.\"\"\"\n",
    "        \"\"\"La condición ve que si la posición en \"x\" es diferente 0 o la longitud horizontal (Lx) de la caja y adicionalmente\n",
    "     #  si la posición en \"y\" es diferente de 0 o la longitud vertical (Ly) entonces la partícula no está chocando contra un muro\"\"\"\n",
    "        cdef bint choque_pared_derecha =  self.posicion[0] + self.radio <Lx   \n",
    "        cdef bint choque_pared_izquierda = self.posicion[0] - self.radio>0\n",
    "        #las condiciones corresponden a no chocar con esas paredes\n",
    "        cdef bint choque_pared_superior = self.posicion[1] + self.radio <Ly \n",
    "        cdef bint choque_pared_inferior = self.posicion[1] - self.radio >0\n",
    "        if choque_pared_derecha and choque_pared_izquierda and choque_pared_superior and choque_pared_inferior :\n",
    "          return False\n",
    "        else:\n",
    "          return True \n",
    "        \n",
    "######################################################################################################\n",
    "    def resolver_colision_particula(self,otra_p):\n",
    "      \"\"\"Método que actualiza las velocidades de dos partículas después de chocar\n",
    "       Definimos las magnitudes a usar para resolver el choque\"\"\"\n",
    "      M1=self.masa\n",
    "      M2=otra_p.masa\n",
    "      p1=self.posicion\n",
    "      p2=otra_p.posicion\n",
    "      V1=self.velocidad\n",
    "      V2=otra_p.velocidad\n",
    "      cdef bint choque=self.ver_colision_pp\n",
    "      if choque:\n",
    "        self.velocidad= self.velocidad-((2*M2)/(M1+M2))*(np.dot(p1-p2,V1-V2)/(np.linalg.norm(p1-p2)**2))*(p1-p2)#Se resuleven los choques tal cual el modelo bidimensional que se tiene\n",
    "        otra_p.velocidad= otra_p.velocidad-((2*M1)/(M1+M2))*(np.dot(p2-p1,V2-V1)/(np.linalg.norm(p2-p1)**2))*(p2-p1)\n",
    "  \n",
    "###############################################################################################################\n",
    "    def resolver_colision_muro(self,float Lx,float Ly): \n",
    "        \"\"\"#Método que actualiza la velocidad después de que una partícula choca con un muro. Recibe la\n",
    "        partícula y las dimensiones de la caja\"\"\"\n",
    "        cdef bint choque_pared_derecha =  self.posicion[0] + self.radio <Lx   \n",
    "        cdef bint choque_pared_izquierda = self.posicion[0] - self.radio>0\n",
    "        #las condiciones corresponden a no chocar con esas paredes\n",
    "        cdef bint choque_pared_superior = self.posicion[1] + self.radio <Ly \n",
    "        cdef bint choque_pared_inferior = self.posicion[1] - self.radio >0\n",
    "        #Ahora miramos cual fue la pared con que se chocó e invertimos la coordenada teniendo en cuenta eso\n",
    "        if not choque_pared_derecha or not choque_pared_izquierda:\n",
    "            self.velocidad[0] = -1* self.velocidad[0]\n",
    "        elif not choque_pared_superior or not choque_pared_inferior:\n",
    "            self.velocidad[1] = -1* self.velocidad[1]\n",
    "       \n",
    "    def resolver_colision_esquina(self):\n",
    "        \"\"\"Método que actualiza la velocidad después de que una partícula choca con una esquina\"\"\"\n",
    "        self.velocidad = -1* self.velocidad #se invierte todo el vector\n",
    "            \n",
    "        "
   ]
  },
  {
   "cell_type": "code",
   "execution_count": 46,
   "metadata": {},
   "outputs": [
    {
     "name": "stdout",
     "output_type": "stream",
     "text": [
      "Help on function interactive in module matplotlib:\n",
      "\n",
      "interactive(b)\n",
      "    Set whether to redraw after every plotting command (e.g. `.pyplot.xlabel`).\n",
      "\n"
     ]
    }
   ],
   "source": [
    "#Simulación multiples partículas\n",
    "help(plt.interactive)"
   ]
  },
  {
   "cell_type": "code",
   "execution_count": 20,
   "metadata": {
    "scrolled": true
   },
   "outputs": [
    {
     "data": {
      "text/plain": [
       "[[[], []], [[], []], [[], []]]"
      ]
     },
     "execution_count": 20,
     "metadata": {},
     "output_type": "execute_result"
    }
   ],
   "source": [
    "def listas_para_llenar(n): ###Recibe el número de partículas y crea una lista con sublistas. \n",
    "    lista_principal = []   ###Cada partícula tiene una lista que ocupa una posicion en lista_principal\n",
    "    for j in range(n):     ###y a su vez estas listas tienen dos listas para almacenar la información \n",
    "        lista_principal.append([[],[]]) ###de la posición en x y y de esa partícula.\n",
    "    return lista_principal\n",
    "listas_para_llenar(3)"
   ]
  },
  {
   "cell_type": "code",
   "execution_count": 54,
   "metadata": {
    "colab": {
     "base_uri": "https://localhost:8080/"
    },
    "id": "gQUaQ-Qgi3n7",
    "outputId": "0f664d06-cfb3-476a-e757-4544040bdc5f"
   },
   "outputs": [
    {
     "data": {
      "image/png": "[encoded data removed]",
      "text/plain": [
       "<Figure size 432x288 with 1 Axes>"
      ]
     },
     "metadata": {
      "needs_background": "light"
     },
     "output_type": "display_data"
    }
   ],
   "source": [
    "#Prueba de ver_colision_muro\n",
    "dt = 0.1 #tamaño del paso\n",
    "Lx = 100 #Tamñaño de la caja \n",
    "Ly = 100\n",
    "nt = 10 #número de pasos\n",
    "n = 3    #número de partículas\n",
    "lista_principal = listas_para_llenar(n)\n",
    "p1 =  Particula((12,12),(30,40),1,1)\n",
    "p2 = Particula((3,8),(20,19),2,1)\n",
    "p3 = Particula((9,6),(-12,33),2,1)\n",
    "par = [p1,p2,p3]\n",
    "\n",
    "for j in range(nt):\n",
    "    for k in range(n):\n",
    "        lista_principal[k][0].append(par[k].posicion[0])  #Se añade la posición en x de cada partícula\n",
    "        lista_principal[k][1].append(par[k].posicion[1])  #Se añade la posicion en y de cada partícula\n",
    "    for p in par:     #Revisamos las colisiones entre partículas\n",
    "        for i in range(par.index(p)+1,n) :\n",
    "            if p.ver_colision_pp(par[i]):\n",
    "                p.resolver_colision_particula(par[i])\n",
    "    \n",
    "    for p in par: #Revisamos las condiciones de choque con la caja\n",
    "        if p.ver_colision_muro(Lx,Ly):\n",
    "            p.resolver_colision_muro(Lx,Ly)\n",
    "        elif p.ver_colision_esquina(Lx,Ly):\n",
    "            p.resolver_colision_esquina()\n",
    "    for p in par:\n",
    "        p.paso_dt(dt)\n",
    "\n",
    "fig = plt.figure()\n",
    "for k in range(n):\n",
    "    plt.plot(lista_principal[k][0],lista_principal[k][1])\n",
    "             # return the current xlim\n",
    "plt.xlim((0, 100));  # set the xlim to left, right\n",
    "plt.ylim((0, 100));   # set the xlim to left, right"
   ]
  },
  {
   "cell_type": "code",
   "execution_count": null,
   "metadata": {
    "colab": {
     "base_uri": "https://localhost:8080/"
    },
    "id": "JsWE9dp_QOy5",
    "outputId": "8966ff0a-6b1a-466e-f351-e2a1add4e34f"
   },
   "outputs": [
    {
     "name": "stdout",
     "output_type": "stream",
     "text": [
      "se paró\n",
      "[array([3., 2.]), array([6., 6.]), array([ 9., 10.])]\n"
     ]
    }
   ],
   "source": [
    "#Prueba de ver_colision_esquina\n",
    "p1 = Particula((,),(3,4),1,0.5)\n",
    "for j in range(10):\n",
    "  p1.paso_dt(1)\n",
    "  if p1.ver_colision_esquina(9,12):\n",
    "    print(\"se paró\")\n",
    "    break\n",
    "print(p1.posicion_n)"
   ]
  },
  {
   "cell_type": "code",
   "execution_count": 67,
   "metadata": {
    "colab": {
     "base_uri": "https://localhost:8080/",
     "height": 353
    },
    "id": "DdhaauM8iaiV",
    "outputId": "b9ad6b52-c237-4d06-8b79-73ae30a700d7"
   },
   "outputs": [
    {
     "data": {
      "image/png": "[encoded data removed]",
      "text/plain": [
       "<Figure size 432x288 with 1 Axes>"
      ]
     },
     "metadata": {
      "needs_background": "light",
      "tags": []
     },
     "output_type": "display_data"
    },
    {
     "name": "stdout",
     "output_type": "stream",
     "text": [
      "[-1.  0.]\n",
      "[1. 0.]\n",
      "[array([3., 6.]), array([4., 6.]), array([5., 6.]), array([4., 6.]), array([3., 6.]), array([2., 6.]), array([1., 6.]), array([0., 6.]), array([-1.,  6.]), array([-2.,  6.]), array([-3.,  6.])]\n",
      "[array([9., 6.]), array([8., 6.]), array([7., 6.]), array([8., 6.]), array([9., 6.]), array([10.,  6.]), array([11.,  6.]), array([12.,  6.]), array([13.,  6.]), array([14.,  6.]), array([15.,  6.])]\n"
     ]
    }
   ],
   "source": [
    "#Prueba resolver colision con dos partículas unidimensional\n",
    "\n",
    "p1=Particula((3,6),(1,0),2,1)\n",
    "p2=Particula((9,6),(-1,0),2,1)\n",
    "for j in range(10):\n",
    "  p1.paso_dt(1)\n",
    "  p2.paso_dt(1)\n",
    "  if p1.ver_colision_pp(p2):\n",
    "    p1.resolver_colision_particula(p2)\n",
    "\n",
    "x=[]\n",
    "y=[]\n",
    "for n in p1.posicion_n:\n",
    "  x.append(n[0])\n",
    "  y.append(n[1])\n",
    "plt.plot(x,y)\n",
    "plt.show()\n",
    "print(p1.velocidad)\n",
    "print(p2.velocidad)   \n",
    "print(p1.posicion_n)\n",
    "print(p2.posicion_n)\n"
   ]
  },
  {
   "cell_type": "code",
   "execution_count": 71,
   "metadata": {
    "colab": {
     "base_uri": "https://localhost:8080/",
     "height": 336
    },
    "id": "bCaHKrVHo67q",
    "outputId": "1547517d-f969-4464-ee93-81adebf97a7c"
   },
   "outputs": [
    {
     "name": "stdout",
     "output_type": "stream",
     "text": [
      "[-1.  1.]\n",
      "[1. 1.]\n",
      "[array([0., 0.]), array([1., 1.]), array([2., 2.]), array([1., 3.]), array([0., 4.]), array([-1.,  5.]), array([-2.,  6.]), array([-3.,  7.]), array([-4.,  8.]), array([-5.,  9.]), array([-6., 10.])]\n"
     ]
    },
    {
     "data": {
      "image/png": "[encoded data removed]",
      "text/plain": [
       "<Figure size 432x288 with 2 Axes>"
      ]
     },
     "metadata": {
      "needs_background": "light",
      "tags": []
     },
     "output_type": "display_data"
    }
   ],
   "source": [
    "#Prueba resolver colision con dos partículas bidimensional\n",
    "P1=Particula((0,0),(1,1),2,1)\n",
    "P2=Particula((6,0),(-1,1),2,1)\n",
    "for j in range(10):\n",
    "  P1.paso_dt(1)\n",
    "  P2.paso_dt(1)\n",
    "  \n",
    "  if P1.ver_colision_pp(P2):\n",
    "    P1.resolver_colision_particula(P2)\n",
    "\n",
    "x=[]\n",
    "y=[]\n",
    "for n in P1.posicion_n:\n",
    "  x.append(n[0])\n",
    "  y.append(n[1])\n",
    "x1=[]\n",
    "y1=[]\n",
    "for n1 in P2.posicion_n:\n",
    "  x1.append(n1[0])\n",
    "  y1.append(n1[1])\n",
    "\n",
    "plt.subplot(121)\n",
    "plt.plot(x,y)\n",
    "plt.subplot(122)\n",
    "plt.plot(x1,y1)\n",
    "\n",
    "\n",
    "print(P1.velocidad)\n",
    "print(P2.velocidad)   \n",
    "print(P1.posicion_n)\n",
    "\n"
   ]
  },
  {
   "cell_type": "code",
   "execution_count": null,
   "metadata": {
    "id": "SezaXAmVW6d5",
    "outputId": "91a98869-0fed-4ebd-8a1e-e2d0899769a9"
   },
   "outputs": [
    {
     "name": "stdout",
     "output_type": "stream",
     "text": [
      "[15. 20.]\n",
      "[ 3. -4.]\n"
     ]
    }
   ],
   "source": [
    "#Prueba de resolver_colision_muro\n",
    "p1 = Particula((0,0),(3,4),1,0.5)\n",
    "for j in range(10):\n",
    "  p1.paso_dt(1)\n",
    "  if p1.ver_colision_muro(20,20):\n",
    "     p1.resolver_colision_muro(20,20)\n",
    "     break\n",
    "print(p1.posicion)\n",
    "print(p1.velocidad)"
   ]
  },
  {
   "cell_type": "code",
   "execution_count": null,
   "metadata": {
    "id": "a4ih0-avW6d5",
    "outputId": "1c350c1c-96cc-49fa-e5af-fefd6109f965"
   },
   "outputs": [
    {
     "name": "stdout",
     "output_type": "stream",
     "text": [
      "[ 9. 12.]\n",
      "[-3. -4.]\n"
     ]
    }
   ],
   "source": [
    "#Prueba de resolver_colision_esquina\n",
    "p1 = Particula((0,0),(3,4),1,0.5)\n",
    "for j in range(10):\n",
    "  p1.paso_dt(1)\n",
    "  if p1.ver_colision_esquina(9,12):\n",
    "     p1.resolver_colision_esquina()\n",
    "     break\n",
    "print(p1.posicion)\n",
    "print(p1.velocidad)"
   ]
  },
  {
   "cell_type": "code",
   "execution_count": 69,
   "metadata": {
    "colab": {
     "base_uri": "https://localhost:8080/",
     "height": 268
    },
    "id": "olrjSg_SW6d5",
    "outputId": "727030dc-ccfc-4e0a-c340-407af7983986"
   },
   "outputs": [
    {
     "data": {
      "image/png": "[encoded data removed]",
      "text/plain": [
       "<Figure size 432x288 with 1 Axes>"
      ]
     },
     "metadata": {
      "needs_background": "light",
      "tags": []
     },
     "output_type": "display_data"
    }
   ],
   "source": [
    "#Prueba de una partícula en una sola dimensión\n",
    "p1 = Particula((3,3),(3,0),1,0.5)\n",
    "dt = 0.1\n",
    "t = [None]\n",
    "x = []\n",
    "y = []\n",
    "for n in range(100):\n",
    "    p1.paso_dt(dt)\n",
    "    t.append(n*dt)\n",
    "    if p1.ver_colision_muro(10,10):\n",
    "        p1.resolver_colision_muro(10,10)\n",
    "\n",
    "for p in p1.posicion_n:\n",
    "    x.append(p[0])\n",
    "    y.append(p[1])\n",
    "\n",
    "plt.plot(t,x)\n",
    "plt.show()\n",
    "#print(p1.posicion_n)"
   ]
  },
  {
   "cell_type": "code",
   "execution_count": null,
   "metadata": {
    "id": "I3zRD4nnW6d5",
    "outputId": "ba68d13e-5b2e-495f-c3fb-8cd0f7ad0ec3"
   },
   "outputs": [
    {
     "data": {
      "image/png": "[encoded data removed]",
      "text/plain": [
       "<Figure size 432x288 with 1 Axes>"
      ]
     },
     "metadata": {
      "needs_background": "light",
      "tags": []
     },
     "output_type": "display_data"
    }
   ],
   "source": [
    "#Prueba partícula en dos dimensiones \n",
    "p1 = Particula((3,3),(3,2),1,0.5)\n",
    "dt = 0.1\n",
    "t = [None]\n",
    "x = []\n",
    "y = []\n",
    "for n in range(100):\n",
    "    p1.paso_dt(dt)\n",
    "    t.append(n*dt)\n",
    "    if p1.ver_colision_muro(10,10):\n",
    "        p1.resolver_colision_muro(10,10)\n",
    "\n",
    "for p in p1.posicion_n:\n",
    "    x.append(p[0])\n",
    "    y.append(p[1])\n",
    "\n",
    "plt.plot(x,y)\n",
    "plt.show()\n"
   ]
  },
  {
   "cell_type": "code",
   "execution_count": null,
   "metadata": {
    "id": "7SobMyPEW6d5"
   },
   "outputs": [],
   "source": []
  }
 ],
 "metadata": {
  "colab": {
   "name": "Gas, simulación.ipynb",
   "provenance": []
  },
  "kernelspec": {
   "display_name": "Python 3",
   "language": "python",
   "name": "python3"
  },
  "language_info": {
   "codemirror_mode": {
    "name": "ipython",
    "version": 3
   },
   "file_extension": ".py",
   "mimetype": "text/x-python",
   "name": "python",
   "nbconvert_exporter": "python",
   "pygments_lexer": "ipython3",
   "version": "3.8.3"
  }
 },
 "nbformat": 4,
 "nbformat_minor": 1
}
