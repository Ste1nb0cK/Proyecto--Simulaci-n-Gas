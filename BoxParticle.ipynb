{
  "nbformat": 4,
  "nbformat_minor": 0,
  "metadata": {
    "colab": {
      "name": "BoxParticle",
      "provenance": []
    },
    "kernelspec": {
      "display_name": "Python 3",
      "language": "python",
      "name": "python3"
    },
    "language_info": {
      "codemirror_mode": {
        "name": "ipython",
        "version": 3
      },
      "file_extension": ".py",
      "mimetype": "text/x-python",
      "name": "python",
      "nbconvert_exporter": "python",
      "pygments_lexer": "ipython3",
      "version": "3.8.3"
    }
  },
  "cells": [
    {
      "cell_type": "code",
      "metadata": {
        "id": "w44eoen7ds6y"
      },
      "source": [
        "import numpy as np\n",
        "import matplotlib.pyplot as plt\n",
        "from matplotlib.animation import FuncAnimation\n",
        "import random \n",
        "from IPython.display import HTML\n",
        "from skimage.draw import *"
      ],
      "execution_count": 1,
      "outputs": []
    },
    {
      "cell_type": "code",
      "metadata": {
        "id": "XXu9upJ3K_52"
      },
      "source": [
        "%load_ext Cython\n",
        "import matplotlib.pyplot as plt\n",
        "from numpy import linalg"
      ],
      "execution_count": 2,
      "outputs": []
    },
    {
      "cell_type": "code",
      "metadata": {
        "id": "Xn5GrtANdkbG",
        "colab": {
          "base_uri": "https://localhost:8080/"
        },
        "outputId": "1bed2133-abb3-497b-a06d-1c560b79983a"
      },
      "source": [
        "from google.colab import drive\n",
        "drive.mount('/content/drive')"
      ],
      "execution_count": null,
      "outputs": [
        {
          "output_type": "stream",
          "text": [
            "Mounted at /content/drive\n"
          ],
          "name": "stdout"
        }
      ]
    },
    {
      "cell_type": "code",
      "metadata": {
        "id": "bXYtPzloK_52"
      },
      "source": [
        "%%cython\n",
        "import numpy as np\n",
        "\n",
        "class Particula:#En esta clase definimos los métodos fundamentales que debe seguir cada partícula\n",
        "\n",
        "    def __init__(self, (float,float) posicion, (float,float) velocidad, float masa, float radio): \n",
        "       \"\"\"comenzamos definiendo el método que debe \n",
        "        inicializar la clase, en este definimos los atributos básicos de la clase partícula\n",
        "        las entradas masa y radio son de tipo float y las entradas de posición son tuplas conformadas por floats\"\"\"  \n",
        "       self.radio=radio  \n",
        "       self.masa=masa \n",
        "       \n",
        "       self.posicion=np.array(posicion)   #Estas variables son arrays de numpy, y las trataremos como vectores\n",
        "       self.velocidad=np.array(velocidad)\n",
        "       self.velocidad_mag=np.linalg.norm(self.velocidad)#Este atributo no es otra cosa que la magnitud del vector velocidad\n",
        "     \n",
        "       \"\"\"Creamos tres listas con los vectores posición y velocidad y velocidad_mag, posteriormente las usaremos\n",
        "       para generar una lista con todos los valores que ha tenido la velocidad y posición\"\"\"\n",
        "       \n",
        "       self.velocidad_n=[self.velocidad]    ##Velocidad_n y posición_n son listas de vectores que contienen las listas correspondiente a\n",
        "       self.posicion_n=[self.posicion]      ##todos los valores de estos vectores\n",
        "       self.velocidad_mag_n=[self.velocidad_mag]\n",
        "     \n",
        "  ##########################################################################\n",
        "    def paso_dt(self,float dt):   #Falta definir el valor que va a tomar dt  \n",
        "       \"\"\"Este método lo que hace es avanzar en el tiempo, cambia la posición de la partícula y agrega a las listas\n",
        "       una actualización tanto de la posición de la partícula como la velocidad de la misma\"\"\"\n",
        "      \n",
        "       self.posicion=self.posicion + self.velocidad*dt  \n",
        "       self.posicion_n.append(self.posicion) #Se añaden \n",
        "       self.velocidad_n.append(self.velocidad)\n",
        "       self.velocidad_mag_n.append(self.velocidad_mag)\n",
        " ###############################################################################################\n",
        "    def ver_colision_pp(self,otra_p):\n",
        "       \"\"\"Este método verifica si se dio luegar a una colisión entre dos partículas, las entradas\n",
        "      son dos partículas, se definen sus radios y posiciones y se plantea una condición que indica \n",
        "      si las partículas chocaron\"\"\"\n",
        "       cdef float r1=self.radio\n",
        "       cdef float r2=otra_p.radio\n",
        "       p1=self.posicion\n",
        "       p2=otra_p.posicion\n",
        "       cdef float sep=np.linalg.norm(p1-p2)#Norma del vector separación de ambas partículas.\n",
        "       if sep-(r1+r2)*1.1<=0:#Si la separación es menor o igual a la suma de sus radios, entonces las partículas están en contacto y por lo tanto chocaron.\n",
        "         return True\n",
        "       else:\n",
        "         return False\n",
        "######################################################################################################\n",
        "    def ver_colision_esquina(self, float Lx, float Ly):\n",
        "       \"Revisa si hay colisión con una esquina, Lx y Ly son las dimensiones horizontal y vertical de la caja respectivamente\"\n",
        "       extremo_izquierdo = self.posicion[0] - self.radio #da la posición del extremo izquido de la partícula\n",
        "       extremo_inferior = self.posicion[1] - self.radio  #da la posición del extremo inferior de la partícula\n",
        "       extremo_derecho  = self.posicion[0] + self.radio  #da la posición del extremo derech0 de la partícula\n",
        "       extremo_superior = self.posicion[1] + self.radio  #da la posición del extremo superior de la partícula\n",
        "       #Ahora construimos las variables donde se va a almacenar el hecho de chocar contra una esquina o no\n",
        "       cdef bint choque_00 = extremo_izquierdo >0 and extremo_inferior> 0   #Esto corresponde a no chocar con la esquina (0,0)\n",
        "       cdef bint choque_Lx0 = extremo_derecho <Lx and extremo_inferior > 0 #Esto corresponde a no chocar con la esquina (Lx,0)\n",
        "       cdef bint choque_LxLy =  extremo_derecho <Lx and extremo_superior <Ly  #Esto corresponde a no chocar con la esquina (Lx,Ly)\n",
        "       cdef bint choque_0Ly = extremo_izquierdo > 0 and extremo_superior <Ly  #Esto corresponde a chocar con la esquina (0,Ly)\n",
        "       if not choque_00 or not choque_Lx0 or not choque_LxLy or not choque_0Ly:\n",
        "         return  True \n",
        "       else:\n",
        "         return False\n",
        "       \n",
        "        \n",
        "#####################################################################################################\n",
        "    def ver_colision_muro(self, float Lx, float Ly):\n",
        "        \"\"\"Este método revisa si la partícula ha chocado contra un muro.\"\"\"\n",
        "        \"\"\"La condición ve que si la posición en \"x\" es diferente 0 o la longitud horizontal (Lx) de la caja y adicionalmente\n",
        "     #  si la posición en \"y\" es diferente de 0 o la longitud vertical (Ly) entonces la partícula no está chocando contra un muro\"\"\"\n",
        "        cdef bint choque_pared_derecha =  self.posicion[0] + self.radio <Lx   \n",
        "        cdef bint choque_pared_izquierda = self.posicion[0] - self.radio>0\n",
        "        #las condiciones corresponden a no chocar con esas paredes\n",
        "        cdef bint choque_pared_superior = self.posicion[1] + self.radio <Ly \n",
        "        cdef bint choque_pared_inferior = self.posicion[1] - self.radio >0\n",
        "        if choque_pared_derecha and choque_pared_izquierda and choque_pared_superior and choque_pared_inferior :\n",
        "          return False\n",
        "        else:\n",
        "          return True \n",
        "        \n",
        "######################################################################################################\n",
        "    def resolver_colision_particula(self,otra_p):\n",
        "      \"\"\"Método que actualiza las velocidades de dos partículas después de chocar\n",
        "       Definimos las magnitudes a usar para resolver el choque\"\"\"\n",
        "      M1=self.masa\n",
        "      M2=otra_p.masa\n",
        "      p1=self.posicion\n",
        "      p2=otra_p.posicion\n",
        "      V1=self.velocidad\n",
        "      V2=otra_p.velocidad\n",
        "      cdef bint choque=self.ver_colision_pp\n",
        "      if choque:\n",
        "        self.velocidad= self.velocidad-((2*M2)/(M1+M2))*(np.dot(p1-p2,V1-V2)/(np.linalg.norm(p1-p2)**2))*(p1-p2)#Se resuleven los choques tal cual el modelo bidimensional que se tiene\n",
        "        otra_p.velocidad= otra_p.velocidad-((2*M1)/(M1+M2))*(np.dot(p2-p1,V2-V1)/(np.linalg.norm(p2-p1)**2))*(p2-p1)\n",
        "  \n",
        "\n",
        "    def resolver_colision_muro(self,float Lx,float Ly): \n",
        "        \"\"\"#Método que actualiza la velocidad después de que una partícula choca con un muro. Recibe la\n",
        "        partícula y las dimensiones de la caja\"\"\"\n",
        "        cdef bint choque_pared_derecha =  self.posicion[0] + self.radio <Lx   \n",
        "        cdef bint choque_pared_izquierda = self.posicion[0] - self.radio>0\n",
        "        #las condiciones corresponden a no chocar con esas paredes\n",
        "        cdef bint choque_pared_superior = self.posicion[1] + self.radio <Ly \n",
        "        cdef bint choque_pared_inferior = self.posicion[1] - self.radio >0\n",
        "        #Ahora miramos cual fue la pared con que se chocó e invertimos la coordenada teniendo en cuenta eso\n",
        "        if not choque_pared_derecha or not choque_pared_izquierda:\n",
        "            self.velocidad[0] = -1* self.velocidad[0]\n",
        "        elif not choque_pared_superior or not choque_pared_inferior:\n",
        "            self.velocidad[1] = -1* self.velocidad[1]\n",
        "       \n",
        "    def resolver_colision_esquina(self):\n",
        "        \"\"\"Método que actualiza la velocidad después de que una partícula choca con una esquina\"\"\"\n",
        "        self.velocidad = -1* self.velocidad #se invierte todo el vector\n",
        "    "
      ],
      "execution_count": 4,
      "outputs": []
    },
    {
      "cell_type": "code",
      "metadata": {
        "id": "6w7dHdJv8XHF"
      },
      "source": [
        "print(np.random.rand(5))\n",
        "A=np.random.randint(-100,100,(500,2))\n",
        "b=list(A)\n",
        "print(b)"
      ],
      "execution_count": null,
      "outputs": []
    },
    {
      "cell_type": "markdown",
      "metadata": {
        "id": "QgkvHox-8bUR"
      },
      "source": [
        "PROTOTIPO FUNCIÓN FINAL"
      ]
    },
    {
      "cell_type": "code",
      "metadata": {
        "id": "C5mAfnbn7DI8"
      },
      "source": [
        "\n",
        "#Prototipo de la función final, recibe las dimensiones de la caja, el rango de velocidades inciales y el número de partículas\n",
        "#Si algo podemos establecer por defecto que las masas y los radios sean los mismos por defecto o cómo quieran\n",
        "def funcion_simuladora(lx,ly,v1,v2,n):\n",
        "#Por el momento se crea un arreglo vacío de enteros para las posiciones iniciales\n",
        "  posiciones=np.zeros((n,2))\n",
        "  \n",
        "  for i in range(n):\n",
        "    #Se llena el arreglo con números aleatorios dentro del rango de las dimensiones de la caja\n",
        "    posiciones[i][0]=np.random.uniform(0,lx)\n",
        "    posiciones[i][1]=np.random.uniform(0,ly)\n",
        "  #Se convierte el arreglo en una lista\n",
        "  posiciones_lista=list(posiciones)\n",
        "  #Las velocidades se crean normalmente con velocidades aleatorias dentro del rango establecido, el intervalo (v1,v2)\n",
        "  velocidades_lista=list(np.random.uniform(v1,v2,(n,2)))\n",
        "  #Ahora creamos una lista vacía donde irán objetos de la clase partícula\n",
        "  lista_de_particulas=[]\n",
        "  #Llenamos la lista con partículas que tendrán posiciones provenientes de posiciones_lista y velocidades_lista, le puse una masa y un radio aleatorio \n",
        "  #entre 0 y 5.\n",
        "  for j in range(n):\n",
        "    Pn=Particula(tuple(posiciones_lista[j]),tuple(velocidades_lista[j]),np.random.randint(0,5),np.random.randint(0,5))\n",
        "    lista_de_particulas.append(Pn)\n",
        "  \n",
        "  \n",
        "  #Ahora queremeos hacer que si las partículas se cren superpuestas de alguna manera, eliminamos una y creamos otra nueva\n",
        "  #luego añadimos la nueva partícula a la lista de partículas\n",
        "  #pero lo haré\n",
        "  for i in range(n):\n",
        "   for p1 in lista_de_particulas:\n",
        "    for p2 in lista_de_particulas:\n",
        "     if p1.ver_colision_pp(p2):\n",
        "       p_nueva=Particula(tuple([(random.uniform(0,lx),random.uniform(0,ly)) for x in range(1)][0]),\n",
        "       tuple([(random.uniform(v1,v2),random.uniform(v1,v2)) for x in range(1)][0]), np.random.randint(0,5),np.random.randint(0,5))\n",
        "                                                      \n",
        "       lista_de_particulas.pop(i)\n",
        "       lista_de_particulas.append(p_nueva)\n",
        "  #Nos retorna la lista con las partículas creadas, acá le puse que me devolviera solo la primera para demostrar funcionalidad\n",
        "\n",
        "  return lista_de_particulas[0]\n"
      ],
      "execution_count": 28,
      "outputs": []
    },
    {
      "cell_type": "code",
      "metadata": {
        "colab": {
          "base_uri": "https://localhost:8080/"
        },
        "id": "53eh1FmHTI4B",
        "outputId": "b061be7b-a229-4f4c-c4b4-616863faf613"
      },
      "source": [
        "#Prueba\n",
        "A=funcion_simuladora(100,100,0,100,5)\n",
        "for j in range(10):\n",
        "  A.paso_dt(1)\n",
        "print(A.posicion_n)\n"
      ],
      "execution_count": 31,
      "outputs": [
        {
          "output_type": "stream",
          "text": [
            "[array([55.09022141, 77.23445892]), array([145.30713272,  96.66635132]), array([235.52404404, 116.09824371]), array([325.74095535, 135.53013611]), array([415.95786667, 154.9620285 ]), array([506.17477798, 174.3939209 ]), array([596.3916893 , 193.82581329]), array([686.60860062, 213.25770569]), array([776.82551193, 232.68959808]), array([867.04242325, 252.12149048]), array([957.25933456, 271.55338287])]\n"
          ],
          "name": "stdout"
        }
      ]
    },
    {
      "cell_type": "code",
      "metadata": {
        "id": "webD3C-I9XcW"
      },
      "source": [
        ""
      ],
      "execution_count": null,
      "outputs": []
    },
    {
      "cell_type": "code",
      "metadata": {
        "colab": {
          "base_uri": "https://localhost:8080/"
        },
        "id": "sn-4D6lUETGh",
        "outputId": "84daffbe-893f-41dd-9e99-c2399c200fc6"
      },
      "source": [
        "A=np.zeros((10,2),dtype=\"int\")\n",
        "for n in range(10):\n",
        " A[n][0]=np.random.randint(0,10)\n",
        " A[n][1]=np.random.randint(0,10)\n",
        "\n",
        "B=list(A)\n",
        "tuple(B[0])\n"
      ],
      "execution_count": null,
      "outputs": [
        {
          "output_type": "execute_result",
          "data": {
            "text/plain": [
              "(4, 8)"
            ]
          },
          "metadata": {
            "tags": []
          },
          "execution_count": 67
        }
      ]
    },
    {
      "cell_type": "code",
      "metadata": {
        "colab": {
          "base_uri": "https://localhost:8080/",
          "height": 336
        },
        "id": "lCPsGulY5zjf",
        "outputId": "04b03e00-edee-4de5-9187-8878f7375a7f"
      },
      "source": [
        "#Prueba resolver colision con dos partículas bidimensional\n",
        "P1=Particula((0,0),(1,1),2,1)\n",
        "P2=Particula((6,0),(-1,1),2,1)\n",
        "for j in range(10):\n",
        "  P1.paso_dt(1)\n",
        "  P2.paso_dt(1)\n",
        "  \n",
        "  if P1.ver_colision_pp(P2):\n",
        "    P1.resolver_colision_particula(P2)\n",
        "\n",
        "x=[]\n",
        "y=[]\n",
        "for n in P1.posicion_n:\n",
        "  x.append(n[0])\n",
        "  y.append(n[1])\n",
        "x1=[]\n",
        "y1=[]\n",
        "for n1 in P2.posicion_n:\n",
        "  x1.append(n1[0])\n",
        "  y1.append(n1[1])\n",
        "\n",
        "plt.subplot(121)\n",
        "plt.plot(x,y)\n",
        "plt.subplot(122)\n",
        "plt.plot(x1,y1)\n",
        "\n",
        "\n",
        "print(P1.velocidad)\n",
        "print(P2.velocidad)   \n",
        "print(P1.posicion_n)"
      ],
      "execution_count": null,
      "outputs": [
        {
          "output_type": "stream",
          "text": [
            "[-1.  1.]\n",
            "[1. 1.]\n",
            "[array([0., 0.]), array([1., 1.]), array([2., 2.]), array([1., 3.]), array([0., 4.]), array([-1.,  5.]), array([-2.,  6.]), array([-3.,  7.]), array([-4.,  8.]), array([-5.,  9.]), array([-6., 10.])]\n"
          ],
          "name": "stdout"
        },
        {
          "output_type": "display_data",
          "data": {
            "image/png": "[encoded data removed]",
            "text/plain": [
              "<Figure size 432x288 with 2 Axes>"
            ]
          },
          "metadata": {
            "tags": [],
            "needs_background": "light"
          }
        }
      ]
    },
    {
      "cell_type": "code",
      "metadata": {
        "colab": {
          "base_uri": "https://localhost:8080/",
          "height": 265
        },
        "id": "qRG-qtMeK_52",
        "outputId": "47117f93-c03a-44b0-d692-6fd75bcc727e"
      },
      "source": [
        "#Prueba partícula en dos dimensiones \n",
        "Lx = 800  #parametros de la caja \n",
        "Ly = 800\n",
        "p1 = Particula((3,3),(300,200),1,1)\n",
        "dt = 0.1\n",
        "t = [None]\n",
        "x = []   #lista con las posiciones en x\n",
        "y = []   #lista con las posiciones en y\n",
        "for n in range(100):\n",
        "    p1.paso_dt(dt)\n",
        "    t.append(n*dt)\n",
        "    if p1.ver_colision_muro(Lx,Ly):\n",
        "        p1.resolver_colision_muro(Lx,Ly)\n",
        "\n",
        "for p in p1.posicion_n:\n",
        "    x.append(p[0])\n",
        "    y.append(p[1])\n",
        "\n",
        "plt.plot(x,y)\n",
        "plt.show()\n",
        "\n",
        "ListaOf=[]\n",
        "ListaOf.append(x)\n",
        "ListaOf.append(y)\n"
      ],
      "execution_count": null,
      "outputs": [
        {
          "output_type": "display_data",
          "data": {
            "image/png": "[encoded data removed]",
            "text/plain": [
              "<Figure size 432x288 with 1 Axes>"
            ]
          },
          "metadata": {
            "tags": [],
            "needs_background": "light"
          }
        }
      ]
    },
    {
      "cell_type": "code",
      "metadata": {
        "id": "bBi4K8cJfDE4",
        "colab": {
          "base_uri": "https://localhost:8080/",
          "height": 286
        },
        "outputId": "8c5f7876-e856-4f43-a583-42e5c3dc5177"
      },
      "source": [
        "BoxOf=np.zeros((900,900)) \n",
        "Gif=[]\n",
        "for x in range(0,len(ListaOf[0])):  #Creacion del primer gif con la clase \n",
        "  x2,y2=circle(ListaOf[0][x],ListaOf[1][x],10)\n",
        "  BoxOf[x2,y2]=255\n",
        "  Gif.append(np.copy(BoxOf))\n",
        "  BoxOf[x2,y2]=0\n",
        "\n",
        "plt.imshow(Gif[20])"
      ],
      "execution_count": null,
      "outputs": [
        {
          "output_type": "execute_result",
          "data": {
            "text/plain": [
              "<matplotlib.image.AxesImage at 0x7fb5d7915eb8>"
            ]
          },
          "metadata": {
            "tags": []
          },
          "execution_count": 39
        },
        {
          "output_type": "display_data",
          "data": {
            "image/png": "[encoded data removed]",
            "text/plain": [
              "<Figure size 432x288 with 1 Axes>"
            ]
          },
          "metadata": {
            "tags": [],
            "needs_background": "light"
          }
        }
      ]
    },
    {
      "cell_type": "code",
      "metadata": {
        "id": "0UJpOSDrAO53",
        "colab": {
          "base_uri": "https://localhost:8080/",
          "height": 269
        },
        "outputId": "bb6a58a2-6dfc-454c-e821-9ed7bf98fea1"
      },
      "source": [
        "for x in range(0,len(Gif)):  #descomprimo todas las imagenes en una carpeta llamada Gif\n",
        "  plt.imshow(Gif[x])\n",
        "  plt.savefig(\"/content/drive/MyDrive/Colab Notebooks/Proyecto /Gif2/img0{0}.png\".format(x), bbox_inches='tight') \n"
      ],
      "execution_count": null,
      "outputs": [
        {
          "output_type": "display_data",
          "data": {
            "image/png": "[encoded data removed]",
            "text/plain": [
              "<Figure size 432x288 with 1 Axes>"
            ]
          },
          "metadata": {
            "tags": [],
            "needs_background": "light"
          }
        }
      ]
    },
    {
      "cell_type": "code",
      "metadata": {
        "id": "4VlBS5AlBXXK",
        "colab": {
          "base_uri": "https://localhost:8080/"
        },
        "outputId": "a65d7707-f22d-4f93-a522-4dd171b33d7e"
      },
      "source": [
        "import glob\n",
        "\n",
        "GifOfFinal = sorted(glob.glob('/content/drive/MyDrive/Colab Notebooks/Proyecto /Gif2/*.png'))  \n",
        "GifOfFinal.sort() \n",
        "import moviepy.editor as mpy\n",
        "\n",
        "fps = 50 \n",
        "clip = mpy.ImageSequenceClip(GifOfFinal, fps=fps)\n",
        "clip.write_gif('movieOf1.0.gif')"
      ],
      "execution_count": null,
      "outputs": [
        {
          "output_type": "stream",
          "text": [
            "\n",
            "[MoviePy] Building file movieOf1.0.gif with imageio\n"
          ],
          "name": "stdout"
        },
        {
          "output_type": "stream",
          "text": [
            "100%|██████████| 102/102 [00:01<00:00, 72.99it/s]\n"
          ],
          "name": "stderr"
        }
      ]
    },
    {
      "cell_type": "code",
      "metadata": {
        "id": "l-1ztV0qywVT"
      },
      "source": [
        ""
      ],
      "execution_count": null,
      "outputs": []
    },
    {
      "cell_type": "code",
      "metadata": {
        "id": "bVVbey-MBdEU"
      },
      "source": [
        "##########Opción2##############\n",
        "def recorrido(x,y,box,frames): #Función que me crea el recorrido de la prueba para el gif \n",
        "  dt=0.01\n",
        "  vx=200\n",
        "  vy=100\n",
        "  i=1\n",
        "  xd=[] #lista donde estara la posicion x del centro en un instante t de tiempo \n",
        "  yd=[] #lista donde estara la posicion y del centro en un instante t de tiempo \n",
        "\n",
        "  x_paso=x+vx*dt\n",
        "  y_paso=y+vy*dt\n",
        "\n",
        "  xd.append(x)#Agrego la primera posicion de la particula \n",
        "  yd.append(y) \n",
        "  xd.append(int(x_paso)) #agrego la segunda posicion de la particula \n",
        "  yd.append(int(y_paso))\n",
        "\n",
        "  while i<frames: #Veo los choques y voy agregando los pasos posteriores al segundo instante de tiempo \n",
        "    i+=1\n",
        "    if x_paso>100 and x_paso<box.shape[0] and y_paso>100 and y_paso<box.shape[0]:\n",
        "      x_paso=x_paso+vx*dt\n",
        "      y_paso=y_paso+vy*dt\n",
        "      xd.append(int(x_paso))\n",
        "      yd.append(int(y_paso))  \n",
        "    elif x_paso<100 or x_paso>box.shape[0]:\n",
        "      x_paso=x_paso+(-1*vx)*dt\n",
        "      y_paso=y_paso+(-1*vy)*dt\n",
        "      xd.append(int(x_paso))\n",
        "      yd.append(int(y_paso))\n",
        "    elif y_paso<100 or y_paso>box.shape[1]:\n",
        "      x_paso=x_paso+(-1*vx)*dt\n",
        "      y_paso=y_paso+(-1*vy)*dt\n",
        "      xd.append(int(x_paso))\n",
        "      yd.append(int(y_paso))\n",
        "  return xd, yd\n",
        "\n",
        "    \n",
        "box1=np.zeros((700,700)) #Creo la caja donde estara confinada la particula \n",
        "box2=np.zeros((800,800)) #Creo el plot donde se vera la particula \n",
        "x1,y1=circle(100,100,20) #creo la particula con radio 20\n",
        "img=recorrido(100,100,box1,1000) #Se genera el recorrido de la particula antes del primer choque \n",
        "\n",
        "gif=[]  #Aqui estaran las matrices que me generan la imagen de la particula en un instante t de tiempo \n",
        "\n",
        "for x in range(0,len(img[0])):  #Creo dichas imagenes y las agrego a la lista gif \n",
        "  x2,y2=circle(img[0][x],img[1][x],20)\n",
        "  box2[x2,y2]=255\n",
        "  gif.append(np.copy(box2))\n",
        "  box2[x2,y2]=0\n",
        "\n",
        "\n"
      ],
      "execution_count": null,
      "outputs": []
    },
    {
      "cell_type": "code",
      "metadata": {
        "colab": {
          "base_uri": "https://localhost:8080/",
          "height": 269
        },
        "id": "3JnOkmJ6bu0w",
        "outputId": "ab5884eb-ea8a-4a89-c344-3213012ca656"
      },
      "source": [
        "for x in range(0,len(gif)):  #descomprimo todas las imagenes en una carpeta llamada Gif\n",
        "  plt.imshow(gif[x])\n",
        "  plt.savefig(\"/content/drive/MyDrive/Colab Notebooks/Proyecto /Gif/img{0}.png\".format(x), bbox_inches='tight') #Los archivos no se guardan en el orden deseado ¿qué podemos hacer?\n",
        "\n"
      ],
      "execution_count": null,
      "outputs": [
        {
          "output_type": "display_data",
          "data": {
            "image/png": "[encoded data removed]",
            "text/plain": [
              "<Figure size 432x288 with 1 Axes>"
            ]
          },
          "metadata": {
            "tags": [],
            "needs_background": "light"
          }
        }
      ]
    },
    {
      "cell_type": "code",
      "metadata": {
        "colab": {
          "base_uri": "https://localhost:8080/"
        },
        "id": "ha3mkjdeGFBy",
        "outputId": "0cbe8d74-b0f3-4fa9-85ec-7142d7d60b8f"
      },
      "source": [
        "import glob\n",
        "\n",
        "GifFinal = sorted(glob.glob('/content/drive/MyDrive/Colab Notebooks/Proyecto /Gif/*.png')) #Con el modulo glob hago una lista donde esta la informacion de la carpeta Gif \n",
        "GifFinal.sort() #intento ordenar las imagenes de la carpeta Gif\n",
        "import moviepy.editor as mpy\n",
        "\n",
        "fps = 50 #Utilizando el modulo moviepy.editor creo un gif a 50fps con las imagenes de la carpeta Gif \n",
        "clip = mpy.ImageSequenceClip(GifFinal, fps=fps)\n",
        "clip.write_gif('movie1.1.gif')\n"
      ],
      "execution_count": null,
      "outputs": [
        {
          "output_type": "stream",
          "text": [
            "\n",
            "[MoviePy] Building file movie1.1.gif with imageio\n"
          ],
          "name": "stdout"
        },
        {
          "output_type": "stream",
          "text": [
            "100%|██████████| 301/301 [00:04<00:00, 71.37it/s]\n"
          ],
          "name": "stderr"
        }
      ]
    },
    {
      "cell_type": "code",
      "metadata": {
        "colab": {
          "base_uri": "https://localhost:8080/",
          "height": 286
        },
        "id": "1N_pwZJZHst2",
        "outputId": "be82cf1a-1d0e-47bb-d0c8-092073978940"
      },
      "source": [
        "##############BasuraQueVoyUtilizando1#####################\n",
        "\n",
        "fig, ax = plt.subplots()\n",
        "ax.set_ylim(0, 1)\n",
        "p=np.random.rand(20)\n",
        "x=random.randint(0,5)\n",
        "y=random.random()\n",
        "points = ax.plot(p, 'bo')\n",
        "\n",
        "\n",
        "print((x,y))\n"
      ],
      "execution_count": null,
      "outputs": [
        {
          "output_type": "stream",
          "text": [
            "(3, 0.5007443046869859)\n"
          ],
          "name": "stdout"
        },
        {
          "output_type": "display_data",
          "data": {
            "image/png": "[encoded data removed]",
            "text/plain": [
              "<Figure size 432x288 with 1 Axes>"
            ]
          },
          "metadata": {
            "tags": [],
            "needs_background": "light"
          }
        }
      ]
    },
    {
      "cell_type": "code",
      "metadata": {
        "colab": {
          "base_uri": "https://localhost:8080/",
          "height": 286
        },
        "id": "mj0IsFPgHeef",
        "outputId": "76cd77d7-cfa6-472a-dd8e-bfe3599617b9"
      },
      "source": [
        "##############BasuraQueVoyUtilizando2#####################\n",
        "box1=np.zeros((600,600))\n",
        "x1,y1=circle(100,100,20)\n",
        "box1[x1,y1]=255\n",
        "x2,y2=circle(110,110,20)\n",
        "box1[x2,y2]=255\n",
        "plt.imshow(box1)\n",
        "\n",
        "#for x in range(0,len(m[0])):\n",
        "#  x2,y2=circle(m[0][x],m[1][x],20)\n",
        "#  box2[x2,y2]=255\n",
        "\n",
        "\n",
        "#########################################################\n",
        "\n",
        "file_names = sorted((fn for fn in \"/content/Gif\"  if fn.startswith('surface')))\n",
        "\n",
        "with io.get_writer('surface.gif', mode='I', duration=0.5) as writer:\n",
        "    for filename in file_names:\n",
        "        image = io.imread(filename)\n",
        "        writer.append_data(image)\n",
        "writer.close()"
      ],
      "execution_count": null,
      "outputs": [
        {
          "output_type": "execute_result",
          "data": {
            "text/plain": [
              "<matplotlib.image.AxesImage at 0x7f9f876922b0>"
            ]
          },
          "metadata": {
            "tags": []
          },
          "execution_count": 16
        },
        {
          "output_type": "display_data",
          "data": {
            "image/png": "[encoded data removed]",
            "text/plain": [
              "<Figure size 432x288 with 1 Axes>"
            ]
          },
          "metadata": {
            "tags": [],
            "needs_background": "light"
          }
        }
      ]
    }
  ]
}