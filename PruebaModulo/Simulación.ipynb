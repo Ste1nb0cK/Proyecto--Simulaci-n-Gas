{
 "cells": [
  {
   "cell_type": "code",
   "execution_count": 31,
   "metadata": {},
   "outputs": [],
   "source": [
    "import hello as hell\n",
    "import matplotlib.pyplot as plt\n",
    "import numpy as np\n",
    "import random "
   ]
  },
  {
   "cell_type": "code",
   "execution_count": 49,
   "metadata": {},
   "outputs": [
    {
     "name": "stdout",
     "output_type": "stream",
     "text": [
      "Help on class Particula in module hello:\n",
      "\n",
      "class Particula(builtins.object)\n",
      " |  Particula(posicion, velocidad, masa, radio)\n",
      " |  \n",
      " |  Methods defined here:\n",
      " |  \n",
      " |  __init__(self, posicion, velocidad, masa, radio)\n",
      " |      comenzamos definiendo el método que debe \n",
      " |      inicializar la clase, en este definimos los atributos básicos de la clase partícula\n",
      " |      las entradas masa y radio son de tipo float y las entradas de posición son tuplas conformadas por floats\n",
      " |  \n",
      " |  paso_dt(self, dt)\n",
      " |      Este método lo que hace es avanzar en el tiempo, cambia la posición de la partícula y agrega a las listas\n",
      " |      una actualización tanto de la posición de la partícula como la velocidad de la misma\n",
      " |  \n",
      " |  resolver_colision_esquina(self)\n",
      " |      Método que actualiza la velocidad después de que una partícula choca con una esquina\n",
      " |  \n",
      " |  resolver_colision_muro(self, Lx, Ly)\n",
      " |      #Método que actualiza la velocidad después de que una partícula choca con un muro. Recibe la\n",
      " |      partícula y las dimensiones de la caja\n",
      " |  \n",
      " |  resolver_colision_particula(self, otra_p)\n",
      " |      Método que actualiza las velocidades de dos partículas después de chocar\n",
      " |      Definimos las magnitudes a usar para resolver el choque\n",
      " |  \n",
      " |  ver_colision_esquina(self, Lx, Ly)\n",
      " |      Revisa si hay colisión con una esquina, Lx y Ly son las dimensiones horizontal y vertical de la caja respectivamente\n",
      " |  \n",
      " |  ver_colision_muro(self, Lx, Ly)\n",
      " |      Este método revisa si la partícula ha chocado contra un muro.\n",
      " |  \n",
      " |  ver_colision_pp(self, otra_p)\n",
      " |      Este método verifica si se dio luegar a una colisión entre dos partículas, las entradas\n",
      " |      son dos partículas, se definen sus radios y posiciones y se plantea una condición que indica \n",
      " |      si las partículas chocaron\n",
      " |  \n",
      " |  ----------------------------------------------------------------------\n",
      " |  Data descriptors defined here:\n",
      " |  \n",
      " |  __dict__\n",
      " |      dictionary for instance variables (if defined)\n",
      " |  \n",
      " |  __weakref__\n",
      " |      list of weak references to the object (if defined)\n",
      "\n"
     ]
    }
   ],
   "source": [
    "help(hell.Particula)"
   ]
  },
  {
   "cell_type": "code",
   "execution_count": 56,
   "metadata": {},
   "outputs": [],
   "source": [
    "\n",
    "#Prototipo de la función final, recibe las dimensiones de la caja, el rango de velocidades inciales y el número de partículas\n",
    "#Si algo podemos establecer por defecto que las masas y los radios sean los mismos por defecto o cómo quieran\n",
    "def funcion_simuladora(lx,ly,v1,v2,m,r,n,):\n",
    "#Por el momento se crea un arreglo vacío de enteros para las posiciones iniciales\n",
    "  posiciones=np.zeros((n,2))\n",
    "  \n",
    "  for i in range(n):\n",
    "    #Se llena el arreglo con números aleatorios dentro del rango de las dimensiones de la caja\n",
    "    posiciones[i][0]=np.random.uniform(10,lx-10)\n",
    "    posiciones[i][1]=np.random.uniform(10,ly-10)\n",
    "  #Se convierte el arreglo en una lista\n",
    "  posiciones_lista=list(posiciones)\n",
    "  #Las velocidades se crean normalmente con velocidades aleatorias dentro del rango establecido, el intervalo (v1,v2)\n",
    "  velocidades_lista=list(np.random.uniform(v1,v2,(n,2)))\n",
    "  #Ahora creamos una lista vacía donde irán objetos de la clase partícula\n",
    "  lista_de_particulas=[]\n",
    "  #Llenamos la lista con partículas que tendrán posiciones provenientes de posiciones_lista y velocidades_lista, le puse una masa y un radio aleatorio \n",
    "  #entre 0 y 5.\n",
    "  for j in range(n):\n",
    "    Pn=hell.Particula(tuple(posiciones_lista[j]),tuple(velocidades_lista[j]),m,r)\n",
    "    lista_de_particulas.append(Pn)\n",
    "  \n",
    "  \n",
    "  #Ahora queremeos hacer que si las partículas se crean superpuestas de alguna manera, eliminamos una y creamos otra nueva\n",
    "  #luego añadimos la nueva partícula a la lista de partículas\n",
    "\n",
    "  for i in range(n):\n",
    "   for p1 in lista_de_particulas:\n",
    "    for p2 in lista_de_particulas:\n",
    "     if p1.ver_colision_pp(p2):\n",
    "       p_nueva=hell.Particula(tuple([(random.uniform(0,lx),random.uniform(0,ly)) for x in range(1)][0]),\n",
    "       tuple([(random.uniform(v1,v2),random.uniform(v1,v2)) for x in range(1)][0]), np.random.randint(0,5),np.random.randint(0,5))\n",
    "                                                      \n",
    "       lista_de_particulas.pop(i)\n",
    "       lista_de_particulas.append(p_nueva)\n",
    "  #Nos retorna la lista con las partículas creadas, acá le puse que me devolviera solo la primera para demostrar funcionalidad\n",
    "\n",
    "  return lista_de_particulas\n"
   ]
  },
  {
   "cell_type": "code",
   "execution_count": 60,
   "metadata": {},
   "outputs": [],
   "source": [
    "#Prueba de ver_colision_muro\n",
    "v1 = 1000\n",
    "v2 = 3000\n",
    "dt = 0.01 #tamaño del paso\n",
    "Lx = 10000 #Tamñaño de la caja \n",
    "Ly = 10000\n",
    "nt = 1000 #número de pasos\n",
    "n = 100 #número de partículas\n",
    "m = 1 #masa \n",
    "r = 3 #radio\n",
    "par = funcion_simuladora(Lx,Ly,v1,v2,m,r,n)\n",
    "lista_posiciones = listas_para_llenar_posiciones(n)\n",
    "lista_magnitudes_velocidad = listas_para_llenar_velocidad(nt) #Esta lista tiene los datos de la magnitud de las\n",
    "                                                              #velocidades en cada paso\n",
    "\n",
    "for j in range(nt):\n",
    "    for p in par:\n",
    "        lista_magnitudes_velocidad[j].append(p.velocidad_mag)\n",
    "    for k in range(n):\n",
    "        lista_posiciones[k][0].append(par[k].posicion[0])  #Se añade la posición en x de cada partícula\n",
    "        lista_posiciones[k][1].append(par[k].posicion[1])  #Se añade la posicion en y de cada partícula\n",
    "    for p in par:     \n",
    "        for i in range(par.index(p)+1,n): #Revisamos las colisiones entre partículas\n",
    "            if p.ver_colision_pp(par[i]):\n",
    "                p.resolver_colision_particula(par[i])\n",
    "    for p in par: \n",
    "        if p.ver_colision_muro(Lx,Ly): #Revisamos las condiciones de choque con la caja\n",
    "            p.resolver_colision_muro(Lx,Ly)\n",
    "        elif p.ver_colision_esquina(Lx,Ly): #Revisamos las condiciones de choque con las esquinas\n",
    "            p.resolver_colision_esquina()\n",
    "        p.paso_dt(dt)\n",
    "\n"
   ]
  },
  {
   "cell_type": "code",
   "execution_count": 37,
   "metadata": {},
   "outputs": [],
   "source": [
    "def listas_para_llenar_posiciones(n): ###Recibe el número de partículas y crea una lista con sublistas. \n",
    "    lista_principal = []   ###Cada partícula tiene una lista que ocupa una posicion en lista_principal\n",
    "    for j in range(n):     ###y a su vez estas listas tienen dos listas para almacenar la información \n",
    "        lista_principal.append([[],[]]) ###de la posición en x y y de esa partícula.\n",
    "    return lista_principal\n",
    "\n",
    "def listas_para_llenar_velocidad(nt): ###Recibe la cantidad de pasos y genera una lista con listas para cada paso\n",
    "    lista_principal = []\n",
    "    for j in range(nt):\n",
    "        lista_principal.append([])\n",
    "    return lista_principal"
   ]
  },
  {
   "cell_type": "code",
   "execution_count": null,
   "metadata": {},
   "outputs": [],
   "source": [
    "import pdb; pdb.set_trace()"
   ]
  },
  {
   "cell_type": "code",
   "execution_count": 61,
   "metadata": {},
   "outputs": [],
   "source": [
    "#Los datos de las velocidades en .csv\n",
    "import csv \n",
    "with open('datos_magnitud_velocidades','w',newline = '') as file:\n",
    "    writer = csv.writer(file)\n",
    "    for j in range(nt):\n",
    "        writer.writerow(lista_magnitudes_velocidad[j])\n"
   ]
  },
  {
   "cell_type": "code",
   "execution_count": null,
   "metadata": {},
   "outputs": [],
   "source": []
  }
 ],
 "metadata": {
  "kernelspec": {
   "display_name": "Python 3",
   "language": "python",
   "name": "python3"
  },
  "language_info": {
   "codemirror_mode": {
    "name": "ipython",
    "version": 3
   },
   "file_extension": ".py",
   "mimetype": "text/x-python",
   "name": "python",
   "nbconvert_exporter": "python",
   "pygments_lexer": "ipython3",
   "version": "3.8.3"
  }
 },
 "nbformat": 4,
 "nbformat_minor": 4
}
