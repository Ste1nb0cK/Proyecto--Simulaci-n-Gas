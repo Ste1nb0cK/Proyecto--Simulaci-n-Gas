{
  "nbformat": 4,
  "nbformat_minor": 0,
  "metadata": {
    "colab": {
      "name": "Histograma básico para velocidades en x y y.ipynb",
      "provenance": [],
      "mount_file_id": "1FFlq3zjBTKSsXxORen79j0mmW4YFj3Fp",
      "authorship_tag": "ABX9TyPIGP7TuCL9HH/Ap5MRxyDV",
      "include_colab_link": true
    },
    "kernelspec": {
      "name": "python3",
      "display_name": "Python 3"
    }
  },
  "cells": [
    {
      "cell_type": "markdown",
      "metadata": {
        "id": "view-in-github",
        "colab_type": "text"
      },
      "source": [
        "<a href=\"https://colab.research.google.com/github/Ste1nb0cK/Proyecto--Simulaci-n-Gas/blob/main/Histograma_b%C3%A1sico_para_velocidades_en_x_y_y.ipynb\" target=\"_parent\"><img src=\"https://colab.research.google.com/assets/colab-badge.svg\" alt=\"Open In Colab\"/></a>"
      ]
    },
    {
      "cell_type": "code",
      "metadata": {
        "colab": {
          "base_uri": "https://localhost:8080/"
        },
        "id": "fs1uYq4nrRXL",
        "outputId": "c09a13f6-5976-45bb-9036-a3959ee0d436"
      },
      "source": [
        "import pandas as pd\n",
        "import csv \n",
        "import matplotlib.pyplot as plt\n",
        "from matplotlib import pyplot\n",
        "import numpy as np\n",
        "import numpy\n",
        "#datosx=pd.read_csv('datos_velocidades_en_x.csv')\n",
        "#datosy=pd.read_csv('datos_velocidades_en_y.csv')\n",
        "\n",
        "x1 = csv.reader(open('datos_velocidades_en_x.csv'))\n",
        "y1 = csv.reader(open('datos_velocidades_en_y.csv'))\n",
        "y1"
      ],
      "execution_count": 78,
      "outputs": [
        {
          "output_type": "execute_result",
          "data": {
            "text/plain": [
              "<_csv.reader at 0x7fa5df913ba8>"
            ]
          },
          "metadata": {
            "tags": []
          },
          "execution_count": 78
        }
      ]
    },
    {
      "cell_type": "code",
      "metadata": {
        "colab": {
          "base_uri": "https://localhost:8080/"
        },
        "id": "I7AN54r8vMQY",
        "outputId": "4316ecfb-77d9-4176-dc20-0fd0f63542d1"
      },
      "source": [
        "#Se pasan los csv a listas para así manipular\n",
        "dx=list(x1)  \n",
        "dy=list(y1)\n",
        "len(dy)"
      ],
      "execution_count": 56,
      "outputs": [
        {
          "output_type": "execute_result",
          "data": {
            "text/plain": [
              "150"
            ]
          },
          "metadata": {
            "tags": []
          },
          "execution_count": 56
        }
      ]
    },
    {
      "cell_type": "code",
      "metadata": {
        "colab": {
          "base_uri": "https://localhost:8080/"
        },
        "id": "LBND9DQtK6or",
        "outputId": "c18579fe-75f5-4a80-be2e-ca2184144c78"
      },
      "source": [
        "#Como necesitamos un histograma por paso, transponemos las listas de forma que nos queden sublistas por paso y no por partícula\n",
        "dx_T=np.transpose(dx)\n",
        "dy_T=np.transpose(dy)\n",
        "len(dy_T)"
      ],
      "execution_count": 57,
      "outputs": [
        {
          "output_type": "execute_result",
          "data": {
            "text/plain": [
              "2000"
            ]
          },
          "metadata": {
            "tags": []
          },
          "execution_count": 57
        }
      ]
    },
    {
      "cell_type": "code",
      "metadata": {
        "id": "gkCzYlRoLIIq"
      },
      "source": [
        "#Al transponer nos queda tipo array, convertimos a listas nuevamente\n",
        "datosx=dx_T.tolist()\n",
        "datosy=dy_T.tolist()"
      ],
      "execution_count": null,
      "outputs": []
    },
    {
      "cell_type": "code",
      "metadata": {
        "id": "d5cDxr85NzHa"
      },
      "source": [
        "#Se quitó las ' '  que habían dentro de las sublistas para dejar sólo los valores como flotantes\n",
        "\n",
        "#####################################\n",
        "a=0\n",
        "Vx=[]\n",
        "#for a in range(10,20):\n",
        "for a in range(len(datosx)) :\n",
        "  b=datosx[a]\n",
        "  b=[float(i) for i in b]\n",
        "  #plt.hist(datosx[a],45,color=\"blue\",ec=\"black\")\n",
        "  #print(b)\n",
        "  Vx.append(b)\n",
        "  a=a+1\n",
        "######################################\n",
        "c=0\n",
        "Vy=[]\n",
        "#for a in range(10,20):\n",
        "for c in range(len(datosy)) :\n",
        "  d=datosy[c]\n",
        "  d=[float(i) for i in d]\n",
        "  Vy.append(d)\n",
        "  c=c+1\n",
        "\n"
      ],
      "execution_count": null,
      "outputs": []
    },
    {
      "cell_type": "code",
      "metadata": {
        "colab": {
          "base_uri": "https://localhost:8080/",
          "height": 265
        },
        "id": "YQUtHokKV4TI",
        "outputId": "7417236c-6614-46eb-fb9d-0b4d7c275e9c"
      },
      "source": [
        "#Histograma del primer paso de ambas velocidades\n",
        "bins = numpy.linspace(40, 80, 90) \n",
        "\n",
        "pyplot.hist(Vx[0], bins, alpha=0.5, label='Vx paso 1') \n",
        "pyplot.hist(Vy[0], bins, alpha=0.5, label='Vy paso 1') \n",
        "\n",
        "pyplot.show() "
      ],
      "execution_count": 98,
      "outputs": [
        {
          "output_type": "display_data",
          "data": {
            "image/png": "[encoded data removed]",
            "text/plain": [
              "<Figure size 432x288 with 1 Axes>"
            ]
          },
          "metadata": {
            "tags": [],
            "needs_background": "light"
          }
        }
      ]
    },
    {
      "cell_type": "code",
      "metadata": {
        "colab": {
          "base_uri": "https://localhost:8080/",
          "height": 265
        },
        "id": "Qlq0On6XX_45",
        "outputId": "69f3b388-188a-4fd8-a04f-c7f01c9c35fd"
      },
      "source": [
        "#Histograma del último paso de ambas velocidades\n",
        "bins = numpy.linspace(-250, 250, 90) \n",
        "\n",
        "pyplot.hist(Vx[1999], bins, alpha=0.5, label='Vx paso 2000') \n",
        "pyplot.hist(Vy[1999], bins, alpha=0.5, label='Vy paso 2000') \n",
        "\n",
        "pyplot.show() "
      ],
      "execution_count": 109,
      "outputs": [
        {
          "output_type": "display_data",
          "data": {
            "image/png": "[encoded data removed]",
            "text/plain": [
              "<Figure size 432x288 with 1 Axes>"
            ]
          },
          "metadata": {
            "tags": [],
            "needs_background": "light"
          }
        }
      ]
    }
  ]
}