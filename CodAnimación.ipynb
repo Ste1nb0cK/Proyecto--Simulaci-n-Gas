{
  "nbformat": 4,
  "nbformat_minor": 0,
  "metadata": {
    "colab": {
      "name": "CodAnimación ",
      "provenance": [],
      "authorship_tag": "ABX9TyPYnXqrf8PXdFOToeteaZcL",
      "include_colab_link": true
    },
    "kernelspec": {
      "name": "python3",
      "display_name": "Python 3"
    }
  },
  "cells": [
    {
      "cell_type": "markdown",
      "metadata": {
        "id": "view-in-github",
        "colab_type": "text"
      },
      "source": [
        "<a href=\"https://colab.research.google.com/github/Ste1nb0cK/Proyecto--Simulaci-n-Gas/blob/main/CodAnimaci%C3%B3n.ipynb\" target=\"_parent\"><img src=\"https://colab.research.google.com/assets/colab-badge.svg\" alt=\"Open In Colab\"/></a>"
      ]
    },
    {
      "cell_type": "code",
      "metadata": {
        "id": "wjGDIaZD1RUU"
      },
      "source": [
        "import numpy as np\n",
        "import matplotlib.pyplot as plt\n",
        "from skimage.draw import *\n",
        "import glob\n",
        "import random \n",
        "import moviepy.editor as mpy"
      ],
      "execution_count": 9,
      "outputs": []
    },
    {
      "cell_type": "code",
      "metadata": {
        "colab": {
          "base_uri": "https://localhost:8080/"
        },
        "id": "sTTnwNNI1ZLW",
        "outputId": "3ae2915c-40a9-4c18-f035-09a36fa2badc"
      },
      "source": [
        "from google.colab import drive\n",
        "drive.mount('/content/drive')"
      ],
      "execution_count": 2,
      "outputs": [
        {
          "output_type": "stream",
          "text": [
            "Mounted at /content/drive\n"
          ],
          "name": "stdout"
        }
      ]
    },
    {
      "cell_type": "code",
      "metadata": {
        "id": "ApE4ypVy4W3H"
      },
      "source": [
        "%load_ext Cython\n",
        "import matplotlib.pyplot as plt\n",
        "from numpy import linalg"
      ],
      "execution_count": 4,
      "outputs": []
    },
    {
      "cell_type": "code",
      "metadata": {
        "id": "bXYtPzloK_52"
      },
      "source": [
        "%%cython\n",
        "import numpy as np\n",
        "\n",
        "class Particula:#En esta clase definimos los métodos fundamentales que debe seguir cada partícula\n",
        "\n",
        "    def __init__(self, (float,float) posicion, (float,float) velocidad, float masa, float radio): \n",
        "       \"\"\"comenzamos definiendo el método que debe \n",
        "        inicializar la clase, en este definimos los atributos básicos de la clase partícula\n",
        "        las entradas masa y radio son de tipo float y las entradas de posición son tuplas conformadas por floats\"\"\"  \n",
        "       self.radio=radio  \n",
        "       self.masa=masa \n",
        "       \n",
        "       self.posicion=np.array(posicion)   #Estas variables son arrays de numpy, y las trataremos como vectores\n",
        "       self.velocidad=np.array(velocidad)\n",
        "       self.velocidad_mag=np.linalg.norm(self.velocidad)#Este atributo no es otra cosa que la magnitud del vector velocidad\n",
        "     \n",
        "       \"\"\"Creamos tres listas con los vectores posición y velocidad y velocidad_mag, posteriormente las usaremos\n",
        "       para generar una lista con todos los valores que ha tenido la velocidad y posición\"\"\"\n",
        "       \n",
        "       self.velocidad_n=[self.velocidad]    ##Velocidad_n y posición_n son listas de vectores que contienen las listas correspondiente a\n",
        "       self.posicion_n=[self.posicion]      ##todos los valores de estos vectores\n",
        "       self.velocidad_mag_n=[self.velocidad_mag]\n",
        "     \n",
        "  ##########################################################################\n",
        "    def paso_dt(self,float dt):   #Falta definir el valor que va a tomar dt  \n",
        "       \"\"\"Este método lo que hace es avanzar en el tiempo, cambia la posición de la partícula y agrega a las listas\n",
        "       una actualización tanto de la posición de la partícula como la velocidad de la misma\"\"\"\n",
        "      \n",
        "       self.posicion=self.posicion + self.velocidad*dt  \n",
        "       self.posicion_n.append(self.posicion) #Se añaden \n",
        "       self.velocidad_n.append(self.velocidad)\n",
        "       self.velocidad_mag_n.append(self.velocidad_mag)\n",
        " ###############################################################################################\n",
        "    def ver_colision_pp(self,otra_p):\n",
        "       \"\"\"Este método verifica si se dio luegar a una colisión entre dos partículas, las entradas\n",
        "      son dos partículas, se definen sus radios y posiciones y se plantea una condición que indica \n",
        "      si las partículas chocaron\"\"\"\n",
        "       cdef float r1=self.radio\n",
        "       cdef float r2=otra_p.radio\n",
        "       p1=self.posicion\n",
        "       p2=otra_p.posicion\n",
        "       cdef float sep=np.linalg.norm(p1-p2)#Norma del vector separación de ambas partículas.\n",
        "       if sep-(r1+r2)*1.1<=0:#Si la separación es menor o igual a la suma de sus radios, entonces las partículas están en contacto y por lo tanto chocaron.\n",
        "         return True\n",
        "       else:\n",
        "         return False\n",
        "######################################################################################################\n",
        "    def ver_colision_esquina(self, float Lx, float Ly):\n",
        "       \"Revisa si hay colisión con una esquina, Lx y Ly son las dimensiones horizontal y vertical de la caja respectivamente\"\n",
        "       extremo_izquierdo = self.posicion[0] - self.radio #da la posición del extremo izquido de la partícula\n",
        "       extremo_inferior = self.posicion[1] - self.radio  #da la posición del extremo inferior de la partícula\n",
        "       extremo_derecho  = self.posicion[0] + self.radio  #da la posición del extremo derech0 de la partícula\n",
        "       extremo_superior = self.posicion[1] + self.radio  #da la posición del extremo superior de la partícula\n",
        "       #Ahora construimos las variables donde se va a almacenar el hecho de chocar contra una esquina o no\n",
        "       cdef bint choque_00 = extremo_izquierdo >0 and extremo_inferior> 0   #Esto corresponde a no chocar con la esquina (0,0)\n",
        "       cdef bint choque_Lx0 = extremo_derecho <Lx and extremo_inferior > 0 #Esto corresponde a no chocar con la esquina (Lx,0)\n",
        "       cdef bint choque_LxLy =  extremo_derecho <Lx and extremo_superior <Ly  #Esto corresponde a no chocar con la esquina (Lx,Ly)\n",
        "       cdef bint choque_0Ly = extremo_izquierdo > 0 and extremo_superior <Ly  #Esto corresponde a chocar con la esquina (0,Ly)\n",
        "       if not choque_00 or not choque_Lx0 or not choque_LxLy or not choque_0Ly:\n",
        "         return  True \n",
        "       else:\n",
        "         return False\n",
        "       \n",
        "        \n",
        "#####################################################################################################\n",
        "    def ver_colision_muro(self, float Lx, float Ly):\n",
        "        \"\"\"Este método revisa si la partícula ha chocado contra un muro.\"\"\"\n",
        "        \"\"\"La condición ve que si la posición en \"x\" es diferente 0 o la longitud horizontal (Lx) de la caja y adicionalmente\n",
        "     #  si la posición en \"y\" es diferente de 0 o la longitud vertical (Ly) entonces la partícula no está chocando contra un muro\"\"\"\n",
        "        cdef bint choque_pared_derecha =  self.posicion[0] + self.radio <Lx   \n",
        "        cdef bint choque_pared_izquierda = self.posicion[0] - self.radio>0\n",
        "        #las condiciones corresponden a no chocar con esas paredes\n",
        "        cdef bint choque_pared_superior = self.posicion[1] + self.radio <Ly \n",
        "        cdef bint choque_pared_inferior = self.posicion[1] - self.radio >0\n",
        "        if choque_pared_derecha and choque_pared_izquierda and choque_pared_superior and choque_pared_inferior :\n",
        "          return False\n",
        "        else:\n",
        "          return True \n",
        "        \n",
        "######################################################################################################\n",
        "    def resolver_colision_particula(self,otra_p):\n",
        "      \"\"\"Método que actualiza las velocidades de dos partículas después de chocar\n",
        "       Definimos las magnitudes a usar para resolver el choque\"\"\"\n",
        "      M1=self.masa\n",
        "      M2=otra_p.masa\n",
        "      p1=self.posicion\n",
        "      p2=otra_p.posicion\n",
        "      V1=self.velocidad\n",
        "      V2=otra_p.velocidad\n",
        "      cdef bint choque=self.ver_colision_pp\n",
        "      if choque:\n",
        "        self.velocidad= self.velocidad-((2*M2)/(M1+M2))*(np.dot(p1-p2,V1-V2)/(np.linalg.norm(p1-p2)**2))*(p1-p2)#Se resuleven los choques tal cual el modelo bidimensional que se tiene\n",
        "        otra_p.velocidad= otra_p.velocidad-((2*M1)/(M1+M2))*(np.dot(p2-p1,V2-V1)/(np.linalg.norm(p2-p1)**2))*(p2-p1)\n",
        "  \n",
        "\n",
        "    def resolver_colision_muro(self,float Lx,float Ly): \n",
        "        \"\"\"#Método que actualiza la velocidad después de que una partícula choca con un muro. Recibe la\n",
        "        partícula y las dimensiones de la caja\"\"\"\n",
        "        cdef bint choque_pared_derecha =  self.posicion[0] + self.radio <Lx   \n",
        "        cdef bint choque_pared_izquierda = self.posicion[0] - self.radio>0\n",
        "        #las condiciones corresponden a no chocar con esas paredes\n",
        "        cdef bint choque_pared_superior = self.posicion[1] + self.radio <Ly \n",
        "        cdef bint choque_pared_inferior = self.posicion[1] - self.radio >0\n",
        "        #Ahora miramos cual fue la pared con que se chocó e invertimos la coordenada teniendo en cuenta eso\n",
        "        if not choque_pared_derecha or not choque_pared_izquierda:\n",
        "            self.velocidad[0] = -1* self.velocidad[0]\n",
        "        elif not choque_pared_superior or not choque_pared_inferior:\n",
        "            self.velocidad[1] = -1* self.velocidad[1]\n",
        "       \n",
        "    def resolver_colision_esquina(self):\n",
        "        \"\"\"Método que actualiza la velocidad después de que una partícula choca con una esquina\"\"\"\n",
        "        self.velocidad = -1* self.velocidad #se invierte todo el vector\n",
        "    "
      ],
      "execution_count": 5,
      "outputs": []
    },
    {
      "cell_type": "code",
      "metadata": {
        "id": "6w7dHdJv8XHF",
        "colab": {
          "base_uri": "https://localhost:8080/"
        },
        "outputId": "11e918ce-56ed-4ef8-f92a-d86c768c74b7"
      },
      "source": [
        "print(np.random.rand(5))\n",
        "A=np.random.randint(-100,100,(500,2))\n",
        "b=list(A)\n",
        "print(b)"
      ],
      "execution_count": 6,
      "outputs": [
        {
          "output_type": "stream",
          "text": [
            "[0.30593651 0.66786346 0.94621045 0.61775215 0.80275438]\n",
            "[array([ 71, -50]), array([-37, -60]), array([-60,  92]), array([-25, -44]), array([-61,  89]), array([ 87, -57]), array([60, 54]), array([-98,  20]), array([ 83, -47]), array([ 6, 55]), array([-39,  14]), array([40,  8]), array([ -8, -92]), array([-44,  38]), array([68, 68]), array([-78,  94]), array([ -1, -37]), array([27, 71]), array([-67, -92]), array([-4, 89]), array([-27, -95]), array([27, 95]), array([36, 18]), array([-49,  65]), array([38, 45]), array([ -3, -24]), array([-64,  74]), array([-15, -38]), array([-54,  15]), array([-36,  23]), array([-71,  46]), array([-34,   5]), array([-28,  70]), array([-36, -35]), array([-11, -94]), array([47, 44]), array([-64,  80]), array([-63,  13]), array([ 99, -69]), array([66, 65]), array([53, -2]), array([-37,  96]), array([ 5, 28]), array([12, 38]), array([ 64, -77]), array([10, 37]), array([-97, -53]), array([39, 99]), array([ 12, -65]), array([-28,  95]), array([ 71, -34]), array([-35, -25]), array([-46, -74]), array([-51,   0]), array([ 0, 14]), array([  4, -21]), array([ 88, -31]), array([ 16, -46]), array([ 86, -80]), array([-80, -57]), array([12, 86]), array([-66,  76]), array([-44, -56]), array([62, -5]), array([ -5, -30]), array([92, 89]), array([-42,  58]), array([ 94, -48]), array([41,  2]), array([ 4, -2]), array([ 65, -20]), array([32, 13]), array([-24,  81]), array([77, 11]), array([68, 95]), array([ 38, -35]), array([96, 37]), array([-22, -11]), array([46, -3]), array([-88,  70]), array([ 93, -40]), array([  61, -100]), array([  8, -35]), array([-70,  43]), array([-85,  47]), array([ 88, -70]), array([-85,  88]), array([56,  8]), array([-33,  -9]), array([-86,  24]), array([-48,  11]), array([ 8, 69]), array([-87, -26]), array([-32,  55]), array([99, 11]), array([-43, -98]), array([-86, -13]), array([80, 32]), array([-99, -86]), array([ 75, -24]), array([ 73, -85]), array([-58, -19]), array([ 76, -86]), array([-32,  11]), array([-81,  64]), array([ 83, -58]), array([-82, -97]), array([-99,  57]), array([-26,  67]), array([31, 51]), array([ -5, -59]), array([ 75, -90]), array([-42,  58]), array([ 13, -51]), array([-98, -51]), array([-58,  27]), array([-36, -21]), array([ 92, -98]), array([-88, -75]), array([-68,  92]), array([-30, -58]), array([-59,  -7]), array([ 59, -71]), array([  9, -13]), array([-56,  48]), array([10, 95]), array([ 53, -24]), array([28, 94]), array([-36,   5]), array([-59, -62]), array([ 88, -42]), array([-95, -67]), array([-56,  59]), array([ 43, -16]), array([-96, -41]), array([-23,  -7]), array([ 8, 55]), array([-41,   9]), array([75, 30]), array([-61,  89]), array([-44,  -8]), array([-43,  54]), array([ 68, -94]), array([57, 39]), array([-83,  70]), array([-25,  96]), array([-79,  52]), array([ 58, -92]), array([-17,  71]), array([ 25, -19]), array([-40,  41]), array([-64,   8]), array([ 9, 50]), array([76, 46]), array([-93,  18]), array([ 34, -73]), array([-68,  61]), array([19, 68]), array([ -29, -100]), array([-80,  33]), array([-21, -81]), array([-52,   8]), array([-39, -28]), array([40, -5]), array([-34, -13]), array([-56,  66]), array([46, 27]), array([ 95, -70]), array([-63,  16]), array([93, 38]), array([ 7, 97]), array([ 44, -90]), array([-64,  10]), array([-39,  30]), array([-90,  92]), array([-64,  79]), array([86, 20]), array([-90, -99]), array([ 70, -72]), array([85, 57]), array([-67, -15]), array([-3, -8]), array([62, 62]), array([ 35, -68]), array([-37, -67]), array([-42,  89]), array([59, 43]), array([-44,  37]), array([ 21, -42]), array([11, 99]), array([ 91, -73]), array([ 52, -17]), array([87, 71]), array([82, 40]), array([ -4, -88]), array([ 0, 27]), array([-75,  38]), array([  9, -65]), array([ 11, -29]), array([ 96, -56]), array([37, 45]), array([-60,  96]), array([-64,  10]), array([ 31, -40]), array([-66, -13]), array([-63, -41]), array([ 44, -30]), array([-87,  71]), array([-99,  81]), array([-41, -16]), array([-37, -92]), array([-35,  94]), array([-49,  17]), array([23, 61]), array([ -5, -71]), array([-96,  57]), array([48, 30]), array([-80,  64]), array([-47,  -1]), array([83, 89]), array([26, 68]), array([-90, -91]), array([12, 14]), array([-1, 59]), array([69, 20]), array([-26, -34]), array([-76, -68]), array([-8, 66]), array([-10,  83]), array([37, 80]), array([  9, -68]), array([-67,  52]), array([ 19, -32]), array([-37, -11]), array([ 0, 66]), array([-9, 58]), array([-96, -69]), array([53, 81]), array([-90,  91]), array([49, 55]), array([ 38, -38]), array([27, 55]), array([-53,  11]), array([20, 56]), array([ 97, -14]), array([ 46, -67]), array([75, 74]), array([54, 53]), array([ 56, -83]), array([ 27, -60]), array([42, 32]), array([54, 42]), array([-20, -67]), array([-53,  -4]), array([-94, -54]), array([-46,  48]), array([-94,  57]), array([ 2, 25]), array([ 79, -45]), array([ 46, -49]), array([-37,  84]), array([63,  3]), array([ 65, -82]), array([46, 92]), array([-47, -95]), array([-81,  95]), array([  90, -100]), array([-45, -97]), array([ 0, 43]), array([ 25, -77]), array([ 32, -10]), array([  7, -55]), array([90, 13]), array([60, 59]), array([-16,  91]), array([72, 86]), array([-68,  33]), array([ 22, -99]), array([ 0, 51]), array([-60,  82]), array([-19, -16]), array([50, 96]), array([59, 96]), array([-56,  38]), array([-88,  80]), array([-84,  43]), array([73, 80]), array([-15,  51]), array([-13,  92]), array([58, 76]), array([83, 64]), array([-10,  68]), array([ -1, -99]), array([-34, -45]), array([-33, -86]), array([39, 92]), array([12, 90]), array([96,  3]), array([ 97, -97]), array([ 54, -72]), array([-54,  82]), array([-31,  98]), array([61, 10]), array([21, 18]), array([ 21, -27]), array([81, 73]), array([-38, -48]), array([  9, -71]), array([83, 97]), array([-23, -49]), array([ 28, -58]), array([-38,  13]), array([-15, -60]), array([-26, -65]), array([ 82, -13]), array([-18,  48]), array([14, -8]), array([-35,  13]), array([ 80, -71]), array([-44,  40]), array([81, 55]), array([-85, -82]), array([-57,  78]), array([ 64, -71]), array([56, 89]), array([57, 19]), array([-30,  40]), array([  2, -33]), array([ -9, -89]), array([-95, -16]), array([ 61, -70]), array([-27, -77]), array([-14,  21]), array([ 60, -78]), array([17, 42]), array([ 29, -57]), array([ 59, -19]), array([-18,  96]), array([-24,  88]), array([81, 61]), array([42, 88]), array([ 44, -62]), array([ 82, -67]), array([-15, -45]), array([32, 51]), array([-80,  39]), array([50, 44]), array([-67,   5]), array([ 93, -23]), array([-81, -39]), array([  5, -98]), array([-61,  49]), array([-48, -34]), array([-14,  60]), array([-52,  65]), array([ 84, -68]), array([ 65, -30]), array([-26, -26]), array([-50,  21]), array([ 23, -92]), array([40, 31]), array([-52, -42]), array([-39,  80]), array([-41, -21]), array([-36, -20]), array([-33,  72]), array([ 24, -60]), array([ 44, -28]), array([81, 55]), array([ 18, -75]), array([-74,  87]), array([-96,  51]), array([ 38, -17]), array([-88,  96]), array([ -56, -100]), array([ 5, 21]), array([-44,  23]), array([86, -5]), array([27,  6]), array([-59, -17]), array([-76,  91]), array([ 29, -27]), array([ 83, -44]), array([ 38, -18]), array([96, 56]), array([ 62, -98]), array([96, -3]), array([ 86, -90]), array([ 25, -18]), array([-31,  20]), array([-81,  36]), array([-32,   0]), array([-84, -28]), array([-82,  41]), array([29, 76]), array([-74, -79]), array([-34, -91]), array([  6, -29]), array([-32,   6]), array([ -8, -85]), array([-45,  89]), array([28,  1]), array([-85, -64]), array([-51, -56]), array([  9, -10]), array([ 0, -6]), array([ 6, 23]), array([-31, -79]), array([76,  9]), array([-11,  55]), array([-47, -58]), array([39, -6]), array([-73,  71]), array([ 27, -18]), array([77, 25]), array([-86,  22]), array([-17,  64]), array([-14,   7]), array([-25, -73]), array([88, 79]), array([-7, 85]), array([-55,  16]), array([-66, -36]), array([ 43, -29]), array([-98,  33]), array([33, 70]), array([-1, 17]), array([38, 19]), array([-13, -53]), array([15, 40]), array([-89, -53]), array([-62,  47]), array([-70,  73]), array([13, 42]), array([37, 85]), array([-63, -99]), array([ 56, -75]), array([91, -8]), array([25, 49]), array([21, 91]), array([14, 10]), array([-61, -31]), array([-95, -26]), array([-58,  98]), array([21, -2]), array([ 7, 72]), array([-48,  26]), array([-63, -29]), array([71, 54]), array([ 6, -4]), array([80, 65]), array([ 97, -34]), array([ 26, -72]), array([-67, -17]), array([-21,  15]), array([ 72, -89]), array([49, 76]), array([ 39, -27]), array([37, 57]), array([-92,  37]), array([-27, -99]), array([-84,   1]), array([ 32, -54]), array([-61,  -5]), array([17, 34]), array([-8, 97]), array([-96,  -6]), array([ 39, -61]), array([-91,  86]), array([-91, -74]), array([-19,   1]), array([88, 35]), array([ 51, -42]), array([68, 18]), array([-23, -28]), array([ 89, -20]), array([-51, -44]), array([-71,  78]), array([18, 38]), array([16, 86]), array([35, 76]), array([-44, -28]), array([-46, -19]), array([ 88, -66]), array([76, 89]), array([84, -5]), array([ 12, -43]), array([92, 74]), array([89, 15]), array([ 58, -60]), array([ -84, -100]), array([49, 60]), array([-30,  47]), array([-12, -21]), array([-28,  88]), array([ 49, -22]), array([-4, 20]), array([-9, 74]), array([-4, 68]), array([-27, -22])]\n"
          ],
          "name": "stdout"
        }
      ]
    },
    {
      "cell_type": "code",
      "metadata": {
        "id": "C5mAfnbn7DI8"
      },
      "source": [
        "\n",
        "#Prototipo de la función final, recibe las dimensiones de la caja, el rango de velocidades inciales y el número de partículas\n",
        "#Si algo podemos establecer por defecto que las masas y los radios sean los mismos por defecto o cómo quieran\n",
        "def funcion_simuladora(lx,ly,v1,v2,n):\n",
        "#Por el momento se crea un arreglo vacío de enteros para las posiciones iniciales\n",
        "  posiciones=np.zeros((n,2))\n",
        "  \n",
        "  for i in range(n):\n",
        "    #Se llena el arreglo con números aleatorios dentro del rango de las dimensiones de la caja\n",
        "    posiciones[i][0]=np.random.uniform(0,lx)\n",
        "    posiciones[i][1]=np.random.uniform(0,ly)\n",
        "  #Se convierte el arreglo en una lista\n",
        "  posiciones_lista=list(posiciones)\n",
        "  #Las velocidades se crean normalmente con velocidades aleatorias dentro del rango establecido, el intervalo (v1,v2)\n",
        "  velocidades_lista=list(np.random.uniform(v1,v2,(n,2)))\n",
        "  #Ahora creamos una lista vacía donde irán objetos de la clase partícula\n",
        "  lista_de_particulas=[]\n",
        "  #Llenamos la lista con partículas que tendrán posiciones provenientes de posiciones_lista y velocidades_lista, le puse una masa y un radio aleatorio \n",
        "  #entre 0 y 5.\n",
        "  for j in range(n):\n",
        "    Pn=Particula(tuple(posiciones_lista[j]),tuple(velocidades_lista[j]),np.random.randint(0,5),np.random.randint(0,5))\n",
        "    lista_de_particulas.append(Pn)\n",
        "  \n",
        "  \n",
        "  #Ahora queremeos hacer que si las partículas se cren superpuestas de alguna manera, eliminamos una y creamos otra nueva\n",
        "  #luego añadimos la nueva partícula a la lista de partículas\n",
        "  #pero lo haré\n",
        "  for i in range(n):\n",
        "   for p1 in lista_de_particulas:\n",
        "    for p2 in lista_de_particulas:\n",
        "     if p1.ver_colision_pp(p2):\n",
        "       p_nueva=Particula(tuple([(random.uniform(0,lx),random.uniform(0,ly)) for x in range(1)][0]),\n",
        "       tuple([(random.uniform(v1,v2),random.uniform(v1,v2)) for x in range(1)][0]), np.random.randint(0,5),np.random.randint(0,5))\n",
        "                                                      \n",
        "       lista_de_particulas.pop(i)\n",
        "       lista_de_particulas.append(p_nueva)\n",
        "  #Nos retorna la lista con las partículas creadas, acá le puse que me devolviera solo la primera para demostrar funcionalidad\n",
        "\n",
        "  return lista_de_particulas[0]\n"
      ],
      "execution_count": 7,
      "outputs": []
    },
    {
      "cell_type": "code",
      "metadata": {
        "colab": {
          "base_uri": "https://localhost:8080/"
        },
        "id": "53eh1FmHTI4B",
        "outputId": "5b8bb2d4-4326-42fc-c380-64170de6e291"
      },
      "source": [
        "#Prueba\n",
        "A=funcion_simuladora(100,100,0,100,5)\n",
        "for j in range(10):\n",
        "  A.paso_dt(1)\n",
        "print(A.posicion_n)\n"
      ],
      "execution_count": 10,
      "outputs": [
        {
          "output_type": "stream",
          "text": [
            "[array([ 4.82594252, 34.27598953]), array([22.31955099, 34.94184715]), array([39.81315947, 35.60770476]), array([57.30676794, 36.27356237]), array([74.80037642, 36.93941998]), array([92.29398489, 37.6052776 ]), array([109.78759336,  38.27113521]), array([127.28120184,  38.93699282]), array([144.77481031,  39.60285044]), array([162.26841879,  40.26870805]), array([179.76202726,  40.93456566])]\n"
          ],
          "name": "stdout"
        }
      ]
    },
    {
      "cell_type": "code",
      "metadata": {
        "colab": {
          "base_uri": "https://localhost:8080/"
        },
        "id": "sn-4D6lUETGh",
        "outputId": "885bb11b-03a1-463a-8ba8-cfeb419dfca2"
      },
      "source": [
        "A=np.zeros((10,2),dtype=\"int\")\n",
        "for n in range(10):\n",
        " A[n][0]=np.random.randint(0,10)\n",
        " A[n][1]=np.random.randint(0,10)\n",
        "\n",
        "B=list(A)\n",
        "tuple(B[0])\n"
      ],
      "execution_count": 11,
      "outputs": [
        {
          "output_type": "execute_result",
          "data": {
            "text/plain": [
              "(3, 7)"
            ]
          },
          "metadata": {
            "tags": []
          },
          "execution_count": 11
        }
      ]
    },
    {
      "cell_type": "code",
      "metadata": {
        "colab": {
          "base_uri": "https://localhost:8080/",
          "height": 336
        },
        "id": "lCPsGulY5zjf",
        "outputId": "d2f32d6f-6a05-46f5-afb1-f3a3103b904f"
      },
      "source": [
        "#Prueba resolver colision con dos partículas bidimensional\n",
        "P1=Particula((0,0),(1,1),2,1)\n",
        "P2=Particula((6,0),(-1,1),2,1)\n",
        "for j in range(10):\n",
        "  P1.paso_dt(1)\n",
        "  P2.paso_dt(1)\n",
        "  \n",
        "  if P1.ver_colision_pp(P2):\n",
        "    P1.resolver_colision_particula(P2)\n",
        "\n",
        "x=[]\n",
        "y=[]\n",
        "for n in P1.posicion_n:\n",
        "  x.append(n[0])\n",
        "  y.append(n[1])\n",
        "x1=[]\n",
        "y1=[]\n",
        "for n1 in P2.posicion_n:\n",
        "  x1.append(n1[0])\n",
        "  y1.append(n1[1])\n",
        "\n",
        "plt.subplot(121)\n",
        "plt.plot(x,y)\n",
        "plt.subplot(122)\n",
        "plt.plot(x1,y1)\n",
        "\n",
        "\n",
        "print(P1.velocidad)\n",
        "print(P2.velocidad)   \n",
        "print(P1.posicion_n)"
      ],
      "execution_count": 12,
      "outputs": [
        {
          "output_type": "stream",
          "text": [
            "[-1.  1.]\n",
            "[1. 1.]\n",
            "[array([0., 0.]), array([1., 1.]), array([2., 2.]), array([1., 3.]), array([0., 4.]), array([-1.,  5.]), array([-2.,  6.]), array([-3.,  7.]), array([-4.,  8.]), array([-5.,  9.]), array([-6., 10.])]\n"
          ],
          "name": "stdout"
        },
        {
          "output_type": "display_data",
          "data": {
            "image/png": "[encoded data removed]",
            "text/plain": [
              "<Figure size 432x288 with 2 Axes>"
            ]
          },
          "metadata": {
            "tags": [],
            "needs_background": "light"
          }
        }
      ]
    },
    {
      "cell_type": "code",
      "metadata": {
        "id": "3FuvSivU2uu4"
      },
      "source": [
        "#las listas l1 y l2 contienen la informacion de los radios en el tiempo de la particula 1 y 2 correspondientemente \n",
        "l1=[]\n",
        "l2=[]\n",
        "\n",
        "#Como hay posiciones menores que cero entonces lo corregi corriendo las posiciones en x\n",
        "l1.append(np.array(x)+6)\n",
        "l1.append(y)\n",
        "l2.append(np.array(x1)+6)\n",
        "l2.append(y1)\n",
        "\n",
        "#la ListaOf contendra a l1 y l2 pero el codigo esta elaborado para n particulas en ListaOf\n",
        "ListaOf=[]\n",
        "ListaOf.append(l1)\n",
        "ListaOf.append(l2)\n",
        "\n",
        "BoxOf=np.zeros((18,10))\n",
        "\n",
        "for particle in range(0,len(ListaOf)):\n",
        "  for i in range(0,len(particle[0])):\n",
        "    x2,y2=circle(particle[0][x],particle[1][x],1)\n",
        "    BoxOf[x2,y2]=255\n",
        "    Gif.append(np.copy(BoxOf))\n",
        "    BoxOf[x2,y2]=0\n",
        "\n",
        "#plt.imshow(Gif[20])\n",
        "\n",
        "\n",
        "\n",
        "\n"
      ],
      "execution_count": 46,
      "outputs": []
    },
    {
      "cell_type": "code",
      "metadata": {
        "colab": {
          "base_uri": "https://localhost:8080/"
        },
        "id": "9rsVAgxOA7u9",
        "outputId": "ebd4fda5-4852-4ea5-b622-a591b010b8c7"
      },
      "source": [
        "print(\"Datos x\")\n",
        "print(ListaOf[0][0])\n",
        "print(ListaOf[1][0])\n",
        "print(\"Datos y\")\n",
        "print(ListaOf[0][1])\n",
        "print(ListaOf[1][1])\n"
      ],
      "execution_count": 48,
      "outputs": [
        {
          "output_type": "stream",
          "text": [
            "Datos x\n",
            "[6. 7. 8. 7. 6. 5. 4. 3. 2. 1. 0.]\n",
            "[12. 11. 10. 11. 12. 13. 14. 15. 16. 17. 18.]\n",
            "Datos y\n",
            "[0.0, 1.0, 2.0, 3.0, 4.0, 5.0, 6.0, 7.0, 8.0, 9.0, 10.0]\n",
            "[0.0, 1.0, 2.0, 3.0, 4.0, 5.0, 6.0, 7.0, 8.0, 9.0, 10.0]\n"
          ],
          "name": "stdout"
        }
      ]
    },
    {
      "cell_type": "code",
      "metadata": {
        "colab": {
          "base_uri": "https://localhost:8080/",
          "height": 282
        },
        "id": "NVjLBix9B2aN",
        "outputId": "b1ab1f29-0fc2-4d32-daba-2254471e5811"
      },
      "source": [
        "BoxOf=np.zeros((18,10))\n",
        "xa,ya=circle(-4,3,1)\n",
        "xb,yb=circle(0,0,1)\n",
        "BoxOf[xa,ya]=255\n",
        "BoxOf[xb,yb]=255\n",
        "plt.imshow(BoxOf)\n"
      ],
      "execution_count": 34,
      "outputs": [
        {
          "output_type": "execute_result",
          "data": {
            "text/plain": [
              "<matplotlib.image.AxesImage at 0x7f021571bba8>"
            ]
          },
          "metadata": {
            "tags": []
          },
          "execution_count": 34
        },
        {
          "output_type": "display_data",
          "data": {
            "image/png": "[encoded data removed]",
            "text/plain": [
              "<Figure size 432x288 with 1 Axes>"
            ]
          },
          "metadata": {
            "tags": [],
            "needs_background": "light"
          }
        }
      ]
    }
  ]
}