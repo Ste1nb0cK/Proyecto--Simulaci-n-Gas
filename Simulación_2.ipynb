{
  "nbformat": 4,
  "nbformat_minor": 0,
  "metadata": {
    "colab": {
      "name": "Simulación 2",
      "provenance": [],
      "collapsed_sections": [],
      "authorship_tag": "ABX9TyNPjYBYRpyHRDj5+BtXe272",
      "include_colab_link": true
    },
    "kernelspec": {
      "name": "python3",
      "display_name": "Python 3"
    }
  },
  "cells": [
    {
      "cell_type": "markdown",
      "metadata": {
        "id": "view-in-github",
        "colab_type": "text"
      },
      "source": [
        "<a href=\"https://colab.research.google.com/github/Ste1nb0cK/Proyecto--Simulaci-n-Gas/blob/main/Simulaci%C3%B3n_2.ipynb\" target=\"_parent\"><img src=\"https://colab.research.google.com/assets/colab-badge.svg\" alt=\"Open In Colab\"/></a>"
      ]
    },
    {
      "cell_type": "code",
      "metadata": {
        "id": "NOgARdGSeI82"
      },
      "source": [
        "%load_ext Cython\n",
        "from numpy import linalg\n",
        "import numpy as np\n",
        "import random\n",
        "import matplotlib.pyplot as plt"
      ],
      "execution_count": 2,
      "outputs": []
    },
    {
      "cell_type": "code",
      "metadata": {
        "id": "8HCrKeTQeT5H"
      },
      "source": [
        "%%cython\n",
        "import numpy as np\n",
        "\n",
        "class Particula:#En esta clase definimos los métodos fundamentales que debe seguir cada partícula\n",
        "\n",
        "    def __init__(self, (float,float) posicion, (float,float) velocidad, float masa, float radio): \n",
        "       \"\"\"comenzamos definiendo el método que debe \n",
        "        inicializar la clase, en este definimos los atributos básicos de la clase partícula\n",
        "        las entradas masa y radio son de tipo float y las entradas de posición son tuplas conformadas por floats\"\"\"  \n",
        "       self.radio=radio  \n",
        "       self.masa=masa \n",
        "       \n",
        "       self.posicion=np.array(posicion)   #Estas variables son arrays de numpy, y las trataremos como vectores\n",
        "       self.velocidad=np.array(velocidad)\n",
        "       self.velocidad_mag=np.linalg.norm(self.velocidad)#Este atributo no es otra cosa que la magnitud del vector velocidad\n",
        "     \n",
        "       \"\"\"Creamos tres listas con los vectores posición y velocidad y velocidad_mag, posteriormente las usaremos\n",
        "       para generar una lista con todos los valores que ha tenido la velocidad y posición\"\"\"\n",
        "       \n",
        "       self.velocidad_n=[self.velocidad]    ##Velocidad_n y posición_n son listas de vectores que contienen las listas correspondiente a\n",
        "       self.posicion_n=[self.posicion]      ##todos los valores de estos vectores\n",
        "       self.velocidad_mag_n=[self.velocidad_mag]\n",
        "     \n",
        "  ##########################################################################\n",
        "    def paso_dt(self,float dt):   #Falta definir el valor que va a tomar dt  \n",
        "       \"\"\"Este método lo que hace es avanzar en el tiempo, cambia la posición de la partícula y agrega a las listas\n",
        "       una actualización tanto de la posición de la partícula como la velocidad de la misma\"\"\"\n",
        "      \n",
        "       self.posicion=self.posicion + self.velocidad*dt  \n",
        "       self.posicion_n.append(self.posicion) #Se añaden \n",
        "       self.velocidad_n.append(self.velocidad)\n",
        "       self.velocidad_mag_n.append(self.velocidad_mag)\n",
        " ###############################################################################################\n",
        "    def ver_colision_pp(self,otra_p):\n",
        "       \"\"\"Este método verifica si se dio luegar a una colisión entre dos partículas, las entradas\n",
        "      son dos partículas, se definen sus radios y posiciones y se plantea una condición que indica \n",
        "      si las partículas chocaron\"\"\"\n",
        "       cdef float r1=self.radio\n",
        "       cdef float r2=otra_p.radio\n",
        "       p1=self.posicion\n",
        "       p2=otra_p.posicion\n",
        "       cdef float sep=np.linalg.norm(p1-p2)#Norma del vector separación de ambas partículas.\n",
        "       if sep-(r1+r2)*1.1<=0:#Si la separación es menor o igual a la suma de sus radios, entonces las partículas están en contacto y por lo tanto chocaron.\n",
        "         return True\n",
        "       else:\n",
        "         return False\n",
        "######################################################################################################\n",
        "    def ver_colision_esquina(self, float Lx, float Ly):\n",
        "       \"Revisa si hay colisión con una esquina, Lx y Ly son las dimensiones horizontal y vertical de la caja respectivamente\"\n",
        "       extremo_izquierdo = self.posicion[0] - self.radio #da la posición del extremo izquido de la partícula\n",
        "       extremo_inferior = self.posicion[1] - self.radio  #da la posición del extremo inferior de la partícula\n",
        "       extremo_derecho  = self.posicion[0] + self.radio  #da la posición del extremo derech0 de la partícula\n",
        "       extremo_superior = self.posicion[1] + self.radio  #da la posición del extremo superior de la partícula\n",
        "       #Ahora construimos las variables donde se va a almacenar el hecho de chocar contra una esquina o no\n",
        "       cdef bint choque_00 = extremo_izquierdo >0 and extremo_inferior> 0   #Esto corresponde a no chocar con la esquina (0,0)\n",
        "       cdef bint choque_Lx0 = extremo_derecho <Lx and extremo_inferior > 0 #Esto corresponde a no chocar con la esquina (Lx,0)\n",
        "       cdef bint choque_LxLy =  extremo_derecho <Lx and extremo_superior <Ly  #Esto corresponde a no chocar con la esquina (Lx,Ly)\n",
        "       cdef bint choque_0Ly = extremo_izquierdo > 0 and extremo_superior <Ly  #Esto corresponde a chocar con la esquina (0,Ly)\n",
        "       if not choque_00 or not choque_Lx0 or not choque_LxLy or not choque_0Ly:\n",
        "         return  True \n",
        "       else:\n",
        "         return False\n",
        "       \n",
        "        \n",
        "#####################################################################################################\n",
        "    def ver_colision_muro(self, float Lx, float Ly):\n",
        "        \"\"\"Este método revisa si la partícula ha chocado contra un muro.\"\"\"\n",
        "        \"\"\"La condición ve que si la posición en \"x\" es diferente 0 o la longitud horizontal (Lx) de la caja y adicionalmente\n",
        "     #  si la posición en \"y\" es diferente de 0 o la longitud vertical (Ly) entonces la partícula no está chocando contra un muro\"\"\"\n",
        "        cdef bint choque_pared_derecha =  self.posicion[0] + self.radio <Lx   \n",
        "        cdef bint choque_pared_izquierda = self.posicion[0] - self.radio>0\n",
        "        #las condiciones corresponden a no chocar con esas paredes\n",
        "        cdef bint choque_pared_superior = self.posicion[1] + self.radio <Ly \n",
        "        cdef bint choque_pared_inferior = self.posicion[1] - self.radio >0\n",
        "        if choque_pared_derecha and choque_pared_izquierda and choque_pared_superior and choque_pared_inferior :\n",
        "          return False\n",
        "        else:\n",
        "          return True \n",
        "        \n",
        "######################################################################################################\n",
        "    def resolver_colision_particula(self,otra_p):\n",
        "      \"\"\"Método que actualiza las velocidades de dos partículas después de chocar\n",
        "       Definimos las magnitudes a usar para resolver el choque\"\"\"\n",
        "      M1=self.masa\n",
        "      M2=otra_p.masa\n",
        "      p1=self.posicion\n",
        "      p2=otra_p.posicion\n",
        "      V1=self.velocidad\n",
        "      V2=otra_p.velocidad\n",
        "      cdef bint choque=self.ver_colision_pp\n",
        "      if choque:\n",
        "        self.velocidad= self.velocidad-((2*M2)/(M1+M2))*(np.dot(p1-p2,V1-V2)/(np.linalg.norm(p1-p2)**2))*(p1-p2)#Se resuleven los choques tal cual el modelo bidimensional que se tiene\n",
        "        otra_p.velocidad= otra_p.velocidad-((2*M1)/(M1+M2))*(np.dot(p2-p1,V2-V1)/(np.linalg.norm(p2-p1)**2))*(p2-p1)\n",
        "  \n",
        "###############################################################################################################\n",
        "    def resolver_colision_muro(self,float Lx,float Ly): \n",
        "        \"\"\"#Método que actualiza la velocidad después de que una partícula choca con un muro. Recibe la\n",
        "        partícula y las dimensiones de la caja\"\"\"\n",
        "        cdef bint choque_pared_derecha =  self.posicion[0] + self.radio <Lx   \n",
        "        cdef bint choque_pared_izquierda = self.posicion[0] - self.radio>0\n",
        "        #las condiciones corresponden a no chocar con esas paredes\n",
        "        cdef bint choque_pared_superior = self.posicion[1] + self.radio <Ly \n",
        "        cdef bint choque_pared_inferior = self.posicion[1] - self.radio >0\n",
        "        #Ahora miramos cual fue la pared con que se chocó e invertimos la coordenada teniendo en cuenta eso\n",
        "        if not choque_pared_derecha or not choque_pared_izquierda:\n",
        "            self.velocidad[0] = -1* self.velocidad[0]\n",
        "        elif not choque_pared_superior or not choque_pared_inferior:\n",
        "            self.velocidad[1] = -1* self.velocidad[1]\n",
        "       \n",
        "    def resolver_colision_esquina(self):\n",
        "        \"\"\"Método que actualiza la velocidad después de que una partícula choca con una esquina\"\"\"\n",
        "        self.velocidad = -1* self.velocidad #se invierte todo el vector\n",
        "            \n",
        "        "
      ],
      "execution_count": 3,
      "outputs": []
    },
    {
      "cell_type": "code",
      "metadata": {
        "id": "ECHl9DBFee-M"
      },
      "source": [
        "#Prototipo de la función final, recibe las dimensiones de la caja, el rango de velocidades inciales, el número\n",
        "# de partículas, el radio y la masa\n",
        "#Si algo podemos establecer por defecto que las masas y los radios sean los mismos por defecto o cómo quieran\n",
        "\n",
        "\n",
        "######Función que generá las partículas con datos aleatorios\n",
        "def funcion_simuladora(lx,ly,v1,v2,m,r,n):\n",
        "#Por el momento se crea un arreglo vacío de enteros para las posiciones iniciales\n",
        "  posiciones=np.zeros((n,2))\n",
        "  \n",
        "  for i in range(n):\n",
        "    #Se llena el arreglo con números aleatorios dentro de la caja pero evitando que aparezcan en las esquinas\n",
        "    posiciones[i][0]=np.random.uniform(10,lx-10)\n",
        "    posiciones[i][1]=np.random.uniform(10,ly-10)\n",
        "  #Se convierte el arreglo en una lista\n",
        "  posiciones_lista=list(posiciones)\n",
        "  #Las velocidades se crean normalmente con velocidades aleatorias dentro del rango establecido, el intervalo (v1,v2)\n",
        "  velocidades_lista=list(np.random.uniform(v1,v2,(n,2)))\n",
        "  #Ahora creamos una lista vacía donde irán objetos de la clase partícula\n",
        "  lista_de_particulas=[]\n",
        "  #Llenamos la lista con partículas que tendrán posiciones provenientes de posiciones_lista y velocidades_lista. \n",
        "  #Las masas y radios son los determinados al activar la función.\n",
        "  for j in range(n):\n",
        "    Pn=Particula(tuple(posiciones_lista[j]),tuple(velocidades_lista[j]),m,r)\n",
        "    lista_de_particulas.append(Pn)\n",
        "  \n",
        "  \n",
        "  #Ahora queremeos hacer que si las partículas se crean superpuestas de alguna manera, eliminamos una y creamos otra nueva\n",
        "  #luego añadimos la nueva partícula a la lista de partículas\n",
        "\n",
        "  for i in range(n):\n",
        "   for p1 in lista_de_particulas:\n",
        "    for p2 in lista_de_particulas:\n",
        "     if p1.ver_colision_pp(p2):\n",
        "       p_nueva=Particula(tuple([(random.uniform(10,lx-10),random.uniform(0,ly-10)) for x in range(1)][0]),\n",
        "       tuple([(random.uniform(v1,v2),random.uniform(v1,v2)) for x in range(1)][0]), m,r)\n",
        "                                                      \n",
        "       lista_de_particulas.pop(i)\n",
        "       lista_de_particulas.append(p_nueva)\n",
        "  #Nos retorna la lista con las partículas creadas, acá le puse que me devolviera solo la primera para demostrar funcionalidad\n",
        "\n",
        "  return lista_de_particulas\n"
      ],
      "execution_count": 4,
      "outputs": []
    },
    {
      "cell_type": "markdown",
      "metadata": {
        "id": "AsC3DYo-EGxQ"
      },
      "source": [
        "Simulación de 10 partículas es una caja de 100x100"
      ]
    },
    {
      "cell_type": "code",
      "metadata": {
        "colab": {
          "base_uri": "https://localhost:8080/",
          "height": 455
        },
        "id": "TFVmA8ZGeiKU",
        "outputId": "086ea4f3-a3e6-4db0-c800-6984b9ad92b9"
      },
      "source": [
        "\n",
        "L=funcion_simuladora(100,100,0,100,1,1,10)#Genero 10 partículas\n",
        "for n in L:#Comenzamos a iterar sobre la lista de partículas\n",
        "  for j in range(15):\n",
        "   \n",
        "   n.paso_dt(0.1)\n",
        "   if n.ver_colision_esquina(100,100):#vemos si colisionan o no con una esquina, si colisionan se resuelve la colisión\n",
        "     n.resolver_colision_esquina\n",
        "     #print(\"chcocó esquina\")\n",
        "   if n.ver_colision_muro(100,100):#vemos si colisionan o no con un muro, si colisionan se resuelve la colisión\n",
        "     n.resolver_colision_muro(100,100)\n",
        "     #print(\"chcocó muro\")\n",
        "   for p2 in L:\n",
        "     if n.ver_colision_pp(p2) and (n.posicion!=p2.posicion).all():#vemos si colisionan o no con un muro, si colisionan se resuelve la colisión\n",
        "       n.resolver_colision_particula(p2)                          #También se ve que la condición no haga resolver el choque de la partícula con ella\n",
        "       #print(\"chocaron\")                                         #misma\n",
        "\n",
        "for n in range(10):#Acá vemos como se guarda cada trayectoria de cada partícula\n",
        " print(L[n].posicion_n)\n",
        "\n",
        "x=[]\n",
        "y=[]\n",
        "for n in L[0].posicion_n:#graficamos la trayectoria de la primera partícula y vemos que los métodos de choque con otra partícula y con las paredes\n",
        "  x.append(n[0])         #y esquinas funcionan.\n",
        "  y.append(n[1])\n",
        "plt.plot(x,y)\n",
        "plt.show()\n",
        "#plt.xlim((0,1000))\n",
        "#plt.ylim((0,1000))\n",
        "#En la parte de abajo del plot se ve que hay un cambio en la trayectoria, eso es porque la partícula chocó con otra"
      ],
      "execution_count": 11,
      "outputs": [
        {
          "output_type": "stream",
          "text": [
            "[array([59.90028763, 65.92622375]), array([60.37067481, 68.34110302]), array([60.84106199, 70.75598228]), array([63.9538429 , 73.82489309]), array([67.06662382, 76.8938039 ]), array([70.17940474, 79.9627147 ]), array([73.29218565, 83.03162551]), array([76.40496657, 86.10053632]), array([79.51774749, 89.16944713]), array([82.6305284 , 92.23835794]), array([85.74330932, 95.30726875]), array([88.85609023, 98.37617955]), array([ 91.96887115, 101.44509036]), array([95.08165207, 98.37617955]), array([98.19443298, 95.30726875]), array([101.3072139 ,  92.23835794])]\n",
            "[array([87.42646027, 59.05829239]), array([95.56018079, 64.56320847]), array([103.6939013 ,  70.06812455]), array([95.56018079, 75.57304064]), array([87.42646027, 81.07795672]), array([79.29273975, 86.5828728 ]), array([71.15901923, 92.08778888]), array([63.02529871, 97.59270497]), array([ 54.89157819, 103.09762105]), array([46.75785767, 97.59270497]), array([38.62413715, 92.08778888]), array([30.49041663, 86.5828728 ]), array([22.35669611, 81.07795672]), array([14.22297559, 75.57304064]), array([ 6.08925507, 70.06812455]), array([-2.04446544, 64.56320847])]\n",
            "[array([24.2912674 , 17.62792587]), array([26.47402576, 18.60497934]), array([28.65678412, 19.5820328 ]), array([30.83954249, 20.55908627]), array([33.02230085, 21.53613974]), array([35.20505921, 22.5131932 ]), array([37.38781758, 23.49024667]), array([39.57057594, 24.46730014]), array([41.75333431, 25.4443536 ]), array([43.93609267, 26.42140707]), array([46.11885103, 27.39846053]), array([48.3016094, 28.375514 ]), array([50.48436776, 29.35256747]), array([52.66712612, 30.32962093]), array([54.84988449, 31.3066744 ]), array([57.03264285, 32.28372786])]\n",
            "[array([53.2988739 , 36.67913437]), array([60.79087841, 39.69944176]), array([68.28288291, 42.71974916]), array([75.77488742, 45.74005655]), array([83.26689193, 48.76036395]), array([90.75889643, 51.78067134]), array([98.25090094, 54.80097874]), array([105.74290544,  57.82128614]), array([98.25090094, 60.84159353]), array([90.75889643, 63.86190093]), array([83.26689193, 66.88220832]), array([75.77488742, 69.90251572]), array([68.28288291, 72.92282311]), array([60.79087841, 75.94313051]), array([53.2988739, 78.9634379]), array([45.8068694, 81.9837453])]\n",
            "[array([53.36917114, 12.56669807]), array([58.25712021, 15.05461162]), array([63.14506927, 17.54252517]), array([68.03301833, 20.03043873]), array([72.92096739, 22.51835228]), array([77.80891646, 25.00626583]), array([82.69686552, 27.49417938]), array([86.18848958, 31.52404835]), array([89.68011363, 35.55391732]), array([93.17173769, 39.5837863 ]), array([96.66336175, 43.61365527]), array([100.15498581,  47.64352425]), array([96.66336175, 51.67339322]), array([93.17173769, 55.7032622 ]), array([89.68011363, 59.73313117]), array([86.18848958, 63.76300014])]\n",
            "[array([81.71278381, 28.58089638]), array([88.32441079, 32.62969459]), array([94.93603777, 36.67849281]), array([101.54766475,  40.72729102]), array([94.93603777, 44.77608924]), array([88.32441079, 48.82488745]), array([81.71278381, 52.87368567]), array([75.10115684, 56.92248388]), array([68.48952986, 60.97128209]), array([61.87790288, 65.02008031]), array([55.2662759 , 69.06887852]), array([48.65464892, 73.11767674]), array([42.04302194, 77.16647495]), array([35.43139497, 81.21527317]), array([28.81976799, 85.26407138]), array([22.20814101, 89.3128696 ])]\n",
            "[array([47.20397186, 61.66726303]), array([51.49188086, 63.89418472]), array([55.77978986, 66.1211064 ]), array([60.06769886, 68.34802809]), array([62.89777476, 74.39277254]), array([65.72785065, 80.437517  ]), array([68.55792655, 86.48226145]), array([71.38800245, 92.5270059 ]), array([74.21807834, 98.57175035]), array([ 77.04815424, 104.61649481]), array([79.87823014, 98.57175035]), array([82.70830603, 92.5270059 ]), array([85.53838193, 86.48226145]), array([88.36845782, 80.437517  ]), array([91.19853372, 74.39277254]), array([94.02860962, 68.34802809])]\n",
            "[array([73.70554352, 43.10131454]), array([82.77721037, 48.47501267]), array([91.84887722, 53.84871079]), array([100.92054408,  59.22240892]), array([91.84887722, 64.59610704]), array([82.77721037, 69.96980516]), array([73.70554352, 75.34350329]), array([64.63387667, 80.71720141]), array([55.56220981, 86.09089954]), array([46.49054296, 91.46459766]), array([37.41887611, 96.83829578]), array([ 28.34720925, 102.21199391]), array([19.2755424 , 96.83829578]), array([10.20387555, 91.46459766]), array([ 1.1322087 , 86.09089954]), array([-7.93945816, 80.71720141])]\n",
            "[array([23.51862907, 89.40213776]), array([16.87698441, 93.89160624]), array([10.23533974, 98.38107471]), array([  3.59369507, 102.87054319]), array([-3.04794959, 98.38107471]), array([ 3.59369507, 93.89160624]), array([10.23533974, 89.40213776]), array([16.87698441, 84.91266928]), array([23.51862907, 80.4232008 ]), array([30.16027374, 75.93373232]), array([36.80191841, 71.44426384]), array([43.44356308, 66.95479536]), array([50.08520774, 62.46532688]), array([56.72685241, 57.9758584 ]), array([63.36849708, 53.48638992]), array([70.01014174, 48.99692144])]\n",
            "[array([59.29440308, 70.37316132]), array([60.60552424, 71.46339853]), array([61.91664541, 72.55363575]), array([63.22776658, 73.64387297]), array([64.53888774, 74.73411019]), array([65.85000891, 75.8243474 ]), array([67.16113007, 76.91458462]), array([68.47225124, 78.00482184]), array([69.78337241, 79.09505906]), array([71.09449357, 80.18529628]), array([72.40561474, 81.27553349]), array([73.71673591, 82.36577071]), array([75.02785707, 83.45600793]), array([76.33897824, 84.54624515]), array([77.65009941, 85.63648236]), array([78.96122057, 86.72671958])]\n"
          ],
          "name": "stdout"
        },
        {
          "output_type": "display_data",
          "data": {
            "image/png": "[encoded data removed]",
            "text/plain": [
              "<Figure size 432x288 with 1 Axes>"
            ]
          },
          "metadata": {
            "tags": [],
            "needs_background": "light"
          }
        }
      ]
    },
    {
      "cell_type": "markdown",
      "metadata": {
        "id": "X1zJwq6zI8xU"
      },
      "source": [
        "FUNCION DEFINITIVA"
      ]
    },
    {
      "cell_type": "code",
      "metadata": {
        "id": "EYGob9FyF6Gl"
      },
      "source": [
        "def funcion_simuladora_definitiva(lx,ly,v1,v2,m,r,n,dt,pasos):#El proceso anterior lo generalizamos en una función\n",
        "  L=funcion_simuladora(lx,ly,v1,v2,m,r,n)\n",
        "  for N in L:\n",
        "    for i in range(pasos):\n",
        "      N.paso_dt(dt)\n",
        "      if N.ver_colision_esquina(lx,ly):\n",
        "        N.resolver_colision_esquina\n",
        "      if N.ver_colision_muro(lx,ly):\n",
        "        N.resolver_colision_muro(lx,ly)\n",
        "      for P in L:\n",
        "        if N.ver_colision_pp(P) and (N.posicion!=P.posicion).all():\n",
        "          N.resolver_colision_particula(P)\n",
        "  return L\n",
        "      "
      ],
      "execution_count": 12,
      "outputs": []
    },
    {
      "cell_type": "markdown",
      "metadata": {
        "id": "kkT45u2dJQGD"
      },
      "source": [
        "PRUEBA DE LA FUNCIÓN DEFINITIVA: Algo a tener en cuenta es que a la hora de extraer la información de las velcidades y posiciones a lo largo del tiempo, sí es útil que cada partícula tenga esa información, el código de la simulación no está tardando una cantidad exagerada de tiempo y me parece que es más facil manipular las cosas así.\n"
      ]
    },
    {
      "cell_type": "code",
      "metadata": {
        "colab": {
          "base_uri": "https://localhost:8080/"
        },
        "id": "mpePenUtIVuB",
        "outputId": "3705b9c6-905e-4ef6-dd0d-c257bf763877"
      },
      "source": [
        "A=funcion_simuladora_definitiva(100,100,0,100,1,1,10,0.01,15)\n",
        "print(A[0].posicion_n)\n",
        "print(A)"
      ],
      "execution_count": 13,
      "outputs": [
        {
          "output_type": "stream",
          "text": [
            "[array([85.85697937, 59.75247574]), array([86.72639517, 60.74763479]), array([87.59581097, 61.74279384]), array([88.46522676, 62.73795289]), array([89.33464256, 63.73311194]), array([90.20405836, 64.72827099]), array([91.07347416, 65.72343004]), array([91.94288995, 66.71858909]), array([92.81230575, 67.71374814]), array([93.68172155, 68.70890719]), array([94.55113735, 69.70406624]), array([95.42055315, 70.6992253 ]), array([96.28996894, 71.69438435]), array([97.15938474, 72.6895434 ]), array([98.02880054, 73.68470245]), array([98.89821634, 74.6798615 ])]\n",
            "[<_cython_magic_23919ec3535f64540f628291a417670d.Particula object at 0x7f29b16ce898>, <_cython_magic_23919ec3535f64540f628291a417670d.Particula object at 0x7f29b16ce6a0>, <_cython_magic_23919ec3535f64540f628291a417670d.Particula object at 0x7f29b16c97f0>, <_cython_magic_23919ec3535f64540f628291a417670d.Particula object at 0x7f29b16c9cc0>, <_cython_magic_23919ec3535f64540f628291a417670d.Particula object at 0x7f29b16ce390>, <_cython_magic_23919ec3535f64540f628291a417670d.Particula object at 0x7f29b16ce6d8>, <_cython_magic_23919ec3535f64540f628291a417670d.Particula object at 0x7f29b16ceba8>, <_cython_magic_23919ec3535f64540f628291a417670d.Particula object at 0x7f29b16c9b00>, <_cython_magic_23919ec3535f64540f628291a417670d.Particula object at 0x7f29b16ce860>, <_cython_magic_23919ec3535f64540f628291a417670d.Particula object at 0x7f29b16c9f98>]\n"
          ],
          "name": "stdout"
        }
      ]
    },
    {
      "cell_type": "markdown",
      "metadata": {
        "id": "KtKvtPqvzbvL"
      },
      "source": [
        "DATOS PARA PATER"
      ]
    },
    {
      "cell_type": "code",
      "metadata": {
        "id": "hldgpIqxzZV4"
      },
      "source": [
        "A=funcion_simuladora_definitiva(100,100,0,100,1,1,30,0.01,50)\n",
        "print(A)\n",
        "L=[]#Esta lista está formada por 30 sublistas que tienen el recorrido de la partículas, por alguna razón no me dejó separar esas sublistas\n",
        "     #En una tupla de listas para x e y pero esto es lo que se tiene, si Pater puede mirar la forma de correrlo así le agradezco\n",
        "for n in A:\n",
        "  L.append(n.posicion_n)\n",
        "print(L)"
      ],
      "execution_count": null,
      "outputs": []
    },
    {
      "cell_type": "markdown",
      "metadata": {
        "id": "3KU2IyvX0XJd"
      },
      "source": [
        "PRUEBA PARA MUCHAS PARTÍCULAS"
      ]
    },
    {
      "cell_type": "code",
      "metadata": {
        "colab": {
          "base_uri": "https://localhost:8080/"
        },
        "id": "8H0R4WpRJigT",
        "outputId": "834d3077-73f5-4e52-ed34-24c5b8a346b1"
      },
      "source": [
        "funcion_simuladora_definitiva(1000,1000,0,100,1,1,150,0.01,1500)#se demora entre 5 y 10 minutos (1500 pasos, con 150 partículas)"
      ],
      "execution_count": null,
      "outputs": [
        {
          "output_type": "execute_result",
          "data": {
            "text/plain": [
              "[<_cython_magic_23919ec3535f64540f628291a417670d.Particula at 0x7fdbc1af30f0>,\n",
              " <_cython_magic_23919ec3535f64540f628291a417670d.Particula at 0x7fdbc1af3a20>,\n",
              " <_cython_magic_23919ec3535f64540f628291a417670d.Particula at 0x7fdbc33acbe0>,\n",
              " <_cython_magic_23919ec3535f64540f628291a417670d.Particula at 0x7fdbc33ac668>,\n",
              " <_cython_magic_23919ec3535f64540f628291a417670d.Particula at 0x7fdbc1af3a58>,\n",
              " <_cython_magic_23919ec3535f64540f628291a417670d.Particula at 0x7fdbc33ac2b0>,\n",
              " <_cython_magic_23919ec3535f64540f628291a417670d.Particula at 0x7fdbc33ac780>,\n",
              " <_cython_magic_23919ec3535f64540f628291a417670d.Particula at 0x7fdbc33aca20>,\n",
              " <_cython_magic_23919ec3535f64540f628291a417670d.Particula at 0x7fdbc33ac198>,\n",
              " <_cython_magic_23919ec3535f64540f628291a417670d.Particula at 0x7fdbc33ac0f0>,\n",
              " <_cython_magic_23919ec3535f64540f628291a417670d.Particula at 0x7fdbc33ac7b8>,\n",
              " <_cython_magic_23919ec3535f64540f628291a417670d.Particula at 0x7fdbc338fc88>,\n",
              " <_cython_magic_23919ec3535f64540f628291a417670d.Particula at 0x7fdbc338fc18>,\n",
              " <_cython_magic_23919ec3535f64540f628291a417670d.Particula at 0x7fdbc338fc50>,\n",
              " <_cython_magic_23919ec3535f64540f628291a417670d.Particula at 0x7fdbc338fba8>,\n",
              " <_cython_magic_23919ec3535f64540f628291a417670d.Particula at 0x7fdbc338f898>,\n",
              " <_cython_magic_23919ec3535f64540f628291a417670d.Particula at 0x7fdbc1af3898>,\n",
              " <_cython_magic_23919ec3535f64540f628291a417670d.Particula at 0x7fdbc33acb00>,\n",
              " <_cython_magic_23919ec3535f64540f628291a417670d.Particula at 0x7fdbc33ac5c0>,\n",
              " <_cython_magic_23919ec3535f64540f628291a417670d.Particula at 0x7fdbc33ac898>,\n",
              " <_cython_magic_23919ec3535f64540f628291a417670d.Particula at 0x7fdbc338ff98>,\n",
              " <_cython_magic_23919ec3535f64540f628291a417670d.Particula at 0x7fdbc338f320>,\n",
              " <_cython_magic_23919ec3535f64540f628291a417670d.Particula at 0x7fdbc338f748>,\n",
              " <_cython_magic_23919ec3535f64540f628291a417670d.Particula at 0x7fdbc33ac7f0>,\n",
              " <_cython_magic_23919ec3535f64540f628291a417670d.Particula at 0x7fdbc33aca90>,\n",
              " <_cython_magic_23919ec3535f64540f628291a417670d.Particula at 0x7fdbc33ac358>,\n",
              " <_cython_magic_23919ec3535f64540f628291a417670d.Particula at 0x7fdbc33ac160>,\n",
              " <_cython_magic_23919ec3535f64540f628291a417670d.Particula at 0x7fdbc338f3c8>,\n",
              " <_cython_magic_23919ec3535f64540f628291a417670d.Particula at 0x7fdbc338f9e8>,\n",
              " <_cython_magic_23919ec3535f64540f628291a417670d.Particula at 0x7fdbc338f978>,\n",
              " <_cython_magic_23919ec3535f64540f628291a417670d.Particula at 0x7fdbc338f2b0>,\n",
              " <_cython_magic_23919ec3535f64540f628291a417670d.Particula at 0x7fdbc338f710>,\n",
              " <_cython_magic_23919ec3535f64540f628291a417670d.Particula at 0x7fdbc33acd30>,\n",
              " <_cython_magic_23919ec3535f64540f628291a417670d.Particula at 0x7fdbc33ac400>,\n",
              " <_cython_magic_23919ec3535f64540f628291a417670d.Particula at 0x7fdbc338f630>,\n",
              " <_cython_magic_23919ec3535f64540f628291a417670d.Particula at 0x7fdbc1af36a0>,\n",
              " <_cython_magic_23919ec3535f64540f628291a417670d.Particula at 0x7fdbc33ac048>,\n",
              " <_cython_magic_23919ec3535f64540f628291a417670d.Particula at 0x7fdbc338fac8>,\n",
              " <_cython_magic_23919ec3535f64540f628291a417670d.Particula at 0x7fdbc338fe48>,\n",
              " <_cython_magic_23919ec3535f64540f628291a417670d.Particula at 0x7fdbc33ac208>,\n",
              " <_cython_magic_23919ec3535f64540f628291a417670d.Particula at 0x7fdbc338fb70>,\n",
              " <_cython_magic_23919ec3535f64540f628291a417670d.Particula at 0x7fdbc1af3c50>,\n",
              " <_cython_magic_23919ec3535f64540f628291a417670d.Particula at 0x7fdbc33accf8>,\n",
              " <_cython_magic_23919ec3535f64540f628291a417670d.Particula at 0x7fdbc338f588>,\n",
              " <_cython_magic_23919ec3535f64540f628291a417670d.Particula at 0x7fdbc33ac4a8>,\n",
              " <_cython_magic_23919ec3535f64540f628291a417670d.Particula at 0x7fdbc33ac0b8>,\n",
              " <_cython_magic_23919ec3535f64540f628291a417670d.Particula at 0x7fdbc338fef0>,\n",
              " <_cython_magic_23919ec3535f64540f628291a417670d.Particula at 0x7fdbc33acc88>,\n",
              " <_cython_magic_23919ec3535f64540f628291a417670d.Particula at 0x7fdbc1af3748>,\n",
              " <_cython_magic_23919ec3535f64540f628291a417670d.Particula at 0x7fdbc338f4e0>,\n",
              " <_cython_magic_23919ec3535f64540f628291a417670d.Particula at 0x7fdbc1af3320>,\n",
              " <_cython_magic_23919ec3535f64540f628291a417670d.Particula at 0x7fdbc338f6a0>,\n",
              " <_cython_magic_23919ec3535f64540f628291a417670d.Particula at 0x7fdbc1af37f0>,\n",
              " <_cython_magic_23919ec3535f64540f628291a417670d.Particula at 0x7fdbc338f9b0>,\n",
              " <_cython_magic_23919ec3535f64540f628291a417670d.Particula at 0x7fdbc338f390>,\n",
              " <_cython_magic_23919ec3535f64540f628291a417670d.Particula at 0x7fdbc338f048>,\n",
              " <_cython_magic_23919ec3535f64540f628291a417670d.Particula at 0x7fdbc33acd68>,\n",
              " <_cython_magic_23919ec3535f64540f628291a417670d.Particula at 0x7fdbc338fe80>,\n",
              " <_cython_magic_23919ec3535f64540f628291a417670d.Particula at 0x7fdbc338fb00>,\n",
              " <_cython_magic_23919ec3535f64540f628291a417670d.Particula at 0x7fdbc33ac5f8>,\n",
              " <_cython_magic_23919ec3535f64540f628291a417670d.Particula at 0x7fdbc338fa90>,\n",
              " <_cython_magic_23919ec3535f64540f628291a417670d.Particula at 0x7fdbc338f240>,\n",
              " <_cython_magic_23919ec3535f64540f628291a417670d.Particula at 0x7fdbc33acb70>,\n",
              " <_cython_magic_23919ec3535f64540f628291a417670d.Particula at 0x7fdbc33acdd8>,\n",
              " <_cython_magic_23919ec3535f64540f628291a417670d.Particula at 0x7fdbc338fbe0>,\n",
              " <_cython_magic_23919ec3535f64540f628291a417670d.Particula at 0x7fdbc338fdd8>,\n",
              " <_cython_magic_23919ec3535f64540f628291a417670d.Particula at 0x7fdbc338f278>,\n",
              " <_cython_magic_23919ec3535f64540f628291a417670d.Particula at 0x7fdbc1af33c8>,\n",
              " <_cython_magic_23919ec3535f64540f628291a417670d.Particula at 0x7fdbc338f7f0>,\n",
              " <_cython_magic_23919ec3535f64540f628291a417670d.Particula at 0x7fdbc33ac828>,\n",
              " <_cython_magic_23919ec3535f64540f628291a417670d.Particula at 0x7fdbc338fcc0>,\n",
              " <_cython_magic_23919ec3535f64540f628291a417670d.Particula at 0x7fdbc33ac9e8>,\n",
              " <_cython_magic_23919ec3535f64540f628291a417670d.Particula at 0x7fdbc338f780>,\n",
              " <_cython_magic_23919ec3535f64540f628291a417670d.Particula at 0x7fdbc33acda0>,\n",
              " <_cython_magic_23919ec3535f64540f628291a417670d.Particula at 0x7fdbc33ace80>,\n",
              " <_cython_magic_23919ec3535f64540f628291a417670d.Particula at 0x7fdbc33ac748>,\n",
              " <_cython_magic_23919ec3535f64540f628291a417670d.Particula at 0x7fdbc33aceb8>,\n",
              " <_cython_magic_23919ec3535f64540f628291a417670d.Particula at 0x7fdbc338f0b8>,\n",
              " <_cython_magic_23919ec3535f64540f628291a417670d.Particula at 0x7fdbc33acef0>,\n",
              " <_cython_magic_23919ec3535f64540f628291a417670d.Particula at 0x7fdbc338f4a8>,\n",
              " <_cython_magic_23919ec3535f64540f628291a417670d.Particula at 0x7fdbc33ac518>,\n",
              " <_cython_magic_23919ec3535f64540f628291a417670d.Particula at 0x7fdbc338fda0>,\n",
              " <_cython_magic_23919ec3535f64540f628291a417670d.Particula at 0x7fdbc338f518>,\n",
              " <_cython_magic_23919ec3535f64540f628291a417670d.Particula at 0x7fdbc1af3518>,\n",
              " <_cython_magic_23919ec3535f64540f628291a417670d.Particula at 0x7fdbc33acac8>,\n",
              " <_cython_magic_23919ec3535f64540f628291a417670d.Particula at 0x7fdbc338f438>,\n",
              " <_cython_magic_23919ec3535f64540f628291a417670d.Particula at 0x7fdbc338f940>,\n",
              " <_cython_magic_23919ec3535f64540f628291a417670d.Particula at 0x7fdbc33ace48>,\n",
              " <_cython_magic_23919ec3535f64540f628291a417670d.Particula at 0x7fdbc338f828>,\n",
              " <_cython_magic_23919ec3535f64540f628291a417670d.Particula at 0x7fdbc338f2e8>,\n",
              " <_cython_magic_23919ec3535f64540f628291a417670d.Particula at 0x7fdbc33ac940>,\n",
              " <_cython_magic_23919ec3535f64540f628291a417670d.Particula at 0x7fdbc338f5c0>,\n",
              " <_cython_magic_23919ec3535f64540f628291a417670d.Particula at 0x7fdbc338fa20>,\n",
              " <_cython_magic_23919ec3535f64540f628291a417670d.Particula at 0x7fdbc338fd30>,\n",
              " <_cython_magic_23919ec3535f64540f628291a417670d.Particula at 0x7fdbc338feb8>,\n",
              " <_cython_magic_23919ec3535f64540f628291a417670d.Particula at 0x7fdbc33ac9b0>,\n",
              " <_cython_magic_23919ec3535f64540f628291a417670d.Particula at 0x7fdbc33ac128>,\n",
              " <_cython_magic_23919ec3535f64540f628291a417670d.Particula at 0x7fdbc33acf98>,\n",
              " <_cython_magic_23919ec3535f64540f628291a417670d.Particula at 0x7fdbc338fb38>,\n",
              " <_cython_magic_23919ec3535f64540f628291a417670d.Particula at 0x7fdbc33ac860>,\n",
              " <_cython_magic_23919ec3535f64540f628291a417670d.Particula at 0x7fdbc338f550>,\n",
              " <_cython_magic_23919ec3535f64540f628291a417670d.Particula at 0x7fdbc33ac320>,\n",
              " <_cython_magic_23919ec3535f64540f628291a417670d.Particula at 0x7fdbc33acba8>,\n",
              " <_cython_magic_23919ec3535f64540f628291a417670d.Particula at 0x7fdbc1af3ba8>,\n",
              " <_cython_magic_23919ec3535f64540f628291a417670d.Particula at 0x7fdbc338ffd0>,\n",
              " <_cython_magic_23919ec3535f64540f628291a417670d.Particula at 0x7fdbc33ac080>,\n",
              " <_cython_magic_23919ec3535f64540f628291a417670d.Particula at 0x7fdbc338f860>,\n",
              " <_cython_magic_23919ec3535f64540f628291a417670d.Particula at 0x7fdbc33ac2e8>,\n",
              " <_cython_magic_23919ec3535f64540f628291a417670d.Particula at 0x7fdbc338f400>,\n",
              " <_cython_magic_23919ec3535f64540f628291a417670d.Particula at 0x7fdbc338f0f0>,\n",
              " <_cython_magic_23919ec3535f64540f628291a417670d.Particula at 0x7fdbc1af3b38>,\n",
              " <_cython_magic_23919ec3535f64540f628291a417670d.Particula at 0x7fdbc338fd68>,\n",
              " <_cython_magic_23919ec3535f64540f628291a417670d.Particula at 0x7fdbc338f908>,\n",
              " <_cython_magic_23919ec3535f64540f628291a417670d.Particula at 0x7fdbc33acc50>,\n",
              " <_cython_magic_23919ec3535f64540f628291a417670d.Particula at 0x7fdbc338f5f8>,\n",
              " <_cython_magic_23919ec3535f64540f628291a417670d.Particula at 0x7fdbc33ac550>,\n",
              " <_cython_magic_23919ec3535f64540f628291a417670d.Particula at 0x7fdbc33ac588>,\n",
              " <_cython_magic_23919ec3535f64540f628291a417670d.Particula at 0x7fdbc338f470>,\n",
              " <_cython_magic_23919ec3535f64540f628291a417670d.Particula at 0x7fdbc33ac1d0>,\n",
              " <_cython_magic_23919ec3535f64540f628291a417670d.Particula at 0x7fdbc338f208>,\n",
              " <_cython_magic_23919ec3535f64540f628291a417670d.Particula at 0x7fdbc338f128>,\n",
              " <_cython_magic_23919ec3535f64540f628291a417670d.Particula at 0x7fdbc338f8d0>,\n",
              " <_cython_magic_23919ec3535f64540f628291a417670d.Particula at 0x7fdbc1af3940>,\n",
              " <_cython_magic_23919ec3535f64540f628291a417670d.Particula at 0x7fdbc338f198>,\n",
              " <_cython_magic_23919ec3535f64540f628291a417670d.Particula at 0x7fdbc338f1d0>,\n",
              " <_cython_magic_23919ec3535f64540f628291a417670d.Particula at 0x7fdbc33ac470>,\n",
              " <_cython_magic_23919ec3535f64540f628291a417670d.Particula at 0x7fdbc33acfd0>,\n",
              " <_cython_magic_23919ec3535f64540f628291a417670d.Particula at 0x7fdbc1af3be0>,\n",
              " <_cython_magic_23919ec3535f64540f628291a417670d.Particula at 0x7fdbc338ff28>,\n",
              " <_cython_magic_23919ec3535f64540f628291a417670d.Particula at 0x7fdbc33acc18>,\n",
              " <_cython_magic_23919ec3535f64540f628291a417670d.Particula at 0x7fdbc338fa58>,\n",
              " <_cython_magic_23919ec3535f64540f628291a417670d.Particula at 0x7fdbc33ac240>,\n",
              " <_cython_magic_23919ec3535f64540f628291a417670d.Particula at 0x7fdbc1af3978>,\n",
              " <_cython_magic_23919ec3535f64540f628291a417670d.Particula at 0x7fdbc338f668>,\n",
              " <_cython_magic_23919ec3535f64540f628291a417670d.Particula at 0x7fdbc33accc0>,\n",
              " <_cython_magic_23919ec3535f64540f628291a417670d.Particula at 0x7fdbc33ac630>,\n",
              " <_cython_magic_23919ec3535f64540f628291a417670d.Particula at 0x7fdbc33ac8d0>,\n",
              " <_cython_magic_23919ec3535f64540f628291a417670d.Particula at 0x7fdbc33ac6a0>,\n",
              " <_cython_magic_23919ec3535f64540f628291a417670d.Particula at 0x7fdbc33ac4e0>,\n",
              " <_cython_magic_23919ec3535f64540f628291a417670d.Particula at 0x7fdbc33ac710>,\n",
              " <_cython_magic_23919ec3535f64540f628291a417670d.Particula at 0x7fdbc338fe10>,\n",
              " <_cython_magic_23919ec3535f64540f628291a417670d.Particula at 0x7fdbc33ac6d8>,\n",
              " <_cython_magic_23919ec3535f64540f628291a417670d.Particula at 0x7fdbc338f160>,\n",
              " <_cython_magic_23919ec3535f64540f628291a417670d.Particula at 0x7fdbc33acb38>,\n",
              " <_cython_magic_23919ec3535f64540f628291a417670d.Particula at 0x7fdbc338f6d8>,\n",
              " <_cython_magic_23919ec3535f64540f628291a417670d.Particula at 0x7fdbc338ff60>,\n",
              " <_cython_magic_23919ec3535f64540f628291a417670d.Particula at 0x7fdbc338f358>,\n",
              " <_cython_magic_23919ec3535f64540f628291a417670d.Particula at 0x7fdbc1af36d8>,\n",
              " <_cython_magic_23919ec3535f64540f628291a417670d.Particula at 0x7fdbc33ac978>,\n",
              " <_cython_magic_23919ec3535f64540f628291a417670d.Particula at 0x7fdbc338f7b8>]"
            ]
          },
          "metadata": {
            "tags": []
          },
          "execution_count": 206
        }
      ]
    }
  ]
}