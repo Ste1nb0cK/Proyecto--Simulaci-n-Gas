{
  "nbformat": 4,
  "nbformat_minor": 0,
  "metadata": {
    "colab": {
      "name": "Simulación 2",
      "provenance": [],
      "collapsed_sections": [],
      "include_colab_link": true
    },
    "kernelspec": {
      "name": "python3",
      "display_name": "Python 3"
    }
  },
  "cells": [
    {
      "cell_type": "markdown",
      "metadata": {
        "id": "view-in-github",
        "colab_type": "text"
      },
      "source": [
        "<a href=\"https://colab.research.google.com/github/Ste1nb0cK/Proyecto--Simulaci-n-Gas/blob/main/Simulaci%C3%B3n_2.ipynb\" target=\"_parent\"><img src=\"https://colab.research.google.com/assets/colab-badge.svg\" alt=\"Open In Colab\"/></a>"
      ]
    },
    {
      "cell_type": "code",
      "metadata": {
        "id": "NOgARdGSeI82",
        "colab": {
          "base_uri": "https://localhost:8080/"
        },
        "outputId": "a6c8985c-6dd2-43b8-8d46-921f5c9462c9"
      },
      "source": [
        "%load_ext Cython\n",
        "from numpy import linalg\n",
        "import numpy as np\n",
        "import random\n",
        "import matplotlib.pyplot as plt"
      ],
      "execution_count": 2,
      "outputs": [
        {
          "output_type": "stream",
          "text": [
            "The Cython extension is already loaded. To reload it, use:\n",
            "  %reload_ext Cython\n"
          ],
          "name": "stdout"
        }
      ]
    },
    {
      "cell_type": "code",
      "metadata": {
        "id": "8kdgKL-lQmGw"
      },
      "source": [
        "import glob\n",
        "import moviepy.editor as mpy\n",
        "from skimage.draw import *"
      ],
      "execution_count": 38,
      "outputs": []
    },
    {
      "cell_type": "code",
      "metadata": {
        "colab": {
          "base_uri": "https://localhost:8080/"
        },
        "id": "vKXlP9l4Q8Sz",
        "outputId": "dd6a79e0-be82-4876-bba9-ed4cbd991dec"
      },
      "source": [
        "from google.colab import drive\n",
        "drive.mount('/content/drive')"
      ],
      "execution_count": 11,
      "outputs": [
        {
          "output_type": "stream",
          "text": [
            "Mounted at /content/drive\n"
          ],
          "name": "stdout"
        }
      ]
    },
    {
      "cell_type": "code",
      "metadata": {
        "id": "8HCrKeTQeT5H"
      },
      "source": [
        "%%cython\n",
        "import numpy as np\n",
        "\n",
        "class Particula:#En esta clase definimos los métodos fundamentales que debe seguir cada partícula\n",
        "\n",
        "    def __init__(self, (float,float) posicion, (float,float) velocidad, float masa, float radio): \n",
        "       \"\"\"comenzamos definiendo el método que debe \n",
        "        inicializar la clase, en este definimos los atributos básicos de la clase partícula\n",
        "        las entradas masa y radio son de tipo float y las entradas de posición son tuplas conformadas por floats\"\"\"  \n",
        "       self.radio=radio  \n",
        "       self.masa=masa \n",
        "       \n",
        "       self.posicion=np.array(posicion)   #Estas variables son arrays de numpy, y las trataremos como vectores\n",
        "       self.velocidad=np.array(velocidad)\n",
        "       self.velocidad_mag=np.linalg.norm(self.velocidad)#Este atributo no es otra cosa que la magnitud del vector velocidad\n",
        "     \n",
        "       \"\"\"Creamos tres listas con los vectores posición y velocidad y velocidad_mag, posteriormente las usaremos\n",
        "       para generar una lista con todos los valores que ha tenido la velocidad y posición\"\"\"\n",
        "       \n",
        "       self.velocidad_n=[self.velocidad]    ##Velocidad_n y posición_n son listas de vectores que contienen las listas correspondiente a\n",
        "       self.posicion_n=[self.posicion]      ##todos los valores de estos vectores\n",
        "       self.velocidad_mag_n=[self.velocidad_mag]\n",
        "     \n",
        "  ##########################################################################\n",
        "    def paso_dt(self,float dt):   #Falta definir el valor que va a tomar dt  \n",
        "       \"\"\"Este método lo que hace es avanzar en el tiempo, cambia la posición de la partícula y agrega a las listas\n",
        "       una actualización tanto de la posición de la partícula como la velocidad de la misma\"\"\"\n",
        "      \n",
        "       self.posicion=self.posicion + self.velocidad*dt  \n",
        "       self.posicion_n.append(self.posicion) #Se añaden \n",
        "       self.velocidad_n.append(self.velocidad)\n",
        "       self.velocidad_mag_n.append(self.velocidad_mag)\n",
        " ###############################################################################################\n",
        "    def ver_colision_pp(self,otra_p):\n",
        "       \"\"\"Este método verifica si se dio luegar a una colisión entre dos partículas, las entradas\n",
        "      son dos partículas, se definen sus radios y posiciones y se plantea una condición que indica \n",
        "      si las partículas chocaron\"\"\"\n",
        "       cdef float r1=self.radio\n",
        "       cdef float r2=otra_p.radio\n",
        "       p1=self.posicion\n",
        "       p2=otra_p.posicion\n",
        "       cdef float sep=np.linalg.norm(p1-p2)#Norma del vector separación de ambas partículas.\n",
        "       if sep-(r1+r2)*1.1<=0:#Si la separación es menor o igual a la suma de sus radios, entonces las partículas están en contacto y por lo tanto chocaron.\n",
        "         return True\n",
        "       else:\n",
        "         return False\n",
        "######################################################################################################\n",
        "    def ver_colision_esquina(self, float Lx, float Ly):\n",
        "       \"Revisa si hay colisión con una esquina, Lx y Ly son las dimensiones horizontal y vertical de la caja respectivamente\"\n",
        "       extremo_izquierdo = self.posicion[0] - self.radio #da la posición del extremo izquido de la partícula\n",
        "       extremo_inferior = self.posicion[1] - self.radio  #da la posición del extremo inferior de la partícula\n",
        "       extremo_derecho  = self.posicion[0] + self.radio  #da la posición del extremo derech0 de la partícula\n",
        "       extremo_superior = self.posicion[1] + self.radio  #da la posición del extremo superior de la partícula\n",
        "       #Ahora construimos las variables donde se va a almacenar el hecho de chocar contra una esquina o no\n",
        "       cdef bint choque_00 = extremo_izquierdo >0 and extremo_inferior> 0   #Esto corresponde a no chocar con la esquina (0,0)\n",
        "       cdef bint choque_Lx0 = extremo_derecho <Lx and extremo_inferior > 0 #Esto corresponde a no chocar con la esquina (Lx,0)\n",
        "       cdef bint choque_LxLy =  extremo_derecho <Lx and extremo_superior <Ly  #Esto corresponde a no chocar con la esquina (Lx,Ly)\n",
        "       cdef bint choque_0Ly = extremo_izquierdo > 0 and extremo_superior <Ly  #Esto corresponde a chocar con la esquina (0,Ly)\n",
        "       if not choque_00 or not choque_Lx0 or not choque_LxLy or not choque_0Ly:\n",
        "         return  True \n",
        "       else:\n",
        "         return False\n",
        "       \n",
        "        \n",
        "#####################################################################################################\n",
        "    def ver_colision_muro(self, float Lx, float Ly):\n",
        "        \"\"\"Este método revisa si la partícula ha chocado contra un muro.\"\"\"\n",
        "        \"\"\"La condición ve que si la posición en \"x\" es diferente 0 o la longitud horizontal (Lx) de la caja y adicionalmente\n",
        "     #  si la posición en \"y\" es diferente de 0 o la longitud vertical (Ly) entonces la partícula no está chocando contra un muro\"\"\"\n",
        "        cdef bint choque_pared_derecha =  self.posicion[0] + self.radio <Lx   \n",
        "        cdef bint choque_pared_izquierda = self.posicion[0] - self.radio>0\n",
        "        #las condiciones corresponden a no chocar con esas paredes\n",
        "        cdef bint choque_pared_superior = self.posicion[1] + self.radio <Ly \n",
        "        cdef bint choque_pared_inferior = self.posicion[1] - self.radio >0\n",
        "        if choque_pared_derecha and choque_pared_izquierda and choque_pared_superior and choque_pared_inferior :\n",
        "          return False\n",
        "        else:\n",
        "          return True \n",
        "        \n",
        "######################################################################################################\n",
        "    def resolver_colision_particula(self,otra_p):\n",
        "      \"\"\"Método que actualiza las velocidades de dos partículas después de chocar\n",
        "       Definimos las magnitudes a usar para resolver el choque\"\"\"\n",
        "      M1=self.masa\n",
        "      M2=otra_p.masa\n",
        "      p1=self.posicion\n",
        "      p2=otra_p.posicion\n",
        "      V1=self.velocidad\n",
        "      V2=otra_p.velocidad\n",
        "      cdef bint choque=self.ver_colision_pp\n",
        "      if choque:\n",
        "        self.velocidad= self.velocidad-((2*M2)/(M1+M2))*(np.dot(p1-p2,V1-V2)/(np.linalg.norm(p1-p2)**2))*(p1-p2)#Se resuleven los choques tal cual el modelo bidimensional que se tiene\n",
        "        otra_p.velocidad= otra_p.velocidad-((2*M1)/(M1+M2))*(np.dot(p2-p1,V2-V1)/(np.linalg.norm(p2-p1)**2))*(p2-p1)\n",
        "  \n",
        "###############################################################################################################\n",
        "    def resolver_colision_muro(self,float Lx,float Ly): \n",
        "        \"\"\"#Método que actualiza la velocidad después de que una partícula choca con un muro. Recibe la\n",
        "        partícula y las dimensiones de la caja\"\"\"\n",
        "        cdef bint choque_pared_derecha =  self.posicion[0] + self.radio <Lx   \n",
        "        cdef bint choque_pared_izquierda = self.posicion[0] - self.radio>0\n",
        "        #las condiciones corresponden a no chocar con esas paredes\n",
        "        cdef bint choque_pared_superior = self.posicion[1] + self.radio <Ly \n",
        "        cdef bint choque_pared_inferior = self.posicion[1] - self.radio >0\n",
        "        #Ahora miramos cual fue la pared con que se chocó e invertimos la coordenada teniendo en cuenta eso\n",
        "        if not choque_pared_derecha or not choque_pared_izquierda:\n",
        "            self.velocidad[0] = -1* self.velocidad[0]\n",
        "        elif not choque_pared_superior or not choque_pared_inferior:\n",
        "            self.velocidad[1] = -1* self.velocidad[1]\n",
        "       \n",
        "    def resolver_colision_esquina(self):\n",
        "        \"\"\"Método que actualiza la velocidad después de que una partícula choca con una esquina\"\"\"\n",
        "        self.velocidad = -1* self.velocidad #se invierte todo el vector\n",
        "            \n",
        "        "
      ],
      "execution_count": 3,
      "outputs": []
    },
    {
      "cell_type": "code",
      "metadata": {
        "id": "ECHl9DBFee-M"
      },
      "source": [
        "#Prototipo de la función final, recibe las dimensiones de la caja, el rango de velocidades inciales, el número\n",
        "# de partículas, el radio y la masa\n",
        "#Si algo podemos establecer por defecto que las masas y los radios sean los mismos por defecto o cómo quieran\n",
        "\n",
        "\n",
        "######Función que generá las partículas con datos aleatorios\n",
        "def funcion_simuladora(lx,ly,v1,v2,m,r,n):\n",
        "#Por el momento se crea un arreglo vacío de enteros para las posiciones iniciales\n",
        "  posiciones=np.zeros((n,2))\n",
        "  \n",
        "  for i in range(n):\n",
        "    #Se llena el arreglo con números aleatorios dentro de la caja pero evitando que aparezcan en las esquinas\n",
        "    posiciones[i][0]=np.random.uniform(10,lx-10)\n",
        "    posiciones[i][1]=np.random.uniform(10,ly-10)\n",
        "  #Se convierte el arreglo en una lista\n",
        "  posiciones_lista=list(posiciones)\n",
        "  #Las velocidades se crean normalmente con velocidades aleatorias dentro del rango establecido, el intervalo (v1,v2)\n",
        "  velocidades_lista=list(np.random.uniform(v1,v2,(n,2)))\n",
        "  #Ahora creamos una lista vacía donde irán objetos de la clase partícula\n",
        "  lista_de_particulas=[]\n",
        "  #Llenamos la lista con partículas que tendrán posiciones provenientes de posiciones_lista y velocidades_lista. \n",
        "  #Las masas y radios son los determinados al activar la función.\n",
        "  for j in range(n):\n",
        "    Pn=Particula(tuple(posiciones_lista[j]),tuple(velocidades_lista[j]),m,r)\n",
        "    lista_de_particulas.append(Pn)\n",
        "  \n",
        "  \n",
        "  #Ahora queremeos hacer que si las partículas se crean superpuestas de alguna manera, eliminamos una y creamos otra nueva\n",
        "  #luego añadimos la nueva partícula a la lista de partículas\n",
        "\n",
        "  for i in range(n):\n",
        "   for p1 in lista_de_particulas:\n",
        "    for p2 in lista_de_particulas:\n",
        "     if p1.ver_colision_pp(p2):\n",
        "       p_nueva=Particula(tuple([(random.uniform(10,lx-10),random.uniform(0,ly-10)) for x in range(1)][0]),\n",
        "       tuple([(random.uniform(v1,v2),random.uniform(v1,v2)) for x in range(1)][0]), m,r)\n",
        "                                                      \n",
        "       lista_de_particulas.pop(i)\n",
        "       lista_de_particulas.append(p_nueva)\n",
        "  #Nos retorna la lista con las partículas creadas, acá le puse que me devolviera solo la primera para demostrar funcionalidad\n",
        "\n",
        "  return lista_de_particulas\n"
      ],
      "execution_count": 4,
      "outputs": []
    },
    {
      "cell_type": "markdown",
      "metadata": {
        "id": "AsC3DYo-EGxQ"
      },
      "source": [
        "Simulación de 10 partículas es una caja de 100x100"
      ]
    },
    {
      "cell_type": "code",
      "metadata": {
        "colab": {
          "base_uri": "https://localhost:8080/",
          "height": 455
        },
        "id": "TFVmA8ZGeiKU",
        "outputId": "e83816e2-e64a-4d38-bdd5-fba232bf1239"
      },
      "source": [
        "\n",
        "L=funcion_simuladora(100,100,0,100,1,1,10)#Genero 10 partículas\n",
        "for n in L:#Comenzamos a iterar sobre la lista de partículas\n",
        "  for j in range(15):\n",
        "   \n",
        "   n.paso_dt(0.1)\n",
        "   if n.ver_colision_esquina(100,100):#vemos si colisionan o no con una esquina, si colisionan se resuelve la colisión\n",
        "     n.resolver_colision_esquina\n",
        "     #print(\"chcocó esquina\")\n",
        "   if n.ver_colision_muro(100,100):#vemos si colisionan o no con un muro, si colisionan se resuelve la colisión\n",
        "     n.resolver_colision_muro(100,100)\n",
        "     #print(\"chcocó muro\")\n",
        "   for p2 in L:\n",
        "     if n.ver_colision_pp(p2) and (n.posicion!=p2.posicion).all():#vemos si colisionan o no con un muro, si colisionan se resuelve la colisión\n",
        "       n.resolver_colision_particula(p2)                          #También se ve que la condición no haga resolver el choque de la partícula con ella\n",
        "       #print(\"chocaron\")                                         #misma\n",
        "\n",
        "for n in range(10):#Acá vemos como se guarda cada trayectoria de cada partícula\n",
        " print(L[n].posicion_n)\n",
        "\n",
        "x=[]\n",
        "y=[]\n",
        "for n in L[0].posicion_n:#graficamos la trayectoria de la primera partícula y vemos que los métodos de choque con otra partícula y con las paredes\n",
        "  x.append(n[0])         #y esquinas funcionan.\n",
        "  y.append(n[1])\n",
        "plt.plot(x,y)\n",
        "plt.show()\n",
        "#plt.xlim((0,1000))\n",
        "#plt.ylim((0,1000))\n",
        "#En la parte de abajo del plot se ve que hay un cambio en la trayectoria, eso es porque la partícula chocó con otra"
      ],
      "execution_count": 5,
      "outputs": [
        {
          "output_type": "stream",
          "text": [
            "[array([77.35734558, 43.18748474]), array([83.1082261 , 51.89259046]), array([88.85910662, 60.59769618]), array([94.60998713, 69.3028019 ]), array([100.36086765,  78.00790762]), array([94.60998713, 86.71301334]), array([88.85910662, 95.41811906]), array([ 83.1082261 , 104.12322478]), array([77.35734558, 95.41811906]), array([71.60646506, 86.71301334]), array([65.85558455, 78.00790762]), array([60.10470403, 69.3028019 ]), array([54.35382351, 60.59769618]), array([48.60294299, 51.89259046]), array([42.85206247, 43.18748474]), array([37.10118196, 34.48237902])]\n",
            "[array([70.56694794, 83.14595795]), array([72.60201667, 91.29738095]), array([74.6370854 , 99.44880395]), array([76.67215414, 91.29738095]), array([78.70722287, 83.14595795]), array([80.7422916 , 74.99453494]), array([82.77736034, 66.84311194]), array([84.81242907, 58.69168894]), array([86.8474978 , 50.54026593]), array([88.88256653, 42.38884293]), array([90.91763527, 34.23741993]), array([92.952704  , 26.08599692]), array([94.98777273, 17.93457392]), array([97.02284147,  9.78315091]), array([99.0579102 ,  1.63172791]), array([97.02284147, -6.51969509])]\n",
            "[array([88.24752808, 73.7736969 ]), array([91.76228796, 78.36635635]), array([95.27704783, 82.95901579]), array([98.79180771, 87.55167524]), array([102.30656759,  92.14433469]), array([98.79180771, 96.73699413]), array([ 95.27704783, 101.32965358]), array([91.76228796, 96.73699413]), array([88.24752808, 92.14433469]), array([84.7327682 , 87.55167524]), array([81.21800832, 82.95901579]), array([77.70324844, 78.36635635]), array([74.18848856, 73.7736969 ]), array([70.67372868, 69.18103745]), array([67.1589688 , 64.58837801]), array([63.64420892, 59.99571856])]\n",
            "[array([70.86001587, 28.11436081]), array([78.68172161, 30.02127517]), array([86.50342736, 31.92818953]), array([94.3251331 , 33.83510388]), array([102.14683885,  35.74201824]), array([94.3251331, 37.6489326]), array([86.50342736, 39.55584696]), array([78.68172161, 41.46276131]), array([70.86001587, 43.36967567]), array([63.03831013, 45.27659003]), array([55.21660438, 47.18350439]), array([47.39489864, 49.09041875]), array([39.57319289, 50.9973331 ]), array([31.75148715, 52.90424746]), array([23.92978141, 54.81116182]), array([16.10807566, 56.71807618])]\n",
            "[array([38.47369385, 42.89938736]), array([47.88391204, 48.44704446]), array([57.29413022, 53.99470155]), array([66.70434841, 59.54235865]), array([76.1145666 , 65.09001574]), array([85.52478479, 70.63767284]), array([94.93500298, 76.18532993]), array([104.34522117,  81.73298703]), array([94.93500298, 87.28064412]), array([85.52478479, 92.82830122]), array([76.1145666 , 98.37595832]), array([ 66.70434841, 103.92361541]), array([57.29413022, 98.37595832]), array([47.88391204, 92.82830122]), array([38.47369385, 87.28064412]), array([29.06347566, 81.73298703])]\n",
            "[array([30.57969093, 35.21730804]), array([33.91867719, 44.75394912]), array([37.25766344, 54.29059019]), array([40.5966497 , 63.82723126]), array([43.93563596, 73.36387233]), array([47.27462221, 82.90051341]), array([50.61360847, 92.43715448]), array([ 53.95259472, 101.97379555]), array([57.29158098, 92.43715448]), array([60.63056724, 82.90051341]), array([63.96955349, 73.36387233]), array([67.30853975, 63.82723126]), array([70.647526  , 54.29059019]), array([73.98651226, 44.75394912]), array([77.32549851, 35.21730804]), array([80.66448477, 25.68066697])]\n",
            "[array([21.92118645, 62.89337158]), array([26.54460342, 64.48240874]), array([31.16802039, 66.07144589]), array([35.79143736, 67.66048305]), array([40.41485433, 69.24952021]), array([45.03827129, 70.83855736]), array([49.66168826, 72.42759452]), array([54.28510523, 74.01663167]), array([58.9085222 , 75.60566883]), array([63.53193917, 77.19470599]), array([68.15535614, 78.78374314]), array([72.77877311, 80.3727803 ]), array([77.40219008, 81.96181745]), array([82.02560705, 83.55085461]), array([86.64902402, 85.13989177]), array([91.27244099, 86.72892892])]\n",
            "[array([50.66451263,  1.70494115]), array([53.50918526,  1.97948194]), array([56.35385789,  2.25402273]), array([59.19853052,  2.52856351]), array([62.04320314,  2.8031043 ]), array([64.88787577,  3.07764508]), array([67.7325484 ,  3.35218587]), array([70.57722102,  3.62672666]), array([73.42189365,  3.90126744]), array([76.26656628,  4.17580823]), array([79.1112389 ,  4.45034901]), array([81.95591153,  4.7248898 ]), array([84.80058416,  4.99943059]), array([87.64525678,  5.27397137]), array([90.48992941,  5.54851216]), array([93.33460204,  5.82305294])]\n",
            "[array([35.70196152, 19.39799118]), array([37.23425677, 23.18301626]), array([38.76655202, 26.96804134]), array([40.29884727, 30.75306642]), array([41.83114252, 34.5380915 ]), array([43.36343777, 38.32311658]), array([44.37331805, 42.24396974]), array([45.38319834, 46.1648229 ]), array([46.39307862, 50.08567605]), array([47.40295891, 54.00652921]), array([48.41283919, 57.92738237]), array([49.42271948, 61.84823552]), array([50.43259977, 65.76908868]), array([51.44248005, 69.68994183]), array([52.45236034, 73.61079499]), array([53.46224062, 77.53164815])]\n",
            "[array([41.87016296, 38.71136856]), array([44.93574947, 48.39365968]), array([48.00133597, 58.0759508 ]), array([51.06692247, 67.75824192]), array([54.13250898, 77.44053304]), array([55.94867729, 87.29266788]), array([57.7648456 , 97.14480272]), array([ 59.58101392, 106.99693755]), array([61.39718223, 97.14480272]), array([63.21335054, 87.29266788]), array([65.02951886, 77.44053304]), array([66.84568717, 67.5883982 ]), array([68.66185548, 57.73626337]), array([70.4780238 , 47.88412853]), array([72.29419211, 38.03199369]), array([74.11036042, 28.17985885])]\n"
          ],
          "name": "stdout"
        },
        {
          "output_type": "display_data",
          "data": {
            "image/png": "[encoded data removed]",
            "text/plain": [
              "<Figure size 432x288 with 1 Axes>"
            ]
          },
          "metadata": {
            "tags": [],
            "needs_background": "light"
          }
        }
      ]
    },
    {
      "cell_type": "markdown",
      "metadata": {
        "id": "X1zJwq6zI8xU"
      },
      "source": [
        "FUNCION DEFINITIVA"
      ]
    },
    {
      "cell_type": "code",
      "metadata": {
        "id": "EYGob9FyF6Gl"
      },
      "source": [
        "def funcion_simuladora_definitiva(lx,ly,v1,v2,m,r,n,dt,pasos):#El proceso anterior lo generalizamos en una función\n",
        "  L=funcion_simuladora(lx,ly,v1,v2,m,r,n)\n",
        "  for N in L:\n",
        "    for i in range(pasos):\n",
        "      N.paso_dt(dt)\n",
        "      if N.ver_colision_esquina(lx,ly):\n",
        "        N.resolver_colision_esquina\n",
        "      if N.ver_colision_muro(lx,ly):\n",
        "        N.resolver_colision_muro(lx,ly)\n",
        "      for P in L:\n",
        "        if N.ver_colision_pp(P) and (N.posicion!=P.posicion).all():\n",
        "          N.resolver_colision_particula(P)\n",
        "  return L\n",
        "      "
      ],
      "execution_count": 6,
      "outputs": []
    },
    {
      "cell_type": "markdown",
      "metadata": {
        "id": "kkT45u2dJQGD"
      },
      "source": [
        "PRUEBA DE LA FUNCIÓN DEFINITIVA: Algo a tener en cuenta es que a la hora de extraer la información de las velcidades y posiciones a lo largo del tiempo, sí es útil que cada partícula tenga esa información, el código de la simulación no está tardando una cantidad exagerada de tiempo y me parece que es más facil manipular las cosas así.\n"
      ]
    },
    {
      "cell_type": "code",
      "metadata": {
        "colab": {
          "base_uri": "https://localhost:8080/"
        },
        "id": "mpePenUtIVuB",
        "outputId": "b323b938-fb6e-4da7-ed0a-a6ebfc3a2b59"
      },
      "source": [
        "A=funcion_simuladora_definitiva(100,100,0,100,1,1,10,0.01,15)\n",
        "print(A[0].posicion_n)\n",
        "print(A)"
      ],
      "execution_count": 7,
      "outputs": [
        {
          "output_type": "stream",
          "text": [
            "[array([44.06636047, 87.18604279]), array([44.53951705, 87.33426087]), array([45.01267362, 87.48247896]), array([45.4858302 , 87.63069704]), array([45.95898677, 87.77891512]), array([46.43214335, 87.92713321]), array([46.90529992, 88.07535129]), array([47.3784565 , 88.22356938]), array([47.85161307, 88.37178746]), array([48.32476965, 88.52000555]), array([48.79792622, 88.66822363]), array([49.2710828 , 88.81644172]), array([49.74423938, 88.9646598 ]), array([50.21739595, 89.11287789]), array([50.69055253, 89.26109597]), array([51.1637091 , 89.40931406])]\n",
            "[<_cython_magic_23919ec3535f64540f628291a417670d.Particula object at 0x7f0a61fde908>, <_cython_magic_23919ec3535f64540f628291a417670d.Particula object at 0x7f0a61fdecc0>, <_cython_magic_23919ec3535f64540f628291a417670d.Particula object at 0x7f0a61ffc1d0>, <_cython_magic_23919ec3535f64540f628291a417670d.Particula object at 0x7f0a61fde390>, <_cython_magic_23919ec3535f64540f628291a417670d.Particula object at 0x7f0a61fdeb38>, <_cython_magic_23919ec3535f64540f628291a417670d.Particula object at 0x7f0a61fde048>, <_cython_magic_23919ec3535f64540f628291a417670d.Particula object at 0x7f0a61fded30>, <_cython_magic_23919ec3535f64540f628291a417670d.Particula object at 0x7f0a61fdeef0>, <_cython_magic_23919ec3535f64540f628291a417670d.Particula object at 0x7f0a61fde278>, <_cython_magic_23919ec3535f64540f628291a417670d.Particula object at 0x7f0a61fde7f0>]\n"
          ],
          "name": "stdout"
        }
      ]
    },
    {
      "cell_type": "markdown",
      "metadata": {
        "id": "KtKvtPqvzbvL"
      },
      "source": [
        "DATOS PARA PATER"
      ]
    },
    {
      "cell_type": "code",
      "metadata": {
        "id": "hldgpIqxzZV4",
        "colab": {
          "base_uri": "https://localhost:8080/"
        },
        "outputId": "8850e2ee-8a6f-4a37-9294-8487131f5a68"
      },
      "source": [
        "A=funcion_simuladora_definitiva(100,100,0,100,1,1,30,0.01,50)\n",
        "print(A)\n",
        "L=[]#Esta lista está formada por 30 sublistas que tienen el recorrido de la partículas, por alguna razón no me dejó separar esas sublistas\n",
        "     #En una tupla de listas para x e y pero esto es lo que se tiene, si Pater puede mirar la forma de correrlo así le agradezco\n",
        "for n in A:\n",
        "  L.append(n.posicion_n)\n",
        "print(L)"
      ],
      "execution_count": 8,
      "outputs": [
        {
          "output_type": "stream",
          "text": [
            "[<_cython_magic_23919ec3535f64540f628291a417670d.Particula object at 0x7f0a61fde748>, <_cython_magic_23919ec3535f64540f628291a417670d.Particula object at 0x7f0a61fdeb00>, <_cython_magic_23919ec3535f64540f628291a417670d.Particula object at 0x7f0a61fde5f8>, <_cython_magic_23919ec3535f64540f628291a417670d.Particula object at 0x7f0a61fde860>, <_cython_magic_23919ec3535f64540f628291a417670d.Particula object at 0x7f0a61fde7b8>, <_cython_magic_23919ec3535f64540f628291a417670d.Particula object at 0x7f0a61fdebe0>, <_cython_magic_23919ec3535f64540f628291a417670d.Particula object at 0x7f0a61fdee80>, <_cython_magic_23919ec3535f64540f628291a417670d.Particula object at 0x7f0a61fdec18>, <_cython_magic_23919ec3535f64540f628291a417670d.Particula object at 0x7f0a61fde2e8>, <_cython_magic_23919ec3535f64540f628291a417670d.Particula object at 0x7f0a61fde940>, <_cython_magic_23919ec3535f64540f628291a417670d.Particula object at 0x7f0a61fdea58>, <_cython_magic_23919ec3535f64540f628291a417670d.Particula object at 0x7f0a61fde550>, <_cython_magic_23919ec3535f64540f628291a417670d.Particula object at 0x7f0a61fde080>, <_cython_magic_23919ec3535f64540f628291a417670d.Particula object at 0x7f0a61fde5c0>, <_cython_magic_23919ec3535f64540f628291a417670d.Particula object at 0x7f0a61fdee10>, <_cython_magic_23919ec3535f64540f628291a417670d.Particula object at 0x7f0a61fde9b0>, <_cython_magic_23919ec3535f64540f628291a417670d.Particula object at 0x7f0a61fde978>, <_cython_magic_23919ec3535f64540f628291a417670d.Particula object at 0x7f0a61fde668>, <_cython_magic_23919ec3535f64540f628291a417670d.Particula object at 0x7f0a61fde630>, <_cython_magic_23919ec3535f64540f628291a417670d.Particula object at 0x7f0a61fde358>, <_cython_magic_23919ec3535f64540f628291a417670d.Particula object at 0x7f0a61fde780>, <_cython_magic_23919ec3535f64540f628291a417670d.Particula object at 0x7f0a61fde828>, <_cython_magic_23919ec3535f64540f628291a417670d.Particula object at 0x7f0a61fde320>, <_cython_magic_23919ec3535f64540f628291a417670d.Particula object at 0x7f0a61fdea90>, <_cython_magic_23919ec3535f64540f628291a417670d.Particula object at 0x7f0a61fde0f0>, <_cython_magic_23919ec3535f64540f628291a417670d.Particula object at 0x7f0a61fde518>, <_cython_magic_23919ec3535f64540f628291a417670d.Particula object at 0x7f0a61fded68>, <_cython_magic_23919ec3535f64540f628291a417670d.Particula object at 0x7f0a61fdeba8>, <_cython_magic_23919ec3535f64540f628291a417670d.Particula object at 0x7f0a61fde710>, <_cython_magic_23919ec3535f64540f628291a417670d.Particula object at 0x7f0a61fde588>]\n",
            "[[array([66.56154633, 35.97829056]), array([67.24203459, 36.76176611]), array([67.92252286, 37.54524166]), array([68.60301112, 38.32871722]), array([69.28349939, 39.11219277]), array([69.96398766, 39.89566832]), array([70.64447592, 40.67914388]), array([71.32496419, 41.46261943]), array([72.00545245, 42.24609498]), array([72.68594072, 43.02957054]), array([73.36642899, 43.81304609]), array([74.04691725, 44.59652164]), array([74.72740552, 45.3799972 ]), array([75.40789378, 46.16347275]), array([76.08838205, 46.9469483 ]), array([76.76887032, 47.73042386]), array([77.44935858, 48.51389941]), array([78.12984685, 49.29737496]), array([78.81033511, 50.08085051]), array([79.49082338, 50.86432607]), array([80.17131165, 51.64780162]), array([80.85179991, 52.43127717]), array([81.53228818, 53.21475273]), array([82.21277644, 53.99822828]), array([82.89326471, 54.78170383]), array([83.57375298, 55.56517939]), array([84.25424124, 56.34865494]), array([84.93472951, 57.13213049]), array([85.61521777, 57.91560605]), array([86.29570604, 58.6990816 ]), array([86.97619431, 59.48255715]), array([87.65668257, 60.26603271]), array([88.33717084, 61.04950826]), array([89.17241757, 61.68841688]), array([90.01986915, 62.28761506]), array([90.86732073, 62.88681325]), array([91.71477231, 63.48601143]), array([92.56222389, 64.08520962]), array([93.40967547, 64.68440781]), array([94.25712704, 65.28360599]), array([95.10457862, 65.88280418]), array([95.9520302 , 66.48200236]), array([96.79948178, 67.08120055]), array([97.64693336, 67.68039874]), array([98.49438494, 68.27959692]), array([99.34183652, 68.87879511]), array([98.49438494, 69.4779933 ]), array([97.64693336, 70.07719148]), array([96.79948178, 70.67638967]), array([95.9520302 , 71.27558785]), array([95.10457862, 71.87478604])], [array([64.02082825, 45.62602615]), array([64.98546873, 45.76561406]), array([65.95010921, 45.90520196]), array([66.91474969, 46.04478987]), array([67.87939017, 46.18437777]), array([68.84403065, 46.32396568]), array([69.80867114, 46.46355358]), array([70.77331162, 46.60314149]), array([71.7379521 , 46.74272939]), array([72.70259258, 46.8823173 ]), array([73.66723306, 47.0219052 ]), array([74.63187354, 47.1614931 ]), array([75.59651402, 47.30108101]), array([76.5611545 , 47.44066891]), array([77.52579499, 47.58025682]), array([78.49043547, 47.71984472]), array([79.45507595, 47.85943263]), array([80.41971643, 47.99902053]), array([81.38435691, 48.13860844]), array([82.34899739, 48.27819634]), array([83.31363787, 48.41778425]), array([84.27827836, 48.55737215]), array([85.24291884, 48.69696006]), array([86.20755932, 48.83654796]), array([87.1721998 , 48.97613587]), array([88.13684028, 49.11572377]), array([89.10148076, 49.25531168]), array([90.06612124, 49.39489958]), array([91.03076173, 49.53448748]), array([91.99540221, 49.67407539]), array([92.96004269, 49.81366329]), array([93.92468317, 49.9532512 ]), array([94.88932365, 50.0928391 ]), array([95.85396413, 50.23242701]), array([96.81860461, 50.37201491]), array([97.78324509, 50.51160282]), array([98.74788558, 50.65119072]), array([99.71252606, 50.79077863]), array([98.74788558, 50.93036653]), array([97.78324509, 51.06995444]), array([96.81860461, 51.20954234]), array([95.85396413, 51.34913025]), array([94.88932365, 51.48871815]), array([93.92468317, 51.62830605]), array([92.96004269, 51.76789396]), array([91.99540221, 51.90748186]), array([91.03076173, 52.04706977]), array([90.06612124, 52.18665767]), array([89.10148076, 52.32624558]), array([88.13684028, 52.46583348]), array([87.1721998 , 52.60542139])], [array([70.95065308,  5.32720184]), array([71.21433025,  5.97341742]), array([71.47800742,  6.619633  ]), array([71.74168459,  7.26584857]), array([72.00536176,  7.91206415]), array([72.26903893,  8.55827973]), array([72.53271611,  9.20449531]), array([72.79639328,  9.85071088]), array([73.06007045, 10.49692646]), array([73.32374762, 11.14314204]), array([73.58742479, 11.78935761]), array([73.85110196, 12.43557319]), array([74.11477913, 13.08178877]), array([74.37845631, 13.72800434]), array([74.64213348, 14.37421992]), array([74.90581065, 15.0204355 ]), array([75.16948782, 15.66665108]), array([75.43316499, 16.31286665]), array([75.69684216, 16.95908223]), array([75.96051934, 17.60529781]), array([76.22419651, 18.25151338]), array([76.48787368, 18.89772896]), array([76.75155085, 19.54394454]), array([77.01522802, 20.19016011]), array([77.27890519, 20.83637569]), array([77.54258236, 21.48259127]), array([77.80625954, 22.12880684]), array([78.06993671, 22.77502242]), array([78.33361388, 23.421238  ]), array([78.59729105, 24.06745358]), array([78.86096822, 24.71366915]), array([79.12464539, 25.35988473]), array([79.38832257, 26.00610031]), array([79.65199974, 26.65231588]), array([79.91567691, 27.29853146]), array([80.17935408, 27.94474704]), array([80.44303125, 28.59096261]), array([80.70670842, 29.23717819]), array([80.97038559, 29.88339377]), array([81.23406277, 30.52960935]), array([81.49773994, 31.17582492]), array([81.76141711, 31.8220405 ]), array([82.02509428, 32.46825608]), array([82.28877145, 33.11447165]), array([82.55244862, 33.76068723]), array([82.8161258 , 34.40690281]), array([83.07980297, 35.05311838]), array([83.34348014, 35.69933396]), array([83.60715731, 36.34554954]), array([83.87083448, 36.99176512]), array([84.13451165, 37.63798069])], [array([25.95824242,  5.50255966]), array([26.33372211,  6.01709121]), array([26.7092018 ,  6.53162275]), array([27.08468149,  7.04615429]), array([27.46016118,  7.56068584]), array([27.83564087,  8.07521738]), array([28.21112056,  8.58974892]), array([28.58660024,  9.10428047]), array([28.96207993,  9.61881201]), array([29.33755962, 10.13334355]), array([29.71303931, 10.6478751 ]), array([30.088519  , 11.16240664]), array([30.46399869, 11.67693819]), array([30.83947838, 12.19146973]), array([31.21495807, 12.70600127]), array([31.59043776, 13.22053282]), array([31.96591745, 13.73506436]), array([32.34139714, 14.2495959 ]), array([32.71687683, 14.76412745]), array([33.09235652, 15.27865899]), array([33.46783621, 15.79319054]), array([33.8433159 , 16.30772208]), array([34.21879559, 16.82225362]), array([34.59427528, 17.33678517]), array([34.96975497, 17.85131671]), array([35.34523466, 18.36584825]), array([35.72071435, 18.8803798 ]), array([36.09619404, 19.39491134]), array([36.47167373, 19.90944288]), array([36.84715342, 20.42397443]), array([37.22263311, 20.93850597]), array([37.5981128 , 21.45303752]), array([37.97359249, 21.96756906]), array([38.34907218, 22.4821006 ]), array([38.72455187, 22.99663215]), array([39.10003156, 23.51116369]), array([39.47551125, 24.02569523]), array([39.85099094, 24.54022678]), array([40.22647063, 25.05475832]), array([40.60195032, 25.56928987]), array([40.97743001, 26.08382141]), array([41.3529097 , 26.59835295]), array([41.72838939, 27.1128845 ]), array([42.10386908, 27.62741604]), array([42.47934877, 28.14194758]), array([42.85482846, 28.65647913]), array([43.23030815, 29.17101067]), array([43.60578784, 29.68554221]), array([43.98126753, 30.20007376]), array([44.35674722, 30.7146053 ]), array([44.73222691, 31.22913685])], [array([67.70406342, 52.97719955]), array([68.59352713, 53.09678873]), array([69.48299084, 53.2163779 ]), array([70.37245455, 53.33596707]), array([71.26191826, 53.45555625]), array([72.15138197, 53.57514542]), array([73.04084568, 53.6947346 ]), array([73.93030939, 53.81432377]), array([74.8197731 , 53.93391294]), array([75.70923681, 54.05350212]), array([76.59870052, 54.17309129]), array([77.48816423, 54.29268046]), array([78.37762794, 54.41226964]), array([79.26709165, 54.53185881]), array([80.15655536, 54.65144798]), array([81.04601907, 54.77103716]), array([81.93548278, 54.89062633]), array([82.82494649, 55.0102155 ]), array([83.7144102 , 55.12980468]), array([84.60387391, 55.24939385]), array([85.49333762, 55.36898302]), array([86.38280133, 55.4885722 ]), array([87.27226504, 55.60816137]), array([88.16172875, 55.72775055]), array([89.05119245, 55.84733972]), array([89.94065616, 55.96692889]), array([90.83011987, 56.08651807]), array([91.71958358, 56.20610724]), array([92.60904729, 56.32569641]), array([93.498511  , 56.44528559]), array([94.38797471, 56.56487476]), array([95.27743842, 56.68446393]), array([96.16690213, 56.80405311]), array([97.05636584, 56.92364228]), array([97.94582955, 57.04323145]), array([98.83529326, 57.16282063]), array([99.72475697, 57.2824098 ]), array([98.83529326, 57.40199897]), array([97.94582955, 57.52158815]), array([97.05636584, 57.64117732]), array([96.16690213, 57.76076649]), array([95.27743842, 57.88035567]), array([94.38797471, 57.99994484]), array([93.498511  , 58.11953402]), array([92.60904729, 58.23912319]), array([91.71958358, 58.35871236]), array([90.83011987, 58.47830154]), array([90.28565465, 58.19564244]), array([89.44354921, 58.80463715]), array([88.54638427, 59.2693019 ]), array([88.68041249, 60.09086306])], [array([29.90917587,  6.1851182 ]), array([29.92488728,  6.69433755]), array([29.94059869,  7.2035569 ]), array([29.95631009,  7.71277625]), array([29.9720215 ,  8.22199559]), array([29.98773291,  8.73121494]), array([30.00344432,  9.24043429]), array([30.01915572,  9.74965364]), array([30.03486713, 10.25887299]), array([30.05057854, 10.76809234]), array([30.06628995, 11.27731169]), array([30.08200135, 11.78653104]), array([30.09771276, 12.29575039]), array([30.11342417, 12.80496973]), array([30.12913558, 13.31418908]), array([30.14484698, 13.82340843]), array([30.16055839, 14.33262778]), array([30.1762698 , 14.84184713]), array([30.1919812 , 15.35106648]), array([30.20769261, 15.86028583]), array([30.22340402, 16.36950518]), array([30.23911543, 16.87872453]), array([30.25482683, 17.38794388]), array([30.27053824, 17.89716322]), array([30.28624965, 18.40638257]), array([30.30196106, 18.91560192]), array([30.31767246, 19.42482127]), array([30.33338387, 19.93404062]), array([30.34909528, 20.44325997]), array([30.36480668, 20.95247932]), array([30.38051809, 21.46169867]), array([30.3962295 , 21.97091802]), array([30.41194091, 22.48013737]), array([30.42765231, 22.98935671]), array([30.44336372, 23.49857606]), array([30.45907513, 24.00779541]), array([30.47478654, 24.51701476]), array([30.49049794, 25.02623411]), array([30.50620935, 25.53545346]), array([30.52192076, 26.04467281]), array([30.53763217, 26.55389216]), array([30.55334357, 27.06311151]), array([30.56905498, 27.57233086]), array([30.58476639, 28.0815502 ]), array([30.60047779, 28.59076955]), array([30.6161892, 29.0999889]), array([30.63190061, 29.60920825]), array([30.64761202, 30.1184276 ]), array([30.66332342, 30.62764695]), array([30.67903483, 31.1368663 ]), array([30.69474624, 31.64608565])], [array([38.08719635, 45.09801483]), array([39.06541959, 45.6224689 ]), array([40.04364284, 46.14692297]), array([41.02186608, 46.67137703]), array([42.00008933, 47.1958311 ]), array([42.97831257, 47.72028517]), array([43.95653582, 48.24473923]), array([44.93475906, 48.7691933 ]), array([45.91298231, 49.29364737]), array([46.89120555, 49.81810143]), array([47.88635078, 50.34261026]), array([48.75438838, 50.9430183 ]), array([49.62240163, 51.65059626]), array([50.49244883, 52.36245528]), array([51.36249604, 53.0743143 ]), array([52.23254324, 53.78617332]), array([53.10259044, 54.49803234]), array([53.97263764, 55.20989136]), array([54.84268485, 55.92175038]), array([55.71273205, 56.6336094 ]), array([56.58277925, 57.34546842]), array([57.45282645, 58.05732744]), array([58.32287365, 58.76918646]), array([59.19292086, 59.48104547]), array([60.06296806, 60.19290449]), array([60.93301526, 60.90476351]), array([61.80306246, 61.61662253]), array([62.67310966, 62.32848155]), array([63.54315687, 63.04034057]), array([64.41320407, 63.75219959]), array([65.28325127, 64.46405861]), array([66.15329847, 65.17591763]), array([67.02334568, 65.88777665]), array([67.89339288, 66.59963567]), array([68.76344008, 67.31149469]), array([69.63348728, 68.02335371]), array([70.50353448, 68.73521273]), array([71.37358169, 69.44707175]), array([72.24362889, 70.15893077]), array([73.11367609, 70.87078979]), array([73.98372329, 71.5826488 ]), array([74.85377049, 72.29450782]), array([75.7238177 , 73.00636684]), array([76.5938649 , 73.71822586]), array([77.4639121 , 74.43008488]), array([78.3339593, 75.1419439]), array([79.20400651, 75.85380292]), array([80.07405371, 76.56566194]), array([80.94410091, 77.27752096]), array([81.81414811, 77.98937998]), array([82.68419531, 78.701239  ])], [array([13.31350422, 81.73214722]), array([13.35739709, 81.97593973]), array([13.40128997, 82.21973224]), array([13.44518284, 82.46352474]), array([13.48907571, 82.70731725]), array([13.53296859, 82.95110976]), array([13.57686146, 83.19490227]), array([13.62075434, 83.43869478]), array([13.66464721, 83.68248729]), array([13.70854008, 83.9262798 ]), array([13.75243296, 84.17007231]), array([13.79632583, 84.41386482]), array([13.8402187 , 84.65765733]), array([13.88411158, 84.90144984]), array([13.92800445, 85.14524235]), array([13.97189733, 85.38903486]), array([14.0157902 , 85.63282737]), array([14.05968307, 85.87661988]), array([14.10357595, 86.12041239]), array([14.14746882, 86.36420489]), array([14.19136169, 86.6079974 ]), array([14.23525457, 86.85178991]), array([14.27914744, 87.09558242]), array([14.32304031, 87.33937493]), array([14.36693319, 87.58316744]), array([14.41082606, 87.82695995]), array([14.45471894, 88.07075246]), array([14.49861181, 88.31454497]), array([14.54250468, 88.55833748]), array([14.58639756, 88.80212999]), array([14.63029043, 89.0459225 ]), array([14.6741833 , 89.28971501]), array([14.71807618, 89.53350752]), array([14.76196905, 89.77730003]), array([14.80586193, 90.02109253]), array([14.8497548 , 90.26488504]), array([14.89364767, 90.50867755]), array([14.93754055, 90.75247006]), array([14.98143342, 90.99626257]), array([15.02532629, 91.24005508]), array([15.06921917, 91.48384759]), array([15.11311204, 91.7276401 ]), array([15.15700492, 91.97143261]), array([15.20089779, 92.21522512]), array([15.24479066, 92.45901763]), array([15.28868354, 92.70281014]), array([15.33257641, 92.94660265]), array([15.37646928, 93.19039516]), array([15.42036216, 93.43418767]), array([15.46425503, 93.67798018]), array([15.50814791, 93.92177268])], [array([57.37696457, 64.10761261]), array([57.71670333, 64.64271617]), array([58.05644209, 65.17781972]), array([58.39618085, 65.71292328]), array([58.73591962, 66.24802684]), array([59.07565838, 66.7831304 ]), array([59.41539714, 67.31823395]), array([59.7551359 , 67.85333751]), array([60.09487466, 68.38844107]), array([60.43461343, 68.92354462]), array([60.77435219, 69.45864818]), array([61.11409095, 69.99375174]), array([61.45382971, 70.52885529]), array([61.79356847, 71.06395885]), array([62.13330724, 71.59906241]), array([62.473046  , 72.13416597]), array([62.81278476, 72.66926952]), array([63.15252352, 73.20437308]), array([63.49226228, 73.73947664]), array([63.83200105, 74.27458019]), array([64.17173981, 74.80968375]), array([64.51147857, 75.34478731]), array([64.85121733, 75.87989087]), array([65.19095609, 76.41499442]), array([65.53069486, 76.95009798]), array([65.87043362, 77.48520154]), array([66.21017238, 78.02030509]), array([66.54991114, 78.55540865]), array([66.8896499 , 79.09051221]), array([67.22938867, 79.62561576]), array([67.56912743, 80.16071932]), array([67.90886619, 80.69582288]), array([68.24860495, 81.23092644]), array([68.58834371, 81.76602999]), array([68.92808247, 82.30113355]), array([69.26782124, 82.83623711]), array([69.60756   , 83.37134066]), array([69.94729876, 83.90644422]), array([70.28703752, 84.44154778]), array([70.62677628, 84.97665134]), array([70.96651505, 85.51175489]), array([71.30625381, 86.04685845]), array([71.64599257, 86.58196201]), array([71.98573133, 87.11706556]), array([72.32547009, 87.65216912]), array([72.66520886, 88.18727268]), array([73.00494762, 88.72237624]), array([73.34468638, 89.25747979]), array([73.68442514, 89.79258335]), array([74.0241639 , 90.32768691]), array([74.36390267, 90.86279046])], [array([52.02715683, 11.58504295]), array([52.58200621, 12.34287802]), array([53.1368556 , 13.10071309]), array([53.46007825, 13.89103235]), array([53.91850806, 14.59975638]), array([54.66304891, 15.126689  ]), array([55.40758975, 15.65362162]), array([56.1521306 , 16.18055425]), array([56.89667145, 16.70748687]), array([57.64121229, 17.23441949]), array([58.38575314, 17.76135211]), array([59.13029399, 18.28828474]), array([59.87483483, 18.81521736]), array([60.61937568, 19.34214998]), array([61.36391653, 19.8690826 ]), array([61.31161694, 20.13048345]), array([62.10004304, 20.55539421]), array([62.06878995, 21.00316474]), array([62.83928592, 21.14250424]), array([63.14960005, 21.87490485]), array([63.56803373, 21.75485101]), array([64.14760875, 22.4403307 ]), array([64.38859472, 22.33950244]), array([65.05482453, 22.96307396]), array([65.72105434, 23.58664547]), array([66.38728415, 24.21021699]), array([67.05351396, 24.8337885 ]), array([67.71974378, 25.45736001]), array([68.38597359, 26.08093153]), array([69.0522034 , 26.70450304]), array([69.71843321, 27.32807456]), array([70.38466302, 27.95164607]), array([71.05089284, 28.57521759]), array([71.71712265, 29.1987891 ]), array([72.38335246, 29.82236061]), array([73.04958227, 30.44593213]), array([73.71581208, 31.06950364]), array([74.3820419 , 31.69307516]), array([75.04827171, 32.31664667]), array([75.71450152, 32.94021818]), array([76.38073133, 33.5637897 ]), array([77.04696114, 34.18736121]), array([77.71319096, 34.81093273]), array([78.37942077, 35.43450424]), array([79.04565058, 36.05807576]), array([79.71188039, 36.68164727]), array([80.3781102 , 37.30521878]), array([81.04434002, 37.9287903 ]), array([81.71056983, 38.55236181]), array([82.37679964, 39.17593333]), array([83.04302945, 39.79950484])], [array([85.99196625, 25.00281334]), array([86.78734869, 25.33486163]), array([87.58273114, 25.66690993]), array([88.37811358, 25.99895822]), array([89.17349602, 26.33100652]), array([89.96887847, 26.66305481]), array([90.76426091, 26.9951031 ]), array([91.55964335, 27.3271514 ]), array([92.3550258 , 27.65919969]), array([93.15040824, 27.99124799]), array([93.94579069, 28.32329628]), array([94.74117313, 28.65534458]), array([95.53655557, 28.98739287]), array([96.33193802, 29.31944116]), array([97.12732046, 29.65148946]), array([97.9227029 , 29.98353775]), array([98.71808535, 30.31558605]), array([99.51346779, 30.64763434]), array([98.71808535, 30.97968264]), array([97.9227029 , 31.31173093]), array([97.12732046, 31.64377922]), array([96.33193802, 31.97582752]), array([95.53655557, 32.30787581]), array([94.74117313, 32.63992411]), array([93.94579069, 32.9719724 ]), array([93.15040824, 33.3040207 ]), array([92.3550258 , 33.63606899]), array([91.55964335, 33.96811728]), array([90.76426091, 34.30016558]), array([89.96887847, 34.63221387]), array([89.17349602, 34.96426217]), array([88.37811358, 35.29631046]), array([87.58273114, 35.62835876]), array([86.78734869, 35.96040705]), array([85.99196625, 36.29245534]), array([85.1965838 , 36.62450364]), array([84.79860196, 36.57733439]), array([83.99259533, 37.18183854]), array([83.21647684, 37.88240805]), array([83.4832195 , 38.46983637]), array([83.62393176, 38.74580249]), array([83.4076658 , 39.67379453]), array([83.94495571, 39.69173668]), array([84.21993687, 40.58415974]), array([84.57111228, 41.5273822 ]), array([84.92228769, 42.47060466]), array([85.27346309, 43.41382712]), array([85.6246385 , 44.35704958]), array([85.97581391, 45.30027203]), array([86.32698931, 46.24349449]), array([86.67816472, 47.18671695])], [array([67.73908234,  9.75620556]), array([68.18909385, 10.44358927]), array([68.63910536, 11.13097298]), array([69.08911687, 11.8183567 ]), array([69.53912838, 12.50574041]), array([69.98913989, 13.19312412]), array([70.4391514 , 13.88050783]), array([70.88916291, 14.56789155]), array([71.33917442, 15.25527526]), array([71.78918593, 15.94265897]), array([72.23919744, 16.63004269]), array([72.68920895, 17.3174264 ]), array([73.13922046, 18.00481011]), array([73.58923197, 18.69219382]), array([74.03924348, 19.37957754]), array([74.48925499, 20.06696125]), array([74.9392665 , 20.75434496]), array([75.38927801, 21.44172867]), array([75.83928952, 22.12911239]), array([76.28930103, 22.8164961 ]), array([76.73931254, 23.50387981]), array([77.18932405, 24.19126352]), array([77.63933556, 24.87864724]), array([78.08934707, 25.56603095]), array([78.53935858, 26.25341466]), array([78.98937009, 26.94079838]), array([79.4393816 , 27.62818209]), array([79.88939312, 28.3155658 ]), array([80.33940463, 29.00294951]), array([80.78941614, 29.69033323]), array([81.23942765, 30.37771694]), array([81.68943916, 31.06510065]), array([82.13945067, 31.75248436]), array([82.58946218, 32.43986808]), array([83.03947369, 33.12725179]), array([83.4894852, 33.8146355]), array([83.93949671, 34.50201921]), array([84.38950822, 35.18940293]), array([84.83951973, 35.87678664]), array([85.4127493 , 36.25635698]), array([85.47133188, 37.19219985]), array([85.6796452 , 38.07811297]), array([85.06461303, 38.7294956 ]), array([84.5617874 , 39.51255755]), array([84.7731921 , 39.39959696]), array([84.24094168, 40.20183548]), array([84.58665053, 41.29894527]), array([84.1974399 , 41.68217004]), array([83.80822928, 42.0653948 ]), array([83.41901865, 42.44861957]), array([83.02980802, 42.83184434])], [array([26.51877594, 86.10144043]), array([26.5972197 , 86.88532622]), array([26.67566346, 87.669212  ]), array([26.75410722, 88.45309779]), array([26.83255098, 89.23698357]), array([26.91099474, 90.02086936]), array([26.98943849, 90.80475514]), array([27.06788225, 91.58864093]), array([27.14632601, 92.37252672]), array([27.22476977, 93.1564125 ]), array([27.30321353, 93.94029829]), array([27.38165729, 94.72418407]), array([27.46010105, 95.50806986]), array([27.53854481, 96.29195564]), array([27.61698857, 97.07584143]), array([27.69543233, 97.85972722]), array([27.77387609, 98.643613  ]), array([27.85231984, 99.42749879]), array([27.9307636, 98.643613 ]), array([28.00920736, 97.85972722]), array([28.08765112, 97.07584143]), array([28.16609488, 96.29195564]), array([28.24453864, 95.50806986]), array([28.3229824 , 94.72418407]), array([28.40142616, 93.94029829]), array([28.47986992, 93.1564125 ]), array([28.55831368, 92.37252672]), array([28.63675744, 91.58864093]), array([28.7152012 , 90.80475514]), array([28.79364495, 90.02086936]), array([28.87208871, 89.23698357]), array([28.95053247, 88.45309779]), array([29.02897623, 87.669212  ]), array([29.10741999, 86.88532622]), array([29.18586375, 86.10144043]), array([29.26430751, 85.31755464]), array([29.34275127, 84.53366886]), array([29.42119503, 83.74978307]), array([29.49963879, 82.96589729]), array([29.57808255, 82.1820115 ]), array([29.6565263 , 81.39812572]), array([29.73497006, 80.61423993]), array([29.81341382, 79.83035414]), array([29.89185758, 79.04646836]), array([29.97030134, 78.26258257]), array([30.0487451 , 77.47869679]), array([30.12718886, 76.694811  ]), array([30.20563262, 75.91092522]), array([30.28407638, 75.12703943]), array([30.36252014, 74.34315364]), array([30.4409639 , 73.55926786])], [array([35.58704376, 37.37995529]), array([36.31069792, 37.41126209]), array([37.03435208, 37.4425689 ]), array([37.75800624, 37.4738757 ]), array([38.4816604, 37.5051825]), array([39.20531456, 37.5364893 ]), array([39.92896871, 37.56779611]), array([40.65262287, 37.59910291]), array([41.37627703, 37.63040971]), array([42.09993119, 37.66171651]), array([42.82358535, 37.69302332]), array([43.54723951, 37.72433012]), array([44.27089367, 37.75563692]), array([44.99454782, 37.78694372]), array([45.71820198, 37.81825053]), array([46.44185614, 37.84955733]), array([47.1655103 , 37.88086413]), array([47.88916446, 37.91217093]), array([48.61281862, 37.94347774]), array([49.33647278, 37.97478454]), array([50.06012693, 38.00609134]), array([50.78378109, 38.03739814]), array([51.50743525, 38.06870495]), array([52.23108941, 38.10001175]), array([52.95474357, 38.13131855]), array([53.67839773, 38.16262535]), array([54.40205189, 38.19393216]), array([55.12570605, 38.22523896]), array([55.8493602 , 38.25654576]), array([56.57301436, 38.28785257]), array([57.29666852, 38.31915937]), array([58.02032268, 38.35046617]), array([58.74397684, 38.38177297]), array([59.467631  , 38.41307978]), array([60.19128516, 38.44438658]), array([60.91493931, 38.47569338]), array([61.63859347, 38.50700018]), array([62.36224763, 38.53830699]), array([63.08590179, 38.56961379]), array([63.80955595, 38.60092059]), array([64.53321011, 38.63222739]), array([65.25686427, 38.6635342 ]), array([65.98051842, 38.694841  ]), array([66.70417258, 38.7261478 ]), array([67.42782674, 38.7574546 ]), array([68.1514809 , 38.78876141]), array([68.87513506, 38.82006821]), array([69.59878922, 38.85137501]), array([70.32244338, 38.88268181]), array([71.04609754, 38.91398862]), array([71.76975169, 38.94529542])], [array([48.75464249, 49.82413101]), array([49.85712545, 50.4203117 ]), array([50.95960842, 51.0164924 ]), array([52.06209139, 51.61267309]), array([53.16457435, 52.20885378]), array([54.26705732, 52.80503448]), array([55.36954028, 53.40121517]), array([56.47202325, 53.99739586]), array([57.57450622, 54.59357655]), array([58.67698918, 55.18975725]), array([59.77947215, 55.78593794]), array([60.88195511, 56.38211863]), array([61.98443808, 56.97829933]), array([63.08692105, 57.57448002]), array([64.18940401, 58.17066071]), array([65.29188698, 58.76684141]), array([66.39436995, 59.3630221 ]), array([67.49685291, 59.95920279]), array([68.59933588, 60.55538348]), array([69.70181884, 61.15156418]), array([70.80430181, 61.74774487]), array([71.90678478, 62.34392556]), array([73.00926774, 62.94010626]), array([74.11175071, 63.53628695]), array([75.21423367, 64.13246764]), array([76.31671664, 64.72864833]), array([77.41919961, 65.32482903]), array([78.52168257, 65.92100972]), array([79.62416554, 66.51719041]), array([80.72664851, 67.11337111]), array([81.82913147, 67.7095518 ]), array([82.93161444, 68.30573249]), array([84.0340974 , 68.90191318]), array([85.13658037, 69.49809388]), array([86.23906334, 70.09427457]), array([87.3415463 , 70.69045526]), array([88.44402927, 71.28663596]), array([89.54651224, 71.88281665]), array([90.6489952 , 72.47899734]), array([91.75147817, 73.07517803]), array([92.85396113, 73.67135873]), array([93.9564441 , 74.26753942]), array([95.05892707, 74.86372011]), array([96.16141003, 75.45990081]), array([97.263893 , 76.0560815]), array([98.36637596, 76.65226219]), array([99.46885893, 77.24844288]), array([98.36637596, 77.84462358]), array([97.263893  , 78.44080427]), array([96.16141003, 79.03698496]), array([95.05892707, 79.63316566])], [array([62.54832458, 26.8126545 ]), array([62.82323591, 26.89228231]), array([63.09814723, 26.97191012]), array([63.37305855, 27.05153793]), array([63.64796987, 27.13116575]), array([63.92288119, 27.21079356]), array([64.19779251, 27.29042137]), array([64.47270383, 27.37004918]), array([64.74761515, 27.449677  ]), array([65.02252648, 27.52930481]), array([65.2974378 , 27.60893262]), array([65.57234912, 27.68856043]), array([65.84726044, 27.76818825]), array([66.12217176, 27.84781606]), array([66.39708308, 27.92744387]), array([66.6719944 , 28.00707168]), array([66.94690572, 28.0866995 ]), array([67.22181705, 28.16632731]), array([67.49672837, 28.24595512]), array([67.77163969, 28.32558293]), array([68.04655101, 28.40521075]), array([68.32146233, 28.48483856]), array([68.59637365, 28.56446637]), array([68.87128497, 28.64409418]), array([69.14619629, 28.723722  ]), array([69.42110762, 28.80334981]), array([69.69601894, 28.88297762]), array([69.97093026, 28.96260543]), array([70.24584158, 29.04223325]), array([70.5207529 , 29.12186106]), array([70.79566422, 29.20148887]), array([71.07057554, 29.28111668]), array([71.34548686, 29.3607445 ]), array([71.62039819, 29.44037231]), array([71.89530951, 29.52000012]), array([72.17022083, 29.59962793]), array([72.44513215, 29.67925575]), array([72.72004347, 29.75888356]), array([72.99495479, 29.83851137]), array([73.26986611, 29.91813918]), array([73.54477743, 29.997767  ]), array([73.81968875, 30.07739481]), array([74.09460008, 30.15702262]), array([74.3695114 , 30.23665043]), array([74.64442272, 30.31627825]), array([74.91933404, 30.39590606]), array([75.19424536, 30.47553387]), array([75.46915668, 30.55516168]), array([75.744068 , 30.6347895]), array([76.01897932, 30.71441731]), array([76.29389065, 30.79404512])], [array([63.32127762, 20.5213356 ]), array([63.40503556, 20.51280479]), array([63.4887935 , 20.50427398]), array([63.57255144, 20.49574317]), array([63.65630938, 20.48721235]), array([63.74006733, 20.47868154]), array([63.82382527, 20.47015073]), array([63.90758321, 20.46161992]), array([63.99134115, 20.45308911]), array([64.07509909, 20.4445583 ]), array([64.15885703, 20.43602748]), array([64.24261498, 20.42749667]), array([64.32637292, 20.41896586]), array([64.41013086, 20.41043505]), array([64.4938888 , 20.40190424]), array([64.57764674, 20.39337342]), array([64.66140468, 20.38484261]), array([64.74516263, 20.3763118 ]), array([64.82892057, 20.36778099]), array([64.91267851, 20.35925018]), array([64.99643645, 20.35071937]), array([65.08019439, 20.34218855]), array([65.16395233, 20.33365774]), array([65.24771028, 20.32512693]), array([65.33146822, 20.31659612]), array([65.41522616, 20.30806531]), array([65.4989841 , 20.29953449]), array([65.58274204, 20.29100368]), array([65.66649998, 20.28247287]), array([65.75025792, 20.27394206]), array([65.83401587, 20.26541125]), array([65.91777381, 20.25688044]), array([66.00153175, 20.24834962]), array([66.08528969, 20.23981881]), array([66.16904763, 20.231288  ]), array([66.25280557, 20.22275719]), array([66.33656352, 20.21422638]), array([66.42032146, 20.20569556]), array([66.5040794 , 20.19716475]), array([66.58783734, 20.18863394]), array([66.67159528, 20.18010313]), array([66.75535322, 20.17157232]), array([66.83911117, 20.16304151]), array([66.92286911, 20.15451069]), array([67.00662705, 20.14597988]), array([67.09038499, 20.13744907]), array([67.17414293, 20.12891826]), array([67.25790087, 20.12038745]), array([67.34165882, 20.11185663]), array([67.42541676, 20.10332582]), array([67.5091747 , 20.09479501])], [array([80.10701752, 83.05789948]), array([80.37428407, 83.92359495]), array([80.48560243, 83.95531133]), array([80.79736585, 84.81317709]), array([81.10912927, 85.67104286]), array([81.42089269, 86.52890863]), array([81.73265611, 87.38677439]), array([82.04441952, 88.24464016]), array([82.35618294, 89.10250593]), array([82.66794636, 89.96037169]), array([82.97970978, 90.81823746]), array([83.2914732 , 91.67610323]), array([83.60323662, 92.53396899]), array([83.91500004, 93.39183476]), array([84.22676346, 94.24970053]), array([84.53852688, 95.10756629]), array([84.8502903 , 95.96543206]), array([85.16205371, 96.82329783]), array([85.47381713, 97.68116359]), array([85.78558055, 98.53902936]), array([86.09734397, 99.39689512]), array([86.40910739, 98.53902936]), array([86.72087081, 97.68116359]), array([87.03263423, 96.82329783]), array([87.34439765, 95.96543206]), array([87.65616107, 95.10756629]), array([87.96792449, 94.24970053]), array([88.2796879 , 93.39183476]), array([88.59145132, 92.53396899]), array([88.90321474, 91.67610323]), array([89.21497816, 90.81823746]), array([89.52674158, 89.96037169]), array([89.838505  , 89.10250593]), array([90.15026842, 88.24464016]), array([90.46203184, 87.38677439]), array([90.77379526, 86.52890863]), array([91.08555868, 85.67104286]), array([91.39732209, 84.81317709]), array([91.70908551, 83.95531133]), array([92.02084893, 83.09744556]), array([92.33261235, 82.23957979]), array([92.64437577, 81.38171403]), array([92.95613919, 80.52384826]), array([93.26790261, 79.66598249]), array([92.13926082, 78.83450919]), array([91.01061903, 78.00303589]), array([89.88197724, 77.17156258]), array([88.75333545, 76.34008928]), array([87.62469366, 75.50861598]), array([86.49605187, 74.67714267]), array([85.36741009, 73.84566937])], [array([61.07125473, 10.55317211]), array([61.81979727, 11.13345667]), array([62.56833981, 11.71374124]), array([63.31688235, 12.2940258 ]), array([64.06542489, 12.87431037]), array([64.81396743, 13.45459493]), array([65.56250997, 14.03487949]), array([66.31105251, 14.61516406]), array([67.05959505, 15.19544862]), array([67.80813759, 15.77573318]), array([68.55668013, 16.35601775]), array([69.30522267, 16.93630231]), array([70.05376521, 17.51658687]), array([70.80230775, 18.09687144]), array([71.55085029, 18.677156  ]), array([72.29939283, 19.25744056]), array([73.04793537, 19.83772513]), array([73.79647791, 20.41800969]), array([74.54502045, 20.99829425]), array([75.29356299, 21.57857882]), array([76.04210553, 22.15886338]), array([76.79064807, 22.73914794]), array([77.53919061, 23.31943251]), array([78.28773315, 23.89971707]), array([79.03627569, 24.48000163]), array([79.78481823, 25.0602862 ]), array([80.53336077, 25.64057076]), array([81.28190331, 26.22085532]), array([82.03044585, 26.80113989]), array([82.77898839, 27.38142445]), array([83.52753093, 27.96170901]), array([84.27607347, 28.54199358]), array([85.02461601, 29.12227814]), array([85.77315855, 29.70256271]), array([86.52170109, 30.28284727]), array([87.27024363, 30.86313183]), array([88.01878617, 31.4434164 ]), array([88.76732871, 32.02370096]), array([89.51587125, 32.60398552]), array([90.26441379, 33.18427009]), array([91.01295633, 33.76455465]), array([91.76149887, 34.34483921]), array([92.51004141, 34.92512378]), array([93.25858395, 35.50540834]), array([94.00712649, 36.0856929 ]), array([94.75566903, 36.66597747]), array([95.50421157, 37.24626203]), array([96.25275411, 37.82654659]), array([97.00129665, 38.40683116]), array([97.74983919, 38.98711572]), array([98.49838173, 39.56740028])], [array([80.02598572, 82.06096649]), array([80.14612783, 82.090542  ]), array([80.26626993, 82.12011751]), array([80.38641204, 82.14969302]), array([80.50655415, 82.17926852]), array([80.62669626, 82.20884403]), array([80.74683837, 82.23841954]), array([80.86698047, 82.26799505]), array([80.98712258, 82.29757055]), array([81.10726469, 82.32714606]), array([81.2274068 , 82.35672157]), array([81.34754891, 82.38629708]), array([81.46769101, 82.41587259]), array([81.58783312, 82.44544809]), array([81.70797523, 82.4750236 ]), array([81.82811734, 82.50459911]), array([81.94825945, 82.53417462]), array([82.06840155, 82.56375012]), array([82.18854366, 82.59332563]), array([82.30868577, 82.62290114]), array([82.42882788, 82.65247665]), array([82.54896999, 82.68205216]), array([82.66911209, 82.71162766]), array([82.7892542 , 82.74120317]), array([82.90939631, 82.77077868]), array([83.02953842, 82.80035419]), array([83.14968053, 82.8299297 ]), array([83.26982263, 82.8595052 ]), array([83.38996474, 82.88908071]), array([83.51010685, 82.91865622]), array([83.63024896, 82.94823173]), array([83.75039107, 82.97780723]), array([83.87053317, 83.00738274]), array([83.99067528, 83.03695825]), array([84.11081739, 83.06653376]), array([84.2309595 , 83.09610927]), array([84.3511016 , 83.12568477]), array([84.47124371, 83.15526028]), array([84.59138582, 83.18483579]), array([84.71152793, 83.2144113 ]), array([84.83167004, 83.24398681]), array([84.95181214, 83.27356231]), array([85.07195425, 83.30313782]), array([85.19209636, 83.33271333]), array([85.31223847, 83.36228884]), array([85.43238058, 83.39186434]), array([85.55252268, 83.42143985]), array([85.67266479, 83.45101536]), array([85.7928069 , 83.48059087]), array([85.91294901, 83.51016638]), array([86.03309112, 83.53974188])], [array([15.94913292, 54.64080048]), array([16.65684553, 55.50330015]), array([17.36455815, 56.36579983]), array([18.07227077, 57.2282995 ]), array([18.77998338, 58.09079918]), array([19.487696  , 58.95329885]), array([20.19540861, 59.81579853]), array([20.90312123, 60.6782982 ]), array([21.61083384, 61.54079788]), array([22.31854646, 62.40329756]), array([23.02625907, 63.26579723]), array([23.73397169, 64.12829691]), array([24.4416843 , 64.99079658]), array([25.14939692, 65.85329626]), array([25.85710954, 66.71579593]), array([26.56482215, 67.57829561]), array([27.27253477, 68.44079528]), array([27.98024738, 69.30329496]), array([28.68796   , 70.16579464]), array([29.39567261, 71.02829431]), array([30.10338523, 71.89079399]), array([30.46634132, 71.04934344]), array([30.82929742, 70.2078929 ]), array([31.19225351, 69.36644235]), array([31.55520961, 68.52499181]), array([31.9181657 , 67.68354127]), array([32.2811218 , 66.84209072]), array([32.64407789, 66.00064018]), array([33.00703399, 65.15918963]), array([33.36999008, 64.31773909]), array([33.73294618, 63.47628854]), array([34.09590227, 62.634838  ]), array([34.45885837, 61.79338746]), array([34.82181446, 60.95193691]), array([35.18477056, 60.11048637]), array([35.54772665, 59.26903582]), array([35.91068275, 58.42758528]), array([36.27363884, 57.58613474]), array([36.63659494, 56.74468419]), array([36.99955103, 55.90323365]), array([37.36250713, 55.0617831 ]), array([37.72546322, 54.22033256]), array([38.08841932, 53.37888201]), array([38.45137541, 52.53743147]), array([38.81433151, 51.69598093]), array([39.1772876 , 50.85453038]), array([39.5402437 , 50.01307984]), array([39.90319979, 49.17162929]), array([40.26615589, 48.33017875]), array([40.62911198, 47.4887282 ]), array([40.99206808, 46.64727766])], [array([25.5767498 , 18.37674141]), array([25.61121244, 19.12385145]), array([25.64567508, 19.8709615 ]), array([25.68013771, 20.61807154]), array([25.71460035, 21.36518159]), array([25.74906299, 22.11229163]), array([25.78352562, 22.85940168]), array([25.81798826, 23.60651172]), array([25.8524509 , 24.35362177]), array([25.88691354, 25.10073181]), array([25.92137617, 25.84784186]), array([25.95583881, 26.5949519 ]), array([25.99030145, 27.34206195]), array([26.02476408, 28.08917199]), array([26.05922672, 28.83628204]), array([26.09368936, 29.58339208]), array([26.128152  , 30.33050213]), array([26.16261463, 31.07761217]), array([26.19707727, 31.82472222]), array([26.23153991, 32.57183226]), array([26.26600254, 33.31894231]), array([26.30046518, 34.06605235]), array([26.33492782, 34.8131624 ]), array([26.36939046, 35.56027244]), array([26.40385309, 36.30738249]), array([26.43831573, 37.05449253]), array([26.47277837, 37.80160258]), array([26.507241  , 38.54871262]), array([26.54170364, 39.29582267]), array([26.57616628, 40.04293271]), array([26.61062892, 40.79004276]), array([26.64509155, 41.5371528 ]), array([26.67955419, 42.28426285]), array([26.71401683, 43.03137289]), array([26.74847946, 43.77848294]), array([26.7829421 , 44.52559298]), array([26.81740474, 45.27270303]), array([26.85186738, 46.01981307]), array([26.88633001, 46.76692312]), array([26.92079265, 47.51403316]), array([26.95525529, 48.26114321]), array([26.98971792, 49.00825325]), array([27.02418056, 49.7553633 ]), array([27.0586432 , 50.50247334]), array([27.09310584, 51.24958339]), array([27.12756847, 51.99669343]), array([27.16203111, 52.74380348]), array([27.19649375, 53.49091352]), array([27.23095638, 54.23802357]), array([27.26541902, 54.98513361]), array([27.29988166, 55.73224366])], [array([89.78424835, 59.6977272 ]), array([89.50264946, 59.35230219]), array([88.59164352, 59.57223173]), array([87.746089  , 60.17456018]), array([88.10514931, 60.66897869]), array([88.03155584, 61.59819629]), array([88.35069235, 61.6150784 ]), array([88.49805317, 62.42603745]), array([88.64541398, 63.23699649]), array([88.79277479, 64.04795554]), array([88.9401356 , 64.85891459]), array([89.08749642, 65.66987364]), array([89.23485723, 66.48083269]), array([89.38221804, 67.29179174]), array([89.52957886, 68.10275079]), array([89.67693967, 68.91370984]), array([89.82430048, 69.72466889]), array([89.9716613 , 70.53562794]), array([90.11902211, 71.34658699]), array([90.26638292, 72.15754604]), array([90.41374373, 72.96850509]), array([90.56110455, 73.77946414]), array([90.70846536, 74.59042319]), array([90.85582617, 75.40138224]), array([91.00318699, 76.21234129]), array([91.1505478 , 77.02330034]), array([91.29790861, 77.83425939]), array([91.44526943, 78.64521844]), array([91.59263024, 79.45617749]), array([91.73999105, 80.26713654]), array([91.88735187, 81.07809559]), array([92.03471268, 81.88905463]), array([92.18207349, 82.70001368]), array([92.3294343 , 83.51097273]), array([92.47679512, 84.32193178]), array([92.62415593, 85.13289083]), array([92.77151674, 85.94384988]), array([92.91887756, 86.75480893]), array([93.06623837, 87.56576798]), array([93.21359918, 88.37672703]), array([93.36096   , 89.18768608]), array([93.50832081, 89.99864513]), array([93.65568162, 90.80960418]), array([93.80304243, 91.62056323]), array([93.95040325, 92.43152228]), array([94.09776406, 93.24248133]), array([94.24512487, 94.05344038]), array([94.39248569, 94.86439943]), array([94.5398465 , 95.67535848]), array([94.68720731, 96.48631753]), array([94.83456813, 97.29727658])], [array([12.54727173, 25.08690453]), array([12.78144584, 25.40021642]), array([13.01561995, 25.71352831]), array([13.24979407, 26.02684021]), array([13.48396818, 26.3401521 ]), array([13.71814229, 26.653464  ]), array([13.95231641, 26.96677589]), array([14.18649052, 27.28008778]), array([14.42066463, 27.59339968]), array([14.65483874, 27.90671157]), array([14.88901286, 28.22002347]), array([15.12318697, 28.53333536]), array([15.35736108, 28.84664725]), array([15.5915352 , 29.15995915]), array([15.82570931, 29.47327104]), array([16.05988342, 29.78658294]), array([16.29405753, 30.09989483]), array([16.52823165, 30.41320673]), array([16.76240576, 30.72651862]), array([16.99657987, 31.03983051]), array([17.23075398, 31.35314241]), array([17.4649281, 31.6664543]), array([17.69910221, 31.9797662 ]), array([17.93327632, 32.29307809]), array([18.16745044, 32.60638998]), array([18.40162455, 32.91970188]), array([18.63579866, 33.23301377]), array([18.86997277, 33.54632567]), array([19.10414689, 33.85963756]), array([19.338321  , 34.17294945]), array([19.57249511, 34.48626135]), array([19.80666923, 34.79957324]), array([20.04084334, 35.11288514]), array([20.27501745, 35.42619703]), array([20.50919156, 35.73950892]), array([20.74336568, 36.05282082]), array([20.97753979, 36.36613271]), array([21.8096832 , 36.80388544]), array([22.06832765, 37.24281767]), array([22.89594305, 37.43060775]), array([23.61759327, 38.00460609]), array([24.08502841, 38.02139422]), array([24.91232396, 38.47015468]), array([25.73961951, 38.91891514]), array([26.56691506, 39.3676756 ]), array([27.39421061, 39.81643606]), array([28.22150616, 40.26519652]), array([29.04880171, 40.71395698]), array([29.87609726, 41.16271744]), array([30.70339281, 41.61147791]), array([31.53068836, 42.06023837])], [array([55.26400375, 12.80239391]), array([55.7038639 , 13.78598704]), array([56.14372405, 14.76958017]), array([56.58358421, 15.75317331]), array([57.02344436, 16.73676644]), array([57.46330451, 17.72035957]), array([57.90316466, 18.7039527 ]), array([58.34302481, 19.68754583]), array([58.78288496, 20.67113896]), array([59.22274511, 21.65473209]), array([59.66260526, 22.63832522]), array([60.10246541, 23.62191835]), array([60.54232556, 24.60551148]), array([60.98218571, 25.58910461]), array([61.42204586, 26.57269774]), array([61.86190601, 27.55629087]), array([62.30176616, 28.539884  ]), array([62.74162631, 29.52347714]), array([63.18148646, 30.50707027]), array([63.62134662, 31.4906634 ]), array([64.06120677, 32.47425653]), array([64.50106692, 33.45784966]), array([64.94092707, 34.44144279]), array([65.38078722, 35.42503592]), array([65.82064737, 36.40862905]), array([66.26050752, 37.39222218]), array([66.70036767, 38.37581531]), array([67.14022782, 39.35940844]), array([67.58008797, 40.34300157]), array([68.01994812, 41.3265947 ]), array([68.45980827, 42.31018783]), array([68.89966842, 43.29378097]), array([69.33952857, 44.2773741 ]), array([69.77938872, 45.26096723]), array([70.21924887, 46.24456036]), array([70.65910903, 47.22815349]), array([71.09896918, 48.21174662]), array([71.53882933, 49.19533975]), array([71.97868948, 50.17893288]), array([72.41854963, 51.16252601]), array([72.85840978, 52.14611914]), array([73.29826993, 53.12971227]), array([73.73813008, 54.1133054 ]), array([74.17799023, 55.09689853]), array([74.61785038, 56.08049166]), array([75.05771053, 57.06408479]), array([75.49757068, 58.04767793]), array([75.93743083, 59.03127106]), array([76.37729098, 60.01486419]), array([76.81715113, 60.99845732]), array([77.25701128, 61.98205045])], [array([52.10221863, 15.75380421]), array([52.59135676, 16.51085828]), array([53.08049488, 17.26791236]), array([53.56963301, 18.02496643]), array([54.05877114, 18.78202051]), array([54.54790926, 19.53907459]), array([55.03704739, 20.29612866]), array([55.52618552, 21.05318274]), array([56.01532365, 21.81023681]), array([56.50446177, 22.56729089]), array([56.9935999 , 23.32434497]), array([57.48273803, 24.08139904]), array([57.97187616, 24.83845312]), array([58.46101428, 25.59550719]), array([58.95015241, 26.35256127]), array([59.43929054, 27.10961535]), array([59.92842866, 27.86666942]), array([60.41756679, 28.6237235 ]), array([60.90670492, 29.38077757]), array([61.39584305, 30.13783165]), array([61.88498117, 30.89488572]), array([62.3741193, 31.6519398]), array([62.86325743, 32.40899388]), array([63.35239556, 33.16604795]), array([63.84153368, 33.92310203]), array([64.33067181, 34.6801561 ]), array([64.81980994, 35.43721018]), array([65.30894806, 36.19426426]), array([65.79808619, 36.95131833]), array([66.28722432, 37.70837241]), array([66.77636245, 38.46542648]), array([67.26550057, 39.22248056]), array([67.7546387 , 39.97953463]), array([68.24377683, 40.73658871]), array([68.73291496, 41.49364279]), array([69.22205308, 42.25069686]), array([69.71119121, 43.00775094]), array([70.20032934, 43.76480501]), array([70.68946746, 44.52185909]), array([71.17860559, 45.27891317]), array([71.66774372, 46.03596724]), array([72.15688185, 46.79302132]), array([72.64601997, 47.55007539]), array([73.1351581 , 48.30712947]), array([73.62429623, 49.06418355]), array([74.11343436, 49.82123762]), array([74.60257248, 50.5782917 ]), array([75.09171061, 51.33534577]), array([75.58084874, 52.09239985]), array([76.06998686, 52.84945392]), array([76.55912499, 53.606508  ])], [array([33.51810074,  6.12111139]), array([34.47783193,  6.92335045]), array([35.43756313,  7.72558951]), array([36.39729432,  8.52782856]), array([37.35702552,  9.33006762]), array([38.31675671, 10.13230668]), array([39.27648791, 10.93454573]), array([40.2362191 , 11.73678479]), array([41.1959503 , 12.53902385]), array([42.15568149, 13.3412629 ]), array([43.11541269, 14.14350196]), array([44.07514388, 14.94574102]), array([45.03487508, 15.74798007]), array([45.99460627, 16.55021913]), array([46.95433747, 17.35245819]), array([47.91406866, 18.15469724]), array([48.87379986, 18.9569363 ]), array([49.83353105, 19.75917536]), array([50.79326225, 20.56141441]), array([51.75299344, 21.36365347]), array([52.71272464, 22.16589253]), array([53.67245583, 22.96813159]), array([54.63218703, 23.77037064]), array([55.59191822, 24.5726097 ]), array([56.55164942, 25.37484876]), array([57.51138061, 26.17708781]), array([58.47111181, 26.97932687]), array([59.430843  , 27.78156593]), array([60.3905742 , 28.58380498]), array([61.35030539, 29.38604404]), array([62.31003659, 30.1882831 ]), array([63.26976778, 30.99052215]), array([64.22949898, 31.79276121]), array([65.18923017, 32.59500027]), array([66.14896137, 33.39723932]), array([67.10869256, 34.19947838]), array([68.06842376, 35.00171744]), array([69.02815495, 35.80395649]), array([69.98788615, 36.60619555]), array([70.94761734, 37.40843461]), array([71.53417518, 37.51308025]), array([72.23414978, 38.30725643]), array([73.39141125, 38.47316374]), array([73.83219173, 38.84766809]), array([75.0690113 , 39.18449125]), array([76.30583087, 39.52131442]), array([77.54265044, 39.85813758]), array([78.77947001, 40.19496075]), array([80.01628958, 40.53178391]), array([81.25310915, 40.86860708]), array([81.49422695, 41.80015336])], [array([23.06860924, 36.80129623]), array([23.33160625, 36.98839431]), array([23.59460326, 37.17549239]), array([23.85760028, 37.36259047]), array([24.12059729, 37.54968855]), array([24.3835943 , 37.73678663]), array([24.64659132, 37.92388471]), array([24.90958833, 38.11098279]), array([25.17258534, 38.29808087]), array([25.43558236, 38.48517895]), array([25.69857937, 38.67227703]), array([25.96157638, 38.85937511]), array([26.2245734 , 39.04647319]), array([26.48757041, 39.23357127]), array([26.75056742, 39.42066935]), array([27.01356444, 39.60776743]), array([27.27656145, 39.79486551]), array([27.53955846, 39.98196359]), array([27.80255548, 40.16906167]), array([28.06555249, 40.35615975]), array([28.3285495 , 40.54325783]), array([28.59154652, 40.73035591]), array([28.85454353, 40.91745399]), array([29.11754054, 41.10455207]), array([29.38053756, 41.29165015]), array([29.64353457, 41.47874823]), array([30.49553379, 41.84733601]), array([30.73874154, 42.09071241]), array([31.57920442, 42.31110648]), array([32.4347387 , 42.60943209]), array([32.85422942, 42.64286938]), array([33.69404948, 42.86133826]), array([34.53386955, 43.07980714]), array([35.37368962, 43.29827602]), array([36.21350969, 43.5167449 ]), array([37.05332976, 43.73521378]), array([37.89314982, 43.95368266]), array([38.73296989, 44.17215154]), array([39.57278996, 44.39062042]), array([40.41261003, 44.6090893 ]), array([40.93796801, 43.72146781]), array([41.46332599, 42.83384632]), array([41.98868397, 41.94622483]), array([42.51404195, 41.05860334]), array([43.03939993, 40.17098186]), array([43.56475791, 39.28336037]), array([44.0901159 , 38.39573888]), array([44.61547388, 37.50811739]), array([45.14083186, 36.62049591]), array([45.66618984, 35.73287442]), array([46.19154782, 34.84525293])], [array([24.07940674, 81.45605469]), array([24.80801497, 82.28380858]), array([25.5366232 , 83.11156246]), array([26.26523143, 83.93931635]), array([26.99383966, 84.76707024]), array([27.72244789, 85.59482413]), array([28.45105612, 86.42257801]), array([29.17966435, 87.2503319 ]), array([29.90827257, 88.07808579]), array([30.6368808 , 88.90583968]), array([31.36548903, 89.73359356]), array([32.09409726, 90.56134745]), array([32.82270549, 91.38910134]), array([33.55131372, 92.21685523]), array([34.27992195, 93.04460912]), array([35.00853018, 93.872363  ]), array([35.73713841, 94.70011689]), array([36.46574664, 95.52787078]), array([37.19435487, 96.35562467]), array([37.9229631 , 97.18337855]), array([38.65157133, 98.01113244]), array([39.38017956, 98.83888633]), array([40.10878779, 99.66664022]), array([40.83739602, 98.83888633]), array([41.56600425, 98.01113244]), array([42.29461248, 97.18337855]), array([43.02322071, 96.35562467]), array([43.75182894, 95.52787078]), array([44.48043717, 94.70011689]), array([45.2090454, 93.872363 ]), array([45.93765363, 93.04460912]), array([46.66626185, 92.21685523]), array([47.39487008, 91.38910134]), array([48.12347831, 90.56134745]), array([48.85208654, 89.73359356]), array([49.58069477, 88.90583968]), array([50.309303  , 88.07808579]), array([51.03791123, 87.2503319 ]), array([51.76651946, 86.42257801]), array([52.49512769, 85.59482413]), array([53.22373592, 84.76707024]), array([53.95234415, 83.93931635]), array([54.68095238, 83.11156246]), array([55.40956061, 82.28380858]), array([56.13816884, 81.45605469]), array([56.86677707, 80.6283008 ]), array([57.5953853 , 79.80054691]), array([58.32399353, 78.97279302]), array([59.05260176, 78.14503914]), array([59.78120999, 77.31728525]), array([60.50981822, 76.48953136])], [array([17.40966606, 48.00275803]), array([18.01378691, 48.53554438]), array([18.61790776, 49.06833074]), array([19.22202862, 49.6011171 ]), array([19.82614947, 50.13390346]), array([20.43027032, 50.66668981]), array([21.03439117, 51.19947617]), array([21.63851202, 51.73226253]), array([22.24263287, 52.26504889]), array([22.84675372, 52.79783524]), array([23.45087458, 53.3306216 ]), array([24.05499543, 53.86340796]), array([24.65911628, 54.39619432]), array([25.26323713, 54.92898067]), array([25.44753573, 55.29618699]), array([26.00931307, 55.75225475]), array([26.08053479, 56.21592889]), array([26.45960832, 56.55748571]), array([26.47947831, 57.25182043]), array([26.6799756 , 57.61159162]), array([26.73708974, 58.40605256]), array([26.79420388, 59.2005135 ]), array([26.85131803, 59.99497444]), array([26.90843217, 60.78943538]), array([26.96554631, 61.58389632]), array([27.02266046, 62.37835726]), array([27.0797746, 63.1728182]), array([27.13688874, 63.96727914]), array([27.19400289, 64.76174008]), array([27.25111703, 65.55620102]), array([27.30823117, 66.35066196]), array([27.36534532, 67.1451229 ]), array([27.42245946, 67.93958384]), array([27.4795736 , 68.73404478]), array([27.53668775, 69.52850572]), array([27.59380189, 70.32296666]), array([27.65091603, 71.1174276 ]), array([27.70803018, 71.91188855]), array([27.76514432, 72.70634949]), array([27.82225846, 73.50081043]), array([27.8793726 , 74.29527137]), array([27.93648675, 75.08973231]), array([27.99360089, 75.88419325]), array([28.05071503, 76.67865419]), array([28.10782918, 77.47311513]), array([28.16494332, 78.26757607]), array([28.22205746, 79.06203701]), array([28.27917161, 79.85649795]), array([28.33628575, 80.65095889]), array([28.39339989, 81.44541983]), array([28.45051404, 82.23988077])]]\n"
          ],
          "name": "stdout"
        }
      ]
    },
    {
      "cell_type": "markdown",
      "metadata": {
        "id": "3KU2IyvX0XJd"
      },
      "source": [
        "PRUEBA PARA MUCHAS PARTÍCULAS"
      ]
    },
    {
      "cell_type": "code",
      "metadata": {
        "colab": {
          "base_uri": "https://localhost:8080/"
        },
        "id": "8H0R4WpRJigT",
        "outputId": "905a8d58-4073-48a4-fada-98ad66d29d0a"
      },
      "source": [
        "funcion_simuladora_definitiva(1000,1000,0,100,1,1,150,0.01,1500)#se demora entre 5 y 10 minutos (1500 pasos, con 150 partículas)"
      ],
      "execution_count": 9,
      "outputs": [
        {
          "output_type": "execute_result",
          "data": {
            "text/plain": [
              "[<_cython_magic_23919ec3535f64540f628291a417670d.Particula at 0x7f0a6202ee48>,\n",
              " <_cython_magic_23919ec3535f64540f628291a417670d.Particula at 0x7f0a62004470>,\n",
              " <_cython_magic_23919ec3535f64540f628291a417670d.Particula at 0x7f0a620045c0>,\n",
              " <_cython_magic_23919ec3535f64540f628291a417670d.Particula at 0x7f0a62004be0>,\n",
              " <_cython_magic_23919ec3535f64540f628291a417670d.Particula at 0x7f0a62004128>,\n",
              " <_cython_magic_23919ec3535f64540f628291a417670d.Particula at 0x7f0a62004438>,\n",
              " <_cython_magic_23919ec3535f64540f628291a417670d.Particula at 0x7f0a78c5fbe0>,\n",
              " <_cython_magic_23919ec3535f64540f628291a417670d.Particula at 0x7f0a61fbf780>,\n",
              " <_cython_magic_23919ec3535f64540f628291a417670d.Particula at 0x7f0a61fbf2b0>,\n",
              " <_cython_magic_23919ec3535f64540f628291a417670d.Particula at 0x7f0a61fbfd30>,\n",
              " <_cython_magic_23919ec3535f64540f628291a417670d.Particula at 0x7f0a61fbf320>,\n",
              " <_cython_magic_23919ec3535f64540f628291a417670d.Particula at 0x7f0a61fbfd68>,\n",
              " <_cython_magic_23919ec3535f64540f628291a417670d.Particula at 0x7f0a62023780>,\n",
              " <_cython_magic_23919ec3535f64540f628291a417670d.Particula at 0x7f0a62023ef0>,\n",
              " <_cython_magic_23919ec3535f64540f628291a417670d.Particula at 0x7f0a61ffc5c0>,\n",
              " <_cython_magic_23919ec3535f64540f628291a417670d.Particula at 0x7f0a61ffc860>,\n",
              " <_cython_magic_23919ec3535f64540f628291a417670d.Particula at 0x7f0a6202eb38>,\n",
              " <_cython_magic_23919ec3535f64540f628291a417670d.Particula at 0x7f0a62004cc0>,\n",
              " <_cython_magic_23919ec3535f64540f628291a417670d.Particula at 0x7f0a620040f0>,\n",
              " <_cython_magic_23919ec3535f64540f628291a417670d.Particula at 0x7f0a61fbf828>,\n",
              " <_cython_magic_23919ec3535f64540f628291a417670d.Particula at 0x7f0a624ee748>,\n",
              " <_cython_magic_23919ec3535f64540f628291a417670d.Particula at 0x7f0a624ee240>,\n",
              " <_cython_magic_23919ec3535f64540f628291a417670d.Particula at 0x7f0a61fde048>,\n",
              " <_cython_magic_23919ec3535f64540f628291a417670d.Particula at 0x7f0a6202ed30>,\n",
              " <_cython_magic_23919ec3535f64540f628291a417670d.Particula at 0x7f0a61fbf8d0>,\n",
              " <_cython_magic_23919ec3535f64540f628291a417670d.Particula at 0x7f0a61fbf278>,\n",
              " <_cython_magic_23919ec3535f64540f628291a417670d.Particula at 0x7f0a62023940>,\n",
              " <_cython_magic_23919ec3535f64540f628291a417670d.Particula at 0x7f0a61fdeda0>,\n",
              " <_cython_magic_23919ec3535f64540f628291a417670d.Particula at 0x7f0a620044a8>,\n",
              " <_cython_magic_23919ec3535f64540f628291a417670d.Particula at 0x7f0a61fbf518>,\n",
              " <_cython_magic_23919ec3535f64540f628291a417670d.Particula at 0x7f0a61fbf208>,\n",
              " <_cython_magic_23919ec3535f64540f628291a417670d.Particula at 0x7f0a61ffc1d0>,\n",
              " <_cython_magic_23919ec3535f64540f628291a417670d.Particula at 0x7f0a62004c18>,\n",
              " <_cython_magic_23919ec3535f64540f628291a417670d.Particula at 0x7f0a61fbf6d8>,\n",
              " <_cython_magic_23919ec3535f64540f628291a417670d.Particula at 0x7f0a62023860>,\n",
              " <_cython_magic_23919ec3535f64540f628291a417670d.Particula at 0x7f0a61fde2b0>,\n",
              " <_cython_magic_23919ec3535f64540f628291a417670d.Particula at 0x7f0a61fbf908>,\n",
              " <_cython_magic_23919ec3535f64540f628291a417670d.Particula at 0x7f0a61fbf390>,\n",
              " <_cython_magic_23919ec3535f64540f628291a417670d.Particula at 0x7f0a61fdeef0>,\n",
              " <_cython_magic_23919ec3535f64540f628291a417670d.Particula at 0x7f0a63e26fd0>,\n",
              " <_cython_magic_23919ec3535f64540f628291a417670d.Particula at 0x7f0a62023c18>,\n",
              " <_cython_magic_23919ec3535f64540f628291a417670d.Particula at 0x7f0a6202ecc0>,\n",
              " <_cython_magic_23919ec3535f64540f628291a417670d.Particula at 0x7f0a61fbf358>,\n",
              " <_cython_magic_23919ec3535f64540f628291a417670d.Particula at 0x7f0a61ffc390>,\n",
              " <_cython_magic_23919ec3535f64540f628291a417670d.Particula at 0x7f0a63e41390>,\n",
              " <_cython_magic_23919ec3535f64540f628291a417670d.Particula at 0x7f0a620235c0>,\n",
              " <_cython_magic_23919ec3535f64540f628291a417670d.Particula at 0x7f0a6202eba8>,\n",
              " <_cython_magic_23919ec3535f64540f628291a417670d.Particula at 0x7f0a61fbfdd8>,\n",
              " <_cython_magic_23919ec3535f64540f628291a417670d.Particula at 0x7f0a61fdecf8>,\n",
              " <_cython_magic_23919ec3535f64540f628291a417670d.Particula at 0x7f0a61fbf1d0>,\n",
              " <_cython_magic_23919ec3535f64540f628291a417670d.Particula at 0x7f0a61fde898>,\n",
              " <_cython_magic_23919ec3535f64540f628291a417670d.Particula at 0x7f0a61fbf0b8>,\n",
              " <_cython_magic_23919ec3535f64540f628291a417670d.Particula at 0x7f0a6202e4e0>,\n",
              " <_cython_magic_23919ec3535f64540f628291a417670d.Particula at 0x7f0a61fbf860>,\n",
              " <_cython_magic_23919ec3535f64540f628291a417670d.Particula at 0x7f0a6202ee80>,\n",
              " <_cython_magic_23919ec3535f64540f628291a417670d.Particula at 0x7f0a62023048>,\n",
              " <_cython_magic_23919ec3535f64540f628291a417670d.Particula at 0x7f0a61fbffd0>,\n",
              " <_cython_magic_23919ec3535f64540f628291a417670d.Particula at 0x7f0a61fbfc88>,\n",
              " <_cython_magic_23919ec3535f64540f628291a417670d.Particula at 0x7f0a61fbf438>,\n",
              " <_cython_magic_23919ec3535f64540f628291a417670d.Particula at 0x7f0a61fdefd0>,\n",
              " <_cython_magic_23919ec3535f64540f628291a417670d.Particula at 0x7f0a61ffc2b0>,\n",
              " <_cython_magic_23919ec3535f64540f628291a417670d.Particula at 0x7f0a61fbfe80>,\n",
              " <_cython_magic_23919ec3535f64540f628291a417670d.Particula at 0x7f0a62004fd0>,\n",
              " <_cython_magic_23919ec3535f64540f628291a417670d.Particula at 0x7f0a61ffc080>,\n",
              " <_cython_magic_23919ec3535f64540f628291a417670d.Particula at 0x7f0a61fbfa58>,\n",
              " <_cython_magic_23919ec3535f64540f628291a417670d.Particula at 0x7f0a61fbf940>,\n",
              " <_cython_magic_23919ec3535f64540f628291a417670d.Particula at 0x7f0a6202eb00>,\n",
              " <_cython_magic_23919ec3535f64540f628291a417670d.Particula at 0x7f0a61fde6d8>,\n",
              " <_cython_magic_23919ec3535f64540f628291a417670d.Particula at 0x7f0a61fdeeb8>,\n",
              " <_cython_magic_23919ec3535f64540f628291a417670d.Particula at 0x7f0a61fbf240>,\n",
              " <_cython_magic_23919ec3535f64540f628291a417670d.Particula at 0x7f0a61fbf898>,\n",
              " <_cython_magic_23919ec3535f64540f628291a417670d.Particula at 0x7f0a61fde278>,\n",
              " <_cython_magic_23919ec3535f64540f628291a417670d.Particula at 0x7f0a63e412b0>,\n",
              " <_cython_magic_23919ec3535f64540f628291a417670d.Particula at 0x7f0a61fdef60>,\n",
              " <_cython_magic_23919ec3535f64540f628291a417670d.Particula at 0x7f0a6202e9e8>,\n",
              " <_cython_magic_23919ec3535f64540f628291a417670d.Particula at 0x7f0a6202ec88>,\n",
              " <_cython_magic_23919ec3535f64540f628291a417670d.Particula at 0x7f0a6202ebe0>,\n",
              " <_cython_magic_23919ec3535f64540f628291a417670d.Particula at 0x7f0a61fbf4e0>,\n",
              " <_cython_magic_23919ec3535f64540f628291a417670d.Particula at 0x7f0a78c55860>,\n",
              " <_cython_magic_23919ec3535f64540f628291a417670d.Particula at 0x7f0a61fbf2e8>,\n",
              " <_cython_magic_23919ec3535f64540f628291a417670d.Particula at 0x7f0a62023748>,\n",
              " <_cython_magic_23919ec3535f64540f628291a417670d.Particula at 0x7f0a624ee3c8>,\n",
              " <_cython_magic_23919ec3535f64540f628291a417670d.Particula at 0x7f0a61ffc4e0>,\n",
              " <_cython_magic_23919ec3535f64540f628291a417670d.Particula at 0x7f0a61fdeb38>,\n",
              " <_cython_magic_23919ec3535f64540f628291a417670d.Particula at 0x7f0a61fbf7f0>,\n",
              " <_cython_magic_23919ec3535f64540f628291a417670d.Particula at 0x7f0a62023d68>,\n",
              " <_cython_magic_23919ec3535f64540f628291a417670d.Particula at 0x7f0a61ffc588>,\n",
              " <_cython_magic_23919ec3535f64540f628291a417670d.Particula at 0x7f0a62004f60>,\n",
              " <_cython_magic_23919ec3535f64540f628291a417670d.Particula at 0x7f0a61ffc0b8>,\n",
              " <_cython_magic_23919ec3535f64540f628291a417670d.Particula at 0x7f0a62004ef0>,\n",
              " <_cython_magic_23919ec3535f64540f628291a417670d.Particula at 0x7f0a61fbf748>,\n",
              " <_cython_magic_23919ec3535f64540f628291a417670d.Particula at 0x7f0a61fbfda0>,\n",
              " <_cython_magic_23919ec3535f64540f628291a417670d.Particula at 0x7f0a61fbf128>,\n",
              " <_cython_magic_23919ec3535f64540f628291a417670d.Particula at 0x7f0a61ffc048>,\n",
              " <_cython_magic_23919ec3535f64540f628291a417670d.Particula at 0x7f0a61fbf710>,\n",
              " <_cython_magic_23919ec3535f64540f628291a417670d.Particula at 0x7f0a61fbfac8>,\n",
              " <_cython_magic_23919ec3535f64540f628291a417670d.Particula at 0x7f0a61fbf080>,\n",
              " <_cython_magic_23919ec3535f64540f628291a417670d.Particula at 0x7f0a62413940>,\n",
              " <_cython_magic_23919ec3535f64540f628291a417670d.Particula at 0x7f0a61fde9e8>,\n",
              " <_cython_magic_23919ec3535f64540f628291a417670d.Particula at 0x7f0a62004c50>,\n",
              " <_cython_magic_23919ec3535f64540f628291a417670d.Particula at 0x7f0a62023f28>,\n",
              " <_cython_magic_23919ec3535f64540f628291a417670d.Particula at 0x7f0a61ffc240>,\n",
              " <_cython_magic_23919ec3535f64540f628291a417670d.Particula at 0x7f0a61fde390>,\n",
              " <_cython_magic_23919ec3535f64540f628291a417670d.Particula at 0x7f0a61ffc518>,\n",
              " <_cython_magic_23919ec3535f64540f628291a417670d.Particula at 0x7f0a62004ba8>,\n",
              " <_cython_magic_23919ec3535f64540f628291a417670d.Particula at 0x7f0a61fbfba8>,\n",
              " <_cython_magic_23919ec3535f64540f628291a417670d.Particula at 0x7f0a61ffcb00>,\n",
              " <_cython_magic_23919ec3535f64540f628291a417670d.Particula at 0x7f0a61ffccf8>,\n",
              " <_cython_magic_23919ec3535f64540f628291a417670d.Particula at 0x7f0a61fded30>,\n",
              " <_cython_magic_23919ec3535f64540f628291a417670d.Particula at 0x7f0a61fbf978>,\n",
              " <_cython_magic_23919ec3535f64540f628291a417670d.Particula at 0x7f0a61fdecc0>,\n",
              " <_cython_magic_23919ec3535f64540f628291a417670d.Particula at 0x7f0a61fbf668>,\n",
              " <_cython_magic_23919ec3535f64540f628291a417670d.Particula at 0x7f0a620239b0>,\n",
              " <_cython_magic_23919ec3535f64540f628291a417670d.Particula at 0x7f0a61fbf198>,\n",
              " <_cython_magic_23919ec3535f64540f628291a417670d.Particula at 0x7f0a61fbfa90>,\n",
              " <_cython_magic_23919ec3535f64540f628291a417670d.Particula at 0x7f0a61ffc748>,\n",
              " <_cython_magic_23919ec3535f64540f628291a417670d.Particula at 0x7f0a6202efd0>,\n",
              " <_cython_magic_23919ec3535f64540f628291a417670d.Particula at 0x7f0a61fbf5c0>,\n",
              " <_cython_magic_23919ec3535f64540f628291a417670d.Particula at 0x7f0a6202eac8>,\n",
              " <_cython_magic_23919ec3535f64540f628291a417670d.Particula at 0x7f0a61fbf470>,\n",
              " <_cython_magic_23919ec3535f64540f628291a417670d.Particula at 0x7f0a61fbfb70>,\n",
              " <_cython_magic_23919ec3535f64540f628291a417670d.Particula at 0x7f0a61fdef28>,\n",
              " <_cython_magic_23919ec3535f64540f628291a417670d.Particula at 0x7f0a61fde908>,\n",
              " <_cython_magic_23919ec3535f64540f628291a417670d.Particula at 0x7f0a61fbf160>,\n",
              " <_cython_magic_23919ec3535f64540f628291a417670d.Particula at 0x7f0a624eeac8>,\n",
              " <_cython_magic_23919ec3535f64540f628291a417670d.Particula at 0x7f0a61fbf5f8>,\n",
              " <_cython_magic_23919ec3535f64540f628291a417670d.Particula at 0x7f0a62023198>,\n",
              " <_cython_magic_23919ec3535f64540f628291a417670d.Particula at 0x7f0a62023e48>,\n",
              " <_cython_magic_23919ec3535f64540f628291a417670d.Particula at 0x7f0a620042b0>,\n",
              " <_cython_magic_23919ec3535f64540f628291a417670d.Particula at 0x7f0a61fde6a0>,\n",
              " <_cython_magic_23919ec3535f64540f628291a417670d.Particula at 0x7f0a61fbf0f0>,\n",
              " <_cython_magic_23919ec3535f64540f628291a417670d.Particula at 0x7f0a61fde7f0>,\n",
              " <_cython_magic_23919ec3535f64540f628291a417670d.Particula at 0x7f0a62023908>,\n",
              " <_cython_magic_23919ec3535f64540f628291a417670d.Particula at 0x7f0a61fbfe48>,\n",
              " <_cython_magic_23919ec3535f64540f628291a417670d.Particula at 0x7f0a61ffc4a8>,\n",
              " <_cython_magic_23919ec3535f64540f628291a417670d.Particula at 0x7f0a61fbfa20>,\n",
              " <_cython_magic_23919ec3535f64540f628291a417670d.Particula at 0x7f0a62023e80>,\n",
              " <_cython_magic_23919ec3535f64540f628291a417670d.Particula at 0x7f0a62023710>,\n",
              " <_cython_magic_23919ec3535f64540f628291a417670d.Particula at 0x7f0a61fbfc18>,\n",
              " <_cython_magic_23919ec3535f64540f628291a417670d.Particula at 0x7f0a61fbf550>,\n",
              " <_cython_magic_23919ec3535f64540f628291a417670d.Particula at 0x7f0a6202ecf8>,\n",
              " <_cython_magic_23919ec3535f64540f628291a417670d.Particula at 0x7f0a62004f98>,\n",
              " <_cython_magic_23919ec3535f64540f628291a417670d.Particula at 0x7f0a62023eb8>,\n",
              " <_cython_magic_23919ec3535f64540f628291a417670d.Particula at 0x7f0a620237b8>,\n",
              " <_cython_magic_23919ec3535f64540f628291a417670d.Particula at 0x7f0a61fbf3c8>,\n",
              " <_cython_magic_23919ec3535f64540f628291a417670d.Particula at 0x7f0a62004dd8>,\n",
              " <_cython_magic_23919ec3535f64540f628291a417670d.Particula at 0x7f0a61ffc5f8>,\n",
              " <_cython_magic_23919ec3535f64540f628291a417670d.Particula at 0x7f0a62004b70>,\n",
              " <_cython_magic_23919ec3535f64540f628291a417670d.Particula at 0x7f0a63e41438>,\n",
              " <_cython_magic_23919ec3535f64540f628291a417670d.Particula at 0x7f0a61fbf400>]"
            ]
          },
          "metadata": {
            "tags": []
          },
          "execution_count": 9
        }
      ]
    },
    {
      "cell_type": "markdown",
      "metadata": {
        "id": "htuOf6YZR6QX"
      },
      "source": [
        "###Animación de las partículas "
      ]
    },
    {
      "cell_type": "code",
      "metadata": {
        "id": "jSmongqlRAno"
      },
      "source": [
        "##La funcion Organizar me permite recibir las listas que me da mateo y las convierte a las caracteristicas necesarias para ListaOf\n",
        "def Organizar(lista):\n",
        "  L=[]\n",
        "  lx=[]\n",
        "  ly=[]\n",
        "  LOf=[]\n",
        "  for x in range(0,len(lista)):\n",
        "    for c in range(0,len(lista[x])):\n",
        "      lx.append(int(lista[x][c][0]))\n",
        "      ly.append(int(lista[x][c][1]))\n",
        "      L.append(lx)\n",
        "      L.append(ly)\n",
        "    LOf.append(np.copy(L))\n",
        "    L.clear()\n",
        "  return LOf\n",
        "\n",
        "#Definimos la ListaOf que utilizaremos para correr la animacion \n",
        "ListaOf=Organizar(L)\n",
        "\n",
        "#Definimos la caja que necesitamos para correr la aniamcion \n",
        "BoxOf=np.zeros((110,110))"
      ],
      "execution_count": 42,
      "outputs": []
    },
    {
      "cell_type": "code",
      "metadata": {
        "id": "kz0_v5UsZhpH",
        "outputId": "6f094e97-96ed-49ea-8e0a-d451983d636f",
        "colab": {
          "base_uri": "https://localhost:8080/",
          "height": 231
        }
      },
      "source": [
        "########Creación de las imagenes########\n",
        "#En principio este codigo funciona para n particulas pero debe estar definida la lista ListaOf con anterioridad\n",
        "\n",
        "#En Gif se guardaran cada una de las imagenes \n",
        "Gif=[]\n",
        "#Recuerde que debe cambiar la informacion del radio dependiendo de la simulacion creada, la cual corresponde al ultimo valor en la funcion circulo\n",
        "for x in range(0,len(ListaOf[0][1])):\n",
        "  for i in range(0,len(ListaOf)):\n",
        "    x1,y1=circle(ListaOf[i][0][x],ListaOf[i][1][x],1)\n",
        "    BoxOf[x1,y1]=255\n",
        "  Gif.append(np.copy(BoxOf))\n",
        "  BoxOf=np.zeros((20,15))"
      ],
      "execution_count": 43,
      "outputs": [
        {
          "output_type": "error",
          "ename": "IndexError",
          "evalue": "ignored",
          "traceback": [
            "\u001b[0;31m---------------------------------------------------------------------------\u001b[0m",
            "\u001b[0;31mIndexError\u001b[0m                                Traceback (most recent call last)",
            "\u001b[0;32m<ipython-input-43-0e4cc98a603c>\u001b[0m in \u001b[0;36m<module>\u001b[0;34m()\u001b[0m\n\u001b[1;32m      8\u001b[0m   \u001b[0;32mfor\u001b[0m \u001b[0mi\u001b[0m \u001b[0;32min\u001b[0m \u001b[0mrange\u001b[0m\u001b[0;34m(\u001b[0m\u001b[0;36m0\u001b[0m\u001b[0;34m,\u001b[0m\u001b[0mlen\u001b[0m\u001b[0;34m(\u001b[0m\u001b[0mListaOf\u001b[0m\u001b[0;34m)\u001b[0m\u001b[0;34m)\u001b[0m\u001b[0;34m:\u001b[0m\u001b[0;34m\u001b[0m\u001b[0;34m\u001b[0m\u001b[0m\n\u001b[1;32m      9\u001b[0m     \u001b[0mx1\u001b[0m\u001b[0;34m,\u001b[0m\u001b[0my1\u001b[0m\u001b[0;34m=\u001b[0m\u001b[0mcircle\u001b[0m\u001b[0;34m(\u001b[0m\u001b[0mListaOf\u001b[0m\u001b[0;34m[\u001b[0m\u001b[0mi\u001b[0m\u001b[0;34m]\u001b[0m\u001b[0;34m[\u001b[0m\u001b[0;36m0\u001b[0m\u001b[0;34m]\u001b[0m\u001b[0;34m[\u001b[0m\u001b[0mx\u001b[0m\u001b[0;34m]\u001b[0m\u001b[0;34m,\u001b[0m\u001b[0mListaOf\u001b[0m\u001b[0;34m[\u001b[0m\u001b[0mi\u001b[0m\u001b[0;34m]\u001b[0m\u001b[0;34m[\u001b[0m\u001b[0;36m1\u001b[0m\u001b[0;34m]\u001b[0m\u001b[0;34m[\u001b[0m\u001b[0mx\u001b[0m\u001b[0;34m]\u001b[0m\u001b[0;34m,\u001b[0m\u001b[0;36m1\u001b[0m\u001b[0;34m)\u001b[0m\u001b[0;34m\u001b[0m\u001b[0;34m\u001b[0m\u001b[0m\n\u001b[0;32m---> 10\u001b[0;31m     \u001b[0mBoxOf\u001b[0m\u001b[0;34m[\u001b[0m\u001b[0mx1\u001b[0m\u001b[0;34m,\u001b[0m\u001b[0my1\u001b[0m\u001b[0;34m]\u001b[0m\u001b[0;34m=\u001b[0m\u001b[0;36m255\u001b[0m\u001b[0;34m\u001b[0m\u001b[0;34m\u001b[0m\u001b[0m\n\u001b[0m\u001b[1;32m     11\u001b[0m   \u001b[0mGif\u001b[0m\u001b[0;34m.\u001b[0m\u001b[0mappend\u001b[0m\u001b[0;34m(\u001b[0m\u001b[0mnp\u001b[0m\u001b[0;34m.\u001b[0m\u001b[0mcopy\u001b[0m\u001b[0;34m(\u001b[0m\u001b[0mBoxOf\u001b[0m\u001b[0;34m)\u001b[0m\u001b[0;34m)\u001b[0m\u001b[0;34m\u001b[0m\u001b[0;34m\u001b[0m\u001b[0m\n\u001b[1;32m     12\u001b[0m   \u001b[0mBoxOf\u001b[0m\u001b[0;34m=\u001b[0m\u001b[0mnp\u001b[0m\u001b[0;34m.\u001b[0m\u001b[0mzeros\u001b[0m\u001b[0;34m(\u001b[0m\u001b[0;34m(\u001b[0m\u001b[0;36m20\u001b[0m\u001b[0;34m,\u001b[0m\u001b[0;36m15\u001b[0m\u001b[0;34m)\u001b[0m\u001b[0;34m)\u001b[0m\u001b[0;34m\u001b[0m\u001b[0;34m\u001b[0m\u001b[0m\n",
            "\u001b[0;31mIndexError\u001b[0m: index 67 is out of bounds for axis 0 with size 20"
          ]
        }
      ]
    },
    {
      "cell_type": "code",
      "metadata": {
        "id": "2Iqc4SmIZpAr"
      },
      "source": [
        "########Descarga de las imagenes########\n",
        "#Con esto descarga cada una de las imagenes, el archivo descomprime las imagenes en drive, por lo cual recuerde cambiar la ruta\n",
        "#Las imagenes se guardan en formato png y se guardan en orden cuando son menos de 10000 imagenes\n",
        "\n",
        "for x in range(0,len(Gif)):\n",
        "  if x<10:\n",
        "    plt.imshow(Gif[x])\n",
        "    plt.savefig(\"/content/drive/MyDrive/Colab Notebooks/Proyecto /GifMateo/img000{0}.png\".format(x), bbox_inches='tight') \n",
        "  elif x<100:\n",
        "    plt.imshow(Gif[x])\n",
        "    plt.savefig(\"/content/drive/MyDrive/Colab Notebooks/Proyecto /GifMateo/img00{0}.png\".format(x), bbox_inches='tight') \n",
        "  elif x<1000:\n",
        "    plt.imshow(Gif[x])\n",
        "    plt.savefig(\"/content/drive/MyDrive/Colab Notebooks/Proyecto /GifMateo/img0{0}.png\".format(x), bbox_inches='tight') \n",
        "  elif x<10000:\n",
        "    plt.imshow(Gif[x])\n",
        "    plt.savefig(\"/content/drive/MyDrive/Colab Notebooks/Proyecto /GifMateo/img{0}.png\".format(x), bbox_inches='tight') "
      ],
      "execution_count": null,
      "outputs": []
    },
    {
      "cell_type": "code",
      "metadata": {
        "id": "SyDnOaHuZuBB"
      },
      "source": [
        "########Creación del Gif########\n",
        "\n",
        "#GifOfFinal es una lista donde sus elementos son las imagenes, estoy usando una libreria que manipula documentos, por lo cual se debe cambiar la ruta \n",
        "GifOfFinal = sorted(glob.glob('/content/drive/MyDrive/Colab Notebooks/Proyecto /GifMateo/*.png'))  \n",
        "GifOfFinal.sort() \n",
        "\n",
        "#Dependiendo del numero de imagenes cambio el valor de la variable fps\n",
        "fps = 5\n",
        "clip = mpy.ImageSequenceClip(GifOfFinal, fps=fps)\n",
        "clip.write_gif('movieMateo.gif')\n",
        "\n",
        "#El gif se guarda dentro de la consola asi que debe descargarlo "
      ],
      "execution_count": null,
      "outputs": []
    },
    {
      "cell_type": "code",
      "metadata": {
        "colab": {
          "base_uri": "https://localhost:8080/"
        },
        "id": "iktaqnJaSV7z",
        "outputId": "b5e3c615-5000-4c63-c1e0-e3340da3ee90"
      },
      "source": [
        "####Con esto puede comprobar la informacion dentro de las listas###\n",
        "print(\"Orden de las listas\")\n",
        "print(\"Numero de particulas\")\n",
        "print(len(L))\n",
        "print(\"Numero de pasos de la particula n\")\n",
        "print(len(L[0]))\n",
        "print(\"Particula n\")\n",
        "print(L[0])\n",
        "print(\"N-esima tupla de la particula n\")\n",
        "print(L[0][0])\n",
        "print(\"radio x\")\n",
        "print(int(L[0][0][0]))\n",
        "print(\"radio y\")\n",
        "print(int(L[0][0][1]))\n",
        "print(\"Pruebas ListaOf\")\n",
        "print(ListaOf)\n",
        "print(\"N-esima particula\")\n",
        "print(ListaOf[0])\n",
        "print(\"Datos x\")\n",
        "print(ListaOf[0][0])\n",
        "print(\"Datos y\")\n",
        "print(ListaOf[0][1])"
      ],
      "execution_count": 40,
      "outputs": [
        {
          "output_type": "stream",
          "text": [
            "Orden de las listas\n",
            "Numero de particulas\n",
            "30\n",
            "Numero de pasos de la particula n\n",
            "51\n",
            "Particula n\n",
            "[array([66.56154633, 35.97829056]), array([67.24203459, 36.76176611]), array([67.92252286, 37.54524166]), array([68.60301112, 38.32871722]), array([69.28349939, 39.11219277]), array([69.96398766, 39.89566832]), array([70.64447592, 40.67914388]), array([71.32496419, 41.46261943]), array([72.00545245, 42.24609498]), array([72.68594072, 43.02957054]), array([73.36642899, 43.81304609]), array([74.04691725, 44.59652164]), array([74.72740552, 45.3799972 ]), array([75.40789378, 46.16347275]), array([76.08838205, 46.9469483 ]), array([76.76887032, 47.73042386]), array([77.44935858, 48.51389941]), array([78.12984685, 49.29737496]), array([78.81033511, 50.08085051]), array([79.49082338, 50.86432607]), array([80.17131165, 51.64780162]), array([80.85179991, 52.43127717]), array([81.53228818, 53.21475273]), array([82.21277644, 53.99822828]), array([82.89326471, 54.78170383]), array([83.57375298, 55.56517939]), array([84.25424124, 56.34865494]), array([84.93472951, 57.13213049]), array([85.61521777, 57.91560605]), array([86.29570604, 58.6990816 ]), array([86.97619431, 59.48255715]), array([87.65668257, 60.26603271]), array([88.33717084, 61.04950826]), array([89.17241757, 61.68841688]), array([90.01986915, 62.28761506]), array([90.86732073, 62.88681325]), array([91.71477231, 63.48601143]), array([92.56222389, 64.08520962]), array([93.40967547, 64.68440781]), array([94.25712704, 65.28360599]), array([95.10457862, 65.88280418]), array([95.9520302 , 66.48200236]), array([96.79948178, 67.08120055]), array([97.64693336, 67.68039874]), array([98.49438494, 68.27959692]), array([99.34183652, 68.87879511]), array([98.49438494, 69.4779933 ]), array([97.64693336, 70.07719148]), array([96.79948178, 70.67638967]), array([95.9520302 , 71.27558785]), array([95.10457862, 71.87478604])]\n",
            "N-esima tupla de la particula n\n",
            "[66.56154633 35.97829056]\n",
            "radio x\n",
            "66\n",
            "radio y\n",
            "35\n",
            "Pruebas ListaOf\n",
            "[array([[66, 67, 67, ..., 96, 95, 95],\n",
            "       [35, 36, 37, ..., 70, 71, 71],\n",
            "       [66, 67, 67, ..., 96, 95, 95],\n",
            "       ...,\n",
            "       [35, 36, 37, ..., 70, 71, 71],\n",
            "       [66, 67, 67, ..., 96, 95, 95],\n",
            "       [35, 36, 37, ..., 70, 71, 71]]), array([[66, 67, 67, ..., 89, 88, 87],\n",
            "       [35, 36, 37, ..., 52, 52, 52],\n",
            "       [66, 67, 67, ..., 89, 88, 87],\n",
            "       ...,\n",
            "       [35, 36, 37, ..., 52, 52, 52],\n",
            "       [66, 67, 67, ..., 89, 88, 87],\n",
            "       [35, 36, 37, ..., 52, 52, 52]]), array([[66, 67, 67, ..., 83, 83, 84],\n",
            "       [35, 36, 37, ..., 36, 36, 37],\n",
            "       [66, 67, 67, ..., 83, 83, 84],\n",
            "       ...,\n",
            "       [35, 36, 37, ..., 36, 36, 37],\n",
            "       [66, 67, 67, ..., 83, 83, 84],\n",
            "       [35, 36, 37, ..., 36, 36, 37]]), array([[66, 67, 67, ..., 43, 44, 44],\n",
            "       [35, 36, 37, ..., 30, 30, 31],\n",
            "       [66, 67, 67, ..., 43, 44, 44],\n",
            "       ...,\n",
            "       [35, 36, 37, ..., 30, 30, 31],\n",
            "       [66, 67, 67, ..., 43, 44, 44],\n",
            "       [35, 36, 37, ..., 30, 30, 31]]), array([[66, 67, 67, ..., 89, 88, 88],\n",
            "       [35, 36, 37, ..., 58, 59, 60],\n",
            "       [66, 67, 67, ..., 89, 88, 88],\n",
            "       ...,\n",
            "       [35, 36, 37, ..., 58, 59, 60],\n",
            "       [66, 67, 67, ..., 89, 88, 88],\n",
            "       [35, 36, 37, ..., 58, 59, 60]]), array([[66, 67, 67, ..., 30, 30, 30],\n",
            "       [35, 36, 37, ..., 30, 31, 31],\n",
            "       [66, 67, 67, ..., 30, 30, 30],\n",
            "       ...,\n",
            "       [35, 36, 37, ..., 30, 31, 31],\n",
            "       [66, 67, 67, ..., 30, 30, 30],\n",
            "       [35, 36, 37, ..., 30, 31, 31]]), array([[66, 67, 67, ..., 80, 81, 82],\n",
            "       [35, 36, 37, ..., 77, 77, 78],\n",
            "       [66, 67, 67, ..., 80, 81, 82],\n",
            "       ...,\n",
            "       [35, 36, 37, ..., 77, 77, 78],\n",
            "       [66, 67, 67, ..., 80, 81, 82],\n",
            "       [35, 36, 37, ..., 77, 77, 78]]), array([[66, 67, 67, ..., 15, 15, 15],\n",
            "       [35, 36, 37, ..., 93, 93, 93],\n",
            "       [66, 67, 67, ..., 15, 15, 15],\n",
            "       ...,\n",
            "       [35, 36, 37, ..., 93, 93, 93],\n",
            "       [66, 67, 67, ..., 15, 15, 15],\n",
            "       [35, 36, 37, ..., 93, 93, 93]]), array([[66, 67, 67, ..., 73, 74, 74],\n",
            "       [35, 36, 37, ..., 89, 90, 90],\n",
            "       [66, 67, 67, ..., 73, 74, 74],\n",
            "       ...,\n",
            "       [35, 36, 37, ..., 89, 90, 90],\n",
            "       [66, 67, 67, ..., 73, 74, 74],\n",
            "       [35, 36, 37, ..., 89, 90, 90]]), array([[66, 67, 67, ..., 81, 82, 83],\n",
            "       [35, 36, 37, ..., 38, 39, 39],\n",
            "       [66, 67, 67, ..., 81, 82, 83],\n",
            "       ...,\n",
            "       [35, 36, 37, ..., 38, 39, 39],\n",
            "       [66, 67, 67, ..., 81, 82, 83],\n",
            "       [35, 36, 37, ..., 38, 39, 39]]), array([[66, 67, 67, ..., 85, 86, 86],\n",
            "       [35, 36, 37, ..., 45, 46, 47],\n",
            "       [66, 67, 67, ..., 85, 86, 86],\n",
            "       ...,\n",
            "       [35, 36, 37, ..., 45, 46, 47],\n",
            "       [66, 67, 67, ..., 85, 86, 86],\n",
            "       [35, 36, 37, ..., 45, 46, 47]]), array([[66, 67, 67, ..., 83, 83, 83],\n",
            "       [35, 36, 37, ..., 42, 42, 42],\n",
            "       [66, 67, 67, ..., 83, 83, 83],\n",
            "       ...,\n",
            "       [35, 36, 37, ..., 42, 42, 42],\n",
            "       [66, 67, 67, ..., 83, 83, 83],\n",
            "       [35, 36, 37, ..., 42, 42, 42]]), array([[66, 67, 67, ..., 30, 30, 30],\n",
            "       [35, 36, 37, ..., 75, 74, 73],\n",
            "       [66, 67, 67, ..., 30, 30, 30],\n",
            "       ...,\n",
            "       [35, 36, 37, ..., 75, 74, 73],\n",
            "       [66, 67, 67, ..., 30, 30, 30],\n",
            "       [35, 36, 37, ..., 75, 74, 73]]), array([[66, 67, 67, ..., 70, 71, 71],\n",
            "       [35, 36, 37, ..., 38, 38, 38],\n",
            "       [66, 67, 67, ..., 70, 71, 71],\n",
            "       ...,\n",
            "       [35, 36, 37, ..., 38, 38, 38],\n",
            "       [66, 67, 67, ..., 70, 71, 71],\n",
            "       [35, 36, 37, ..., 38, 38, 38]]), array([[66, 67, 67, ..., 97, 96, 95],\n",
            "       [35, 36, 37, ..., 78, 79, 79],\n",
            "       [66, 67, 67, ..., 97, 96, 95],\n",
            "       ...,\n",
            "       [35, 36, 37, ..., 78, 79, 79],\n",
            "       [66, 67, 67, ..., 97, 96, 95],\n",
            "       [35, 36, 37, ..., 78, 79, 79]]), array([[66, 67, 67, ..., 75, 76, 76],\n",
            "       [35, 36, 37, ..., 30, 30, 30],\n",
            "       [66, 67, 67, ..., 75, 76, 76],\n",
            "       ...,\n",
            "       [35, 36, 37, ..., 30, 30, 30],\n",
            "       [66, 67, 67, ..., 75, 76, 76],\n",
            "       [35, 36, 37, ..., 30, 30, 30]]), array([[66, 67, 67, ..., 67, 67, 67],\n",
            "       [35, 36, 37, ..., 20, 20, 20],\n",
            "       [66, 67, 67, ..., 67, 67, 67],\n",
            "       ...,\n",
            "       [35, 36, 37, ..., 20, 20, 20],\n",
            "       [66, 67, 67, ..., 67, 67, 67],\n",
            "       [35, 36, 37, ..., 20, 20, 20]]), array([[66, 67, 67, ..., 87, 86, 85],\n",
            "       [35, 36, 37, ..., 75, 74, 73],\n",
            "       [66, 67, 67, ..., 87, 86, 85],\n",
            "       ...,\n",
            "       [35, 36, 37, ..., 75, 74, 73],\n",
            "       [66, 67, 67, ..., 87, 86, 85],\n",
            "       [35, 36, 37, ..., 75, 74, 73]]), array([[66, 67, 67, ..., 97, 97, 98],\n",
            "       [35, 36, 37, ..., 38, 38, 39],\n",
            "       [66, 67, 67, ..., 97, 97, 98],\n",
            "       ...,\n",
            "       [35, 36, 37, ..., 38, 38, 39],\n",
            "       [66, 67, 67, ..., 97, 97, 98],\n",
            "       [35, 36, 37, ..., 38, 38, 39]]), array([[66, 67, 67, ..., 85, 85, 86],\n",
            "       [35, 36, 37, ..., 83, 83, 83],\n",
            "       [66, 67, 67, ..., 85, 85, 86],\n",
            "       ...,\n",
            "       [35, 36, 37, ..., 83, 83, 83],\n",
            "       [66, 67, 67, ..., 85, 85, 86],\n",
            "       [35, 36, 37, ..., 83, 83, 83]]), array([[66, 67, 67, ..., 40, 40, 40],\n",
            "       [35, 36, 37, ..., 48, 47, 46],\n",
            "       [66, 67, 67, ..., 40, 40, 40],\n",
            "       ...,\n",
            "       [35, 36, 37, ..., 48, 47, 46],\n",
            "       [66, 67, 67, ..., 40, 40, 40],\n",
            "       [35, 36, 37, ..., 48, 47, 46]]), array([[66, 67, 67, ..., 27, 27, 27],\n",
            "       [35, 36, 37, ..., 54, 54, 55],\n",
            "       [66, 67, 67, ..., 27, 27, 27],\n",
            "       ...,\n",
            "       [35, 36, 37, ..., 54, 54, 55],\n",
            "       [66, 67, 67, ..., 27, 27, 27],\n",
            "       [35, 36, 37, ..., 54, 54, 55]]), array([[66, 67, 67, ..., 94, 94, 94],\n",
            "       [35, 36, 37, ..., 95, 96, 97],\n",
            "       [66, 67, 67, ..., 94, 94, 94],\n",
            "       ...,\n",
            "       [35, 36, 37, ..., 95, 96, 97],\n",
            "       [66, 67, 67, ..., 94, 94, 94],\n",
            "       [35, 36, 37, ..., 95, 96, 97]]), array([[66, 67, 67, ..., 29, 30, 31],\n",
            "       [35, 36, 37, ..., 41, 41, 42],\n",
            "       [66, 67, 67, ..., 29, 30, 31],\n",
            "       ...,\n",
            "       [35, 36, 37, ..., 41, 41, 42],\n",
            "       [66, 67, 67, ..., 29, 30, 31],\n",
            "       [35, 36, 37, ..., 41, 41, 42]]), array([[66, 67, 67, ..., 76, 76, 77],\n",
            "       [35, 36, 37, ..., 60, 60, 61],\n",
            "       [66, 67, 67, ..., 76, 76, 77],\n",
            "       ...,\n",
            "       [35, 36, 37, ..., 60, 60, 61],\n",
            "       [66, 67, 67, ..., 76, 76, 77],\n",
            "       [35, 36, 37, ..., 60, 60, 61]]), array([[66, 67, 67, ..., 75, 76, 76],\n",
            "       [35, 36, 37, ..., 52, 52, 53],\n",
            "       [66, 67, 67, ..., 75, 76, 76],\n",
            "       ...,\n",
            "       [35, 36, 37, ..., 52, 52, 53],\n",
            "       [66, 67, 67, ..., 75, 76, 76],\n",
            "       [35, 36, 37, ..., 52, 52, 53]]), array([[66, 67, 67, ..., 80, 81, 81],\n",
            "       [35, 36, 37, ..., 40, 40, 41],\n",
            "       [66, 67, 67, ..., 80, 81, 81],\n",
            "       ...,\n",
            "       [35, 36, 37, ..., 40, 40, 41],\n",
            "       [66, 67, 67, ..., 80, 81, 81],\n",
            "       [35, 36, 37, ..., 40, 40, 41]]), array([[66, 67, 67, ..., 45, 45, 46],\n",
            "       [35, 36, 37, ..., 36, 35, 34],\n",
            "       [66, 67, 67, ..., 45, 45, 46],\n",
            "       ...,\n",
            "       [35, 36, 37, ..., 36, 35, 34],\n",
            "       [66, 67, 67, ..., 45, 45, 46],\n",
            "       [35, 36, 37, ..., 36, 35, 34]]), array([[66, 67, 67, ..., 59, 59, 60],\n",
            "       [35, 36, 37, ..., 78, 77, 76],\n",
            "       [66, 67, 67, ..., 59, 59, 60],\n",
            "       ...,\n",
            "       [35, 36, 37, ..., 78, 77, 76],\n",
            "       [66, 67, 67, ..., 59, 59, 60],\n",
            "       [35, 36, 37, ..., 78, 77, 76]]), array([[66, 67, 67, ..., 28, 28, 28],\n",
            "       [35, 36, 37, ..., 80, 81, 82],\n",
            "       [66, 67, 67, ..., 28, 28, 28],\n",
            "       ...,\n",
            "       [35, 36, 37, ..., 80, 81, 82],\n",
            "       [66, 67, 67, ..., 28, 28, 28],\n",
            "       [35, 36, 37, ..., 80, 81, 82]])]\n",
            "N-esima particula\n",
            "[[66 67 67 ... 96 95 95]\n",
            " [35 36 37 ... 70 71 71]\n",
            " [66 67 67 ... 96 95 95]\n",
            " ...\n",
            " [35 36 37 ... 70 71 71]\n",
            " [66 67 67 ... 96 95 95]\n",
            " [35 36 37 ... 70 71 71]]\n",
            "Datos x\n",
            "[66 67 67 68 69 69 70 71 72 72 73 74 74 75 76 76 77 78 78 79 80 80 81 82\n",
            " 82 83 84 84 85 86 86 87 88 89 90 90 91 92 93 94 95 95 96 97 98 99 98 97\n",
            " 96 95 95]\n",
            "Datos y\n",
            "[35 36 37 38 39 39 40 41 42 43 43 44 45 46 46 47 48 49 50 50 51 52 53 53\n",
            " 54 55 56 57 57 58 59 60 61 61 62 62 63 64 64 65 65 66 67 67 68 68 69 70\n",
            " 70 71 71]\n"
          ],
          "name": "stdout"
        }
      ]
    }
  ]
}