{
  "nbformat": 4,
  "nbformat_minor": 0,
  "metadata": {
    "colab": {
      "name": "Simulación 2",
      "provenance": [],
      "collapsed_sections": [],
      "include_colab_link": true
    },
    "kernelspec": {
      "name": "python3",
      "display_name": "Python 3"
    }
  },
  "cells": [
    {
      "cell_type": "markdown",
      "metadata": {
        "id": "view-in-github",
        "colab_type": "text"
      },
      "source": [
        "<a href=\"https://colab.research.google.com/github/Ste1nb0cK/Proyecto--Simulaci-n-Gas/blob/main/Simulaci%C3%B3n_2.ipynb\" target=\"_parent\"><img src=\"https://colab.research.google.com/assets/colab-badge.svg\" alt=\"Open In Colab\"/></a>"
      ]
    },
    {
      "cell_type": "code",
      "metadata": {
        "id": "NOgARdGSeI82",
        "colab": {
          "base_uri": "https://localhost:8080/"
        },
        "outputId": "a6c8985c-6dd2-43b8-8d46-921f5c9462c9"
      },
      "source": [
        "%load_ext Cython\n",
        "from numpy import linalg\n",
        "import numpy as np\n",
        "import random\n",
        "import matplotlib.pyplot as plt"
      ],
      "execution_count": 2,
      "outputs": [
        {
          "output_type": "stream",
          "text": [
            "The Cython extension is already loaded. To reload it, use:\n",
            "  %reload_ext Cython\n"
          ],
          "name": "stdout"
        }
      ]
    },
    {
      "cell_type": "code",
      "metadata": {
        "id": "8kdgKL-lQmGw"
      },
      "source": [
        "import glob\n",
        "import moviepy.editor as mpy\n",
        "from skimage.draw import *"
      ],
      "execution_count": 38,
      "outputs": []
    },
    {
      "cell_type": "code",
      "metadata": {
        "colab": {
          "base_uri": "https://localhost:8080/"
        },
        "id": "vKXlP9l4Q8Sz",
        "outputId": "dd6a79e0-be82-4876-bba9-ed4cbd991dec"
      },
      "source": [
        "from google.colab import drive\n",
        "drive.mount('/content/drive')"
      ],
      "execution_count": 11,
      "outputs": [
        {
          "output_type": "stream",
          "text": [
            "Mounted at /content/drive\n"
          ],
          "name": "stdout"
        }
      ]
    },
    {
      "cell_type": "code",
      "metadata": {
        "id": "8HCrKeTQeT5H"
      },
      "source": [
        "%%cython\n",
        "import numpy as np\n",
        "\n",
        "class Particula:#En esta clase definimos los métodos fundamentales que debe seguir cada partícula\n",
        "\n",
        "    def __init__(self, (float,float) posicion, (float,float) velocidad, float masa, float radio): \n",
        "       \"\"\"comenzamos definiendo el método que debe \n",
        "        inicializar la clase, en este definimos los atributos básicos de la clase partícula\n",
        "        las entradas masa y radio son de tipo float y las entradas de posición son tuplas conformadas por floats\"\"\"  \n",
        "       self.radio=radio  \n",
        "       self.masa=masa \n",
        "       \n",
        "       self.posicion=np.array(posicion)   #Estas variables son arrays de numpy, y las trataremos como vectores\n",
        "       self.velocidad=np.array(velocidad)\n",
        "       self.velocidad_mag=np.linalg.norm(self.velocidad)#Este atributo no es otra cosa que la magnitud del vector velocidad\n",
        "     \n",
        "       \"\"\"Creamos tres listas con los vectores posición y velocidad y velocidad_mag, posteriormente las usaremos\n",
        "       para generar una lista con todos los valores que ha tenido la velocidad y posición\"\"\"\n",
        "       \n",
        "       self.velocidad_n=[self.velocidad]    ##Velocidad_n y posición_n son listas de vectores que contienen las listas correspondiente a\n",
        "       self.posicion_n=[self.posicion]      ##todos los valores de estos vectores\n",
        "       self.velocidad_mag_n=[self.velocidad_mag]\n",
        "     \n",
        "  ##########################################################################\n",
        "    def paso_dt(self,float dt):   #Falta definir el valor que va a tomar dt  \n",
        "       \"\"\"Este método lo que hace es avanzar en el tiempo, cambia la posición de la partícula y agrega a las listas\n",
        "       una actualización tanto de la posición de la partícula como la velocidad de la misma\"\"\"\n",
        "      \n",
        "       self.posicion=self.posicion + self.velocidad*dt  \n",
        "       self.posicion_n.append(self.posicion) #Se añaden \n",
        "       self.velocidad_n.append(self.velocidad)\n",
        "       self.velocidad_mag_n.append(self.velocidad_mag)\n",
        " ###############################################################################################\n",
        "    def ver_colision_pp(self,otra_p):\n",
        "       \"\"\"Este método verifica si se dio luegar a una colisión entre dos partículas, las entradas\n",
        "      son dos partículas, se definen sus radios y posiciones y se plantea una condición que indica \n",
        "      si las partículas chocaron\"\"\"\n",
        "       cdef float r1=self.radio\n",
        "       cdef float r2=otra_p.radio\n",
        "       p1=self.posicion\n",
        "       p2=otra_p.posicion\n",
        "       cdef float sep=np.linalg.norm(p1-p2)#Norma del vector separación de ambas partículas.\n",
        "       if sep-(r1+r2)*1.1<=0:#Si la separación es menor o igual a la suma de sus radios, entonces las partículas están en contacto y por lo tanto chocaron.\n",
        "         return True\n",
        "       else:\n",
        "         return False\n",
        "######################################################################################################\n",
        "    def ver_colision_esquina(self, float Lx, float Ly):\n",
        "       \"Revisa si hay colisión con una esquina, Lx y Ly son las dimensiones horizontal y vertical de la caja respectivamente\"\n",
        "       extremo_izquierdo = self.posicion[0] - self.radio #da la posición del extremo izquido de la partícula\n",
        "       extremo_inferior = self.posicion[1] - self.radio  #da la posición del extremo inferior de la partícula\n",
        "       extremo_derecho  = self.posicion[0] + self.radio  #da la posición del extremo derech0 de la partícula\n",
        "       extremo_superior = self.posicion[1] + self.radio  #da la posición del extremo superior de la partícula\n",
        "       #Ahora construimos las variables donde se va a almacenar el hecho de chocar contra una esquina o no\n",
        "       cdef bint choque_00 = extremo_izquierdo >0 and extremo_inferior> 0   #Esto corresponde a no chocar con la esquina (0,0)\n",
        "       cdef bint choque_Lx0 = extremo_derecho <Lx and extremo_inferior > 0 #Esto corresponde a no chocar con la esquina (Lx,0)\n",
        "       cdef bint choque_LxLy =  extremo_derecho <Lx and extremo_superior <Ly  #Esto corresponde a no chocar con la esquina (Lx,Ly)\n",
        "       cdef bint choque_0Ly = extremo_izquierdo > 0 and extremo_superior <Ly  #Esto corresponde a chocar con la esquina (0,Ly)\n",
        "       if not choque_00 or not choque_Lx0 or not choque_LxLy or not choque_0Ly:\n",
        "         return  True \n",
        "       else:\n",
        "         return False\n",
        "       \n",
        "        \n",
        "#####################################################################################################\n",
        "    def ver_colision_muro(self, float Lx, float Ly):\n",
        "        \"\"\"Este método revisa si la partícula ha chocado contra un muro.\"\"\"\n",
        "        \"\"\"La condición ve que si la posición en \"x\" es diferente 0 o la longitud horizontal (Lx) de la caja y adicionalmente\n",
        "     #  si la posición en \"y\" es diferente de 0 o la longitud vertical (Ly) entonces la partícula no está chocando contra un muro\"\"\"\n",
        "        cdef bint choque_pared_derecha =  self.posicion[0] + self.radio <Lx   \n",
        "        cdef bint choque_pared_izquierda = self.posicion[0] - self.radio>0\n",
        "        #las condiciones corresponden a no chocar con esas paredes\n",
        "        cdef bint choque_pared_superior = self.posicion[1] + self.radio <Ly \n",
        "        cdef bint choque_pared_inferior = self.posicion[1] - self.radio >0\n",
        "        if choque_pared_derecha and choque_pared_izquierda and choque_pared_superior and choque_pared_inferior :\n",
        "          return False\n",
        "        else:\n",
        "          return True \n",
        "        \n",
        "######################################################################################################\n",
        "    def resolver_colision_particula(self,otra_p):\n",
        "      \"\"\"Método que actualiza las velocidades de dos partículas después de chocar\n",
        "       Definimos las magnitudes a usar para resolver el choque\"\"\"\n",
        "      M1=self.masa\n",
        "      M2=otra_p.masa\n",
        "      p1=self.posicion\n",
        "      p2=otra_p.posicion\n",
        "      V1=self.velocidad\n",
        "      V2=otra_p.velocidad\n",
        "      cdef bint choque=self.ver_colision_pp\n",
        "      if choque:\n",
        "        self.velocidad= self.velocidad-((2*M2)/(M1+M2))*(np.dot(p1-p2,V1-V2)/(np.linalg.norm(p1-p2)**2))*(p1-p2)#Se resuleven los choques tal cual el modelo bidimensional que se tiene\n",
        "        otra_p.velocidad= otra_p.velocidad-((2*M1)/(M1+M2))*(np.dot(p2-p1,V2-V1)/(np.linalg.norm(p2-p1)**2))*(p2-p1)\n",
        "  \n",
        "###############################################################################################################\n",
        "    def resolver_colision_muro(self,float Lx,float Ly): \n",
        "        \"\"\"#Método que actualiza la velocidad después de que una partícula choca con un muro. Recibe la\n",
        "        partícula y las dimensiones de la caja\"\"\"\n",
        "        cdef bint choque_pared_derecha =  self.posicion[0] + self.radio <Lx   \n",
        "        cdef bint choque_pared_izquierda = self.posicion[0] - self.radio>0\n",
        "        #las condiciones corresponden a no chocar con esas paredes\n",
        "        cdef bint choque_pared_superior = self.posicion[1] + self.radio <Ly \n",
        "        cdef bint choque_pared_inferior = self.posicion[1] - self.radio >0\n",
        "        #Ahora miramos cual fue la pared con que se chocó e invertimos la coordenada teniendo en cuenta eso\n",
        "        if not choque_pared_derecha or not choque_pared_izquierda:\n",
        "            self.velocidad[0] = -1* self.velocidad[0]\n",
        "        elif not choque_pared_superior or not choque_pared_inferior:\n",
        "            self.velocidad[1] = -1* self.velocidad[1]\n",
        "       \n",
        "    def resolver_colision_esquina(self):\n",
        "        \"\"\"Método que actualiza la velocidad después de que una partícula choca con una esquina\"\"\"\n",
        "        self.velocidad = -1* self.velocidad #se invierte todo el vector\n",
        "            \n",
        "        "
      ],
      "execution_count": 3,
      "outputs": []
    },
    {
      "cell_type": "code",
      "metadata": {
        "id": "ECHl9DBFee-M"
      },
      "source": [
        "#Prototipo de la función final, recibe las dimensiones de la caja, el rango de velocidades inciales, el número\n",
        "# de partículas, el radio y la masa\n",
        "#Si algo podemos establecer por defecto que las masas y los radios sean los mismos por defecto o cómo quieran\n",
        "\n",
        "\n",
        "######Función que generá las partículas con datos aleatorios\n",
        "def funcion_simuladora(lx,ly,v1,v2,m,r,n):\n",
        "#Por el momento se crea un arreglo vacío de enteros para las posiciones iniciales\n",
        "  posiciones=np.zeros((n,2))\n",
        "  \n",
        "  for i in range(n):\n",
        "    #Se llena el arreglo con números aleatorios dentro de la caja pero evitando que aparezcan en las esquinas\n",
        "    posiciones[i][0]=np.random.uniform(10,lx-10)\n",
        "    posiciones[i][1]=np.random.uniform(10,ly-10)\n",
        "  #Se convierte el arreglo en una lista\n",
        "  posiciones_lista=list(posiciones)\n",
        "  #Las velocidades se crean normalmente con velocidades aleatorias dentro del rango establecido, el intervalo (v1,v2)\n",
        "  velocidades_lista=list(np.random.uniform(v1,v2,(n,2)))\n",
        "  #Ahora creamos una lista vacía donde irán objetos de la clase partícula\n",
        "  lista_de_particulas=[]\n",
        "  #Llenamos la lista con partículas que tendrán posiciones provenientes de posiciones_lista y velocidades_lista. \n",
        "  #Las masas y radios son los determinados al activar la función.\n",
        "  for j in range(n):\n",
        "    Pn=Particula(tuple(posiciones_lista[j]),tuple(velocidades_lista[j]),m,r)\n",
        "    lista_de_particulas.append(Pn)\n",
        "  \n",
        "  \n",
        "  #Ahora queremeos hacer que si las partículas se crean superpuestas de alguna manera, eliminamos una y creamos otra nueva\n",
        "  #luego añadimos la nueva partícula a la lista de partículas\n",
        "\n",
        "  for i in range(n):\n",
        "   for p1 in lista_de_particulas:\n",
        "    for p2 in lista_de_particulas:\n",
        "     if p1.ver_colision_pp(p2):\n",
        "       p_nueva=Particula(tuple([(random.uniform(10,lx-10),random.uniform(0,ly-10)) for x in range(1)][0]),\n",
        "       tuple([(random.uniform(v1,v2),random.uniform(v1,v2)) for x in range(1)][0]), m,r)\n",
        "                                                      \n",
        "       lista_de_particulas.pop(i)\n",
        "       lista_de_particulas.append(p_nueva)\n",
        "  #Nos retorna la lista con las partículas creadas, acá le puse que me devolviera solo la primera para demostrar funcionalidad\n",
        "\n",
        "  return lista_de_particulas\n"
      ],
      "execution_count": 4,
      "outputs": []
    },
    {
      "cell_type": "markdown",
      "metadata": {
        "id": "AsC3DYo-EGxQ"
      },
      "source": [
        "Simulación de 10 partículas es una caja de 100x100"
      ]
    },
    {
      "cell_type": "code",
      "metadata": {
        "colab": {
          "base_uri": "https://localhost:8080/",
          "height": 455
        },
        "id": "TFVmA8ZGeiKU",
        "outputId": "e83816e2-e64a-4d38-bdd5-fba232bf1239"
      },
      "source": [
        "\n",
        "L=funcion_simuladora(100,100,0,100,1,1,10)#Genero 10 partículas\n",
        "for n in L:#Comenzamos a iterar sobre la lista de partículas\n",
        "  for j in range(15):\n",
        "   \n",
        "   n.paso_dt(0.1)\n",
        "   if n.ver_colision_esquina(100,100):#vemos si colisionan o no con una esquina, si colisionan se resuelve la colisión\n",
        "     n.resolver_colision_esquina\n",
        "     #print(\"chcocó esquina\")\n",
        "   if n.ver_colision_muro(100,100):#vemos si colisionan o no con un muro, si colisionan se resuelve la colisión\n",
        "     n.resolver_colision_muro(100,100)\n",
        "     #print(\"chcocó muro\")\n",
        "   for p2 in L:\n",
        "     if n.ver_colision_pp(p2) and (n.posicion!=p2.posicion).all():#vemos si colisionan o no con un muro, si colisionan se resuelve la colisión\n",
        "       n.resolver_colision_particula(p2)                          #También se ve que la condición no haga resolver el choque de la partícula con ella\n",
        "       #print(\"chocaron\")                                         #misma\n",
        "\n",
        "for n in range(10):#Acá vemos como se guarda cada trayectoria de cada partícula\n",
        " print(L[n].posicion_n)\n",
        "\n",
        "x=[]\n",
        "y=[]\n",
        "for n in L[0].posicion_n:#graficamos la trayectoria de la primera partícula y vemos que los métodos de choque con otra partícula y con las paredes\n",
        "  x.append(n[0])         #y esquinas funcionan.\n",
        "  y.append(n[1])\n",
        "plt.plot(x,y)\n",
        "plt.show()\n",
        "#plt.xlim((0,1000))\n",
        "#plt.ylim((0,1000))\n",
        "#En la parte de abajo del plot se ve que hay un cambio en la trayectoria, eso es porque la partícula chocó con otra"
      ],
      "execution_count": 5,
      "outputs": [
        {
          "output_type": "stream",
          "text": [
            "[array([77.35734558, 43.18748474]), array([83.1082261 , 51.89259046]), array([88.85910662, 60.59769618]), array([94.60998713, 69.3028019 ]), array([100.36086765,  78.00790762]), array([94.60998713, 86.71301334]), array([88.85910662, 95.41811906]), array([ 83.1082261 , 104.12322478]), array([77.35734558, 95.41811906]), array([71.60646506, 86.71301334]), array([65.85558455, 78.00790762]), array([60.10470403, 69.3028019 ]), array([54.35382351, 60.59769618]), array([48.60294299, 51.89259046]), array([42.85206247, 43.18748474]), array([37.10118196, 34.48237902])]\n",
            "[array([70.56694794, 83.14595795]), array([72.60201667, 91.29738095]), array([74.6370854 , 99.44880395]), array([76.67215414, 91.29738095]), array([78.70722287, 83.14595795]), array([80.7422916 , 74.99453494]), array([82.77736034, 66.84311194]), array([84.81242907, 58.69168894]), array([86.8474978 , 50.54026593]), array([88.88256653, 42.38884293]), array([90.91763527, 34.23741993]), array([92.952704  , 26.08599692]), array([94.98777273, 17.93457392]), array([97.02284147,  9.78315091]), array([99.0579102 ,  1.63172791]), array([97.02284147, -6.51969509])]\n",
            "[array([88.24752808, 73.7736969 ]), array([91.76228796, 78.36635635]), array([95.27704783, 82.95901579]), array([98.79180771, 87.55167524]), array([102.30656759,  92.14433469]), array([98.79180771, 96.73699413]), array([ 95.27704783, 101.32965358]), array([91.76228796, 96.73699413]), array([88.24752808, 92.14433469]), array([84.7327682 , 87.55167524]), array([81.21800832, 82.95901579]), array([77.70324844, 78.36635635]), array([74.18848856, 73.7736969 ]), array([70.67372868, 69.18103745]), array([67.1589688 , 64.58837801]), array([63.64420892, 59.99571856])]\n",
            "[array([70.86001587, 28.11436081]), array([78.68172161, 30.02127517]), array([86.50342736, 31.92818953]), array([94.3251331 , 33.83510388]), array([102.14683885,  35.74201824]), array([94.3251331, 37.6489326]), array([86.50342736, 39.55584696]), array([78.68172161, 41.46276131]), array([70.86001587, 43.36967567]), array([63.03831013, 45.27659003]), array([55.21660438, 47.18350439]), array([47.39489864, 49.09041875]), array([39.57319289, 50.9973331 ]), array([31.75148715, 52.90424746]), array([23.92978141, 54.81116182]), array([16.10807566, 56.71807618])]\n",
            "[array([38.47369385, 42.89938736]), array([47.88391204, 48.44704446]), array([57.29413022, 53.99470155]), array([66.70434841, 59.54235865]), array([76.1145666 , 65.09001574]), array([85.52478479, 70.63767284]), array([94.93500298, 76.18532993]), array([104.34522117,  81.73298703]), array([94.93500298, 87.28064412]), array([85.52478479, 92.82830122]), array([76.1145666 , 98.37595832]), array([ 66.70434841, 103.92361541]), array([57.29413022, 98.37595832]), array([47.88391204, 92.82830122]), array([38.47369385, 87.28064412]), array([29.06347566, 81.73298703])]\n",
            "[array([30.57969093, 35.21730804]), array([33.91867719, 44.75394912]), array([37.25766344, 54.29059019]), array([40.5966497 , 63.82723126]), array([43.93563596, 73.36387233]), array([47.27462221, 82.90051341]), array([50.61360847, 92.43715448]), array([ 53.95259472, 101.97379555]), array([57.29158098, 92.43715448]), array([60.63056724, 82.90051341]), array([63.96955349, 73.36387233]), array([67.30853975, 63.82723126]), array([70.647526  , 54.29059019]), array([73.98651226, 44.75394912]), array([77.32549851, 35.21730804]), array([80.66448477, 25.68066697])]\n",
            "[array([21.92118645, 62.89337158]), array([26.54460342, 64.48240874]), array([31.16802039, 66.07144589]), array([35.79143736, 67.66048305]), array([40.41485433, 69.24952021]), array([45.03827129, 70.83855736]), array([49.66168826, 72.42759452]), array([54.28510523, 74.01663167]), array([58.9085222 , 75.60566883]), array([63.53193917, 77.19470599]), array([68.15535614, 78.78374314]), array([72.77877311, 80.3727803 ]), array([77.40219008, 81.96181745]), array([82.02560705, 83.55085461]), array([86.64902402, 85.13989177]), array([91.27244099, 86.72892892])]\n",
            "[array([50.66451263,  1.70494115]), array([53.50918526,  1.97948194]), array([56.35385789,  2.25402273]), array([59.19853052,  2.52856351]), array([62.04320314,  2.8031043 ]), array([64.88787577,  3.07764508]), array([67.7325484 ,  3.35218587]), array([70.57722102,  3.62672666]), array([73.42189365,  3.90126744]), array([76.26656628,  4.17580823]), array([79.1112389 ,  4.45034901]), array([81.95591153,  4.7248898 ]), array([84.80058416,  4.99943059]), array([87.64525678,  5.27397137]), array([90.48992941,  5.54851216]), array([93.33460204,  5.82305294])]\n",
            "[array([35.70196152, 19.39799118]), array([37.23425677, 23.18301626]), array([38.76655202, 26.96804134]), array([40.29884727, 30.75306642]), array([41.83114252, 34.5380915 ]), array([43.36343777, 38.32311658]), array([44.37331805, 42.24396974]), array([45.38319834, 46.1648229 ]), array([46.39307862, 50.08567605]), array([47.40295891, 54.00652921]), array([48.41283919, 57.92738237]), array([49.42271948, 61.84823552]), array([50.43259977, 65.76908868]), array([51.44248005, 69.68994183]), array([52.45236034, 73.61079499]), array([53.46224062, 77.53164815])]\n",
            "[array([41.87016296, 38.71136856]), array([44.93574947, 48.39365968]), array([48.00133597, 58.0759508 ]), array([51.06692247, 67.75824192]), array([54.13250898, 77.44053304]), array([55.94867729, 87.29266788]), array([57.7648456 , 97.14480272]), array([ 59.58101392, 106.99693755]), array([61.39718223, 97.14480272]), array([63.21335054, 87.29266788]), array([65.02951886, 77.44053304]), array([66.84568717, 67.5883982 ]), array([68.66185548, 57.73626337]), array([70.4780238 , 47.88412853]), array([72.29419211, 38.03199369]), array([74.11036042, 28.17985885])]\n"
          ],
          "name": "stdout"
        },
        {
          "output_type": "display_data",
          "data": {
            "image/png": "[encoded data removed]",
            "text/plain": [
              "<Figure size 432x288 with 1 Axes>"
            ]
          },
          "metadata": {
            "tags": [],
            "needs_background": "light"
          }
        }
      ]
    },
    {
      "cell_type": "markdown",
      "metadata": {
        "id": "X1zJwq6zI8xU"
      },
      "source": [
        "FUNCION DEFINITIVA"
      ]
    },
    {
      "cell_type": "code",
      "metadata": {
        "id": "EYGob9FyF6Gl"
      },
      "source": [
        "def funcion_simuladora_definitiva(lx,ly,v1,v2,m,r,n,dt,pasos):#El proceso anterior lo generalizamos en una función\n",
        "  L=funcion_simuladora(lx,ly,v1,v2,m,r,n)\n",
        "  for N in L:\n",
        "    for i in range(pasos):\n",
        "      N.paso_dt(dt)\n",
        "      if N.ver_colision_esquina(lx,ly):\n",
        "        N.resolver_colision_esquina\n",
        "      if N.ver_colision_muro(lx,ly):\n",
        "        N.resolver_colision_muro(lx,ly)\n",
        "      for P in L:\n",
        "        if N.ver_colision_pp(P) and (N.posicion!=P.posicion).all():\n",
        "          N.resolver_colision_particula(P)\n",
        "  return L\n",
        "      "
      ],
      "execution_count": 6,
      "outputs": []
    },
    {
      "cell_type": "markdown",
      "metadata": {
        "id": "kkT45u2dJQGD"
      },
      "source": [
        "PRUEBA DE LA FUNCIÓN DEFINITIVA: Algo a tener en cuenta es que a la hora de extraer la información de las velcidades y posiciones a lo largo del tiempo, sí es útil que cada partícula tenga esa información, el código de la simulación no está tardando una cantidad exagerada de tiempo y me parece que es más facil manipular las cosas así.\n"
      ]
    },
    {
      "cell_type": "code",
      "metadata": {
        "colab": {
          "base_uri": "https://localhost:8080/"
        },
        "id": "mpePenUtIVuB",
        "outputId": "b323b938-fb6e-4da7-ed0a-a6ebfc3a2b59"
      },
      "source": [
        "A=funcion_simuladora_definitiva(100,100,0,100,1,1,10,0.01,15)\n",
        "print(A[0].posicion_n)\n",
        "print(A)"
      ],
      "execution_count": 7,
      "outputs": [
        {
          "output_type": "stream",
          "text": [
            "[array([44.06636047, 87.18604279]), array([44.53951705, 87.33426087]), array([45.01267362, 87.48247896]), array([45.4858302 , 87.63069704]), array([45.95898677, 87.77891512]), array([46.43214335, 87.92713321]), array([46.90529992, 88.07535129]), array([47.3784565 , 88.22356938]), array([47.85161307, 88.37178746]), array([48.32476965, 88.52000555]), array([48.79792622, 88.66822363]), array([49.2710828 , 88.81644172]), array([49.74423938, 88.9646598 ]), array([50.21739595, 89.11287789]), array([50.69055253, 89.26109597]), array([51.1637091 , 89.40931406])]\n",
            "[<_cython_magic_23919ec3535f64540f628291a417670d.Particula object at 0x7f0a61fde908>, <_cython_magic_23919ec3535f64540f628291a417670d.Particula object at 0x7f0a61fdecc0>, <_cython_magic_23919ec3535f64540f628291a417670d.Particula object at 0x7f0a61ffc1d0>, <_cython_magic_23919ec3535f64540f628291a417670d.Particula object at 0x7f0a61fde390>, <_cython_magic_23919ec3535f64540f628291a417670d.Particula object at 0x7f0a61fdeb38>, <_cython_magic_23919ec3535f64540f628291a417670d.Particula object at 0x7f0a61fde048>, <_cython_magic_23919ec3535f64540f628291a417670d.Particula object at 0x7f0a61fded30>, <_cython_magic_23919ec3535f64540f628291a417670d.Particula object at 0x7f0a61fdeef0>, <_cython_magic_23919ec3535f64540f628291a417670d.Particula object at 0x7f0a61fde278>, <_cython_magic_23919ec3535f64540f628291a417670d.Particula object at 0x7f0a61fde7f0>]\n"
          ],
          "name": "stdout"
        }
      ]
    },
    {
      "cell_type": "markdown",
      "metadata": {
        "id": "KtKvtPqvzbvL"
      },
      "source": [
        "DATOS PARA PATER"
      ]
    },
    {
      "cell_type": "code",
      "metadata": {
        "id": "hldgpIqxzZV4",
        "colab": {
          "base_uri": "https://localhost:8080/"
        },
        "outputId": "7225cf1c-6952-4c0f-b420-991de7157502"
      },
      "source": [
        "A=funcion_simuladora_definitiva(100,100,0,100,1,1,30,0.01,50)\n",
        "print(A)\n",
        "L=[]#Esta lista está formada por 30 sublistas que tienen el recorrido de la partículas, por alguna razón no me dejó separar esas sublistas\n",
        "     #En una tupla de listas para x e y pero esto es lo que se tiene, si Pater puede mirar la forma de correrlo así le agradezco\n",
        "for n in A:\n",
        "  L.append(n.posicion_n)\n",
        "print(L)"
      ],
      "execution_count": 62,
      "outputs": [
        {
          "output_type": "stream",
          "text": [
            "[<_cython_magic_23919ec3535f64540f628291a417670d.Particula object at 0x7f0a4dadc898>, <_cython_magic_23919ec3535f64540f628291a417670d.Particula object at 0x7f0a499cf048>, <_cython_magic_23919ec3535f64540f628291a417670d.Particula object at 0x7f0a498306d8>, <_cython_magic_23919ec3535f64540f628291a417670d.Particula object at 0x7f0a49830470>, <_cython_magic_23919ec3535f64540f628291a417670d.Particula object at 0x7f0a4dc75eb8>, <_cython_magic_23919ec3535f64540f628291a417670d.Particula object at 0x7f0a495ab278>, <_cython_magic_23919ec3535f64540f628291a417670d.Particula object at 0x7f0a495abac8>, <_cython_magic_23919ec3535f64540f628291a417670d.Particula object at 0x7f0a495ab9e8>, <_cython_magic_23919ec3535f64540f628291a417670d.Particula object at 0x7f0a4db6aa58>, <_cython_magic_23919ec3535f64540f628291a417670d.Particula object at 0x7f0a495ab2b0>, <_cython_magic_23919ec3535f64540f628291a417670d.Particula object at 0x7f0a4db6a0b8>, <_cython_magic_23919ec3535f64540f628291a417670d.Particula object at 0x7f0a495ab390>, <_cython_magic_23919ec3535f64540f628291a417670d.Particula object at 0x7f0a495abb00>, <_cython_magic_23919ec3535f64540f628291a417670d.Particula object at 0x7f0a4961f898>, <_cython_magic_23919ec3535f64540f628291a417670d.Particula object at 0x7f0a49830e10>, <_cython_magic_23919ec3535f64540f628291a417670d.Particula object at 0x7f0a49830940>, <_cython_magic_23919ec3535f64540f628291a417670d.Particula object at 0x7f0a495ab3c8>, <_cython_magic_23919ec3535f64540f628291a417670d.Particula object at 0x7f0a495ab668>, <_cython_magic_23919ec3535f64540f628291a417670d.Particula object at 0x7f0a4b352be0>, <_cython_magic_23919ec3535f64540f628291a417670d.Particula object at 0x7f0a49830358>, <_cython_magic_23919ec3535f64540f628291a417670d.Particula object at 0x7f0a49830668>, <_cython_magic_23919ec3535f64540f628291a417670d.Particula object at 0x7f0a495ab240>, <_cython_magic_23919ec3535f64540f628291a417670d.Particula object at 0x7f0a49830c18>, <_cython_magic_23919ec3535f64540f628291a417670d.Particula object at 0x7f0a49830710>, <_cython_magic_23919ec3535f64540f628291a417670d.Particula object at 0x7f0a4dc08160>, <_cython_magic_23919ec3535f64540f628291a417670d.Particula object at 0x7f0a495abb70>, <_cython_magic_23919ec3535f64540f628291a417670d.Particula object at 0x7f0a495ab5c0>, <_cython_magic_23919ec3535f64540f628291a417670d.Particula object at 0x7f0a49830550>, <_cython_magic_23919ec3535f64540f628291a417670d.Particula object at 0x7f0a495ab5f8>, <_cython_magic_23919ec3535f64540f628291a417670d.Particula object at 0x7f0a4db6a9b0>]\n",
            "[[array([50.73710632, 78.79387665]), array([51.28598174, 79.28530631]), array([51.83485715, 79.77673597]), array([52.38373257, 80.26816563]), array([52.93260798, 80.75959529]), array([53.4814834 , 81.25102495]), array([54.03035881, 81.74245462]), array([54.57923423, 82.23388428]), array([55.12810964, 82.72531394]), array([55.67698506, 83.2167436 ]), array([56.22586047, 83.70817326]), array([56.77473589, 84.19960292]), array([57.3236113 , 84.69103258]), array([57.87248672, 85.18246224]), array([58.42136213, 85.67389191]), array([58.97023755, 86.16532157]), array([59.51911296, 86.65675123]), array([60.06798838, 87.14818089]), array([60.61686379, 87.63961055]), array([61.16573921, 88.13104021]), array([61.71461462, 88.62246987]), array([62.26349004, 89.11389953]), array([62.81236545, 89.6053292 ]), array([63.36124087, 90.09675886]), array([63.52020353, 90.89313459]), array([63.6791662 , 91.68951033]), array([63.83812887, 92.48588607]), array([63.99709154, 93.2822618 ]), array([64.1560542 , 94.07863754]), array([64.31501687, 94.87501327]), array([64.47397954, 95.67138901]), array([64.6329422 , 96.46776475]), array([64.79190487, 97.26414048]), array([64.95086754, 98.06051622]), array([65.1098302 , 98.85689196]), array([65.26879287, 99.65326769]), array([65.42775554, 98.85689196]), array([65.58671821, 98.06051622]), array([65.74568087, 97.26414048]), array([65.90464354, 96.46776475]), array([66.06360621, 95.67138901]), array([66.22256887, 94.87501327]), array([66.38153154, 94.07863754]), array([66.54049421, 93.2822618 ]), array([66.69945687, 92.48588607]), array([66.85841954, 91.68951033]), array([67.01738221, 90.89313459]), array([67.17634488, 90.09675886]), array([67.33530754, 89.30038312]), array([67.49427021, 88.50400738]), array([67.65323288, 87.70763165])], [array([61.10298157, 62.12223816]), array([61.33566434, 62.95295935]), array([61.56834712, 63.78368054]), array([61.8010299 , 64.61440172]), array([62.03371267, 65.44512291]), array([62.26639545, 66.2758441 ]), array([62.49907822, 67.10656529]), array([62.731761  , 67.93728648]), array([62.96444378, 68.76800766]), array([63.19712655, 69.59872885]), array([63.42980933, 70.42945004]), array([63.6624921 , 71.26017123]), array([63.89517488, 72.09089242]), array([64.12785766, 72.9216136 ]), array([64.36054043, 73.75233479]), array([64.59322321, 74.58305598]), array([64.82590598, 75.41377717]), array([65.05858876, 76.24449836]), array([65.29127154, 77.07521954]), array([65.52395431, 77.90594073]), array([65.75663709, 78.73666192]), array([65.98931986, 79.56738311]), array([66.22200264, 80.3981043 ]), array([66.45468542, 81.22882549]), array([66.68736819, 82.05954667]), array([66.92005097, 82.89026786]), array([67.15273374, 83.72098905]), array([67.38541652, 84.55171024]), array([67.6180993 , 85.38243143]), array([67.85078207, 86.21315261]), array([68.2935847 , 85.45429654]), array([68.73638732, 84.69544048]), array([69.17918995, 83.93658441]), array([69.62199257, 83.17772834]), array([70.0647952 , 82.41887227]), array([70.50759782, 81.6600162 ]), array([70.95040045, 80.90116013]), array([71.39320307, 80.14230406]), array([71.8360057 , 79.38344799]), array([72.27880832, 78.62459192]), array([72.72161095, 77.86573585]), array([73.16441357, 77.10687978]), array([73.6072162 , 76.34802371]), array([74.05001882, 75.58916764]), array([74.49282145, 74.83031157]), array([74.93562407, 74.0714555 ]), array([75.3784267 , 73.31259943]), array([75.82122932, 72.55374336]), array([76.26403195, 71.79488729]), array([76.70683457, 71.03603123]), array([77.1496372 , 70.27717516])], [array([81.7279129 ,  3.98311377]), array([81.78064666,  4.45351838]), array([81.83338042,  4.92392299]), array([81.88611418,  5.39432761]), array([81.93884794,  5.86473222]), array([81.9915817 ,  6.33513684]), array([82.04431546,  6.80554145]), array([82.09704921,  7.27594607]), array([82.14978297,  7.74635068]), array([82.20251673,  8.2167553 ]), array([82.25525049,  8.68715991]), array([82.30798425,  9.15756452]), array([82.36071801,  9.62796914]), array([82.41345177, 10.09837375]), array([82.46618552, 10.56877837]), array([82.51891928, 11.03918298]), array([82.57165304, 11.5095876 ]), array([82.6243868 , 11.97999221]), array([82.67712056, 12.45039683]), array([82.72985432, 12.92080144]), array([82.78258808, 13.39120605]), array([82.83532184, 13.86161067]), array([82.88805559, 14.33201528]), array([82.94078935, 14.8024199 ]), array([82.99352311, 15.27282451]), array([83.04625687, 15.74322913]), array([83.09899063, 16.21363374]), array([83.15172439, 16.68403836]), array([83.20445815, 17.15444297]), array([83.25719191, 17.62484758]), array([83.30992566, 18.0952522 ]), array([83.36265942, 18.56565681]), array([83.41539318, 19.03606143]), array([83.46812694, 19.50646604]), array([83.5208607 , 19.97687066]), array([83.57359446, 20.44727527]), array([83.62632822, 20.91767989]), array([83.67906197, 21.3880845 ]), array([83.73179573, 21.85848911]), array([83.78452949, 22.32889373]), array([83.83726325, 22.79929834]), array([83.88999701, 23.26970296]), array([83.94273077, 23.74010757]), array([83.99546453, 24.21051219]), array([84.04819829, 24.6809168 ]), array([84.10093204, 25.15132141]), array([84.1536658 , 25.62172603]), array([84.20639956, 26.09213064]), array([84.25913332, 26.56253526]), array([84.31186708, 27.03293987]), array([84.36460084, 27.50334449])], [array([36.64802551, 12.11639881]), array([37.24507624, 12.78409388]), array([37.57575085, 13.59646508]), array([38.03661814, 14.40883261]), array([38.49748544, 15.22120014]), array([38.95835274, 16.03356767]), array([39.41922003, 16.84593519]), array([39.88008733, 17.65830272]), array([40.34095463, 18.47067025]), array([40.80182192, 19.28303778]), array([41.26268922, 20.09540531]), array([41.72355652, 20.90777284]), array([42.18442381, 21.72014036]), array([42.64529111, 22.53250789]), array([43.10615841, 23.34487542]), array([43.56702571, 24.15724295]), array([44.027893  , 24.96961048]), array([44.4887603 , 25.78197801]), array([44.9496276 , 26.59434553]), array([45.41049489, 27.40671306]), array([45.87136219, 28.21908059]), array([46.33222949, 29.03144812]), array([46.79309678, 29.84381565]), array([47.25396408, 30.65618318]), array([47.71483138, 31.4685507 ]), array([48.12472507, 32.22442812]), array([48.5885206 , 33.11702357]), array([48.78124028, 33.84454422]), array([49.13928019, 34.89842934]), array([49.41984678, 35.61618362]), array([49.77576046, 36.50547481]), array([50.13167415, 37.394766  ]), array([50.48758783, 38.2840572 ]), array([50.84350152, 39.17334839]), array([51.19941521, 40.06263958]), array([51.55532889, 40.95193077]), array([51.91124258, 41.84122196]), array([52.26715627, 42.73051315]), array([52.62306995, 43.61980434]), array([52.97898364, 44.50909554]), array([53.33489732, 45.39838673]), array([53.69081101, 46.28767792]), array([54.0467247 , 47.17696911]), array([54.40263838, 48.0662603 ]), array([54.75855207, 48.95555149]), array([55.11446575, 49.84484268]), array([55.47037944, 50.73413388]), array([55.82629313, 51.62342507]), array([56.18220681, 52.51271626]), array([56.5381205 , 53.40200745]), array([56.89403419, 54.29129864])], [array([33.38274765, 78.1772995 ]), array([33.59465316, 78.92715307]), array([33.80655868, 79.67700665]), array([34.01846419, 80.42686022]), array([34.2303697, 81.1767138]), array([34.44227521, 81.92656738]), array([34.65418073, 82.67642095]), array([34.86608624, 83.42627453]), array([35.07799175, 84.1761281 ]), array([35.28989727, 84.92598168]), array([35.50180278, 85.67583525]), array([35.71370829, 86.42568883]), array([35.9256138, 87.1755424]), array([36.13751932, 87.92539598]), array([36.34942483, 88.67524955]), array([36.56133034, 89.42510313]), array([36.77323586, 90.1749567 ]), array([36.98514137, 90.92481028]), array([37.19704688, 91.67466385]), array([37.40895239, 92.42451743]), array([37.62085791, 93.174371  ]), array([37.83276342, 93.92422458]), array([38.04466893, 94.67407815]), array([38.25657445, 95.42393173]), array([38.46847996, 96.1737853 ]), array([38.68038547, 96.92363888]), array([38.89229098, 97.67349245]), array([39.1041965 , 98.42334603]), array([39.31610201, 99.1731996 ]), array([39.52800752, 98.42334603]), array([39.73991304, 97.67349245]), array([39.95181855, 96.92363888]), array([40.16372406, 96.1737853 ]), array([40.37562957, 95.42393173]), array([40.58753509, 94.67407815]), array([40.7994406 , 93.92422458]), array([41.01134611, 93.174371  ]), array([41.22325163, 92.42451743]), array([41.43515714, 91.67466385]), array([41.64706265, 90.92481028]), array([41.85896816, 90.1749567 ]), array([42.07087368, 89.42510313]), array([42.28277919, 88.67524955]), array([42.4946847 , 87.92539598]), array([42.70659022, 87.1755424 ]), array([42.91849573, 86.42568883]), array([43.13040124, 85.67583525]), array([43.34230675, 84.92598168]), array([43.55421227, 84.1761281 ]), array([43.76611778, 83.42627453]), array([43.97802329, 82.67642095])], [array([64.01269531, 22.41540527]), array([64.83537642, 23.06175292]), array([65.65805752, 23.70810056]), array([66.48073862, 24.3544482 ]), array([67.30341973, 25.00079584]), array([68.12610083, 25.64714348]), array([68.94878193, 26.29349112]), array([69.77146304, 26.93983877]), array([70.59414414, 27.58618641]), array([71.41682524, 28.23253405]), array([72.23950635, 28.87888169]), array([73.06218745, 29.52522933]), array([73.88486855, 30.17157698]), array([74.70754966, 30.81792462]), array([75.53023076, 31.46427226]), array([76.35291186, 32.1106199 ]), array([77.17559297, 32.75696754]), array([77.99827407, 33.40331518]), array([78.82095517, 34.04966283]), array([79.64363628, 34.69601047]), array([80.46631738, 35.34235811]), array([81.28899848, 35.98870575]), array([82.11167959, 36.63505339]), array([82.93436069, 37.28140103]), array([84.10446083, 37.50432521]), array([85.24131057, 38.02459624]), array([86.37816032, 38.54486726]), array([87.51501007, 39.06513829]), array([88.65185982, 39.58540931]), array([89.78870957, 40.10568034]), array([90.92555932, 40.62595136]), array([92.06240907, 41.14622239]), array([93.19925882, 41.66649341]), array([94.33610856, 42.18676444]), array([95.47295831, 42.70703546]), array([96.60980806, 43.22730649]), array([97.74665781, 43.74757751]), array([98.88350756, 44.26784854]), array([100.02035731,  44.78811956]), array([98.88350756, 45.30839059]), array([97.74665781, 45.82866161]), array([96.60980806, 46.34893264]), array([95.47295831, 46.86920366]), array([94.33610856, 47.38947469]), array([93.19925882, 47.90974571]), array([92.06240907, 48.43001674]), array([90.92555932, 48.95028776]), array([89.78870957, 49.47055879]), array([88.65185982, 49.99082981]), array([87.51501007, 50.51110084]), array([86.37816032, 51.03137186])], [array([84.31795502, 35.59511948]), array([84.94640888, 35.75747484]), array([85.57486274, 35.9198302 ]), array([86.2033166 , 36.08218556]), array([86.83177046, 36.24454091]), array([87.46022433, 36.40689627]), array([88.08867819, 36.56925163]), array([88.71713205, 36.73160699]), array([89.34558591, 36.89396235]), array([89.97403977, 37.05631771]), array([90.60249363, 37.21867307]), array([91.2309475 , 37.38102843]), array([91.85940136, 37.54338379]), array([92.48785522, 37.70573915]), array([93.11630908, 37.86809451]), array([93.74476294, 38.03044987]), array([94.3732168 , 38.19280523]), array([95.00167067, 38.35516059]), array([95.63012453, 38.51751595]), array([96.25857839, 38.67987131]), array([96.88703225, 38.84222667]), array([97.51548611, 39.00458203]), array([98.14393997, 39.16693739]), array([98.77239384, 39.32929275]), array([99.4008477 , 39.49164811]), array([98.77239384, 39.65400347]), array([98.14393997, 39.81635883]), array([97.51548611, 39.97871419]), array([96.88703225, 40.14106955]), array([96.25857839, 40.30342491]), array([95.63012453, 40.46578026]), array([95.00167067, 40.62813562]), array([94.3732168 , 40.79049098]), array([93.74476294, 40.95284634]), array([93.11630908, 41.1152017 ]), array([92.48785522, 41.27755706]), array([91.85940136, 41.43991242]), array([91.2309475 , 41.60226778]), array([90.60249363, 41.76462314]), array([89.97403977, 41.9269785 ]), array([89.34558591, 42.08933386]), array([88.71713205, 42.25168922]), array([88.08867819, 42.41404458]), array([87.46022433, 42.57639994]), array([86.83177046, 42.7387553 ]), array([86.2033166 , 42.90111066]), array([85.57486274, 43.06346602]), array([84.94640888, 43.22582138]), array([84.31795502, 43.38817674]), array([83.68950116, 43.5505321 ]), array([83.06104729, 43.71288746])], [array([62.25139999, 57.18678284]), array([62.46046827, 57.76667983]), array([62.66953654, 58.34657682]), array([62.87860482, 58.92647381]), array([63.08767309, 59.5063708 ]), array([63.29674137, 60.08626779]), array([63.50580964, 60.66616478]), array([63.71487792, 61.24606177]), array([63.92394619, 61.82595876]), array([64.13301447, 62.40585575]), array([64.34208274, 62.98575274]), array([64.55115101, 63.56564973]), array([64.76021929, 64.14554672]), array([64.96928756, 64.72544371]), array([65.17835584, 65.3053407 ]), array([65.38742411, 65.88523769]), array([65.59649239, 66.46513468]), array([65.80556066, 67.04503167]), array([66.01462894, 67.62492866]), array([66.22369721, 68.20482565]), array([66.43276549, 68.78472264]), array([66.64183376, 69.36461963]), array([66.85090203, 69.94451662]), array([67.05997031, 70.52441361]), array([67.26903858, 71.1043106 ]), array([67.47810686, 71.68420759]), array([67.68717513, 72.26410458]), array([67.89624341, 72.84400157]), array([68.10531168, 73.42389856]), array([68.31437996, 74.00379555]), array([68.52344823, 74.58369254]), array([68.73251651, 75.16358953]), array([68.94158478, 75.74348652]), array([69.15065306, 76.32338351]), array([69.35972133, 76.9032805 ]), array([69.5687896 , 77.48317749]), array([69.77785788, 78.06307448]), array([69.98692615, 78.64297147]), array([70.19599443, 79.22286846]), array([70.4050627 , 79.80276546]), array([70.61413098, 80.38266245]), array([70.82319925, 80.96255944]), array([71.03226753, 81.54245643]), array([71.2413358 , 82.12235342]), array([71.45040408, 82.70225041]), array([71.65947235, 83.2821474 ]), array([71.86854063, 83.86204439]), array([72.0776089 , 84.44194138]), array([72.28667717, 85.02183837]), array([72.49574545, 85.60173536]), array([72.70481372, 86.18163235])], [array([12.72890091,  3.39865589]), array([13.03275083,  4.1248897 ]), array([13.33660075,  4.85112351]), array([13.64045067,  5.57735732]), array([13.94430059,  6.30359113]), array([14.24815051,  7.02982494]), array([14.55200042,  7.75605875]), array([14.85585034,  8.48229256]), array([15.15970026,  9.20852637]), array([15.46355018,  9.93476018]), array([15.7674001 , 10.66099399]), array([16.07125002, 11.3872278 ]), array([16.37509994, 12.1134616 ]), array([16.67894986, 12.83969541]), array([16.98279978, 13.56592922]), array([17.2866497 , 14.29216303]), array([17.59049962, 15.01839684]), array([17.89434954, 15.74463065]), array([18.19819946, 16.47086446]), array([18.50204937, 17.19709827]), array([18.80589929, 17.92333208]), array([19.10974921, 18.64956589]), array([19.41359913, 19.3757997 ]), array([19.71744905, 20.10203351]), array([20.02129897, 20.82826732]), array([20.32514889, 21.55450113]), array([20.62899881, 22.28073494]), array([20.93284873, 23.00696875]), array([21.23669865, 23.73320256]), array([21.54054857, 24.45943637]), array([21.84439849, 25.18567017]), array([22.1482484 , 25.91190398]), array([22.45209832, 26.63813779]), array([22.75594824, 27.3643716 ]), array([23.05979816, 28.09060541]), array([23.36364808, 28.81683922]), array([23.667498  , 29.54307303]), array([23.97134792, 30.26930684]), array([24.27519784, 30.99554065]), array([24.57904776, 31.72177446]), array([24.88289768, 32.44800827]), array([25.1867476 , 33.17424208]), array([25.49059752, 33.90047589]), array([25.79444744, 34.6267097 ]), array([26.09829735, 35.35294351]), array([26.40214727, 36.07917732]), array([26.70599719, 36.80541113]), array([27.00984711, 37.53164494]), array([27.31369703, 38.25787875]), array([27.61754695, 38.98411255]), array([27.92139687, 39.71034636])], [array([65.09283447, 88.74250031]), array([65.53105217, 89.09243985]), array([65.96926986, 89.4423794 ]), array([66.40748756, 89.79231894]), array([66.84570526, 90.14225849]), array([67.28392295, 90.49219803]), array([67.72214065, 90.84213758]), array([68.16035834, 91.19207713]), array([68.59857604, 91.54201667]), array([69.03679373, 91.89195622]), array([69.47501143, 92.24189576]), array([69.91322913, 92.59183531]), array([70.35144682, 92.94177485]), array([70.78966452, 93.2917144 ]), array([71.22788221, 93.64165394]), array([71.66609991, 93.99159349]), array([72.1043176 , 94.34153304]), array([72.5425353 , 94.69147258]), array([72.980753  , 95.04141213]), array([73.41897069, 95.39135167]), array([73.85718839, 95.74129122]), array([74.29540608, 96.09123076]), array([74.73362378, 96.44117031]), array([75.17184147, 96.79110986]), array([75.61005917, 97.1410494 ]), array([76.04827687, 97.49098895]), array([76.48649456, 97.84092849]), array([76.92471226, 98.19086804]), array([77.36292995, 98.54080758]), array([77.80114765, 98.89074713]), array([78.23936534, 99.24068668]), array([78.67758304, 98.89074713]), array([79.11580074, 98.54080758]), array([79.55401843, 98.19086804]), array([79.99223613, 97.84092849]), array([80.43045382, 97.49098895]), array([80.86867152, 97.1410494 ]), array([81.30688921, 96.79110986]), array([81.74510691, 96.44117031]), array([82.18332461, 96.09123076]), array([82.6215423 , 95.74129122]), array([83.05976   , 95.39135167]), array([83.49797769, 95.04141213]), array([83.93619539, 94.69147258]), array([84.37441308, 94.34153304]), array([84.81263078, 93.99159349]), array([85.25084848, 93.64165394]), array([85.68906617, 93.2917144 ]), array([86.12728387, 92.94177485]), array([86.56550156, 92.59183531]), array([87.00371926, 92.24189576])], [array([61.9128952 , 45.48471069]), array([62.20266628, 45.54328288]), array([62.49243735, 45.60185508]), array([62.78220842, 45.66042727]), array([63.0719795 , 45.71899946]), array([63.36175057, 45.77757165]), array([63.65152164, 45.83614384]), array([63.94129272, 45.89471603]), array([64.23106379, 45.95328822]), array([64.52083486, 46.01186041]), array([64.81060594, 46.0704326 ]), array([65.10037701, 46.12900479]), array([65.39014809, 46.18757698]), array([65.67991916, 46.24614917]), array([65.96969023, 46.30472137]), array([66.25946131, 46.36329356]), array([66.54923238, 46.42186575]), array([66.83900345, 46.48043794]), array([66.9448225 , 46.94376851]), array([67.05064155, 47.40709908]), array([67.15646061, 47.87042966]), array([67.26227966, 48.33376023]), array([67.36809871, 48.7970908 ]), array([67.47391776, 49.26042137]), array([67.57973681, 49.72375195]), array([67.68555586, 50.18708252]), array([67.79137491, 50.65041309]), array([67.89719396, 51.11374366]), array([68.00301301, 51.57707424]), array([68.10883207, 52.04040481]), array([68.21465112, 52.50373538]), array([68.32047017, 52.96706595]), array([68.42628922, 53.43039653]), array([68.53210827, 53.8937271 ]), array([68.63792732, 54.35705767]), array([68.74374637, 54.82038824]), array([68.84956542, 55.28371882]), array([68.95538447, 55.74704939]), array([69.06120353, 56.21037996]), array([69.16702258, 56.67371053]), array([69.27284163, 57.13704111]), array([69.37866068, 57.60037168]), array([69.48447973, 58.06370225]), array([69.59029878, 58.52703282]), array([69.69611783, 58.9903634 ]), array([69.80193688, 59.45369397]), array([69.90775593, 59.91702454]), array([70.01357498, 60.38035511]), array([70.11939404, 60.84368568]), array([70.22521309, 61.30701626]), array([70.33103214, 61.77034683])], [array([80.8168335 , 76.28327942]), array([81.14680625, 76.76416644]), array([81.47677901, 77.24505346]), array([81.80675176, 77.72594048]), array([82.13672452, 78.2068275 ]), array([82.46669727, 78.68771452]), array([82.79667003, 79.16860154]), array([83.12664279, 79.64948856]), array([83.45661554, 80.13037559]), array([83.7865883 , 80.61126261]), array([84.11656105, 81.09214963]), array([84.44653381, 81.57303665]), array([84.77650656, 82.05392367]), array([85.66333836, 82.75250211]), array([85.87576827, 83.49050518]), array([86.3233209 , 83.90555376]), array([86.70756592, 84.93729666]), array([87.09181093, 85.96903957]), array([87.47605595, 87.00078248]), array([87.86030096, 88.03252538]), array([88.24454598, 89.06426829]), array([88.62879099, 90.09601119]), array([89.01303601, 91.1277541 ]), array([89.39728102, 92.159497  ]), array([89.78152604, 93.19123991]), array([90.16577106, 94.22298281]), array([90.55001607, 95.25472572]), array([90.93426109, 96.28646862]), array([91.3185061 , 97.31821153]), array([91.70275112, 98.34995443]), array([92.08699613, 99.38169734]), array([92.47124115, 98.34995443]), array([92.85548616, 97.31821153]), array([93.23973118, 96.28646862]), array([93.62397619, 95.25472572]), array([94.00822121, 94.22298281]), array([94.39246622, 93.19123991]), array([94.77671124, 92.159497  ]), array([95.16095625, 91.1277541 ]), array([95.54520127, 90.09601119]), array([95.92944628, 89.06426829]), array([96.3136913 , 88.03252538]), array([96.69793631, 87.00078248]), array([97.08218133, 85.96903957]), array([97.46642634, 84.93729666]), array([97.85067136, 83.90555376]), array([98.23491637, 82.87381085]), array([98.61916139, 81.84206795]), array([99.0034064 , 80.81032504]), array([98.61916139, 79.77858214]), array([98.23491637, 78.74683923])], [array([49.15343094, 33.06283951]), array([49.68186674, 34.11803823]), array([49.85239949, 35.01557419]), array([50.22107931, 36.12466514]), array([50.58975913, 37.23375609]), array([50.95843895, 38.34284704]), array([51.32711877, 39.451938  ]), array([51.69579859, 40.56102895]), array([52.06447842, 41.6701199 ]), array([52.43315824, 42.77921086]), array([52.80183806, 43.88830181]), array([53.17051788, 44.99739276]), array([53.5391977 , 46.10648372]), array([53.90787752, 47.21557467]), array([54.27655734, 48.32466562]), array([54.64523716, 49.43375657]), array([55.01391699, 50.54284753]), array([55.38259681, 51.65193848]), array([55.75127663, 52.76102943]), array([56.01001049, 53.7228915 ]), array([56.44924924, 54.80081412]), array([56.89994658, 55.86561056]), array([57.35014866, 56.79853414]), array([57.80035074, 57.73145771]), array([58.25055282, 58.66438129]), array([58.7007549 , 59.59730487]), array([59.15095698, 60.53022844]), array([59.60115906, 61.46315202]), array([60.05136114, 62.3960756 ]), array([60.50156322, 63.32899918]), array([60.9517653 , 64.26192275]), array([61.40196738, 65.19484633]), array([61.85216946, 66.12776991]), array([62.30237154, 67.06069348]), array([62.75257362, 67.99361706]), array([63.2027757 , 68.92654064]), array([63.65297778, 69.85946421]), array([64.10317986, 70.79238779]), array([64.55338194, 71.72531137]), array([65.00358402, 72.65823494]), array([65.4537861 , 73.59115852]), array([65.90398818, 74.5240821 ]), array([66.35419026, 75.45700567]), array([66.80439234, 76.38992925]), array([67.25459442, 77.32285283]), array([67.7047965 , 78.25577641]), array([68.15499858, 79.18869998]), array([68.60520066, 80.12162356]), array([69.05540274, 81.05454714]), array([69.50560482, 81.98747071]), array([69.9558069 , 82.92039429])], [array([36.05578232, 52.43178558]), array([36.46940501, 53.2890579 ]), array([36.88302771, 54.14633022]), array([37.2966504 , 55.00360254]), array([37.7102731 , 55.86087486]), array([38.12389579, 56.71814718]), array([38.53751848, 57.5754195 ]), array([38.95114118, 58.43269182]), array([39.36476387, 59.28996414]), array([39.77838657, 60.14723646]), array([40.19200926, 61.00450878]), array([40.60563196, 61.8617811 ]), array([41.01925465, 62.71905342]), array([41.43287734, 63.57632574]), array([41.84650004, 64.43359806]), array([42.26012273, 65.29087038]), array([42.67374543, 66.1481427 ]), array([43.08736812, 67.00541502]), array([43.50099082, 67.86268734]), array([43.91461351, 68.71995966]), array([44.3282362 , 69.57723198]), array([44.7418589, 70.4345043]), array([45.15548159, 71.29177662]), array([45.56910429, 72.14904894]), array([45.98272698, 73.00632126]), array([46.39634968, 73.86359358]), array([46.80997237, 74.7208659 ]), array([47.22359506, 75.57813822]), array([47.63721776, 76.43541054]), array([48.05084045, 77.29268285]), array([48.46446315, 78.14995517]), array([48.87808584, 79.00722749]), array([49.29170854, 79.86449981]), array([49.70533123, 80.72177213]), array([50.11895392, 81.57904445]), array([50.53257662, 82.43631677]), array([50.94619931, 83.29358909]), array([51.35982201, 84.15086141]), array([51.7734447 , 85.00813373]), array([52.1870674 , 85.86540605]), array([52.60069009, 86.72267837]), array([53.01431278, 87.57995069]), array([53.42793548, 88.43722301]), array([53.84155817, 89.29449533]), array([54.25518087, 90.15176765]), array([54.66880356, 91.00903997]), array([55.08242626, 91.86631229]), array([55.49604895, 92.72358461]), array([55.90967164, 93.58085693]), array([56.32329434, 94.43812925]), array([56.73691703, 95.29540157])], [array([23.97335243,  4.68774843]), array([24.02433172,  5.4437526 ]), array([24.07531101,  6.19975676]), array([24.1262903 ,  6.95576092]), array([24.17726959,  7.71176509]), array([24.22824888,  8.46776925]), array([24.27922817,  9.22377342]), array([24.33020745,  9.97977758]), array([24.38118674, 10.73578174]), array([24.43216603, 11.49178591]), array([24.48314532, 12.24779007]), array([24.53412461, 13.00379424]), array([24.5851039, 13.7597984]), array([24.63608319, 14.51580256]), array([24.68706248, 15.27180673]), array([24.73804177, 16.02781089]), array([24.78902105, 16.78381506]), array([24.84000034, 17.53981922]), array([24.89097963, 18.29582338]), array([24.94195892, 19.05182755]), array([24.99293821, 19.80783171]), array([25.0439175 , 20.56383588]), array([25.09489679, 21.31984004]), array([25.14587608, 22.0758442 ]), array([25.19685537, 22.83184837]), array([25.24783465, 23.58785253]), array([25.29881394, 24.3438567 ]), array([25.34979323, 25.09986086]), array([25.40077252, 25.85586502]), array([25.45175181, 26.61186919]), array([25.5027311 , 27.36787335]), array([25.55371039, 28.12387752]), array([25.60468968, 28.87988168]), array([25.65566896, 29.63588584]), array([25.70664825, 30.39189001]), array([25.75762754, 31.14789417]), array([25.80860683, 31.90389834]), array([25.85958612, 32.6599025 ]), array([25.91056541, 33.41590666]), array([25.9615447 , 34.17191083]), array([26.01252399, 34.92791499]), array([26.06350328, 35.68391916]), array([26.11448256, 36.43992332]), array([26.16546185, 37.19592748]), array([26.21644114, 37.95193165]), array([26.26742043, 38.70793581]), array([26.49014424, 39.56802763]), array([26.59970804, 40.4168672 ]), array([26.90438519, 41.16140716]), array([27.12843481, 42.02098556]), array([27.35248443, 42.88056396])], [array([13.61288261, 38.96369171]), array([14.40686003, 39.77469618]), array([15.20083744, 40.58570065]), array([15.99481486, 41.39670512]), array([16.78879227, 42.20770958]), array([17.58276969, 43.01871405]), array([18.3767471 , 43.82971852]), array([19.17072452, 44.64072299]), array([19.96470193, 45.45172746]), array([20.75867934, 46.26273192]), array([21.55265676, 47.07373639]), array([22.34663417, 47.88474086]), array([23.14061159, 48.69574533]), array([23.934589  , 49.50674979]), array([24.72856642, 50.31775426]), array([25.52254383, 51.12875873]), array([26.31652125, 51.9397632 ]), array([27.11049866, 52.75076767]), array([27.90447608, 53.56177213]), array([28.69845349, 54.3727766 ]), array([29.4924309 , 55.18378107]), array([30.28640832, 55.99478554]), array([31.08038573, 56.80579001]), array([31.87436315, 57.61679447]), array([32.66834056, 58.42779894]), array([33.48847104, 59.39833079]), array([34.44618285, 60.21003001]), array([35.2566805 , 61.00519207]), array([36.06717815, 61.80035414]), array([36.87767579, 62.5955162 ]), array([37.68817344, 63.39067827]), array([38.49867109, 64.18584033]), array([39.30916874, 64.9810024 ]), array([40.11966638, 65.77616446]), array([40.93016403, 66.57132653]), array([41.74066168, 67.36648859]), array([42.55115933, 68.16165066]), array([43.36165697, 68.95681272]), array([44.17215462, 69.75197479]), array([44.98265227, 70.54713686]), array([45.79314992, 71.34229892]), array([46.60364756, 72.13746099]), array([47.41414521, 72.93262305]), array([48.22464286, 73.72778512]), array([49.03514051, 74.52294718]), array([49.84563815, 75.31810925]), array([50.6561358 , 76.11327131]), array([51.46663345, 76.90843338]), array([52.2771311 , 77.70359544]), array([53.08762874, 78.49875751]), array([53.89812639, 79.29391957])], [array([48.54104614, 33.61548615]), array([48.94313359, 34.29614286]), array([49.34522104, 34.97679957]), array([49.74730849, 35.65745629]), array([50.14939594, 36.338113  ]), array([50.55148339, 37.01876971]), array([50.95357084, 37.69942643]), array([51.35565829, 38.38008314]), array([51.75774574, 39.06073985]), array([52.15983319, 39.74139657]), array([52.56192064, 40.42205328]), array([52.96400809, 41.10270999]), array([53.36609554, 41.78336671]), array([53.76818299, 42.46402342]), array([54.17027044, 43.14468014]), array([54.57235789, 43.82533685]), array([54.97444534, 44.50599356]), array([55.37653278, 45.18665028]), array([55.77862023, 45.86730699]), array([56.18070768, 46.5479637 ]), array([56.58279513, 47.22862042]), array([56.98488258, 47.90927713]), array([57.38697003, 48.58993384]), array([57.78905748, 49.27059056]), array([58.19114493, 49.95124727]), array([58.59323238, 50.63190399]), array([58.99531983, 51.3125607 ]), array([59.39740728, 51.99321741]), array([59.79949473, 52.67387413]), array([60.20158218, 53.35453084]), array([60.60366963, 54.03518755]), array([61.00575708, 54.71584427]), array([61.40784453, 55.39650098]), array([61.80993198, 56.07715769]), array([62.21201943, 56.75781441]), array([62.61410688, 57.43847112]), array([63.01619433, 58.11912784]), array([63.41828178, 58.79978455]), array([63.82036923, 59.48044126]), array([64.22245667, 60.16109798]), array([64.62454412, 60.84175469]), array([65.02663157, 61.5224114 ]), array([65.42871902, 62.20306812]), array([65.83080647, 62.88372483]), array([66.23289392, 63.56438154]), array([66.63498137, 64.24503826]), array([67.03706882, 64.92569497]), array([67.43915627, 65.60635169]), array([67.84124372, 66.2870084 ]), array([68.24333117, 66.96766511]), array([68.64541862, 67.64832183])], [array([38.75889587, 74.56169128]), array([39.48876326, 74.89298991]), array([40.21863064, 75.22428854]), array([40.94849803, 75.55558717]), array([41.67836541, 75.8868858 ]), array([42.4082328 , 76.21818443]), array([43.13810018, 76.54948306]), array([43.86796757, 76.88078169]), array([44.59783495, 77.21208032]), array([45.32770234, 77.54337895]), array([46.05756972, 77.87467758]), array([46.78743711, 78.20597621]), array([47.51730449, 78.53727484]), array([48.24717188, 78.86857347]), array([48.97703926, 79.1998721 ]), array([49.70690665, 79.53117073]), array([50.43677403, 79.86246936]), array([51.16664142, 80.19376799]), array([51.8965088 , 80.52506662]), array([52.62637619, 80.85636525]), array([53.16127211, 81.42720173]), array([53.69616804, 81.99803821]), array([54.23106397, 82.56887469]), array([54.7659599 , 83.13971117]), array([55.30085583, 83.71054765]), array([55.83575176, 84.28138413]), array([56.37064769, 84.85222061]), array([56.90554362, 85.42305709]), array([57.44043954, 85.99389357]), array([57.97533547, 86.56473005]), array([58.5102314 , 87.13556653]), array([59.04512733, 87.70640301]), array([59.58002326, 88.27723949]), array([60.11491919, 88.84807597]), array([60.64981512, 89.41891244]), array([61.18471105, 89.98974892]), array([61.71960697, 90.5605854 ]), array([62.2545029 , 91.13142188]), array([62.78939883, 91.70225836]), array([63.32429476, 92.27309484]), array([63.85919069, 92.84393132]), array([64.39408662, 93.4147678 ]), array([64.92898255, 93.98560428]), array([65.46387848, 94.55644076]), array([65.9987744 , 95.12727724]), array([66.53367033, 95.69811372]), array([67.06856626, 96.2689502 ]), array([67.60346219, 96.83978668]), array([68.13835812, 97.41062316]), array([68.67325405, 97.98145964]), array([69.20814998, 98.55229612])], [array([32.93264771, 60.04000854]), array([33.87326063, 61.00392244]), array([34.81387355, 61.96783634]), array([35.75448648, 62.93175024]), array([36.6950994 , 63.89566414]), array([37.63571233, 64.85957804]), array([38.57632525, 65.82349194]), array([39.51693818, 66.78740584]), array([40.4575511 , 67.75131974]), array([41.39816402, 68.71523364]), array([42.33877695, 69.67914754]), array([43.27938987, 70.64306144]), array([44.2200028 , 71.60697534]), array([45.16061572, 72.57088924]), array([46.10122865, 73.53480314]), array([47.04184157, 74.49871704]), array([47.98245449, 75.46263094]), array([48.92306742, 76.42654484]), array([49.86368034, 77.39045873]), array([50.80429327, 78.35437263]), array([51.74490619, 79.31828653]), array([52.75498682, 80.2814143 ]), array([53.92384481, 81.10738313]), array([55.09074674, 81.79542603]), array([56.25764867, 82.48346893]), array([57.4245506 , 83.17151183]), array([58.59145254, 83.85955473]), array([59.75835447, 84.54759763]), array([60.9252564 , 85.23564053]), array([62.09215833, 85.92368343]), array([63.25906027, 86.61172633]), array([64.4259622 , 87.29976923]), array([65.59286413, 87.98781213]), array([65.54978202, 88.84039545]), array([65.5066999 , 89.69297876]), array([65.46361779, 90.54556207]), array([65.42053568, 91.39814538]), array([65.37745356, 92.25072869]), array([65.33437145, 93.103312  ]), array([65.29128934, 93.95589531]), array([65.24820722, 94.80847862]), array([65.20512511, 95.66106193]), array([65.162043  , 96.51364524]), array([65.11896088, 97.36622856]), array([65.07587877, 98.21881187]), array([65.03279666, 99.07139518]), array([64.98971454, 98.21881187]), array([64.94663243, 97.36622856]), array([64.90355031, 96.51364524]), array([64.8604682 , 95.66106193]), array([64.81738609, 94.80847862])], [array([49.18380356, 25.83070374]), array([49.26420023, 26.08728006]), array([49.3445969 , 26.34385638]), array([49.42499357, 26.6004327 ]), array([49.50539024, 26.85700903]), array([49.58578691, 27.11358535]), array([49.66618358, 27.37016167]), array([49.74658024, 27.62673799]), array([49.82697691, 27.88331432]), array([49.90737358, 28.13989064]), array([49.98777025, 28.39646696]), array([50.06816692, 28.65304328]), array([50.14856359, 28.90961961]), array([50.22896026, 29.16619593]), array([50.30935693, 29.42277225]), array([50.3897536 , 29.67934857]), array([50.47015027, 29.9359249 ]), array([50.55054694, 30.19250122]), array([50.63094361, 30.44907754]), array([50.71134028, 30.70565386]), array([50.79173695, 30.96223019]), array([50.87213362, 31.21880651]), array([50.95253029, 31.47538283]), array([51.03292696, 31.73195915]), array([51.11332363, 31.98853548]), array([51.1937203, 32.2451118]), array([51.27411697, 32.50168812]), array([51.35451363, 32.75826444]), array([51.4349103 , 33.01484077]), array([51.51530697, 33.27141709]), array([51.59570364, 33.52799341]), array([51.67610031, 33.78456973]), array([51.75649698, 34.04114606]), array([51.83689365, 34.29772238]), array([51.91729032, 34.5542987 ]), array([51.99768699, 34.81087502]), array([52.07808366, 35.06745135]), array([52.15848033, 35.32402767]), array([52.238877  , 35.58060399]), array([52.31927367, 35.83718031]), array([52.39967034, 36.09375664]), array([52.48006701, 36.35033296]), array([52.56046368, 36.60690928]), array([52.64086035, 36.8634856 ]), array([52.72125702, 37.12006193]), array([52.80165369, 37.37663825]), array([52.88205036, 37.63321457]), array([52.96244702, 37.88979089]), array([53.04284369, 38.14636722]), array([53.12324036, 38.40294354]), array([53.20363703, 38.65951986])], [array([30.84374428, 32.53665161]), array([31.60794958, 33.04064002]), array([32.37215489, 33.54462843]), array([33.13636019, 34.04861683]), array([33.9005655 , 34.55260524]), array([34.6647708 , 35.05659365]), array([35.42897611, 35.56058206]), array([36.19318141, 36.06457046]), array([36.95738672, 36.56855887]), array([37.72159202, 37.07254728]), array([38.48579733, 37.57653568]), array([39.25000263, 38.08052409]), array([40.01420794, 38.5845125 ]), array([40.77841325, 39.08850091]), array([41.54261855, 39.59248931]), array([42.30682386, 40.09647772]), array([43.07102916, 40.60046613]), array([43.83523447, 41.10445454]), array([44.59943977, 41.60844294]), array([45.36364508, 42.11243135]), array([46.12785038, 42.61641976]), array([46.89205569, 43.12040816]), array([47.65626099, 43.62439657]), array([48.4204663 , 44.12838498]), array([49.1846716 , 44.63237339]), array([49.94887691, 45.13636179]), array([50.71308221, 45.6403502 ]), array([51.47728752, 46.14433861]), array([52.24149282, 46.64832702]), array([53.00569813, 47.15231542]), array([53.76990343, 47.65630383]), array([54.53410874, 48.16029224]), array([55.29831404, 48.66428065]), array([56.06251935, 49.16826905]), array([56.82672465, 49.67225746]), array([57.59092996, 50.17624587]), array([58.35513526, 50.68023427]), array([59.11934057, 51.18422268]), array([59.88354587, 51.68821109]), array([60.64775118, 52.1921995 ]), array([61.41195649, 52.6961879 ]), array([62.17616179, 53.20017631]), array([62.9403671 , 53.70416472]), array([63.7045724 , 54.20815313]), array([64.46877771, 54.71214153]), array([65.23298301, 55.21612994]), array([65.99718832, 55.72011835]), array([66.76139362, 56.22410676]), array([67.52559893, 56.72809516]), array([68.28980423, 57.23208357]), array([69.05400954, 57.73607198])], [array([86.44638824, 82.70672607]), array([87.16362018, 83.14945896]), array([87.88085211, 83.59219184]), array([88.59808405, 84.03492473]), array([89.31531598, 84.47765761]), array([90.03254792, 84.9203905 ]), array([90.74977985, 85.36312338]), array([91.46701179, 85.80585626]), array([92.18424372, 86.24858915]), array([92.90147566, 86.69132203]), array([93.61870759, 87.13405492]), array([94.33593953, 87.5767878 ]), array([95.05317146, 88.01952069]), array([95.7704034 , 88.46225357]), array([96.48763533, 88.90498645]), array([97.20486727, 89.34771934]), array([97.9220992 , 89.79045222]), array([98.63933114, 90.23318511]), array([99.35656307, 90.67591799]), array([98.63933114, 91.11865088]), array([97.9220992 , 91.56138376]), array([97.20486727, 92.00411664]), array([96.48763533, 92.44684953]), array([95.7704034 , 92.88958241]), array([95.05317146, 93.3323153 ]), array([94.33593953, 93.77504818]), array([93.61870759, 94.21778106]), array([92.90147566, 94.66051395]), array([92.18424372, 95.10324683]), array([91.46701179, 95.54597972]), array([90.74977985, 95.9887126 ]), array([90.03254792, 96.43144549]), array([89.31531598, 96.87417837]), array([88.59808405, 97.31691125]), array([87.88085211, 97.75964414]), array([87.16362018, 98.20237702]), array([86.44638824, 98.64510991]), array([85.72915631, 99.08784279]), array([85.01192438, 98.64510991]), array([84.29469244, 98.20237702]), array([83.57746051, 97.75964414]), array([82.86022857, 97.31691125]), array([82.14299664, 96.87417837]), array([81.4257647 , 96.43144549]), array([80.70853277, 95.9887126 ]), array([79.99130083, 95.54597972]), array([79.2740689 , 95.10324683]), array([78.55683696, 94.66051395]), array([77.83960503, 94.21778106]), array([77.12237309, 93.77504818]), array([76.40514116, 93.3323153 ])], [array([48.87213516, 61.27752304]), array([48.95117766, 61.43168042]), array([49.03022015, 61.5858378 ]), array([49.10926265, 61.73999517]), array([49.18830514, 61.89415255]), array([49.26734764, 62.04830993]), array([49.34639013, 62.20246731]), array([49.42543263, 62.35662468]), array([49.50447512, 62.51078206]), array([49.58351762, 62.66493944]), array([49.66256011, 62.81909682]), array([49.74160261, 62.97325419]), array([49.8206451 , 63.12741157]), array([49.8996876 , 63.28156895]), array([49.97873009, 63.43572633]), array([50.05777259, 63.5898837 ]), array([50.13681508, 63.74404108]), array([50.21585758, 63.89819846]), array([50.29490007, 64.05235584]), array([50.37394257, 64.20651322]), array([50.45298506, 64.36067059]), array([50.53202756, 64.51482797]), array([50.61107005, 64.66898535]), array([50.69011255, 64.82314273]), array([50.76915504, 64.9773001 ]), array([50.84819754, 65.13145748]), array([50.92724003, 65.28561486]), array([51.00628253, 65.43977224]), array([51.08532502, 65.59392961]), array([51.16436751, 65.74808699]), array([51.24341001, 65.90224437]), array([51.3224525 , 66.05640175]), array([51.401495  , 66.21055912]), array([51.48053749, 66.3647165 ]), array([51.55957999, 66.51887388]), array([51.63862248, 66.67303126]), array([51.71766498, 66.82718863]), array([51.79670747, 66.98134601]), array([51.87574997, 67.13550339]), array([51.95479246, 67.28966077]), array([52.03383496, 67.44381815]), array([52.11287745, 67.59797552]), array([52.19191995, 67.7521329 ]), array([52.27096244, 67.90629028]), array([52.35000494, 68.06044766]), array([52.42904743, 68.21460503]), array([52.50808993, 68.36876241]), array([52.58713242, 68.52291979]), array([52.66617492, 68.67707717]), array([52.74521741, 68.83123454]), array([52.82425991, 68.98539192])], [array([72.10509491,  2.56993365]), array([72.44058051,  2.97315016]), array([72.77606612,  3.37636666]), array([73.11155172,  3.77958317]), array([73.44703732,  4.18279968]), array([73.78252293,  4.58601618]), array([74.11800853,  4.98923269]), array([74.45349413,  5.39244919]), array([74.78897974,  5.7956657 ]), array([75.12446534,  6.1988822 ]), array([75.45995094,  6.60209871]), array([75.79543655,  7.00531521]), array([76.13092215,  7.40853172]), array([76.46640775,  7.81174823]), array([76.80189336,  8.21496473]), array([77.13737896,  8.61818124]), array([77.47286457,  9.02139774]), array([77.80835017,  9.42461425]), array([78.14383577,  9.82783075]), array([78.47932138, 10.23104726]), array([78.81480698, 10.63426376]), array([79.15029258, 11.03748027]), array([79.48577819, 11.44069678]), array([79.82126379, 11.84391328]), array([80.15674939, 12.24712979]), array([80.492235  , 12.65034629]), array([80.8277206, 13.0535628]), array([81.1632062, 13.4567793]), array([81.49869181, 13.85999581]), array([81.83417741, 14.26321231]), array([82.16966301, 14.66642882]), array([82.50514862, 15.06964533]), array([82.84063422, 15.47286183]), array([83.17611982, 15.87607834]), array([83.51160543, 16.27929484]), array([83.84709103, 16.68251135]), array([84.18257663, 17.08572785]), array([84.51806224, 17.48894436]), array([84.85354784, 17.89216086]), array([85.18903344, 18.29537737]), array([85.52451905, 18.69859388]), array([85.86000465, 19.10181038]), array([86.19549026, 19.50502689]), array([86.53097586, 19.90824339]), array([86.86646146, 20.3114599 ]), array([87.20194707, 20.7146764 ]), array([87.53743267, 21.11789291]), array([87.87291827, 21.52110941]), array([88.20840388, 21.92432592]), array([88.54388948, 22.32754243]), array([88.87937508, 22.73075893])], [array([15.45089817, 23.26934052]), array([15.7952198 , 24.13829107]), array([16.13954142, 25.00724163]), array([16.48386304, 25.87619219]), array([16.82818467, 26.74514274]), array([17.17250629, 27.6140933 ]), array([17.51682792, 28.48304386]), array([17.86114954, 29.35199442]), array([18.20547117, 30.22094497]), array([18.54979279, 31.08989553]), array([18.89411442, 31.95884609]), array([19.23843604, 32.82779665]), array([19.58275767, 33.6967472 ]), array([19.92707929, 34.56569776]), array([20.27140092, 35.43464832]), array([20.61572254, 36.30359888]), array([20.96004417, 37.17254943]), array([21.30436579, 38.04149999]), array([21.64868741, 38.91045055]), array([21.99300904, 39.7794011 ]), array([22.33733066, 40.64835166]), array([22.68165229, 41.51730222]), array([23.02597391, 42.38625278]), array([23.37029554, 43.25520333]), array([23.71461716, 44.12415389]), array([24.05893879, 44.99310445]), array([24.40326041, 45.86205501]), array([24.74758204, 46.73100556]), array([25.09190366, 47.59995612]), array([25.43622529, 48.46890668]), array([25.78054691, 49.33785724]), array([26.12486854, 50.20680779]), array([26.46919016, 51.07575835]), array([26.81351179, 51.94470891]), array([27.15783341, 52.81365947]), array([27.50215503, 53.68261002]), array([27.84647666, 54.55156058]), array([28.19079828, 55.42051114]), array([28.53511991, 56.28946169]), array([28.87944153, 57.15841225]), array([29.22376316, 58.02736281]), array([29.56808478, 58.89631337]), array([29.91240641, 59.76526392]), array([30.25672803, 60.63421448]), array([30.60104966, 61.50316504]), array([30.94537128, 62.3721156 ]), array([31.28969291, 63.24106615]), array([31.63401453, 64.11001671]), array([31.97833616, 64.97896727]), array([32.32265778, 65.84791783]), array([32.6669794 , 66.71686838])], [array([35.74925232, 13.59651661]), array([36.07991577, 14.01345535]), array([36.41057921, 14.43039409]), array([36.74124266, 14.84733283]), array([37.07190611, 15.26427158]), array([37.40256955, 15.68121032]), array([37.733233  , 16.09814906]), array([38.06389645, 16.5150878 ]), array([38.3945599 , 16.93202654]), array([38.72522334, 17.34896528]), array([39.05588679, 17.76590402]), array([39.38655024, 18.18284277]), array([39.71721368, 18.59978151]), array([40.04787713, 19.01672025]), array([40.37854058, 19.43365899]), array([40.70920403, 19.85059773]), array([41.03986747, 20.26753647]), array([41.37053092, 20.68447522]), array([41.70119437, 21.10141396]), array([42.03185781, 21.5183527 ]), array([42.36252126, 21.93529144]), array([42.69318471, 22.35223018]), array([43.02384815, 22.76916892]), array([43.3545116 , 23.18610766]), array([43.68517505, 23.60304641]), array([44.0158385 , 24.01998515]), array([44.34650194, 24.43692389]), array([44.67716539, 24.85386263]), array([45.00782884, 25.27080137]), array([45.33849228, 25.68774011]), array([45.66915573, 26.10467886]), array([45.99981918, 26.5216176 ]), array([46.33048262, 26.93855634]), array([46.66114607, 27.35549508]), array([46.99180952, 27.77243382]), array([47.32247297, 28.18937256]), array([47.65313641, 28.6063113 ]), array([47.98379986, 29.02325005]), array([48.31446331, 29.44018879]), array([48.64512675, 29.85712753]), array([48.9757902 , 30.27406627]), array([49.30645365, 30.69100501]), array([49.6371171 , 31.10794375]), array([49.96778054, 31.5248825 ]), array([50.29844399, 31.94182124]), array([50.62910744, 32.35875998]), array([50.95977088, 32.77569872]), array([51.29043433, 33.19263746]), array([51.62109778, 33.6095762 ]), array([51.95176122, 34.02651494]), array([52.28242467, 34.44345369])], [array([86.4928894 , 47.20368195]), array([87.30138655, 48.01397513]), array([88.10988369, 48.8242683 ]), array([88.91838084, 49.63456148]), array([89.72687798, 50.44485466]), array([90.53537512, 51.25514784]), array([91.34387227, 52.06544102]), array([92.15236941, 52.8757342 ]), array([92.96086655, 53.68602738]), array([93.7693637 , 54.49632056]), array([94.57786084, 55.30661374]), array([95.38635799, 56.11690692]), array([96.19485513, 56.9272001 ]), array([97.00335227, 57.73749328]), array([97.81184942, 58.54778646]), array([98.62034656, 59.35807964]), array([99.4288437 , 60.16837282]), array([98.62034656, 60.978666  ]), array([97.81184942, 61.78895918]), array([97.00335227, 62.59925236]), array([96.19485513, 63.40954554]), array([95.38635799, 64.21983872]), array([94.57786084, 65.0301319 ]), array([93.7693637 , 65.84042507]), array([92.96086655, 66.65071825]), array([92.15236941, 67.46101143]), array([91.34387227, 68.27130461]), array([90.53537512, 69.08159779]), array([89.72687798, 69.89189097]), array([88.91838084, 70.70218415]), array([88.10988369, 71.51247733]), array([87.30138655, 72.32277051]), array([86.4928894 , 73.13306369]), array([85.68439226, 73.94335687]), array([84.87589512, 74.75365005]), array([84.06739797, 75.56394323]), array([83.25890083, 76.37423641]), array([82.45040369, 77.18452959]), array([81.64190654, 77.99482277]), array([80.8334094 , 78.80511595]), array([80.02491225, 79.61540913]), array([79.21641511, 80.42570231]), array([78.40791797, 81.23599549]), array([77.59942082, 82.04628867]), array([76.79092368, 82.85658184]), array([75.98242653, 83.66687502]), array([75.17392939, 84.4771682 ]), array([74.36543225, 85.28746138]), array([74.44195903, 85.62120761]), array([73.62576536, 86.24295659]), array([73.8476951 , 86.93383202])], [array([36.62963104,  7.80633783]), array([36.94406371,  8.6876931 ]), array([37.25849638,  9.56904837]), array([37.57292906, 10.45040363]), array([37.88736173, 11.3317589 ]), array([38.2017944 , 12.21311416]), array([38.51622707, 13.09446943]), array([38.83065974, 13.9758247 ]), array([39.14509241, 14.85717996]), array([39.45952508, 15.73853523]), array([39.77395775, 16.61989049]), array([40.08839043, 17.50124576]), array([40.4028231 , 18.38260102]), array([40.71725577, 19.26395629]), array([41.03168844, 20.14531156]), array([41.34612111, 21.02666682]), array([41.66055378, 21.90802209]), array([41.97498645, 22.78937735]), array([42.28941912, 23.67073262]), array([42.6038518 , 24.55208789]), array([42.91828447, 25.43344315]), array([43.23271714, 26.31479842]), array([43.54714981, 27.19615368]), array([43.86158248, 28.07750895]), array([44.17601515, 28.95886422]), array([44.49044782, 29.84021948]), array([44.80488049, 30.72157475]), array([45.11931316, 31.60293001]), array([45.43374584, 32.48428528]), array([45.74817851, 33.36564055]), array([46.06261118, 34.24699581]), array([46.37704385, 35.12835108]), array([46.69147652, 36.00970634]), array([47.00590919, 36.89106161]), array([47.32034186, 37.77241688]), array([47.63477453, 38.65377214]), array([47.94920721, 39.53512741]), array([48.26363988, 40.41648267]), array([48.57807255, 41.29783794]), array([48.89250522, 42.17919321]), array([49.20693789, 43.06054847]), array([49.52137056, 43.94190374]), array([49.83580323, 44.823259  ]), array([50.1502359 , 45.70461427]), array([50.46466858, 46.58596953]), array([50.77910125, 47.4673248 ]), array([51.09353392, 48.34868007]), array([51.40796659, 49.23003533]), array([51.72239926, 50.1113906 ]), array([52.03683193, 50.99274586]), array([52.3512646 , 51.87410113])], [array([13.46099854, 53.63544464]), array([13.71953214, 54.58118635]), array([13.97806575, 55.52692806]), array([14.23659935, 56.47266977]), array([14.49513296, 57.41841148]), array([14.75366656, 58.36415318]), array([15.01220017, 59.30989489]), array([15.27073377, 60.2556366 ]), array([15.52926738, 61.20137831]), array([15.78780098, 62.14712002]), array([16.04633459, 63.09286173]), array([16.3048682 , 64.03860344]), array([16.5634018 , 64.98434514]), array([16.82193541, 65.93008685]), array([17.08046901, 66.87582856]), array([17.33900262, 67.82157027]), array([17.59753622, 68.76731198]), array([17.85606983, 69.71305369]), array([18.11460343, 70.6587954 ]), array([18.37313704, 71.6045371 ]), array([18.63167065, 72.55027881]), array([18.89020425, 73.49602052]), array([19.14873786, 74.44176223]), array([19.40727146, 75.38750394]), array([19.66580507, 76.33324565]), array([19.92433867, 77.27898736]), array([20.18287228, 78.22472906]), array([20.44140588, 79.17047077]), array([20.69993949, 80.11621248]), array([20.9584731 , 81.06195419]), array([21.2170067, 82.0076959]), array([21.47554031, 82.95343761]), array([21.73407391, 83.89917932]), array([21.99260752, 84.84492102]), array([22.25114112, 85.79066273]), array([22.50967473, 86.73640444]), array([22.76820833, 87.68214615]), array([23.02674194, 88.62788786]), array([23.28527554, 89.57362957]), array([23.54380915, 90.51937128]), array([23.80234276, 91.46511299]), array([24.06087636, 92.41085469]), array([24.31940997, 93.3565964 ]), array([24.57794357, 94.30233811]), array([24.83647718, 95.24807982]), array([25.09501078, 96.19382153]), array([25.35354439, 97.13956324]), array([25.61207799, 98.08530495]), array([25.8706116 , 99.03104665]), array([26.12914521, 98.08530495]), array([26.38767881, 97.13956324])], [array([67.72926331, 44.52155685]), array([68.83739728, 44.95205343]), array([69.94553126, 45.38255   ]), array([71.05366524, 45.81304658]), array([72.16179922, 46.24354315]), array([73.2699332 , 46.67403972]), array([74.37806717, 47.1045363 ]), array([75.48620115, 47.53503287]), array([76.59433513, 47.96552945]), array([77.70246911, 48.39602602]), array([78.81060309, 48.8265226 ]), array([79.91873707, 49.25701917]), array([81.02687104, 49.68751574]), array([82.13500502, 50.11801232]), array([83.243139  , 50.54850889]), array([84.35127298, 50.97900547]), array([83.21823859, 51.3515995 ]), array([82.08520421, 51.72419354]), array([80.95216982, 52.09678758]), array([79.81913544, 52.46938162]), array([78.68610105, 52.84197566]), array([77.55306667, 53.2145697 ]), array([76.42003228, 53.58716374]), array([75.2869979 , 53.95975778]), array([74.15396351, 54.33235181]), array([73.02092912, 54.70494585]), array([71.88789474, 55.07753989]), array([70.75486035, 55.45013393]), array([69.62182597, 55.82272797]), array([68.60652031, 55.79861711]), array([67.87815666, 57.01685391]), array([67.24715007, 58.29463978]), array([67.90517815, 59.17393685]), array([68.33683781, 60.33655419]), array([68.76849746, 61.49917152]), array([68.76603188, 62.58644715]), array([69.41493033, 63.33405612]), array([69.81253269, 64.51060654]), array([70.21013505, 65.68715696]), array([70.60773741, 66.86370738]), array([71.18015508, 67.97035956]), array([71.75257275, 69.07701174]), array([72.32499043, 70.18366392]), array([72.8974081 , 71.29031611]), array([73.46982578, 72.39696829]), array([74.04224345, 73.50362047]), array([74.61466112, 74.61027265]), array([75.1870788 , 75.71692483]), array([75.75949647, 76.82357702]), array([76.33191415, 77.9302292 ]), array([76.90433182, 79.03688138])]]\n"
          ],
          "name": "stdout"
        }
      ]
    },
    {
      "cell_type": "markdown",
      "metadata": {
        "id": "3KU2IyvX0XJd"
      },
      "source": [
        "PRUEBA PARA MUCHAS PARTÍCULAS"
      ]
    },
    {
      "cell_type": "code",
      "metadata": {
        "colab": {
          "base_uri": "https://localhost:8080/"
        },
        "id": "8H0R4WpRJigT",
        "outputId": "905a8d58-4073-48a4-fada-98ad66d29d0a"
      },
      "source": [
        "funcion_simuladora_definitiva(1000,1000,0,100,1,1,150,0.01,1500)#se demora entre 5 y 10 minutos (1500 pasos, con 150 partículas)"
      ],
      "execution_count": 9,
      "outputs": [
        {
          "output_type": "execute_result",
          "data": {
            "text/plain": [
              "[<_cython_magic_23919ec3535f64540f628291a417670d.Particula at 0x7f0a6202ee48>,\n",
              " <_cython_magic_23919ec3535f64540f628291a417670d.Particula at 0x7f0a62004470>,\n",
              " <_cython_magic_23919ec3535f64540f628291a417670d.Particula at 0x7f0a620045c0>,\n",
              " <_cython_magic_23919ec3535f64540f628291a417670d.Particula at 0x7f0a62004be0>,\n",
              " <_cython_magic_23919ec3535f64540f628291a417670d.Particula at 0x7f0a62004128>,\n",
              " <_cython_magic_23919ec3535f64540f628291a417670d.Particula at 0x7f0a62004438>,\n",
              " <_cython_magic_23919ec3535f64540f628291a417670d.Particula at 0x7f0a78c5fbe0>,\n",
              " <_cython_magic_23919ec3535f64540f628291a417670d.Particula at 0x7f0a61fbf780>,\n",
              " <_cython_magic_23919ec3535f64540f628291a417670d.Particula at 0x7f0a61fbf2b0>,\n",
              " <_cython_magic_23919ec3535f64540f628291a417670d.Particula at 0x7f0a61fbfd30>,\n",
              " <_cython_magic_23919ec3535f64540f628291a417670d.Particula at 0x7f0a61fbf320>,\n",
              " <_cython_magic_23919ec3535f64540f628291a417670d.Particula at 0x7f0a61fbfd68>,\n",
              " <_cython_magic_23919ec3535f64540f628291a417670d.Particula at 0x7f0a62023780>,\n",
              " <_cython_magic_23919ec3535f64540f628291a417670d.Particula at 0x7f0a62023ef0>,\n",
              " <_cython_magic_23919ec3535f64540f628291a417670d.Particula at 0x7f0a61ffc5c0>,\n",
              " <_cython_magic_23919ec3535f64540f628291a417670d.Particula at 0x7f0a61ffc860>,\n",
              " <_cython_magic_23919ec3535f64540f628291a417670d.Particula at 0x7f0a6202eb38>,\n",
              " <_cython_magic_23919ec3535f64540f628291a417670d.Particula at 0x7f0a62004cc0>,\n",
              " <_cython_magic_23919ec3535f64540f628291a417670d.Particula at 0x7f0a620040f0>,\n",
              " <_cython_magic_23919ec3535f64540f628291a417670d.Particula at 0x7f0a61fbf828>,\n",
              " <_cython_magic_23919ec3535f64540f628291a417670d.Particula at 0x7f0a624ee748>,\n",
              " <_cython_magic_23919ec3535f64540f628291a417670d.Particula at 0x7f0a624ee240>,\n",
              " <_cython_magic_23919ec3535f64540f628291a417670d.Particula at 0x7f0a61fde048>,\n",
              " <_cython_magic_23919ec3535f64540f628291a417670d.Particula at 0x7f0a6202ed30>,\n",
              " <_cython_magic_23919ec3535f64540f628291a417670d.Particula at 0x7f0a61fbf8d0>,\n",
              " <_cython_magic_23919ec3535f64540f628291a417670d.Particula at 0x7f0a61fbf278>,\n",
              " <_cython_magic_23919ec3535f64540f628291a417670d.Particula at 0x7f0a62023940>,\n",
              " <_cython_magic_23919ec3535f64540f628291a417670d.Particula at 0x7f0a61fdeda0>,\n",
              " <_cython_magic_23919ec3535f64540f628291a417670d.Particula at 0x7f0a620044a8>,\n",
              " <_cython_magic_23919ec3535f64540f628291a417670d.Particula at 0x7f0a61fbf518>,\n",
              " <_cython_magic_23919ec3535f64540f628291a417670d.Particula at 0x7f0a61fbf208>,\n",
              " <_cython_magic_23919ec3535f64540f628291a417670d.Particula at 0x7f0a61ffc1d0>,\n",
              " <_cython_magic_23919ec3535f64540f628291a417670d.Particula at 0x7f0a62004c18>,\n",
              " <_cython_magic_23919ec3535f64540f628291a417670d.Particula at 0x7f0a61fbf6d8>,\n",
              " <_cython_magic_23919ec3535f64540f628291a417670d.Particula at 0x7f0a62023860>,\n",
              " <_cython_magic_23919ec3535f64540f628291a417670d.Particula at 0x7f0a61fde2b0>,\n",
              " <_cython_magic_23919ec3535f64540f628291a417670d.Particula at 0x7f0a61fbf908>,\n",
              " <_cython_magic_23919ec3535f64540f628291a417670d.Particula at 0x7f0a61fbf390>,\n",
              " <_cython_magic_23919ec3535f64540f628291a417670d.Particula at 0x7f0a61fdeef0>,\n",
              " <_cython_magic_23919ec3535f64540f628291a417670d.Particula at 0x7f0a63e26fd0>,\n",
              " <_cython_magic_23919ec3535f64540f628291a417670d.Particula at 0x7f0a62023c18>,\n",
              " <_cython_magic_23919ec3535f64540f628291a417670d.Particula at 0x7f0a6202ecc0>,\n",
              " <_cython_magic_23919ec3535f64540f628291a417670d.Particula at 0x7f0a61fbf358>,\n",
              " <_cython_magic_23919ec3535f64540f628291a417670d.Particula at 0x7f0a61ffc390>,\n",
              " <_cython_magic_23919ec3535f64540f628291a417670d.Particula at 0x7f0a63e41390>,\n",
              " <_cython_magic_23919ec3535f64540f628291a417670d.Particula at 0x7f0a620235c0>,\n",
              " <_cython_magic_23919ec3535f64540f628291a417670d.Particula at 0x7f0a6202eba8>,\n",
              " <_cython_magic_23919ec3535f64540f628291a417670d.Particula at 0x7f0a61fbfdd8>,\n",
              " <_cython_magic_23919ec3535f64540f628291a417670d.Particula at 0x7f0a61fdecf8>,\n",
              " <_cython_magic_23919ec3535f64540f628291a417670d.Particula at 0x7f0a61fbf1d0>,\n",
              " <_cython_magic_23919ec3535f64540f628291a417670d.Particula at 0x7f0a61fde898>,\n",
              " <_cython_magic_23919ec3535f64540f628291a417670d.Particula at 0x7f0a61fbf0b8>,\n",
              " <_cython_magic_23919ec3535f64540f628291a417670d.Particula at 0x7f0a6202e4e0>,\n",
              " <_cython_magic_23919ec3535f64540f628291a417670d.Particula at 0x7f0a61fbf860>,\n",
              " <_cython_magic_23919ec3535f64540f628291a417670d.Particula at 0x7f0a6202ee80>,\n",
              " <_cython_magic_23919ec3535f64540f628291a417670d.Particula at 0x7f0a62023048>,\n",
              " <_cython_magic_23919ec3535f64540f628291a417670d.Particula at 0x7f0a61fbffd0>,\n",
              " <_cython_magic_23919ec3535f64540f628291a417670d.Particula at 0x7f0a61fbfc88>,\n",
              " <_cython_magic_23919ec3535f64540f628291a417670d.Particula at 0x7f0a61fbf438>,\n",
              " <_cython_magic_23919ec3535f64540f628291a417670d.Particula at 0x7f0a61fdefd0>,\n",
              " <_cython_magic_23919ec3535f64540f628291a417670d.Particula at 0x7f0a61ffc2b0>,\n",
              " <_cython_magic_23919ec3535f64540f628291a417670d.Particula at 0x7f0a61fbfe80>,\n",
              " <_cython_magic_23919ec3535f64540f628291a417670d.Particula at 0x7f0a62004fd0>,\n",
              " <_cython_magic_23919ec3535f64540f628291a417670d.Particula at 0x7f0a61ffc080>,\n",
              " <_cython_magic_23919ec3535f64540f628291a417670d.Particula at 0x7f0a61fbfa58>,\n",
              " <_cython_magic_23919ec3535f64540f628291a417670d.Particula at 0x7f0a61fbf940>,\n",
              " <_cython_magic_23919ec3535f64540f628291a417670d.Particula at 0x7f0a6202eb00>,\n",
              " <_cython_magic_23919ec3535f64540f628291a417670d.Particula at 0x7f0a61fde6d8>,\n",
              " <_cython_magic_23919ec3535f64540f628291a417670d.Particula at 0x7f0a61fdeeb8>,\n",
              " <_cython_magic_23919ec3535f64540f628291a417670d.Particula at 0x7f0a61fbf240>,\n",
              " <_cython_magic_23919ec3535f64540f628291a417670d.Particula at 0x7f0a61fbf898>,\n",
              " <_cython_magic_23919ec3535f64540f628291a417670d.Particula at 0x7f0a61fde278>,\n",
              " <_cython_magic_23919ec3535f64540f628291a417670d.Particula at 0x7f0a63e412b0>,\n",
              " <_cython_magic_23919ec3535f64540f628291a417670d.Particula at 0x7f0a61fdef60>,\n",
              " <_cython_magic_23919ec3535f64540f628291a417670d.Particula at 0x7f0a6202e9e8>,\n",
              " <_cython_magic_23919ec3535f64540f628291a417670d.Particula at 0x7f0a6202ec88>,\n",
              " <_cython_magic_23919ec3535f64540f628291a417670d.Particula at 0x7f0a6202ebe0>,\n",
              " <_cython_magic_23919ec3535f64540f628291a417670d.Particula at 0x7f0a61fbf4e0>,\n",
              " <_cython_magic_23919ec3535f64540f628291a417670d.Particula at 0x7f0a78c55860>,\n",
              " <_cython_magic_23919ec3535f64540f628291a417670d.Particula at 0x7f0a61fbf2e8>,\n",
              " <_cython_magic_23919ec3535f64540f628291a417670d.Particula at 0x7f0a62023748>,\n",
              " <_cython_magic_23919ec3535f64540f628291a417670d.Particula at 0x7f0a624ee3c8>,\n",
              " <_cython_magic_23919ec3535f64540f628291a417670d.Particula at 0x7f0a61ffc4e0>,\n",
              " <_cython_magic_23919ec3535f64540f628291a417670d.Particula at 0x7f0a61fdeb38>,\n",
              " <_cython_magic_23919ec3535f64540f628291a417670d.Particula at 0x7f0a61fbf7f0>,\n",
              " <_cython_magic_23919ec3535f64540f628291a417670d.Particula at 0x7f0a62023d68>,\n",
              " <_cython_magic_23919ec3535f64540f628291a417670d.Particula at 0x7f0a61ffc588>,\n",
              " <_cython_magic_23919ec3535f64540f628291a417670d.Particula at 0x7f0a62004f60>,\n",
              " <_cython_magic_23919ec3535f64540f628291a417670d.Particula at 0x7f0a61ffc0b8>,\n",
              " <_cython_magic_23919ec3535f64540f628291a417670d.Particula at 0x7f0a62004ef0>,\n",
              " <_cython_magic_23919ec3535f64540f628291a417670d.Particula at 0x7f0a61fbf748>,\n",
              " <_cython_magic_23919ec3535f64540f628291a417670d.Particula at 0x7f0a61fbfda0>,\n",
              " <_cython_magic_23919ec3535f64540f628291a417670d.Particula at 0x7f0a61fbf128>,\n",
              " <_cython_magic_23919ec3535f64540f628291a417670d.Particula at 0x7f0a61ffc048>,\n",
              " <_cython_magic_23919ec3535f64540f628291a417670d.Particula at 0x7f0a61fbf710>,\n",
              " <_cython_magic_23919ec3535f64540f628291a417670d.Particula at 0x7f0a61fbfac8>,\n",
              " <_cython_magic_23919ec3535f64540f628291a417670d.Particula at 0x7f0a61fbf080>,\n",
              " <_cython_magic_23919ec3535f64540f628291a417670d.Particula at 0x7f0a62413940>,\n",
              " <_cython_magic_23919ec3535f64540f628291a417670d.Particula at 0x7f0a61fde9e8>,\n",
              " <_cython_magic_23919ec3535f64540f628291a417670d.Particula at 0x7f0a62004c50>,\n",
              " <_cython_magic_23919ec3535f64540f628291a417670d.Particula at 0x7f0a62023f28>,\n",
              " <_cython_magic_23919ec3535f64540f628291a417670d.Particula at 0x7f0a61ffc240>,\n",
              " <_cython_magic_23919ec3535f64540f628291a417670d.Particula at 0x7f0a61fde390>,\n",
              " <_cython_magic_23919ec3535f64540f628291a417670d.Particula at 0x7f0a61ffc518>,\n",
              " <_cython_magic_23919ec3535f64540f628291a417670d.Particula at 0x7f0a62004ba8>,\n",
              " <_cython_magic_23919ec3535f64540f628291a417670d.Particula at 0x7f0a61fbfba8>,\n",
              " <_cython_magic_23919ec3535f64540f628291a417670d.Particula at 0x7f0a61ffcb00>,\n",
              " <_cython_magic_23919ec3535f64540f628291a417670d.Particula at 0x7f0a61ffccf8>,\n",
              " <_cython_magic_23919ec3535f64540f628291a417670d.Particula at 0x7f0a61fded30>,\n",
              " <_cython_magic_23919ec3535f64540f628291a417670d.Particula at 0x7f0a61fbf978>,\n",
              " <_cython_magic_23919ec3535f64540f628291a417670d.Particula at 0x7f0a61fdecc0>,\n",
              " <_cython_magic_23919ec3535f64540f628291a417670d.Particula at 0x7f0a61fbf668>,\n",
              " <_cython_magic_23919ec3535f64540f628291a417670d.Particula at 0x7f0a620239b0>,\n",
              " <_cython_magic_23919ec3535f64540f628291a417670d.Particula at 0x7f0a61fbf198>,\n",
              " <_cython_magic_23919ec3535f64540f628291a417670d.Particula at 0x7f0a61fbfa90>,\n",
              " <_cython_magic_23919ec3535f64540f628291a417670d.Particula at 0x7f0a61ffc748>,\n",
              " <_cython_magic_23919ec3535f64540f628291a417670d.Particula at 0x7f0a6202efd0>,\n",
              " <_cython_magic_23919ec3535f64540f628291a417670d.Particula at 0x7f0a61fbf5c0>,\n",
              " <_cython_magic_23919ec3535f64540f628291a417670d.Particula at 0x7f0a6202eac8>,\n",
              " <_cython_magic_23919ec3535f64540f628291a417670d.Particula at 0x7f0a61fbf470>,\n",
              " <_cython_magic_23919ec3535f64540f628291a417670d.Particula at 0x7f0a61fbfb70>,\n",
              " <_cython_magic_23919ec3535f64540f628291a417670d.Particula at 0x7f0a61fdef28>,\n",
              " <_cython_magic_23919ec3535f64540f628291a417670d.Particula at 0x7f0a61fde908>,\n",
              " <_cython_magic_23919ec3535f64540f628291a417670d.Particula at 0x7f0a61fbf160>,\n",
              " <_cython_magic_23919ec3535f64540f628291a417670d.Particula at 0x7f0a624eeac8>,\n",
              " <_cython_magic_23919ec3535f64540f628291a417670d.Particula at 0x7f0a61fbf5f8>,\n",
              " <_cython_magic_23919ec3535f64540f628291a417670d.Particula at 0x7f0a62023198>,\n",
              " <_cython_magic_23919ec3535f64540f628291a417670d.Particula at 0x7f0a62023e48>,\n",
              " <_cython_magic_23919ec3535f64540f628291a417670d.Particula at 0x7f0a620042b0>,\n",
              " <_cython_magic_23919ec3535f64540f628291a417670d.Particula at 0x7f0a61fde6a0>,\n",
              " <_cython_magic_23919ec3535f64540f628291a417670d.Particula at 0x7f0a61fbf0f0>,\n",
              " <_cython_magic_23919ec3535f64540f628291a417670d.Particula at 0x7f0a61fde7f0>,\n",
              " <_cython_magic_23919ec3535f64540f628291a417670d.Particula at 0x7f0a62023908>,\n",
              " <_cython_magic_23919ec3535f64540f628291a417670d.Particula at 0x7f0a61fbfe48>,\n",
              " <_cython_magic_23919ec3535f64540f628291a417670d.Particula at 0x7f0a61ffc4a8>,\n",
              " <_cython_magic_23919ec3535f64540f628291a417670d.Particula at 0x7f0a61fbfa20>,\n",
              " <_cython_magic_23919ec3535f64540f628291a417670d.Particula at 0x7f0a62023e80>,\n",
              " <_cython_magic_23919ec3535f64540f628291a417670d.Particula at 0x7f0a62023710>,\n",
              " <_cython_magic_23919ec3535f64540f628291a417670d.Particula at 0x7f0a61fbfc18>,\n",
              " <_cython_magic_23919ec3535f64540f628291a417670d.Particula at 0x7f0a61fbf550>,\n",
              " <_cython_magic_23919ec3535f64540f628291a417670d.Particula at 0x7f0a6202ecf8>,\n",
              " <_cython_magic_23919ec3535f64540f628291a417670d.Particula at 0x7f0a62004f98>,\n",
              " <_cython_magic_23919ec3535f64540f628291a417670d.Particula at 0x7f0a62023eb8>,\n",
              " <_cython_magic_23919ec3535f64540f628291a417670d.Particula at 0x7f0a620237b8>,\n",
              " <_cython_magic_23919ec3535f64540f628291a417670d.Particula at 0x7f0a61fbf3c8>,\n",
              " <_cython_magic_23919ec3535f64540f628291a417670d.Particula at 0x7f0a62004dd8>,\n",
              " <_cython_magic_23919ec3535f64540f628291a417670d.Particula at 0x7f0a61ffc5f8>,\n",
              " <_cython_magic_23919ec3535f64540f628291a417670d.Particula at 0x7f0a62004b70>,\n",
              " <_cython_magic_23919ec3535f64540f628291a417670d.Particula at 0x7f0a63e41438>,\n",
              " <_cython_magic_23919ec3535f64540f628291a417670d.Particula at 0x7f0a61fbf400>]"
            ]
          },
          "metadata": {
            "tags": []
          },
          "execution_count": 9
        }
      ]
    },
    {
      "cell_type": "markdown",
      "metadata": {
        "id": "htuOf6YZR6QX"
      },
      "source": [
        "###Animación de las partículas "
      ]
    },
    {
      "cell_type": "code",
      "metadata": {
        "id": "jSmongqlRAno"
      },
      "source": [
        "##La funcion Organizar me permite recibir las listas que me da mateo y las convierte a las caracteristicas necesarias para ListaOf\n",
        "def Organizar(lista):\n",
        "  L=[]\n",
        "  lx=[]\n",
        "  ly=[]\n",
        "  LOf=[]\n",
        "  for x in range(0,len(lista)):\n",
        "    for c in range(0,len(lista[x])):\n",
        "      lx.append(int(lista[x][c][0]))\n",
        "      ly.append(int(lista[x][c][1]))\n",
        "      L.append(lx)\n",
        "      L.append(ly)\n",
        "    LOf.append(np.copy(L))\n",
        "    L.clear()\n",
        "  return LOf\n",
        "\n",
        "#Definimos la ListaOf que utilizaremos para correr la animacion \n",
        "ListaOf=Organizar(L)\n",
        "\n",
        "#Definimos la caja que necesitamos para correr la aniamcion \n",
        "BoxOf=np.zeros((110,110))"
      ],
      "execution_count": 63,
      "outputs": []
    },
    {
      "cell_type": "code",
      "metadata": {
        "id": "kz0_v5UsZhpH"
      },
      "source": [
        "########Creación de las imagenes########\n",
        "#En principio este codigo funciona para n particulas pero debe estar definida la lista ListaOf con anterioridad\n",
        "\n",
        "#En Gif se guardaran cada una de las imagenes \n",
        "Gif=[]\n",
        "#Recuerde que debe cambiar la informacion del radio dependiendo de la simulacion creada, la cual corresponde al ultimo valor en la funcion circulo\n",
        "for x in range(0,len(ListaOf[0][1])):\n",
        "  for i in range(0,len(ListaOf)):\n",
        "    x1,y1=circle(ListaOf[i][0][x],ListaOf[i][1][x],10)\n",
        "    BoxOf[x1,y1]=255\n",
        "  Gif.append(np.copy(BoxOf))\n",
        "  BoxOf=np.zeros((110,110))"
      ],
      "execution_count": 68,
      "outputs": []
    },
    {
      "cell_type": "code",
      "metadata": {
        "id": "2Iqc4SmIZpAr"
      },
      "source": [
        "########Descarga de las imagenes########\n",
        "#Con esto descarga cada una de las imagenes, el archivo descomprime las imagenes en drive, por lo cual recuerde cambiar la ruta\n",
        "#Las imagenes se guardan en formato png y se guardan en orden cuando son menos de 10000 imagenes\n",
        "\n",
        "for x in range(0,len(Gif)):\n",
        "  if x<10:\n",
        "    plt.imshow(Gif[x])\n",
        "    plt.savefig(\"/content/drive/MyDrive/Colab Notebooks/Proyecto /GifMateo/img000{0}.png\".format(x), bbox_inches='tight') \n",
        "  elif x<100:\n",
        "    plt.imshow(Gif[x])\n",
        "    plt.savefig(\"/content/drive/MyDrive/Colab Notebooks/Proyecto /GifMateo/img00{0}.png\".format(x), bbox_inches='tight') \n",
        "  elif x<1000:\n",
        "    plt.imshow(Gif[x])\n",
        "    plt.savefig(\"/content/drive/MyDrive/Colab Notebooks/Proyecto /GifMateo/img0{0}.png\".format(x), bbox_inches='tight') \n",
        "  elif x<10000:\n",
        "    plt.imshow(Gif[x])\n",
        "    plt.savefig(\"/content/drive/MyDrive/Colab Notebooks/Proyecto /GifMateo/img{0}.png\".format(x), bbox_inches='tight') "
      ],
      "execution_count": null,
      "outputs": []
    },
    {
      "cell_type": "code",
      "metadata": {
        "id": "SyDnOaHuZuBB"
      },
      "source": [
        "########Creación del Gif########\n",
        "\n",
        "#GifOfFinal es una lista donde sus elementos son las imagenes, estoy usando una libreria que manipula documentos, por lo cual se debe cambiar la ruta \n",
        "GifOfFinal = sorted(glob.glob('/content/drive/MyDrive/Colab Notebooks/Proyecto /GifMateo/*.png'))  \n",
        "GifOfFinal.sort() \n",
        "\n",
        "#Dependiendo del numero de imagenes cambio el valor de la variable fps\n",
        "fps = 5\n",
        "clip = mpy.ImageSequenceClip(GifOfFinal, fps=fps)\n",
        "clip.write_gif('movieMateo.gif')\n",
        "\n",
        "#El gif se guarda dentro de la consola asi que debe descargarlo "
      ],
      "execution_count": null,
      "outputs": []
    },
    {
      "cell_type": "code",
      "metadata": {
        "colab": {
          "base_uri": "https://localhost:8080/"
        },
        "id": "iktaqnJaSV7z",
        "outputId": "a41fb6c0-720b-422c-e919-02fd3243ace7"
      },
      "source": [
        "####Con esto puede comprobar la informacion dentro de las listas###\n",
        "print(\"Orden de las listas\")\n",
        "print(\"Numero de particulas\")\n",
        "print(len(L))\n",
        "print(\"Numero de pasos de la particula n\")\n",
        "print(len(L[0]))\n",
        "print(\"Particula n\")\n",
        "print(L[0])\n",
        "print(\"N-esima tupla de la particula n\")\n",
        "print(L[0][0])\n",
        "print(\"radio x\")\n",
        "print(int(L[0][20][0]))\n",
        "print(\"radio y\")\n",
        "print(int(L[0][20][1]))\n",
        "print(\"Pruebas ListaOf\")\n",
        "print(ListaOf)\n",
        "print(\"N-esima particula\")\n",
        "print(ListaOf[0])\n",
        "print(\"Datos x\")\n",
        "print(ListaOf[0][0][20])\n",
        "print(\"Datos y\")\n",
        "print(ListaOf[0][1][20])"
      ],
      "execution_count": 77,
      "outputs": [
        {
          "output_type": "stream",
          "text": [
            "Orden de las listas\n",
            "Numero de particulas\n",
            "30\n",
            "Numero de pasos de la particula n\n",
            "51\n",
            "Particula n\n",
            "[array([50.73710632, 78.79387665]), array([51.28598174, 79.28530631]), array([51.83485715, 79.77673597]), array([52.38373257, 80.26816563]), array([52.93260798, 80.75959529]), array([53.4814834 , 81.25102495]), array([54.03035881, 81.74245462]), array([54.57923423, 82.23388428]), array([55.12810964, 82.72531394]), array([55.67698506, 83.2167436 ]), array([56.22586047, 83.70817326]), array([56.77473589, 84.19960292]), array([57.3236113 , 84.69103258]), array([57.87248672, 85.18246224]), array([58.42136213, 85.67389191]), array([58.97023755, 86.16532157]), array([59.51911296, 86.65675123]), array([60.06798838, 87.14818089]), array([60.61686379, 87.63961055]), array([61.16573921, 88.13104021]), array([61.71461462, 88.62246987]), array([62.26349004, 89.11389953]), array([62.81236545, 89.6053292 ]), array([63.36124087, 90.09675886]), array([63.52020353, 90.89313459]), array([63.6791662 , 91.68951033]), array([63.83812887, 92.48588607]), array([63.99709154, 93.2822618 ]), array([64.1560542 , 94.07863754]), array([64.31501687, 94.87501327]), array([64.47397954, 95.67138901]), array([64.6329422 , 96.46776475]), array([64.79190487, 97.26414048]), array([64.95086754, 98.06051622]), array([65.1098302 , 98.85689196]), array([65.26879287, 99.65326769]), array([65.42775554, 98.85689196]), array([65.58671821, 98.06051622]), array([65.74568087, 97.26414048]), array([65.90464354, 96.46776475]), array([66.06360621, 95.67138901]), array([66.22256887, 94.87501327]), array([66.38153154, 94.07863754]), array([66.54049421, 93.2822618 ]), array([66.69945687, 92.48588607]), array([66.85841954, 91.68951033]), array([67.01738221, 90.89313459]), array([67.17634488, 90.09675886]), array([67.33530754, 89.30038312]), array([67.49427021, 88.50400738]), array([67.65323288, 87.70763165])]\n",
            "N-esima tupla de la particula n\n",
            "[50.73710632 78.79387665]\n",
            "radio x\n",
            "61\n",
            "radio y\n",
            "88\n",
            "Pruebas ListaOf\n",
            "[array([[50, 51, 51, ..., 67, 67, 67],\n",
            "       [78, 79, 79, ..., 89, 88, 87],\n",
            "       [50, 51, 51, ..., 67, 67, 67],\n",
            "       ...,\n",
            "       [78, 79, 79, ..., 89, 88, 87],\n",
            "       [50, 51, 51, ..., 67, 67, 67],\n",
            "       [78, 79, 79, ..., 89, 88, 87]]), array([[50, 51, 51, ..., 76, 76, 77],\n",
            "       [78, 79, 79, ..., 71, 71, 70],\n",
            "       [50, 51, 51, ..., 76, 76, 77],\n",
            "       ...,\n",
            "       [78, 79, 79, ..., 71, 71, 70],\n",
            "       [50, 51, 51, ..., 76, 76, 77],\n",
            "       [78, 79, 79, ..., 71, 71, 70]]), array([[50, 51, 51, ..., 84, 84, 84],\n",
            "       [78, 79, 79, ..., 26, 27, 27],\n",
            "       [50, 51, 51, ..., 84, 84, 84],\n",
            "       ...,\n",
            "       [78, 79, 79, ..., 26, 27, 27],\n",
            "       [50, 51, 51, ..., 84, 84, 84],\n",
            "       [78, 79, 79, ..., 26, 27, 27]]), array([[50, 51, 51, ..., 56, 56, 56],\n",
            "       [78, 79, 79, ..., 52, 53, 54],\n",
            "       [50, 51, 51, ..., 56, 56, 56],\n",
            "       ...,\n",
            "       [78, 79, 79, ..., 52, 53, 54],\n",
            "       [50, 51, 51, ..., 56, 56, 56],\n",
            "       [78, 79, 79, ..., 52, 53, 54]]), array([[50, 51, 51, ..., 43, 43, 43],\n",
            "       [78, 79, 79, ..., 84, 83, 82],\n",
            "       [50, 51, 51, ..., 43, 43, 43],\n",
            "       ...,\n",
            "       [78, 79, 79, ..., 84, 83, 82],\n",
            "       [50, 51, 51, ..., 43, 43, 43],\n",
            "       [78, 79, 79, ..., 84, 83, 82]]), array([[50, 51, 51, ..., 88, 87, 86],\n",
            "       [78, 79, 79, ..., 49, 50, 51],\n",
            "       [50, 51, 51, ..., 88, 87, 86],\n",
            "       ...,\n",
            "       [78, 79, 79, ..., 49, 50, 51],\n",
            "       [50, 51, 51, ..., 88, 87, 86],\n",
            "       [78, 79, 79, ..., 49, 50, 51]]), array([[50, 51, 51, ..., 84, 83, 83],\n",
            "       [78, 79, 79, ..., 43, 43, 43],\n",
            "       [50, 51, 51, ..., 84, 83, 83],\n",
            "       ...,\n",
            "       [78, 79, 79, ..., 43, 43, 43],\n",
            "       [50, 51, 51, ..., 84, 83, 83],\n",
            "       [78, 79, 79, ..., 43, 43, 43]]), array([[50, 51, 51, ..., 72, 72, 72],\n",
            "       [78, 79, 79, ..., 85, 85, 86],\n",
            "       [50, 51, 51, ..., 72, 72, 72],\n",
            "       ...,\n",
            "       [78, 79, 79, ..., 85, 85, 86],\n",
            "       [50, 51, 51, ..., 72, 72, 72],\n",
            "       [78, 79, 79, ..., 85, 85, 86]]), array([[50, 51, 51, ..., 27, 27, 27],\n",
            "       [78, 79, 79, ..., 38, 38, 39],\n",
            "       [50, 51, 51, ..., 27, 27, 27],\n",
            "       ...,\n",
            "       [78, 79, 79, ..., 38, 38, 39],\n",
            "       [50, 51, 51, ..., 27, 27, 27],\n",
            "       [78, 79, 79, ..., 38, 38, 39]]), array([[50, 51, 51, ..., 86, 86, 87],\n",
            "       [78, 79, 79, ..., 92, 92, 92],\n",
            "       [50, 51, 51, ..., 86, 86, 87],\n",
            "       ...,\n",
            "       [78, 79, 79, ..., 92, 92, 92],\n",
            "       [50, 51, 51, ..., 86, 86, 87],\n",
            "       [78, 79, 79, ..., 92, 92, 92]]), array([[50, 51, 51, ..., 70, 70, 70],\n",
            "       [78, 79, 79, ..., 60, 61, 61],\n",
            "       [50, 51, 51, ..., 70, 70, 70],\n",
            "       ...,\n",
            "       [78, 79, 79, ..., 60, 61, 61],\n",
            "       [50, 51, 51, ..., 70, 70, 70],\n",
            "       [78, 79, 79, ..., 60, 61, 61]]), array([[50, 51, 51, ..., 99, 98, 98],\n",
            "       [78, 79, 79, ..., 80, 79, 78],\n",
            "       [50, 51, 51, ..., 99, 98, 98],\n",
            "       ...,\n",
            "       [78, 79, 79, ..., 80, 79, 78],\n",
            "       [50, 51, 51, ..., 99, 98, 98],\n",
            "       [78, 79, 79, ..., 80, 79, 78]]), array([[50, 51, 51, ..., 69, 69, 69],\n",
            "       [78, 79, 79, ..., 81, 81, 82],\n",
            "       [50, 51, 51, ..., 69, 69, 69],\n",
            "       ...,\n",
            "       [78, 79, 79, ..., 81, 81, 82],\n",
            "       [50, 51, 51, ..., 69, 69, 69],\n",
            "       [78, 79, 79, ..., 81, 81, 82]]), array([[50, 51, 51, ..., 55, 56, 56],\n",
            "       [78, 79, 79, ..., 93, 94, 95],\n",
            "       [50, 51, 51, ..., 55, 56, 56],\n",
            "       ...,\n",
            "       [78, 79, 79, ..., 93, 94, 95],\n",
            "       [50, 51, 51, ..., 55, 56, 56],\n",
            "       [78, 79, 79, ..., 93, 94, 95]]), array([[50, 51, 51, ..., 26, 27, 27],\n",
            "       [78, 79, 79, ..., 41, 42, 42],\n",
            "       [50, 51, 51, ..., 26, 27, 27],\n",
            "       ...,\n",
            "       [78, 79, 79, ..., 41, 42, 42],\n",
            "       [50, 51, 51, ..., 26, 27, 27],\n",
            "       [78, 79, 79, ..., 41, 42, 42]]), array([[50, 51, 51, ..., 52, 53, 53],\n",
            "       [78, 79, 79, ..., 77, 78, 79],\n",
            "       [50, 51, 51, ..., 52, 53, 53],\n",
            "       ...,\n",
            "       [78, 79, 79, ..., 77, 78, 79],\n",
            "       [50, 51, 51, ..., 52, 53, 53],\n",
            "       [78, 79, 79, ..., 77, 78, 79]]), array([[50, 51, 51, ..., 67, 68, 68],\n",
            "       [78, 79, 79, ..., 66, 66, 67],\n",
            "       [50, 51, 51, ..., 67, 68, 68],\n",
            "       ...,\n",
            "       [78, 79, 79, ..., 66, 66, 67],\n",
            "       [50, 51, 51, ..., 67, 68, 68],\n",
            "       [78, 79, 79, ..., 66, 66, 67]]), array([[50, 51, 51, ..., 68, 68, 69],\n",
            "       [78, 79, 79, ..., 97, 97, 98],\n",
            "       [50, 51, 51, ..., 68, 68, 69],\n",
            "       ...,\n",
            "       [78, 79, 79, ..., 97, 97, 98],\n",
            "       [50, 51, 51, ..., 68, 68, 69],\n",
            "       [78, 79, 79, ..., 97, 97, 98]]), array([[50, 51, 51, ..., 64, 64, 64],\n",
            "       [78, 79, 79, ..., 96, 95, 94],\n",
            "       [50, 51, 51, ..., 64, 64, 64],\n",
            "       ...,\n",
            "       [78, 79, 79, ..., 96, 95, 94],\n",
            "       [50, 51, 51, ..., 64, 64, 64],\n",
            "       [78, 79, 79, ..., 96, 95, 94]]), array([[50, 51, 51, ..., 53, 53, 53],\n",
            "       [78, 79, 79, ..., 38, 38, 38],\n",
            "       [50, 51, 51, ..., 53, 53, 53],\n",
            "       ...,\n",
            "       [78, 79, 79, ..., 38, 38, 38],\n",
            "       [50, 51, 51, ..., 53, 53, 53],\n",
            "       [78, 79, 79, ..., 38, 38, 38]]), array([[50, 51, 51, ..., 67, 68, 69],\n",
            "       [78, 79, 79, ..., 56, 57, 57],\n",
            "       [50, 51, 51, ..., 67, 68, 69],\n",
            "       ...,\n",
            "       [78, 79, 79, ..., 56, 57, 57],\n",
            "       [50, 51, 51, ..., 67, 68, 69],\n",
            "       [78, 79, 79, ..., 56, 57, 57]]), array([[50, 51, 51, ..., 77, 77, 76],\n",
            "       [78, 79, 79, ..., 94, 93, 93],\n",
            "       [50, 51, 51, ..., 77, 77, 76],\n",
            "       ...,\n",
            "       [78, 79, 79, ..., 94, 93, 93],\n",
            "       [50, 51, 51, ..., 77, 77, 76],\n",
            "       [78, 79, 79, ..., 94, 93, 93]]), array([[50, 51, 51, ..., 52, 52, 52],\n",
            "       [78, 79, 79, ..., 68, 68, 68],\n",
            "       [50, 51, 51, ..., 52, 52, 52],\n",
            "       ...,\n",
            "       [78, 79, 79, ..., 68, 68, 68],\n",
            "       [50, 51, 51, ..., 52, 52, 52],\n",
            "       [78, 79, 79, ..., 68, 68, 68]]), array([[50, 51, 51, ..., 88, 88, 88],\n",
            "       [78, 79, 79, ..., 21, 22, 22],\n",
            "       [50, 51, 51, ..., 88, 88, 88],\n",
            "       ...,\n",
            "       [78, 79, 79, ..., 21, 22, 22],\n",
            "       [50, 51, 51, ..., 88, 88, 88],\n",
            "       [78, 79, 79, ..., 21, 22, 22]]), array([[50, 51, 51, ..., 31, 32, 32],\n",
            "       [78, 79, 79, ..., 64, 65, 66],\n",
            "       [50, 51, 51, ..., 31, 32, 32],\n",
            "       ...,\n",
            "       [78, 79, 79, ..., 64, 65, 66],\n",
            "       [50, 51, 51, ..., 31, 32, 32],\n",
            "       [78, 79, 79, ..., 64, 65, 66]]), array([[50, 51, 51, ..., 51, 51, 52],\n",
            "       [78, 79, 79, ..., 33, 34, 34],\n",
            "       [50, 51, 51, ..., 51, 51, 52],\n",
            "       ...,\n",
            "       [78, 79, 79, ..., 33, 34, 34],\n",
            "       [50, 51, 51, ..., 51, 51, 52],\n",
            "       [78, 79, 79, ..., 33, 34, 34]]), array([[50, 51, 51, ..., 74, 73, 73],\n",
            "       [78, 79, 79, ..., 85, 86, 86],\n",
            "       [50, 51, 51, ..., 74, 73, 73],\n",
            "       ...,\n",
            "       [78, 79, 79, ..., 85, 86, 86],\n",
            "       [50, 51, 51, ..., 74, 73, 73],\n",
            "       [78, 79, 79, ..., 85, 86, 86]]), array([[50, 51, 51, ..., 51, 52, 52],\n",
            "       [78, 79, 79, ..., 50, 50, 51],\n",
            "       [50, 51, 51, ..., 51, 52, 52],\n",
            "       ...,\n",
            "       [78, 79, 79, ..., 50, 50, 51],\n",
            "       [50, 51, 51, ..., 51, 52, 52],\n",
            "       [78, 79, 79, ..., 50, 50, 51]]), array([[50, 51, 51, ..., 25, 26, 26],\n",
            "       [78, 79, 79, ..., 99, 98, 97],\n",
            "       [50, 51, 51, ..., 25, 26, 26],\n",
            "       ...,\n",
            "       [78, 79, 79, ..., 99, 98, 97],\n",
            "       [50, 51, 51, ..., 25, 26, 26],\n",
            "       [78, 79, 79, ..., 99, 98, 97]]), array([[50, 51, 51, ..., 75, 76, 76],\n",
            "       [78, 79, 79, ..., 76, 77, 79],\n",
            "       [50, 51, 51, ..., 75, 76, 76],\n",
            "       ...,\n",
            "       [78, 79, 79, ..., 76, 77, 79],\n",
            "       [50, 51, 51, ..., 75, 76, 76],\n",
            "       [78, 79, 79, ..., 76, 77, 79]])]\n",
            "N-esima particula\n",
            "[[50 51 51 ... 67 67 67]\n",
            " [78 79 79 ... 89 88 87]\n",
            " [50 51 51 ... 67 67 67]\n",
            " ...\n",
            " [78 79 79 ... 89 88 87]\n",
            " [50 51 51 ... 67 67 67]\n",
            " [78 79 79 ... 89 88 87]]\n",
            "Datos x\n",
            "61\n",
            "Datos y\n",
            "88\n"
          ],
          "name": "stdout"
        }
      ]
    },
    {
      "cell_type": "code",
      "metadata": {
        "id": "MXfxaO5Zc6An",
        "outputId": "db104757-a736-47cc-e8f8-2523b4677b83",
        "colab": {
          "base_uri": "https://localhost:8080/",
          "height": 269
        }
      },
      "source": [
        "####Con esto se puede comprobar que los frames se esten realizando bien###\n",
        "\n",
        "plt.subplot(2,3,1)\n",
        "plt.imshow(Gif[0])\n",
        "figsize=(50,100)\n",
        "\n",
        "plt.subplot(2,3,2)\n",
        "plt.imshow(Gif[5])\n",
        "figsize=(50,100)\n",
        "\n",
        "plt.subplot(2,3,3)\n",
        "plt.imshow(Gif[10])\n",
        "figsize=(50,100)\n",
        "\n",
        "plt.subplot(2,3,4)\n",
        "plt.imshow(Gif[15])\n",
        "figsize=(50,100)\n",
        "\n",
        "plt.subplot(2,3,5)\n",
        "plt.imshow(Gif[20])\n",
        "figsize=(50,100)\n",
        "\n",
        "plt.subplot(2,3,6)\n",
        "plt.imshow(Gif[25])\n",
        "figsize=(50,100)"
      ],
      "execution_count": 69,
      "outputs": [
        {
          "output_type": "display_data",
          "data": {
            "image/png": "[encoded data removed]",
            "text/plain": [
              "<Figure size 432x288 with 6 Axes>"
            ]
          },
          "metadata": {
            "tags": [],
            "needs_background": "light"
          }
        }
      ]
    }
  ]
}