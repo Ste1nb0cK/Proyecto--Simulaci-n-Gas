{
  "nbformat": 4,
  "nbformat_minor": 0,
  "metadata": {
    "colab": {
      "name": "Simulación 2",
      "provenance": [],
      "collapsed_sections": [],
      "authorship_tag": "ABX9TyOPkeXhLLpntwYBUylqam8X",
      "include_colab_link": true
    },
    "kernelspec": {
      "name": "python3",
      "display_name": "Python 3"
    }
  },
  "cells": [
    {
      "cell_type": "markdown",
      "metadata": {
        "id": "view-in-github",
        "colab_type": "text"
      },
      "source": [
        "<a href=\"https://colab.research.google.com/github/Ste1nb0cK/Proyecto--Simulaci-n-Gas/blob/main/Simulaci%C3%B3n_2.ipynb\" target=\"_parent\"><img src=\"https://colab.research.google.com/assets/colab-badge.svg\" alt=\"Open In Colab\"/></a>"
      ]
    },
    {
      "cell_type": "code",
      "metadata": {
        "colab": {
          "base_uri": "https://localhost:8080/"
        },
        "id": "NOgARdGSeI82",
        "outputId": "e3e1cab0-31f7-444c-b800-0183a6d7f38c"
      },
      "source": [
        "%load_ext Cython\n",
        "from numpy import linalg\n",
        "import numpy as np\n",
        "import random\n",
        "import matplotlib.pyplot as plt"
      ],
      "execution_count": 122,
      "outputs": [
        {
          "output_type": "stream",
          "text": [
            "The Cython extension is already loaded. To reload it, use:\n",
            "  %reload_ext Cython\n"
          ],
          "name": "stdout"
        }
      ]
    },
    {
      "cell_type": "code",
      "metadata": {
        "id": "8HCrKeTQeT5H"
      },
      "source": [
        "%%cython\n",
        "import numpy as np\n",
        "\n",
        "class Particula:#En esta clase definimos los métodos fundamentales que debe seguir cada partícula\n",
        "\n",
        "    def __init__(self, (float,float) posicion, (float,float) velocidad, float masa, float radio): \n",
        "       \"\"\"comenzamos definiendo el método que debe \n",
        "        inicializar la clase, en este definimos los atributos básicos de la clase partícula\n",
        "        las entradas masa y radio son de tipo float y las entradas de posición son tuplas conformadas por floats\"\"\"  \n",
        "       self.radio=radio  \n",
        "       self.masa=masa \n",
        "       \n",
        "       self.posicion=np.array(posicion)   #Estas variables son arrays de numpy, y las trataremos como vectores\n",
        "       self.velocidad=np.array(velocidad)\n",
        "       self.velocidad_mag=np.linalg.norm(self.velocidad)#Este atributo no es otra cosa que la magnitud del vector velocidad\n",
        "     \n",
        "       \"\"\"Creamos tres listas con los vectores posición y velocidad y velocidad_mag, posteriormente las usaremos\n",
        "       para generar una lista con todos los valores que ha tenido la velocidad y posición\"\"\"\n",
        "       \n",
        "       self.velocidad_n=[self.velocidad]    ##Velocidad_n y posición_n son listas de vectores que contienen las listas correspondiente a\n",
        "       self.posicion_n=[self.posicion]      ##todos los valores de estos vectores\n",
        "       self.velocidad_mag_n=[self.velocidad_mag]\n",
        "     \n",
        "  ##########################################################################\n",
        "    def paso_dt(self,float dt):   #Falta definir el valor que va a tomar dt  \n",
        "       \"\"\"Este método lo que hace es avanzar en el tiempo, cambia la posición de la partícula y agrega a las listas\n",
        "       una actualización tanto de la posición de la partícula como la velocidad de la misma\"\"\"\n",
        "      \n",
        "       self.posicion=self.posicion + self.velocidad*dt  \n",
        "       self.posicion_n.append(self.posicion) #Se añaden \n",
        "       self.velocidad_n.append(self.velocidad)\n",
        "       self.velocidad_mag_n.append(self.velocidad_mag)\n",
        " ###############################################################################################\n",
        "    def ver_colision_pp(self,otra_p):\n",
        "       \"\"\"Este método verifica si se dio luegar a una colisión entre dos partículas, las entradas\n",
        "      son dos partículas, se definen sus radios y posiciones y se plantea una condición que indica \n",
        "      si las partículas chocaron\"\"\"\n",
        "       cdef float r1=self.radio\n",
        "       cdef float r2=otra_p.radio\n",
        "       p1=self.posicion\n",
        "       p2=otra_p.posicion\n",
        "       cdef float sep=np.linalg.norm(p1-p2)#Norma del vector separación de ambas partículas.\n",
        "       if sep-(r1+r2)*1.1<=0:#Si la separación es menor o igual a la suma de sus radios, entonces las partículas están en contacto y por lo tanto chocaron.\n",
        "         return True\n",
        "       else:\n",
        "         return False\n",
        "######################################################################################################\n",
        "    def ver_colision_esquina(self, float Lx, float Ly):\n",
        "       \"Revisa si hay colisión con una esquina, Lx y Ly son las dimensiones horizontal y vertical de la caja respectivamente\"\n",
        "       extremo_izquierdo = self.posicion[0] - self.radio #da la posición del extremo izquido de la partícula\n",
        "       extremo_inferior = self.posicion[1] - self.radio  #da la posición del extremo inferior de la partícula\n",
        "       extremo_derecho  = self.posicion[0] + self.radio  #da la posición del extremo derech0 de la partícula\n",
        "       extremo_superior = self.posicion[1] + self.radio  #da la posición del extremo superior de la partícula\n",
        "       #Ahora construimos las variables donde se va a almacenar el hecho de chocar contra una esquina o no\n",
        "       cdef bint choque_00 = extremo_izquierdo >0 and extremo_inferior> 0   #Esto corresponde a no chocar con la esquina (0,0)\n",
        "       cdef bint choque_Lx0 = extremo_derecho <Lx and extremo_inferior > 0 #Esto corresponde a no chocar con la esquina (Lx,0)\n",
        "       cdef bint choque_LxLy =  extremo_derecho <Lx and extremo_superior <Ly  #Esto corresponde a no chocar con la esquina (Lx,Ly)\n",
        "       cdef bint choque_0Ly = extremo_izquierdo > 0 and extremo_superior <Ly  #Esto corresponde a chocar con la esquina (0,Ly)\n",
        "       if not choque_00 or not choque_Lx0 or not choque_LxLy or not choque_0Ly:\n",
        "         return  True \n",
        "       else:\n",
        "         return False\n",
        "       \n",
        "        \n",
        "#####################################################################################################\n",
        "    def ver_colision_muro(self, float Lx, float Ly):\n",
        "        \"\"\"Este método revisa si la partícula ha chocado contra un muro.\"\"\"\n",
        "        \"\"\"La condición ve que si la posición en \"x\" es diferente 0 o la longitud horizontal (Lx) de la caja y adicionalmente\n",
        "     #  si la posición en \"y\" es diferente de 0 o la longitud vertical (Ly) entonces la partícula no está chocando contra un muro\"\"\"\n",
        "        cdef bint choque_pared_derecha =  self.posicion[0] + self.radio <Lx   \n",
        "        cdef bint choque_pared_izquierda = self.posicion[0] - self.radio>0\n",
        "        #las condiciones corresponden a no chocar con esas paredes\n",
        "        cdef bint choque_pared_superior = self.posicion[1] + self.radio <Ly \n",
        "        cdef bint choque_pared_inferior = self.posicion[1] - self.radio >0\n",
        "        if choque_pared_derecha and choque_pared_izquierda and choque_pared_superior and choque_pared_inferior :\n",
        "          return False\n",
        "        else:\n",
        "          return True \n",
        "        \n",
        "######################################################################################################\n",
        "    def resolver_colision_particula(self,otra_p):\n",
        "      \"\"\"Método que actualiza las velocidades de dos partículas después de chocar\n",
        "       Definimos las magnitudes a usar para resolver el choque\"\"\"\n",
        "      M1=self.masa\n",
        "      M2=otra_p.masa\n",
        "      p1=self.posicion\n",
        "      p2=otra_p.posicion\n",
        "      V1=self.velocidad\n",
        "      V2=otra_p.velocidad\n",
        "      cdef bint choque=self.ver_colision_pp\n",
        "      if choque:\n",
        "        self.velocidad= self.velocidad-((2*M2)/(M1+M2))*(np.dot(p1-p2,V1-V2)/(np.linalg.norm(p1-p2)**2))*(p1-p2)#Se resuleven los choques tal cual el modelo bidimensional que se tiene\n",
        "        otra_p.velocidad= otra_p.velocidad-((2*M1)/(M1+M2))*(np.dot(p2-p1,V2-V1)/(np.linalg.norm(p2-p1)**2))*(p2-p1)\n",
        "  \n",
        "###############################################################################################################\n",
        "    def resolver_colision_muro(self,float Lx,float Ly): \n",
        "        \"\"\"#Método que actualiza la velocidad después de que una partícula choca con un muro. Recibe la\n",
        "        partícula y las dimensiones de la caja\"\"\"\n",
        "        cdef bint choque_pared_derecha =  self.posicion[0] + self.radio <Lx   \n",
        "        cdef bint choque_pared_izquierda = self.posicion[0] - self.radio>0\n",
        "        #las condiciones corresponden a no chocar con esas paredes\n",
        "        cdef bint choque_pared_superior = self.posicion[1] + self.radio <Ly \n",
        "        cdef bint choque_pared_inferior = self.posicion[1] - self.radio >0\n",
        "        #Ahora miramos cual fue la pared con que se chocó e invertimos la coordenada teniendo en cuenta eso\n",
        "        if not choque_pared_derecha or not choque_pared_izquierda:\n",
        "            self.velocidad[0] = -1* self.velocidad[0]\n",
        "        elif not choque_pared_superior or not choque_pared_inferior:\n",
        "            self.velocidad[1] = -1* self.velocidad[1]\n",
        "       \n",
        "    def resolver_colision_esquina(self):\n",
        "        \"\"\"Método que actualiza la velocidad después de que una partícula choca con una esquina\"\"\"\n",
        "        self.velocidad = -1* self.velocidad #se invierte todo el vector\n",
        "            \n",
        "        "
      ],
      "execution_count": 123,
      "outputs": []
    },
    {
      "cell_type": "code",
      "metadata": {
        "id": "ECHl9DBFee-M"
      },
      "source": [
        "#Prototipo de la función final, recibe las dimensiones de la caja, el rango de velocidades inciales, el número\n",
        "# de partículas, el radio y la masa\n",
        "#Si algo podemos establecer por defecto que las masas y los radios sean los mismos por defecto o cómo quieran\n",
        "\n",
        "\n",
        "######Función que generá las partículas con datos aleatorios\n",
        "def funcion_simuladora(lx,ly,v1,v2,m,r,n):\n",
        "#Por el momento se crea un arreglo vacío de enteros para las posiciones iniciales\n",
        "  posiciones=np.zeros((n,2))\n",
        "  \n",
        "  for i in range(n):\n",
        "    #Se llena el arreglo con números aleatorios dentro de la caja pero evitando que aparezcan en las esquinas\n",
        "    posiciones[i][0]=np.random.uniform(10,lx-10)\n",
        "    posiciones[i][1]=np.random.uniform(10,ly-10)\n",
        "  #Se convierte el arreglo en una lista\n",
        "  posiciones_lista=list(posiciones)\n",
        "  #Las velocidades se crean normalmente con velocidades aleatorias dentro del rango establecido, el intervalo (v1,v2)\n",
        "  velocidades_lista=list(np.random.uniform(v1,v2,(n,2)))\n",
        "  #Ahora creamos una lista vacía donde irán objetos de la clase partícula\n",
        "  lista_de_particulas=[]\n",
        "  #Llenamos la lista con partículas que tendrán posiciones provenientes de posiciones_lista y velocidades_lista. \n",
        "  #Las masas y radios son los determinados al activar la función.\n",
        "  for j in range(n):\n",
        "    Pn=Particula(tuple(posiciones_lista[j]),tuple(velocidades_lista[j]),m,r)\n",
        "    lista_de_particulas.append(Pn)\n",
        "  \n",
        "  \n",
        "  #Ahora queremeos hacer que si las partículas se crean superpuestas de alguna manera, eliminamos una y creamos otra nueva\n",
        "  #luego añadimos la nueva partícula a la lista de partículas\n",
        "\n",
        "  for i in range(n):\n",
        "   for p1 in lista_de_particulas:\n",
        "    for p2 in lista_de_particulas:\n",
        "     if p1.ver_colision_pp(p2):\n",
        "       p_nueva=Particula(tuple([(random.uniform(10,lx-10),random.uniform(0,ly-10)) for x in range(1)][0]),\n",
        "       tuple([(random.uniform(v1,v2),random.uniform(v1,v2)) for x in range(1)][0]), m,r)\n",
        "                                                      \n",
        "       lista_de_particulas.pop(i)\n",
        "       lista_de_particulas.append(p_nueva)\n",
        "  #Nos retorna la lista con las partículas creadas, acá le puse que me devolviera solo la primera para demostrar funcionalidad\n",
        "\n",
        "  return lista_de_particulas\n"
      ],
      "execution_count": 124,
      "outputs": []
    },
    {
      "cell_type": "markdown",
      "metadata": {
        "id": "AsC3DYo-EGxQ"
      },
      "source": [
        "Simulación de 10 partículas es una caja de 100x100"
      ]
    },
    {
      "cell_type": "code",
      "metadata": {
        "colab": {
          "base_uri": "https://localhost:8080/",
          "height": 455
        },
        "id": "TFVmA8ZGeiKU",
        "outputId": "cb9cb6f8-9d8c-4e60-c841-24d35cfe75d5"
      },
      "source": [
        "\n",
        "L=funcion_simuladora(100,100,0,100,1,1,10)#Genero 10 partículas\n",
        "for n in L:#Comenzamos a iterar sobre la lista de partículas\n",
        "  for j in range(15):\n",
        "   \n",
        "   n.paso_dt(0.1)\n",
        "   if n.ver_colision_esquina(100,100):#vemos si colisionan o no con una esquina, si colisionan se resuelve la colisión\n",
        "     n.resolver_colision_esquina\n",
        "     #print(\"chcocó esquina\")\n",
        "   if n.ver_colision_muro(100,100):#vemos si colisionan o no con un muro, si colisionan se resuelve la colisión\n",
        "     n.resolver_colision_muro(100,100)\n",
        "     #print(\"chcocó muro\")\n",
        "   for p2 in L:\n",
        "     if n.ver_colision_pp(p2) and (n.posicion!=p2.posicion).all():#vemos si colisionan o no con un muro, si colisionan se resuelve la colisión\n",
        "       n.resolver_colision_particula(p2)                          #También se ve que la condición no haga resolver el choque de la partícula con ella\n",
        "       #print(\"chocaron\")                                         #misma\n",
        "\n",
        "for n in range(10):#Acá vemos como se guarda cada trayectoria de cada partícula\n",
        " print(L[n].posicion_n)\n",
        "\n",
        "x=[]\n",
        "y=[]\n",
        "for n in L[0].posicion_n:#graficamos la trayectoria de la primera partícula y vemos que los métodos de choque con otra partícula y con las paredes\n",
        "  x.append(n[0])         #y esquinas funcionan.\n",
        "  y.append(n[1])\n",
        "plt.plot(x,y)\n",
        "plt.show()\n",
        "#plt.xlim((0,1000))\n",
        "#plt.ylim((0,1000))\n",
        "#En la parte de abajo del plot se ve que hay un cambio en la trayectoria, eso es porque la partícula chocó con otra"
      ],
      "execution_count": 201,
      "outputs": [
        {
          "output_type": "stream",
          "text": [
            "[array([56.76974869, 24.18652534]), array([60.51675573, 26.07192328]), array([64.26376278, 27.95732122]), array([68.01076982, 29.84271916]), array([75.05573713, 36.9530369 ]), array([82.10070443, 44.06335464]), array([89.14567173, 51.17367237]), array([96.19063904, 58.28399011]), array([103.23560634,  65.39430785]), array([96.19063904, 72.50462559]), array([89.14567173, 79.61494332]), array([82.10070443, 86.72526106]), array([75.05573713, 93.8355788 ]), array([ 68.01076982, 100.94589654]), array([60.96580252, 93.8355788 ]), array([53.92083521, 86.72526106])]\n",
            "[array([85.59921265, 38.90353394]), array([91.72967004, 46.57476131]), array([97.86012744, 54.24598869]), array([103.99058484,  61.91721607]), array([97.86012744, 69.58844345]), array([91.72967004, 77.25967083]), array([85.59921265, 84.93089821]), array([79.46875525, 92.60212559]), array([ 73.33829785, 100.27335297]), array([67.20784045, 92.60212559]), array([61.07738306, 84.93089821]), array([54.94692566, 77.25967083]), array([48.81646826, 69.58844345]), array([42.68601087, 61.91721607]), array([36.55555347, 54.24598869]), array([30.42509607, 46.57476131])]\n",
            "[array([67.31715393, 28.74383163]), array([69.77248775, 31.44453146]), array([72.22782156, 34.14523129]), array([74.68315538, 36.84593111]), array([77.1384892 , 39.54663094]), array([79.59382301, 42.24733077]), array([82.04915683, 44.94803059]), array([84.50449065, 47.64873042]), array([86.95982447, 50.34943025]), array([89.41515828, 53.05013007]), array([91.8704921, 55.7508299]), array([94.32582592, 58.45152973]), array([96.78115973, 61.15222955]), array([99.23649355, 63.85292938]), array([96.78115973, 66.55362921]), array([94.32582592, 69.25432903])]\n",
            "[array([33.77671051, 44.05625534]), array([38.32074134, 44.52899972]), array([42.86477217, 45.00174409]), array([47.408803  , 45.47448847]), array([51.95283383, 45.94723285]), array([56.49686466, 46.41997722]), array([61.04089549, 46.8927216 ]), array([65.58492632, 47.36546598]), array([70.12895715, 47.83821035]), array([74.67298798, 48.31095473]), array([79.2170188 , 48.78369911]), array([83.76104963, 49.25644348]), array([88.30508046, 49.72918786]), array([92.84911129, 50.20193224]), array([97.39314212, 50.67467661]), array([101.93717295,  51.14742099])]\n",
            "[array([47.73017502, 86.02891541]), array([54.33281641, 91.3407132 ]), array([60.93545781, 96.65251099]), array([ 67.5380992 , 101.96430879]), array([74.1407406 , 96.65251099]), array([80.74338199, 91.3407132 ]), array([87.34602339, 86.02891541]), array([93.94866478, 80.71711761]), array([100.55130618,  75.40531982]), array([93.94866478, 70.09352203]), array([85.0470306 , 69.89704089]), array([76.14539642, 69.70055976]), array([67.24376224, 69.50407863]), array([58.34212806, 69.3075975 ]), array([49.44049388, 69.11111636]), array([40.5388597 , 68.91463523])]\n",
            "[array([42.49494934, 69.28990173]), array([33.17101561, 71.29467161]), array([23.84708189, 73.29944148]), array([14.52314816, 75.30421136]), array([ 5.19921443, 77.30898123]), array([-4.12471929, 79.31375111]), array([ 5.19921443, 81.31852098]), array([14.52314816, 83.32329085]), array([23.84708189, 85.32806073]), array([33.17101561, 87.3328306 ]), array([42.49494934, 89.33760048]), array([51.81888307, 91.34237035]), array([61.14281679, 93.34714023]), array([70.46675052, 95.3519101 ]), array([79.79068425, 97.35667997]), array([89.11461797, 99.36144985])]\n",
            "[array([49.32818604, 63.89572144]), array([51.30000442, 69.80088395]), array([53.2718228 , 75.70604647]), array([55.24364118, 81.61120899]), array([57.21545956, 87.51637151]), array([59.18727794, 93.42153402]), array([61.15909632, 99.32669654]), array([63.1309147 , 93.42153402]), array([65.10273308, 87.51637151]), array([67.07455147, 81.61120899]), array([69.04636985, 75.70604647]), array([71.01818823, 69.80088395]), array([72.99000661, 63.89572144]), array([74.96182499, 57.99055892]), array([76.93364337, 52.0853964 ]), array([78.90546175, 46.18023388])]\n",
            "[array([19.03895187,  9.1537571 ]), array([27.8520593 , 18.79966712]), array([36.66516674, 28.44557715]), array([45.47827417, 38.09148717]), array([54.2913816, 47.7373972]), array([63.10448903, 57.38330722]), array([71.91759646, 67.02921725]), array([80.73070389, 76.67512727]), array([89.54381132, 86.3210373 ]), array([98.35691875, 95.96694732]), array([107.17002619, 105.61285735]), array([ 98.35691875, 115.25876737]), array([ 89.54381132, 105.61285735]), array([ 80.73070389, 115.25876737]), array([ 71.91759646, 105.61285735]), array([ 63.10448903, 115.25876737])]\n",
            "[array([23.60612106, 54.86540604]), array([33.00180983, 56.67065108]), array([42.3974986 , 58.47589613]), array([51.79318737, 60.28114117]), array([61.18887614, 62.08638622]), array([70.58456491, 63.89163126]), array([79.98025368, 65.69687631]), array([89.37594245, 67.50212135]), array([98.77163122, 69.3073664 ]), array([108.16731999,  71.11261144]), array([98.77163122, 72.91785649]), array([89.37594245, 74.72310153]), array([79.98025368, 76.52834658]), array([70.58456491, 78.33359162]), array([61.18887614, 80.13883667]), array([51.79318737, 81.94408171])]\n",
            "[array([20.65380859, 62.15931702]), array([27.29447108, 71.84900756]), array([33.93513356, 81.5386981 ]), array([40.57579604, 91.22838865]), array([ 47.21645853, 100.91807919]), array([53.85712101, 91.22838865]), array([60.49778349, 81.5386981 ]), array([67.13844597, 71.84900756]), array([73.77910846, 62.15931702]), array([80.41977094, 52.46962647]), array([87.06043342, 42.77993593]), array([93.70109591, 33.09024539]), array([100.34175839,  23.40055484]), array([93.70109591, 13.7108643 ]), array([87.06043342,  4.02117376]), array([80.41977094, -5.66851679])]\n"
          ],
          "name": "stdout"
        },
        {
          "output_type": "display_data",
          "data": {
            "image/png": "[encoded data removed]",
            "text/plain": [
              "<Figure size 432x288 with 1 Axes>"
            ]
          },
          "metadata": {
            "tags": [],
            "needs_background": "light"
          }
        }
      ]
    },
    {
      "cell_type": "markdown",
      "metadata": {
        "id": "X1zJwq6zI8xU"
      },
      "source": [
        "FUNCION DEFINITIVA"
      ]
    },
    {
      "cell_type": "code",
      "metadata": {
        "id": "EYGob9FyF6Gl"
      },
      "source": [
        "def funcion_simuladora_definitiva(lx,ly,v1,v2,m,r,n,dt,pasos):#El proceso anterior lo generalizamos en una función\n",
        "  L=funcion_simuladora(lx,ly,v1,v2,m,r,n)\n",
        "  for N in L:\n",
        "    for i in range(pasos):\n",
        "      N.paso_dt(dt)\n",
        "      if N.ver_colision_esquina(lx,ly):\n",
        "        N.resolver_colision_esquina\n",
        "      if N.ver_colision_muro(lx,ly):\n",
        "        N.resolver_colision_muro(lx,ly)\n",
        "      for P in L:\n",
        "        if N.ver_colision_pp(P) and (N.posicion!=P.posicion).all():\n",
        "          N.resolver_colision_particula(P)\n",
        "  return L\n",
        "      "
      ],
      "execution_count": 202,
      "outputs": []
    },
    {
      "cell_type": "markdown",
      "metadata": {
        "id": "kkT45u2dJQGD"
      },
      "source": [
        "PRUEBA DE LA FUNCIÓN DEFINITIVA: Algo a tener en cuenta es que a la hora de extraer la información de las velcidades y posiciones a lo largo del tiempo, sí es útil que cada partícula tenga esa información, el código de la simulación no está tardando una cantidad exagerada de tiempo y me parece que es más facil manipular las cosas así.\n"
      ]
    },
    {
      "cell_type": "code",
      "metadata": {
        "colab": {
          "base_uri": "https://localhost:8080/"
        },
        "id": "mpePenUtIVuB",
        "outputId": "e3a86904-6d00-444d-8026-c6029abf3c87"
      },
      "source": [
        "funcion_simuladora_definitiva(100,100,0,100,1,1,10,0.01,15)\n",
        "print(funcion_simuladora_definitiva(100,100,0,100,1,1,10,0.01,15)[0].posicion_n)"
      ],
      "execution_count": 204,
      "outputs": [
        {
          "output_type": "stream",
          "text": [
            "[array([31.8044548, 74.7946167]), array([32.77819349, 74.9120286 ]), array([33.75193218, 75.02944049]), array([34.72567086, 75.14685239]), array([35.69940955, 75.26426429]), array([36.67314824, 75.38167618]), array([37.64688692, 75.49908808]), array([38.62062561, 75.61649998]), array([39.5943643 , 75.73391187]), array([40.56810298, 75.85132377]), array([41.54184167, 75.96873567]), array([42.51558036, 76.08614757]), array([43.48931904, 76.20355946]), array([44.46305773, 76.32097136]), array([45.43679642, 76.43838326]), array([46.4105351 , 76.55579515])]\n"
          ],
          "name": "stdout"
        }
      ]
    },
    {
      "cell_type": "code",
      "metadata": {
        "colab": {
          "base_uri": "https://localhost:8080/"
        },
        "id": "8H0R4WpRJigT",
        "outputId": "834d3077-73f5-4e52-ed34-24c5b8a346b1"
      },
      "source": [
        "funcion_simuladora_definitiva(1000,1000,0,100,1,1,150,0.01,1500)#se demora entre 5 y 10 minutos (1500 pasos, con 150 partículas)"
      ],
      "execution_count": 206,
      "outputs": [
        {
          "output_type": "execute_result",
          "data": {
            "text/plain": [
              "[<_cython_magic_23919ec3535f64540f628291a417670d.Particula at 0x7fdbc1af30f0>,\n",
              " <_cython_magic_23919ec3535f64540f628291a417670d.Particula at 0x7fdbc1af3a20>,\n",
              " <_cython_magic_23919ec3535f64540f628291a417670d.Particula at 0x7fdbc33acbe0>,\n",
              " <_cython_magic_23919ec3535f64540f628291a417670d.Particula at 0x7fdbc33ac668>,\n",
              " <_cython_magic_23919ec3535f64540f628291a417670d.Particula at 0x7fdbc1af3a58>,\n",
              " <_cython_magic_23919ec3535f64540f628291a417670d.Particula at 0x7fdbc33ac2b0>,\n",
              " <_cython_magic_23919ec3535f64540f628291a417670d.Particula at 0x7fdbc33ac780>,\n",
              " <_cython_magic_23919ec3535f64540f628291a417670d.Particula at 0x7fdbc33aca20>,\n",
              " <_cython_magic_23919ec3535f64540f628291a417670d.Particula at 0x7fdbc33ac198>,\n",
              " <_cython_magic_23919ec3535f64540f628291a417670d.Particula at 0x7fdbc33ac0f0>,\n",
              " <_cython_magic_23919ec3535f64540f628291a417670d.Particula at 0x7fdbc33ac7b8>,\n",
              " <_cython_magic_23919ec3535f64540f628291a417670d.Particula at 0x7fdbc338fc88>,\n",
              " <_cython_magic_23919ec3535f64540f628291a417670d.Particula at 0x7fdbc338fc18>,\n",
              " <_cython_magic_23919ec3535f64540f628291a417670d.Particula at 0x7fdbc338fc50>,\n",
              " <_cython_magic_23919ec3535f64540f628291a417670d.Particula at 0x7fdbc338fba8>,\n",
              " <_cython_magic_23919ec3535f64540f628291a417670d.Particula at 0x7fdbc338f898>,\n",
              " <_cython_magic_23919ec3535f64540f628291a417670d.Particula at 0x7fdbc1af3898>,\n",
              " <_cython_magic_23919ec3535f64540f628291a417670d.Particula at 0x7fdbc33acb00>,\n",
              " <_cython_magic_23919ec3535f64540f628291a417670d.Particula at 0x7fdbc33ac5c0>,\n",
              " <_cython_magic_23919ec3535f64540f628291a417670d.Particula at 0x7fdbc33ac898>,\n",
              " <_cython_magic_23919ec3535f64540f628291a417670d.Particula at 0x7fdbc338ff98>,\n",
              " <_cython_magic_23919ec3535f64540f628291a417670d.Particula at 0x7fdbc338f320>,\n",
              " <_cython_magic_23919ec3535f64540f628291a417670d.Particula at 0x7fdbc338f748>,\n",
              " <_cython_magic_23919ec3535f64540f628291a417670d.Particula at 0x7fdbc33ac7f0>,\n",
              " <_cython_magic_23919ec3535f64540f628291a417670d.Particula at 0x7fdbc33aca90>,\n",
              " <_cython_magic_23919ec3535f64540f628291a417670d.Particula at 0x7fdbc33ac358>,\n",
              " <_cython_magic_23919ec3535f64540f628291a417670d.Particula at 0x7fdbc33ac160>,\n",
              " <_cython_magic_23919ec3535f64540f628291a417670d.Particula at 0x7fdbc338f3c8>,\n",
              " <_cython_magic_23919ec3535f64540f628291a417670d.Particula at 0x7fdbc338f9e8>,\n",
              " <_cython_magic_23919ec3535f64540f628291a417670d.Particula at 0x7fdbc338f978>,\n",
              " <_cython_magic_23919ec3535f64540f628291a417670d.Particula at 0x7fdbc338f2b0>,\n",
              " <_cython_magic_23919ec3535f64540f628291a417670d.Particula at 0x7fdbc338f710>,\n",
              " <_cython_magic_23919ec3535f64540f628291a417670d.Particula at 0x7fdbc33acd30>,\n",
              " <_cython_magic_23919ec3535f64540f628291a417670d.Particula at 0x7fdbc33ac400>,\n",
              " <_cython_magic_23919ec3535f64540f628291a417670d.Particula at 0x7fdbc338f630>,\n",
              " <_cython_magic_23919ec3535f64540f628291a417670d.Particula at 0x7fdbc1af36a0>,\n",
              " <_cython_magic_23919ec3535f64540f628291a417670d.Particula at 0x7fdbc33ac048>,\n",
              " <_cython_magic_23919ec3535f64540f628291a417670d.Particula at 0x7fdbc338fac8>,\n",
              " <_cython_magic_23919ec3535f64540f628291a417670d.Particula at 0x7fdbc338fe48>,\n",
              " <_cython_magic_23919ec3535f64540f628291a417670d.Particula at 0x7fdbc33ac208>,\n",
              " <_cython_magic_23919ec3535f64540f628291a417670d.Particula at 0x7fdbc338fb70>,\n",
              " <_cython_magic_23919ec3535f64540f628291a417670d.Particula at 0x7fdbc1af3c50>,\n",
              " <_cython_magic_23919ec3535f64540f628291a417670d.Particula at 0x7fdbc33accf8>,\n",
              " <_cython_magic_23919ec3535f64540f628291a417670d.Particula at 0x7fdbc338f588>,\n",
              " <_cython_magic_23919ec3535f64540f628291a417670d.Particula at 0x7fdbc33ac4a8>,\n",
              " <_cython_magic_23919ec3535f64540f628291a417670d.Particula at 0x7fdbc33ac0b8>,\n",
              " <_cython_magic_23919ec3535f64540f628291a417670d.Particula at 0x7fdbc338fef0>,\n",
              " <_cython_magic_23919ec3535f64540f628291a417670d.Particula at 0x7fdbc33acc88>,\n",
              " <_cython_magic_23919ec3535f64540f628291a417670d.Particula at 0x7fdbc1af3748>,\n",
              " <_cython_magic_23919ec3535f64540f628291a417670d.Particula at 0x7fdbc338f4e0>,\n",
              " <_cython_magic_23919ec3535f64540f628291a417670d.Particula at 0x7fdbc1af3320>,\n",
              " <_cython_magic_23919ec3535f64540f628291a417670d.Particula at 0x7fdbc338f6a0>,\n",
              " <_cython_magic_23919ec3535f64540f628291a417670d.Particula at 0x7fdbc1af37f0>,\n",
              " <_cython_magic_23919ec3535f64540f628291a417670d.Particula at 0x7fdbc338f9b0>,\n",
              " <_cython_magic_23919ec3535f64540f628291a417670d.Particula at 0x7fdbc338f390>,\n",
              " <_cython_magic_23919ec3535f64540f628291a417670d.Particula at 0x7fdbc338f048>,\n",
              " <_cython_magic_23919ec3535f64540f628291a417670d.Particula at 0x7fdbc33acd68>,\n",
              " <_cython_magic_23919ec3535f64540f628291a417670d.Particula at 0x7fdbc338fe80>,\n",
              " <_cython_magic_23919ec3535f64540f628291a417670d.Particula at 0x7fdbc338fb00>,\n",
              " <_cython_magic_23919ec3535f64540f628291a417670d.Particula at 0x7fdbc33ac5f8>,\n",
              " <_cython_magic_23919ec3535f64540f628291a417670d.Particula at 0x7fdbc338fa90>,\n",
              " <_cython_magic_23919ec3535f64540f628291a417670d.Particula at 0x7fdbc338f240>,\n",
              " <_cython_magic_23919ec3535f64540f628291a417670d.Particula at 0x7fdbc33acb70>,\n",
              " <_cython_magic_23919ec3535f64540f628291a417670d.Particula at 0x7fdbc33acdd8>,\n",
              " <_cython_magic_23919ec3535f64540f628291a417670d.Particula at 0x7fdbc338fbe0>,\n",
              " <_cython_magic_23919ec3535f64540f628291a417670d.Particula at 0x7fdbc338fdd8>,\n",
              " <_cython_magic_23919ec3535f64540f628291a417670d.Particula at 0x7fdbc338f278>,\n",
              " <_cython_magic_23919ec3535f64540f628291a417670d.Particula at 0x7fdbc1af33c8>,\n",
              " <_cython_magic_23919ec3535f64540f628291a417670d.Particula at 0x7fdbc338f7f0>,\n",
              " <_cython_magic_23919ec3535f64540f628291a417670d.Particula at 0x7fdbc33ac828>,\n",
              " <_cython_magic_23919ec3535f64540f628291a417670d.Particula at 0x7fdbc338fcc0>,\n",
              " <_cython_magic_23919ec3535f64540f628291a417670d.Particula at 0x7fdbc33ac9e8>,\n",
              " <_cython_magic_23919ec3535f64540f628291a417670d.Particula at 0x7fdbc338f780>,\n",
              " <_cython_magic_23919ec3535f64540f628291a417670d.Particula at 0x7fdbc33acda0>,\n",
              " <_cython_magic_23919ec3535f64540f628291a417670d.Particula at 0x7fdbc33ace80>,\n",
              " <_cython_magic_23919ec3535f64540f628291a417670d.Particula at 0x7fdbc33ac748>,\n",
              " <_cython_magic_23919ec3535f64540f628291a417670d.Particula at 0x7fdbc33aceb8>,\n",
              " <_cython_magic_23919ec3535f64540f628291a417670d.Particula at 0x7fdbc338f0b8>,\n",
              " <_cython_magic_23919ec3535f64540f628291a417670d.Particula at 0x7fdbc33acef0>,\n",
              " <_cython_magic_23919ec3535f64540f628291a417670d.Particula at 0x7fdbc338f4a8>,\n",
              " <_cython_magic_23919ec3535f64540f628291a417670d.Particula at 0x7fdbc33ac518>,\n",
              " <_cython_magic_23919ec3535f64540f628291a417670d.Particula at 0x7fdbc338fda0>,\n",
              " <_cython_magic_23919ec3535f64540f628291a417670d.Particula at 0x7fdbc338f518>,\n",
              " <_cython_magic_23919ec3535f64540f628291a417670d.Particula at 0x7fdbc1af3518>,\n",
              " <_cython_magic_23919ec3535f64540f628291a417670d.Particula at 0x7fdbc33acac8>,\n",
              " <_cython_magic_23919ec3535f64540f628291a417670d.Particula at 0x7fdbc338f438>,\n",
              " <_cython_magic_23919ec3535f64540f628291a417670d.Particula at 0x7fdbc338f940>,\n",
              " <_cython_magic_23919ec3535f64540f628291a417670d.Particula at 0x7fdbc33ace48>,\n",
              " <_cython_magic_23919ec3535f64540f628291a417670d.Particula at 0x7fdbc338f828>,\n",
              " <_cython_magic_23919ec3535f64540f628291a417670d.Particula at 0x7fdbc338f2e8>,\n",
              " <_cython_magic_23919ec3535f64540f628291a417670d.Particula at 0x7fdbc33ac940>,\n",
              " <_cython_magic_23919ec3535f64540f628291a417670d.Particula at 0x7fdbc338f5c0>,\n",
              " <_cython_magic_23919ec3535f64540f628291a417670d.Particula at 0x7fdbc338fa20>,\n",
              " <_cython_magic_23919ec3535f64540f628291a417670d.Particula at 0x7fdbc338fd30>,\n",
              " <_cython_magic_23919ec3535f64540f628291a417670d.Particula at 0x7fdbc338feb8>,\n",
              " <_cython_magic_23919ec3535f64540f628291a417670d.Particula at 0x7fdbc33ac9b0>,\n",
              " <_cython_magic_23919ec3535f64540f628291a417670d.Particula at 0x7fdbc33ac128>,\n",
              " <_cython_magic_23919ec3535f64540f628291a417670d.Particula at 0x7fdbc33acf98>,\n",
              " <_cython_magic_23919ec3535f64540f628291a417670d.Particula at 0x7fdbc338fb38>,\n",
              " <_cython_magic_23919ec3535f64540f628291a417670d.Particula at 0x7fdbc33ac860>,\n",
              " <_cython_magic_23919ec3535f64540f628291a417670d.Particula at 0x7fdbc338f550>,\n",
              " <_cython_magic_23919ec3535f64540f628291a417670d.Particula at 0x7fdbc33ac320>,\n",
              " <_cython_magic_23919ec3535f64540f628291a417670d.Particula at 0x7fdbc33acba8>,\n",
              " <_cython_magic_23919ec3535f64540f628291a417670d.Particula at 0x7fdbc1af3ba8>,\n",
              " <_cython_magic_23919ec3535f64540f628291a417670d.Particula at 0x7fdbc338ffd0>,\n",
              " <_cython_magic_23919ec3535f64540f628291a417670d.Particula at 0x7fdbc33ac080>,\n",
              " <_cython_magic_23919ec3535f64540f628291a417670d.Particula at 0x7fdbc338f860>,\n",
              " <_cython_magic_23919ec3535f64540f628291a417670d.Particula at 0x7fdbc33ac2e8>,\n",
              " <_cython_magic_23919ec3535f64540f628291a417670d.Particula at 0x7fdbc338f400>,\n",
              " <_cython_magic_23919ec3535f64540f628291a417670d.Particula at 0x7fdbc338f0f0>,\n",
              " <_cython_magic_23919ec3535f64540f628291a417670d.Particula at 0x7fdbc1af3b38>,\n",
              " <_cython_magic_23919ec3535f64540f628291a417670d.Particula at 0x7fdbc338fd68>,\n",
              " <_cython_magic_23919ec3535f64540f628291a417670d.Particula at 0x7fdbc338f908>,\n",
              " <_cython_magic_23919ec3535f64540f628291a417670d.Particula at 0x7fdbc33acc50>,\n",
              " <_cython_magic_23919ec3535f64540f628291a417670d.Particula at 0x7fdbc338f5f8>,\n",
              " <_cython_magic_23919ec3535f64540f628291a417670d.Particula at 0x7fdbc33ac550>,\n",
              " <_cython_magic_23919ec3535f64540f628291a417670d.Particula at 0x7fdbc33ac588>,\n",
              " <_cython_magic_23919ec3535f64540f628291a417670d.Particula at 0x7fdbc338f470>,\n",
              " <_cython_magic_23919ec3535f64540f628291a417670d.Particula at 0x7fdbc33ac1d0>,\n",
              " <_cython_magic_23919ec3535f64540f628291a417670d.Particula at 0x7fdbc338f208>,\n",
              " <_cython_magic_23919ec3535f64540f628291a417670d.Particula at 0x7fdbc338f128>,\n",
              " <_cython_magic_23919ec3535f64540f628291a417670d.Particula at 0x7fdbc338f8d0>,\n",
              " <_cython_magic_23919ec3535f64540f628291a417670d.Particula at 0x7fdbc1af3940>,\n",
              " <_cython_magic_23919ec3535f64540f628291a417670d.Particula at 0x7fdbc338f198>,\n",
              " <_cython_magic_23919ec3535f64540f628291a417670d.Particula at 0x7fdbc338f1d0>,\n",
              " <_cython_magic_23919ec3535f64540f628291a417670d.Particula at 0x7fdbc33ac470>,\n",
              " <_cython_magic_23919ec3535f64540f628291a417670d.Particula at 0x7fdbc33acfd0>,\n",
              " <_cython_magic_23919ec3535f64540f628291a417670d.Particula at 0x7fdbc1af3be0>,\n",
              " <_cython_magic_23919ec3535f64540f628291a417670d.Particula at 0x7fdbc338ff28>,\n",
              " <_cython_magic_23919ec3535f64540f628291a417670d.Particula at 0x7fdbc33acc18>,\n",
              " <_cython_magic_23919ec3535f64540f628291a417670d.Particula at 0x7fdbc338fa58>,\n",
              " <_cython_magic_23919ec3535f64540f628291a417670d.Particula at 0x7fdbc33ac240>,\n",
              " <_cython_magic_23919ec3535f64540f628291a417670d.Particula at 0x7fdbc1af3978>,\n",
              " <_cython_magic_23919ec3535f64540f628291a417670d.Particula at 0x7fdbc338f668>,\n",
              " <_cython_magic_23919ec3535f64540f628291a417670d.Particula at 0x7fdbc33accc0>,\n",
              " <_cython_magic_23919ec3535f64540f628291a417670d.Particula at 0x7fdbc33ac630>,\n",
              " <_cython_magic_23919ec3535f64540f628291a417670d.Particula at 0x7fdbc33ac8d0>,\n",
              " <_cython_magic_23919ec3535f64540f628291a417670d.Particula at 0x7fdbc33ac6a0>,\n",
              " <_cython_magic_23919ec3535f64540f628291a417670d.Particula at 0x7fdbc33ac4e0>,\n",
              " <_cython_magic_23919ec3535f64540f628291a417670d.Particula at 0x7fdbc33ac710>,\n",
              " <_cython_magic_23919ec3535f64540f628291a417670d.Particula at 0x7fdbc338fe10>,\n",
              " <_cython_magic_23919ec3535f64540f628291a417670d.Particula at 0x7fdbc33ac6d8>,\n",
              " <_cython_magic_23919ec3535f64540f628291a417670d.Particula at 0x7fdbc338f160>,\n",
              " <_cython_magic_23919ec3535f64540f628291a417670d.Particula at 0x7fdbc33acb38>,\n",
              " <_cython_magic_23919ec3535f64540f628291a417670d.Particula at 0x7fdbc338f6d8>,\n",
              " <_cython_magic_23919ec3535f64540f628291a417670d.Particula at 0x7fdbc338ff60>,\n",
              " <_cython_magic_23919ec3535f64540f628291a417670d.Particula at 0x7fdbc338f358>,\n",
              " <_cython_magic_23919ec3535f64540f628291a417670d.Particula at 0x7fdbc1af36d8>,\n",
              " <_cython_magic_23919ec3535f64540f628291a417670d.Particula at 0x7fdbc33ac978>,\n",
              " <_cython_magic_23919ec3535f64540f628291a417670d.Particula at 0x7fdbc338f7b8>]"
            ]
          },
          "metadata": {
            "tags": []
          },
          "execution_count": 206
        }
      ]
    }
  ]
}