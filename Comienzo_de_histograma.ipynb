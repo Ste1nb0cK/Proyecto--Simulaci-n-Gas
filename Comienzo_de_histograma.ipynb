{
  "nbformat": 4,
  "nbformat_minor": 0,
  "metadata": {
    "colab": {
      "name": "Comienzo de histograma.ipynb",
      "provenance": [],
      "authorship_tag": "ABX9TyPMlJmG+6wntQC/NRnk9Rro",
      "include_colab_link": true
    },
    "kernelspec": {
      "name": "python3",
      "display_name": "Python 3"
    }
  },
  "cells": [
    {
      "cell_type": "markdown",
      "metadata": {
        "id": "view-in-github",
        "colab_type": "text"
      },
      "source": [
        "<a href=\"https://colab.research.google.com/github/Ste1nb0cK/Proyecto--Simulaci-n-Gas/blob/main/Comienzo_de_histograma.ipynb\" target=\"_parent\"><img src=\"https://colab.research.google.com/assets/colab-badge.svg\" alt=\"Open In Colab\"/></a>"
      ]
    },
    {
      "cell_type": "code",
      "metadata": {
        "colab": {
          "base_uri": "https://localhost:8080/",
          "height": 265
        },
        "id": "V2CruZsfnwZ2",
        "outputId": "a3d3884b-efe3-4d43-de8b-74efef2ec1d1"
      },
      "source": [
        "import random\n",
        "import numpy\n",
        "from matplotlib import pyplot\n",
        "\n",
        "x = [random.gauss(3,1) for _ in range(400)]\n",
        "y = [random.gauss(4,2) for _ in range(400)]\n",
        "\n",
        "bins = numpy.linspace(-10, 10, 100)\n",
        "\n",
        "pyplot.hist(x, bins, alpha=0.5, label='x')\n",
        "pyplot.hist(y, bins, alpha=0.5, label='y')\n",
        "pyplot.legend(loc='upper right')\n",
        "pyplot.show()"
      ],
      "execution_count": 1,
      "outputs": [
        {
          "output_type": "display_data",
          "data": {
            "image/png": "[encoded data removed]",
            "text/plain": [
              "<Figure size 432x288 with 1 Axes>"
            ]
          },
          "metadata": {
            "tags": [],
            "needs_background": "light"
          }
        }
      ]
    }
  ]
}