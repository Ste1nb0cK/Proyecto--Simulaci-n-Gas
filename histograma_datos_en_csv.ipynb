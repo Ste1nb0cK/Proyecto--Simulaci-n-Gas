{
  "nbformat": 4,
  "nbformat_minor": 0,
  "metadata": {
    "colab": {
      "name": "histograma-datos en csv.ipynb",
      "provenance": [],
      "authorship_tag": "ABX9TyPZGJJX+YijTfWOj0YHUSGH"
    },
    "kernelspec": {
      "name": "python3",
      "display_name": "Python 3"
    }
  },
  "cells": [
    {
      "cell_type": "code",
      "metadata": {
        "id": "IGexrcxprAy0"
      },
      "source": [
        "#############FUNCIÓN QUE ESCRIBE LOS DATOS DE LAS MAGNITUDES DE VELOCIDAD EN .csv###################\n",
        "#Los datos de las velocidades en .csv\n",
        "import csv \n",
        "import pandas as pd\n",
        "\n",
        "with open('datos_magnitud_velocidades','w',newline = '') as file:\n",
        "    writer = csv.writer(file)\n",
        "    for j in range(nt):\n",
        "        writer.writerow(lista_magnitudes_velocidad[j])\n",
        "\n",
        "r = csv.reader(open('datos_magnitud_velocidades'))\n",
        "lines = list(r)\n",
        "dv=lines[0]\n",
        "veldatos=list(dv)\n",
        "\n",
        "for i in range(len(lines)-1, -1, -1):\n",
        "     if not lines[i]:\n",
        "         del lines[i]\n",
        "\n",
        "n=list(range(101))\n",
        "n.pop(0)\n",
        "\n",
        "datos={'Magnitud Velocidad':veldatos, 'Número de partículas': n}\n",
        "df = pd.DataFrame(datos, columns=['Magnitud Velocidad', 'Número de partículas'])\n",
        "df.set_index('Magnitud Velocidad', inplace=True)\n",
        "#df\n",
        "df.to_csv('DatosMagnitudVelocidades.csv')"
      ],
      "execution_count": 179,
      "outputs": []
    },
    {
      "cell_type": "code",
      "metadata": {
        "colab": {
          "base_uri": "https://localhost:8080/",
          "height": 419
        },
        "id": "CT7n1OS_KND4",
        "outputId": "427d35b2-4d8d-49c4-d34c-d914c74d52a2"
      },
      "source": [
        "dfleer = pd.read_csv('DatosMagnitudVelocidades.csv')\n",
        "dfleer"
      ],
      "execution_count": 180,
      "outputs": [
        {
          "output_type": "execute_result",
          "data": {
            "text/html": [
              "<div>\n",
              "<style scoped>\n",
              "    .dataframe tbody tr th:only-of-type {\n",
              "        vertical-align: middle;\n",
              "    }\n",
              "\n",
              "    .dataframe tbody tr th {\n",
              "        vertical-align: top;\n",
              "    }\n",
              "\n",
              "    .dataframe thead th {\n",
              "        text-align: right;\n",
              "    }\n",
              "</style>\n",
              "<table border=\"1\" class=\"dataframe\">\n",
              "  <thead>\n",
              "    <tr style=\"text-align: right;\">\n",
              "      <th></th>\n",
              "      <th>Magnitud Velocidad</th>\n",
              "      <th>Número de partículas</th>\n",
              "    </tr>\n",
              "  </thead>\n",
              "  <tbody>\n",
              "    <tr>\n",
              "      <th>0</th>\n",
              "      <td>103.076804</td>\n",
              "      <td>1</td>\n",
              "    </tr>\n",
              "    <tr>\n",
              "      <th>1</th>\n",
              "      <td>126.583352</td>\n",
              "      <td>2</td>\n",
              "    </tr>\n",
              "    <tr>\n",
              "      <th>2</th>\n",
              "      <td>106.466172</td>\n",
              "      <td>3</td>\n",
              "    </tr>\n",
              "    <tr>\n",
              "      <th>3</th>\n",
              "      <td>96.657442</td>\n",
              "      <td>4</td>\n",
              "    </tr>\n",
              "    <tr>\n",
              "      <th>4</th>\n",
              "      <td>87.718529</td>\n",
              "      <td>5</td>\n",
              "    </tr>\n",
              "    <tr>\n",
              "      <th>...</th>\n",
              "      <td>...</td>\n",
              "      <td>...</td>\n",
              "    </tr>\n",
              "    <tr>\n",
              "      <th>95</th>\n",
              "      <td>95.876980</td>\n",
              "      <td>96</td>\n",
              "    </tr>\n",
              "    <tr>\n",
              "      <th>96</th>\n",
              "      <td>119.471492</td>\n",
              "      <td>97</td>\n",
              "    </tr>\n",
              "    <tr>\n",
              "      <th>97</th>\n",
              "      <td>106.047227</td>\n",
              "      <td>98</td>\n",
              "    </tr>\n",
              "    <tr>\n",
              "      <th>98</th>\n",
              "      <td>87.637697</td>\n",
              "      <td>99</td>\n",
              "    </tr>\n",
              "    <tr>\n",
              "      <th>99</th>\n",
              "      <td>113.796195</td>\n",
              "      <td>100</td>\n",
              "    </tr>\n",
              "  </tbody>\n",
              "</table>\n",
              "<p>100 rows × 2 columns</p>\n",
              "</div>"
            ],
            "text/plain": [
              "    Magnitud Velocidad  Número de partículas\n",
              "0           103.076804                     1\n",
              "1           126.583352                     2\n",
              "2           106.466172                     3\n",
              "3            96.657442                     4\n",
              "4            87.718529                     5\n",
              "..                 ...                   ...\n",
              "95           95.876980                    96\n",
              "96          119.471492                    97\n",
              "97          106.047227                    98\n",
              "98           87.637697                    99\n",
              "99          113.796195                   100\n",
              "\n",
              "[100 rows x 2 columns]"
            ]
          },
          "metadata": {
            "tags": []
          },
          "execution_count": 180
        }
      ]
    },
    {
      "cell_type": "code",
      "metadata": {
        "colab": {
          "base_uri": "https://localhost:8080/",
          "height": 537
        },
        "id": "JZjivbkERR_t",
        "outputId": "4ef97d85-819f-448b-b529-c4c116a6b1b1"
      },
      "source": [
        "import pandas as pd\n",
        "import matplotlib.pyplot as plt\n",
        "\n",
        "dh= pd.read_csv('DatosMagnitudVelocidades.csv')\n",
        "plt.hist(dh[\"Magnitud Velocidad\"],45, color=\"blue\",ec=\"black\")"
      ],
      "execution_count": 190,
      "outputs": [
        {
          "output_type": "execute_result",
          "data": {
            "text/plain": [
              "(array([1., 1., 1., 1., 1., 0., 2., 1., 3., 3., 2., 3., 1., 3., 3., 5., 2.,\n",
              "        1., 1., 7., 3., 3., 5., 4., 2., 2., 6., 5., 3., 2., 3., 5., 1., 2.,\n",
              "        2., 2., 0., 4., 1., 0., 0., 1., 0., 1., 1.]),\n",
              " array([ 73.84183258,  75.32870902,  76.81558547,  78.30246191,\n",
              "         79.78933836,  81.2762148 ,  82.76309124,  84.24996769,\n",
              "         85.73684413,  87.22372057,  88.71059702,  90.19747346,\n",
              "         91.6843499 ,  93.17122635,  94.65810279,  96.14497923,\n",
              "         97.63185568,  99.11873212, 100.60560856, 102.09248501,\n",
              "        103.57936145, 105.06623789, 106.55311434, 108.03999078,\n",
              "        109.52686722, 111.01374367, 112.50062011, 113.98749655,\n",
              "        115.474373  , 116.96124944, 118.44812588, 119.93500233,\n",
              "        121.42187877, 122.90875522, 124.39563166, 125.8825081 ,\n",
              "        127.36938455, 128.85626099, 130.34313743, 131.83001388,\n",
              "        133.31689032, 134.80376676, 136.29064321, 137.77751965,\n",
              "        139.26439609, 140.75127254]),\n",
              " <a list of 45 Patch objects>)"
            ]
          },
          "metadata": {
            "tags": []
          },
          "execution_count": 190
        },
        {
          "output_type": "display_data",
          "data": {
            "image/png": "[encoded data removed]",
            "text/plain": [
              "<Figure size 432x288 with 1 Axes>"
            ]
          },
          "metadata": {
            "tags": [],
            "needs_background": "light"
          }
        }
      ]
    }
  ]
}