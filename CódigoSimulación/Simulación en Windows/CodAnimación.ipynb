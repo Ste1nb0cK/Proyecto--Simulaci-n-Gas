{
 "cells": [
  {
   "cell_type": "markdown",
   "metadata": {
    "colab_type": "text",
    "id": "view-in-github"
   },
   "source": [
    "<a href=\"https://colab.research.google.com/github/Ste1nb0cK/Proyecto--Simulaci-n-Gas/blob/main/CodAnimaci%C3%B3n.ipynb\" target=\"_parent\"><img src=\"https://colab.research.google.com/assets/colab-badge.svg\" alt=\"Open In Colab\"/></a>"
   ]
  },
  {
   "cell_type": "code",
   "execution_count": 1,
   "metadata": {},
   "outputs": [
    {
     "ename": "ImportError",
     "evalue": "cannot import name 'hello' from 'ParticleClass' (unknown location)",
     "output_type": "error",
     "traceback": [
      "\u001b[0;31m---------------------------------------------------------------------------\u001b[0m",
      "\u001b[0;31mImportError\u001b[0m                               Traceback (most recent call last)",
      "\u001b[0;32m<ipython-input-1-3dadcd624c57>\u001b[0m in \u001b[0;36m<module>\u001b[0;34m\u001b[0m\n\u001b[1;32m      1\u001b[0m \u001b[0;32mimport\u001b[0m \u001b[0mrandom\u001b[0m\u001b[0;34m\u001b[0m\u001b[0;34m\u001b[0m\u001b[0m\n\u001b[1;32m      2\u001b[0m \u001b[0;32mimport\u001b[0m \u001b[0mnumpy\u001b[0m \u001b[0;32mas\u001b[0m \u001b[0mnp\u001b[0m\u001b[0;34m\u001b[0m\u001b[0;34m\u001b[0m\u001b[0m\n\u001b[0;32m----> 3\u001b[0;31m \u001b[0;32mfrom\u001b[0m \u001b[0mParticleClass\u001b[0m \u001b[0;32mimport\u001b[0m \u001b[0mhello\u001b[0m \u001b[0;32mas\u001b[0m \u001b[0mhell\u001b[0m\u001b[0;34m\u001b[0m\u001b[0;34m\u001b[0m\u001b[0m\n\u001b[0m\u001b[1;32m      4\u001b[0m \u001b[0;32mfrom\u001b[0m \u001b[0mFuncionesGeneradorasListas\u001b[0m \u001b[0;32mimport\u001b[0m \u001b[0mFuncionesListas\u001b[0m \u001b[0;32mas\u001b[0m \u001b[0mfl\u001b[0m\u001b[0;34m\u001b[0m\u001b[0;34m\u001b[0m\u001b[0m\n\u001b[1;32m      5\u001b[0m \u001b[0;32mimport\u001b[0m \u001b[0mmatplotlib\u001b[0m\u001b[0;34m.\u001b[0m\u001b[0mpyplot\u001b[0m \u001b[0;32mas\u001b[0m \u001b[0mplt\u001b[0m\u001b[0;34m\u001b[0m\u001b[0;34m\u001b[0m\u001b[0m\n",
      "\u001b[0;31mImportError\u001b[0m: cannot import name 'hello' from 'ParticleClass' (unknown location)"
     ]
    }
   ],
   "source": [
    "import random\n",
    "import numpy as np\n",
    "from ParticleClass import hello as hell\n",
    "from FuncionesGeneradorasListas import FuncionesListas as fl\n",
    "import matplotlib.pyplot as plt\n",
    "from FGeneradora import FuncionGeneradora as fg\n",
    "import glob\n",
    "import moviepy.editor as mpy\n",
    "from skimage.draw import *"
   ]
  },
  {
   "cell_type": "code",
   "execution_count": 3,
   "metadata": {},
   "outputs": [],
   "source": [
    "%load_ext Cython"
   ]
  },
  {
   "cell_type": "code",
   "execution_count": 4,
   "metadata": {},
   "outputs": [
    {
     "name": "stdout",
     "output_type": "stream",
     "text": [
      "Wall time: 1min 9s\n"
     ]
    }
   ],
   "source": [
    "%%time\n",
    "%%cython \n",
    "#Se importan las cosas necesarias \n",
    "from ParticleClass import hello as hell\n",
    "import timeit\n",
    "from FuncionesGeneradorasListas import FuncionesListas as fl\n",
    "import matplotlib.pyplot as plt\n",
    "from FGeneradora import FuncionGeneradora as fg\n",
    "import multiprocessing as mp \n",
    "\n",
    "\n",
    "def simulate(float v1, float v2, float dt, float Lx, float Ly, int n, float m, float r, int nt):\n",
    "    cdef int j,k,i   #Fijamos j,k,i como enteros. Estos van a ser las variables con que se itera.\n",
    "    par = fg.funcion_generadora(Lx,Ly,v1,v2,m,r,n) #se crea la configuración inicial de las partículas\n",
    "    lista_posiciones = fl.listas_para_llenar_posiciones(n) ## lista que contiene las posiciones de cada partícula \n",
    "                                                           ## en cada paso\n",
    "    lista_velocidades = fl.listas_para_llenar_componentes_velocidad(n) #Lista con las velocidades\n",
    "\n",
    "    for j in range(nt):\n",
    "\n",
    "        for k in range(n):\n",
    "            lista_posiciones[k][0].append(par[k].posicion[0])  #Se añade la posición en x de cada partícula\n",
    "            lista_posiciones[k][1].append(par[k].posicion[1])  #Se añade la posicion en y de cada partícula\n",
    "            lista_velocidades[k][0].append(par[k].velocidad[0]) #Se añade la velocidad en x de cada partícula\n",
    "            lista_velocidades[k][1].append(par[k].velocidad[1]) #Se añade la velocidad en y de cada partícula\n",
    "        for p in par:     \n",
    "            for i in range(par.index(p)+1,n): #Revisamos las colisiones entre partículas\n",
    "                if  p.posicion[0] == par[i].posicion[0] and p.posicion[1] == par[i].posicion[1]:\n",
    "                    continue \n",
    "\n",
    "                elif p.ver_colision_pp(par[i])  :\n",
    "                    #print(\"CHOQUE\")\n",
    "                    p.resolver_colision_particula(par[i])\n",
    "        for p in par: \n",
    "            if p.ver_colision_muro(Lx,Ly): #Revisamos las condiciones de choque con la caja\n",
    "                p.resolver_colision_muro(Lx,Ly)\n",
    "            elif p.ver_colision_esquina(Lx,Ly): #Revisamos las condiciones de choque con las esquinas\n",
    "                p.resolver_colision_esquina()\n",
    "            p.paso_dt(dt)\n",
    "    return lista_posiciones, lista_velocidades  #Retorna la lista con las posiciones y la lista con las velocidades\n",
    "\n",
    "#Parametros simulación\n",
    "v1 = 100  #Velocidad mínima\n",
    "v2 = 200  #Velocidad máxima\n",
    "dt = 0.01 #tamaño del paso\n",
    "Lx = 800 #Tamñaño de la caja \n",
    "Ly = 800 \n",
    "n = 20 #número de partículas\n",
    "m = 1 #masa \n",
    "r = 5 #radio\n",
    "nt  = 1000 #número de pasos\n",
    "\n",
    "\n",
    "c = simulate(v1,v2,dt,Lx,Ly,n,m,r,nt)\n",
    "lista_posiciones = c[0]\n",
    "lista_velocidades = c[1]"
   ]
  },
  {
   "cell_type": "code",
   "execution_count": 7,
   "metadata": {},
   "outputs": [],
   "source": [
    "ListaOf = lista_posiciones \n",
    "#BoxOf sera la imagen en donde se mueve la particula, las dimensiones dependen del recorrido de la particula \n",
    "#Aqui se crea la caja en donde estaran las particulas coloreando el plot \n",
    "#Ingrese los colores que desea para la caja en la variable ColC\n",
    "#Ingrese los colores que desea para las particulas en la varibale ColP\n",
    "#Tenga en cuenta que por defecto los pixeles del fondo del plot valen 0 \n",
    "ColC=150\n",
    "ColP=255\n",
    "BoxOf=np.zeros((Lx+100,Ly+100))\n",
    "BoxOf[50:Lx+50,50:Ly+50]=ColC"
   ]
  },
  {
   "cell_type": "code",
   "execution_count": 26,
   "metadata": {},
   "outputs": [
    {
     "ename": "IndexError",
     "evalue": "index 900 is out of bounds for axis 1 with size 900",
     "output_type": "error",
     "traceback": [
      "\u001b[1;31m---------------------------------------------------------------------------\u001b[0m",
      "\u001b[1;31mIndexError\u001b[0m                                Traceback (most recent call last)",
      "\u001b[1;32m<ipython-input-26-b82a5f735abb>\u001b[0m in \u001b[0;36m<module>\u001b[1;34m\u001b[0m\n\u001b[0;32m      8\u001b[0m   \u001b[1;32mfor\u001b[0m \u001b[0mi\u001b[0m \u001b[1;32min\u001b[0m \u001b[0mrange\u001b[0m\u001b[1;33m(\u001b[0m\u001b[1;36m0\u001b[0m\u001b[1;33m,\u001b[0m\u001b[0mlen\u001b[0m\u001b[1;33m(\u001b[0m\u001b[0mListaOf\u001b[0m\u001b[1;33m)\u001b[0m\u001b[1;33m)\u001b[0m\u001b[1;33m:\u001b[0m\u001b[1;33m\u001b[0m\u001b[1;33m\u001b[0m\u001b[0m\n\u001b[0;32m      9\u001b[0m     \u001b[0mx1\u001b[0m\u001b[1;33m,\u001b[0m\u001b[0my1\u001b[0m\u001b[1;33m=\u001b[0m\u001b[0mcircle\u001b[0m\u001b[1;33m(\u001b[0m\u001b[0mListaOf\u001b[0m\u001b[1;33m[\u001b[0m\u001b[0mi\u001b[0m\u001b[1;33m]\u001b[0m\u001b[1;33m[\u001b[0m\u001b[1;36m0\u001b[0m\u001b[1;33m]\u001b[0m\u001b[1;33m[\u001b[0m\u001b[0mx\u001b[0m\u001b[1;33m]\u001b[0m\u001b[1;33m+\u001b[0m\u001b[1;36m50\u001b[0m\u001b[1;33m,\u001b[0m\u001b[0mListaOf\u001b[0m\u001b[1;33m[\u001b[0m\u001b[0mi\u001b[0m\u001b[1;33m]\u001b[0m\u001b[1;33m[\u001b[0m\u001b[1;36m1\u001b[0m\u001b[1;33m]\u001b[0m\u001b[1;33m[\u001b[0m\u001b[0mx\u001b[0m\u001b[1;33m]\u001b[0m\u001b[1;33m+\u001b[0m\u001b[1;36m50\u001b[0m\u001b[1;33m,\u001b[0m\u001b[1;36m5\u001b[0m\u001b[1;33m)\u001b[0m\u001b[1;33m\u001b[0m\u001b[1;33m\u001b[0m\u001b[0m\n\u001b[1;32m---> 10\u001b[1;33m     \u001b[0mBoxOf\u001b[0m\u001b[1;33m[\u001b[0m\u001b[0mx1\u001b[0m\u001b[1;33m,\u001b[0m\u001b[0my1\u001b[0m\u001b[1;33m]\u001b[0m\u001b[1;33m=\u001b[0m\u001b[1;36m255\u001b[0m\u001b[1;33m\u001b[0m\u001b[1;33m\u001b[0m\u001b[0m\n\u001b[0m\u001b[0;32m     11\u001b[0m   \u001b[0mGif\u001b[0m\u001b[1;33m.\u001b[0m\u001b[0mappend\u001b[0m\u001b[1;33m(\u001b[0m\u001b[0mnp\u001b[0m\u001b[1;33m.\u001b[0m\u001b[0mcopy\u001b[0m\u001b[1;33m(\u001b[0m\u001b[0mBoxOf\u001b[0m\u001b[1;33m)\u001b[0m\u001b[1;33m)\u001b[0m\u001b[1;33m\u001b[0m\u001b[1;33m\u001b[0m\u001b[0m\n\u001b[0;32m     12\u001b[0m   \u001b[0mBoxOf\u001b[0m\u001b[1;33m=\u001b[0m\u001b[0mnp\u001b[0m\u001b[1;33m.\u001b[0m\u001b[0mzeros\u001b[0m\u001b[1;33m(\u001b[0m\u001b[1;33m(\u001b[0m\u001b[0mLx\u001b[0m\u001b[1;33m+\u001b[0m\u001b[1;36m100\u001b[0m\u001b[1;33m,\u001b[0m\u001b[0mLy\u001b[0m\u001b[1;33m+\u001b[0m\u001b[1;36m100\u001b[0m\u001b[1;33m)\u001b[0m\u001b[1;33m)\u001b[0m\u001b[1;33m\u001b[0m\u001b[1;33m\u001b[0m\u001b[0m\n",
      "\u001b[1;31mIndexError\u001b[0m: index 900 is out of bounds for axis 1 with size 900"
     ]
    }
   ],
   "source": [
    "########Creación de las imagenes########\n",
    "#Para correr este celda recuerde haber definido la ListaOf y ademas BoxOf que corresponde al plot donde estaran las particulas\n",
    "#En Gif se guardaran cada una de las imagenes \n",
    "Gif=[]\n",
    "\n",
    "for x in range(0,len(ListaOf[0][1])): #El codigo esta fallando, solo crea 490 imagenes luego se estalla \n",
    "  for i in range(0,len(ListaOf)):\n",
    "    x1,y1=circle(ListaOf[i][0][x]+50,ListaOf[i][1][x]+50,5)\n",
    "    BoxOf[x1,y1]=ColP\n",
    "  Gif.append(np.copy(BoxOf))\n",
    "  BoxOf=np.zeros((Lx+100,Ly+100))\n",
    "  BoxOf[50:Lx+50,50:Ly+50]=ColC\n",
    "\n"
   ]
  },
  {
   "cell_type": "code",
   "execution_count": 29,
   "metadata": {
    "colab": {
     "base_uri": "https://localhost:8080/",
     "height": 265
    },
    "id": "1RdWyDTARbXs",
    "outputId": "d11ebfa3-3555-4d96-8c9d-0258e274f473"
   },
   "outputs": [
    {
     "data": {
      "image/png": "[encoded data removed]",
      "text/plain": [
       "<Figure size 432x288 with 1 Axes>"
      ]
     },
     "metadata": {
      "needs_background": "light"
     },
     "output_type": "display_data"
    }
   ],
   "source": [
    "########Descarga de las imagenes########\n",
    "#Con esto descarga cada una de las imagenes, el archivo descomprime las imagenes en drive, por lo cual recuerde cambiar la ruta\n",
    "#Las imagenes se guardan en formato png y se guardan en orden cuando son menos de 10000 imagenes\n",
    "\n",
    "for x in range(0,len(Gif)):\n",
    "  if x<10:\n",
    "    plt.imshow(Gif[x])\n",
    "    plt.savefig(\"C:\\\\Users\\\\danyp\\\\Desktop\\\\CosasPater\\\\UNAL\\\\Tercer semestre\\\\Programacion y metodos numericos\\\\Animacion\\\\frame_2\\\\img000{0}.png\".format(x), bbox_inches='tight') \n",
    "  elif x<100:\n",
    "    plt.imshow(Gif[x])\n",
    "    plt.savefig(\"C:\\\\Users\\\\danyp\\\\Desktop\\\\CosasPater\\\\UNAL\\\\Tercer semestre\\\\Programacion y metodos numericos\\\\Animacion\\\\frame_2\\\\img00{0}.png\".format(x), bbox_inches='tight') \n",
    "  elif x<1000:\n",
    "    plt.imshow(Gif[x])\n",
    "    plt.savefig(\"C:\\\\Users\\\\danyp\\\\Desktop\\\\CosasPater\\\\UNAL\\\\Tercer semestre\\\\Programacion y metodos numericos\\\\Animacion\\\\frame_2\\\\img0{0}.png\".format(x), bbox_inches='tight') \n",
    "  elif x<10000:\n",
    "    plt.imshow(Gif[x])\n",
    "    plt.savefig(\"C:\\\\Users\\\\danyp\\\\Desktop\\\\CosasPater\\\\UNAL\\\\Tercer semestre\\\\Programacion y metodos numericos\\\\Animacion\\\\frame_2\\\\img{0}.png\".format(x), bbox_inches='tight') \n",
    "\n"
   ]
  },
  {
   "cell_type": "code",
   "execution_count": 30,
   "metadata": {
    "colab": {
     "base_uri": "https://localhost:8080/"
    },
    "id": "4njxlZPQUAZh",
    "outputId": "6f8836e5-b1a0-4e7c-bcd9-fabca3c47283"
   },
   "outputs": [
    {
     "name": "stderr",
     "output_type": "stream",
     "text": [
      "t:   2%|█▎                                                                   | 9/490 [00:00<00:19, 25.26it/s, now=None]"
     ]
    },
    {
     "name": "stdout",
     "output_type": "stream",
     "text": [
      "MoviePy - Building file C:\\Users\\danyp\\Desktop\\CosasPater\\UNAL\\Tercer semestre\\Programacion y metodos numericos\\Animacion\\Videos\\movieOf3.0.gif with imageio.\n"
     ]
    },
    {
     "name": "stderr",
     "output_type": "stream",
     "text": [
      "                                                                                                                       \r"
     ]
    }
   ],
   "source": [
    "########Creación del Gif########\n",
    "\n",
    "#GifOfFinal es una lista donde sus elementos son las imagenes, estoy usando una libreria que manipula documentos, por lo cual se debe cambiar la ruta \n",
    "GifOfFinal = sorted(glob.glob('C:\\\\Users\\\\danyp\\\\Desktop\\\\CosasPater\\\\UNAL\\\\Tercer semestre\\\\Programacion y metodos numericos\\\\Animacion\\\\frame_2\\\\*.png'))  \n",
    "GifOfFinal.sort() \n",
    "\n",
    "#Dependiendo del numero de imagenes cambio el valor de la variable fps\n",
    "#Recuerde cambiar la ruta de descarga para el Gif, este se guarda directamente en el ordenador\n",
    "fps = 60\n",
    "clip = mpy.ImageSequenceClip(GifOfFinal, fps=fps)\n",
    "clip.write_gif('C:\\\\Users\\\\danyp\\\\Desktop\\\\CosasPater\\\\UNAL\\\\Tercer semestre\\\\Programacion y metodos numericos\\\\Animacion\\\\Videos\\\\movieOf3.0.gif')\n",
    "\n"
   ]
  },
  {
   "cell_type": "code",
   "execution_count": 27,
   "metadata": {
    "colab": {
     "base_uri": "https://localhost:8080/"
    },
    "id": "9rsVAgxOA7u9",
    "outputId": "308d63e5-9f26-4324-fd2a-2941f55ce0e6"
   },
   "outputs": [
    {
     "name": "stdout",
     "output_type": "stream",
     "text": [
      "1000\n",
      "490\n"
     ]
    }
   ],
   "source": [
    "####Con esto puede comprobar la informacion dentro de las listas###\n",
    "#print(\"Datos x\")\n",
    "#print(ListaOf[0][0])\n",
    "#print(ListaOf[1][0])\n",
    "#print(\"Datos y\")\n",
    "#print(ListaOf[0][1])\n",
    "#print(ListaOf[1][1])\n",
    "print(len(ListaOf[0][0]))\n",
    "print(len(Gif))\n"
   ]
  },
  {
   "cell_type": "code",
   "execution_count": 28,
   "metadata": {},
   "outputs": [
    {
     "data": {
      "text/plain": [
       "<matplotlib.image.AxesImage at 0x1c350f738e0>"
      ]
     },
     "execution_count": 28,
     "metadata": {},
     "output_type": "execute_result"
    },
    {
     "data": {
      "image/png": "[encoded data removed]",
      "text/plain": [
       "<Figure size 432x288 with 3 Axes>"
      ]
     },
     "metadata": {
      "needs_background": "light"
     },
     "output_type": "display_data"
    }
   ],
   "source": [
    "plt.subplot(1,3,1)\n",
    "plt.imshow(Gif[0])\n",
    "plt.subplot(1,3,2)\n",
    "plt.imshow(Gif[20])\n",
    "plt.subplot(1,3,3) \n",
    "plt.imshow(Gif[90])"
   ]
  },
  {
   "cell_type": "code",
   "execution_count": null,
   "metadata": {},
   "outputs": [],
   "source": []
  }
 ],
 "metadata": {
  "colab": {
   "authorship_tag": "ABX9TyMZ/6yukLDcg4dVM0gZf/5E",
   "include_colab_link": true,
   "name": "CodAnimación ",
   "provenance": []
  },
  "kernelspec": {
   "display_name": "Python 3",
   "language": "python",
   "name": "python3"
  },
  "language_info": {
   "codemirror_mode": {
    "name": "ipython",
    "version": 3
   },
   "file_extension": ".py",
   "mimetype": "text/x-python",
   "name": "python",
   "nbconvert_exporter": "python",
   "pygments_lexer": "ipython3",
   "version": "3.8.3"
  }
 },
 "nbformat": 4,
 "nbformat_minor": 1
}
