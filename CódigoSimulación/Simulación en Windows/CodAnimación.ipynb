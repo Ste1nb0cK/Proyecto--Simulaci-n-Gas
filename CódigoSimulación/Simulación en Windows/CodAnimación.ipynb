{
 "cells": [
  {
   "cell_type": "markdown",
   "metadata": {
    "colab_type": "text",
    "id": "view-in-github"
   },
   "source": [
    "<a href=\"https://colab.research.google.com/github/Ste1nb0cK/Proyecto--Simulaci-n-Gas/blob/main/CodAnimaci%C3%B3n.ipynb\" target=\"_parent\"><img src=\"https://colab.research.google.com/assets/colab-badge.svg\" alt=\"Open In Colab\"/></a>"
   ]
  },
  {
   "cell_type": "code",
   "execution_count": 1,
   "metadata": {},
   "outputs": [],
   "source": [
    "import random\n",
    "import numpy as np\n",
    "from ParticleClass import hello as hell\n",
    "from FuncionesGeneradorasListas import FuncionesListas as fl\n",
    "import matplotlib.pyplot as plt\n",
    "from FGeneradora import FuncionGeneradora as fg"
   ]
  },
  {
   "cell_type": "code",
   "execution_count": 2,
   "metadata": {},
   "outputs": [],
   "source": [
    "%load_ext Cython"
   ]
  },
  {
   "cell_type": "code",
   "execution_count": 3,
   "metadata": {},
   "outputs": [
    {
     "name": "stdout",
     "output_type": "stream",
     "text": [
      "Wall time: 13.5 s\n"
     ]
    }
   ],
   "source": [
    "%%time\n",
    "%%cython \n",
    "#Se importan las cosas necesarias \n",
    "from ParticleClass import hello as hell\n",
    "import timeit\n",
    "from FuncionesGeneradorasListas import FuncionesListas as fl\n",
    "import matplotlib.pyplot as plt\n",
    "from FGeneradora import FuncionGeneradora as fg\n",
    "\n",
    "#Parametros simulación\n",
    "cdef float v1 = 50  #Velocidad mínima\n",
    "cdef float v2 = 75  #Velocidad máxima\n",
    "cdef float dt = 0.01 #tamaño del paso\n",
    "cdef float Lx = 100 #Tamñaño de la caja \n",
    "cdef float Ly = 100 \n",
    "cdef int n = 11 #número de partículas\n",
    "cdef float m = 1 #masa \n",
    "cdef float r = 2 #radio\n",
    "cdef int nt  = 10000 #número de pasos\n",
    "cdef int j,k,i\n",
    "\n",
    "\n",
    "par = fg.funcion_generadora(Lx,Ly,v1,v2,m,r,n) #se crea la configuración inicial de las partículas\n",
    "lista_posiciones = fl.listas_para_llenar_posiciones(n) ## lista que contiene las posiciones de cada partícula \n",
    "                                                       ## en cada paso\n",
    "lista_velocidades = fl.listas_para_llenar_componentes_velocidad(n)\n",
    "\n",
    "for j in range(nt):\n",
    "\n",
    "    for k in range(n):\n",
    "        lista_posiciones[k][0].append(par[k].posicion[0])  #Se añade la posición en x de cada partícula\n",
    "        lista_posiciones[k][1].append(par[k].posicion[1])  #Se añade la posicion en y de cada partícula\n",
    "        lista_velocidades[k][0].append(par[k].velocidad[0]) #Se añade la velocidad en x de cada partícula\n",
    "        lista_velocidades[k][1].append(par[k].velocidad[1]) #Se añade la velocidad en y de cada partícula\n",
    "    for p in par:     \n",
    "        for i in range(par.index(p)+1,n): #Revisamos las colisiones entre partículas\n",
    "            if  p.posicion[0] == par[i].posicion[0] and p.posicion[1] == par[i].posicion[1]:\n",
    "                continue \n",
    "            \n",
    "            elif p.ver_colision_pp(par[i])  :\n",
    "                #print(\"CHOQUE\")\n",
    "                p.resolver_colision_particula(par[i])\n",
    "    for p in par: \n",
    "        if p.ver_colision_muro(Lx,Ly): #Revisamos las condiciones de choque con la caja\n",
    "            p.resolver_colision_muro(Lx,Ly)\n",
    "        elif p.ver_colision_esquina(Lx,Ly): #Revisamos las condiciones de choque con las esquinas\n",
    "            p.resolver_colision_esquina()\n",
    "        p.paso_dt(dt)"
   ]
  },
  {
   "cell_type": "code",
   "execution_count": null,
   "metadata": {},
   "outputs": [],
   "source": [
    "########Creación de las imagenes########\n",
    "#En principio este codigo funciona para n particulas pero debe estar definida la lista ListaOf con anterioridad\n",
    "\n",
    "#En Gif se guardaran cada una de las imagenes \n",
    "Gif=[]\n",
    "#Recuerde que debe cambiar la informacion del radio dependiendo de la simulacion creada, la cual corresponde al ultimo valor en la funcion circulo\n",
    "for x in range(0,len(ListaOf[0][1])):\n",
    "  for i in range(0,len(ListaOf)):\n",
    "    x1,y1=circle(ListaOf[i][0][x],ListaOf[i][1][x],10)\n",
    "    BoxOf[x1,y1]=2"
   ]
  },
  {
   "cell_type": "code",
   "execution_count": null,
   "metadata": {
    "id": "3FuvSivU2uu4"
   },
   "outputs": [],
   "source": [
    "########Caso particular para 2 particulas########\n",
    "#Por algun motivo luego de correr el codigo una vez se cambian los valores de las listas, por lo cual corra la celda anterior si aparece un error\n",
    "\n",
    "#las listas l1 y l2 contienen la informacion de los radios en el tiempo de la particula 1 y 2 correspondientemente \n",
    "l1=[]\n",
    "l2=[]\n",
    "\n",
    "#Como hay posiciones menores que cero entonces lo corregi corriendo las posiciones en x\n",
    "l1.append(np.array(x)+6)\n",
    "l1.append(y)\n",
    "l2.append(np.array(x1)+6)\n",
    "l2.append(y1)\n",
    "\n",
    "#la ListaOf contendra a l1 y l2\n",
    "ListaOf=[]\n",
    "ListaOf.append(l1)\n",
    "ListaOf.append(l2)\n",
    "\n",
    "#BoxOf sera la imagen en donde se mueve la particula, las dimensiones dependen del recorrido de la particula \n",
    "BoxOf=np.zeros((20,15))\n",
    "\n",
    "########Creación de las imagenes########\n",
    "#En principio este codigo funciona para n particulas pero debe estar definida la lista ListaOf con anterioridad\n",
    "\n",
    "#En Gif se guardaran cada una de las imagenes \n",
    "Gif=[]\n",
    "\n",
    "for x in range(0,len(ListaOf[0][1])):\n",
    "  for i in range(0,len(ListaOf)):\n",
    "    x1,y1=circle(ListaOf[i][0][x],ListaOf[i][1][x],1)\n",
    "    BoxOf[x1,y1]=255\n",
    "  Gif.append(np.copy(BoxOf))\n",
    "  BoxOf=np.zeros((20,15))\n"
   ]
  },
  {
   "cell_type": "code",
   "execution_count": null,
   "metadata": {
    "colab": {
     "base_uri": "https://localhost:8080/",
     "height": 265
    },
    "id": "1RdWyDTARbXs",
    "outputId": "d11ebfa3-3555-4d96-8c9d-0258e274f473"
   },
   "outputs": [
    {
     "data": {
      "image/png": "[encoded data removed]",
      "text/plain": [
       "<Figure size 432x288 with 1 Axes>"
      ]
     },
     "metadata": {
      "needs_background": "light",
      "tags": []
     },
     "output_type": "display_data"
    }
   ],
   "source": [
    "########Descarga de las imagenes########\n",
    "#Con esto descarga cada una de las imagenes, el archivo descomprime las imagenes en drive, por lo cual recuerde cambiar la ruta\n",
    "#Las imagenes se guardan en formato png y se guardan en orden cuando son menos de 10000 imagenes\n",
    "\n",
    "for x in range(0,len(Gif)):\n",
    "  if x<10:\n",
    "    plt.imshow(Gif[x])\n",
    "    plt.savefig(\"/content/drive/MyDrive/Colab Notebooks/Proyecto /Gif3/img000{0}.png\".format(x), bbox_inches='tight') \n",
    "  elif x<100:\n",
    "    plt.imshow(Gif[x])\n",
    "    plt.savefig(\"/content/drive/MyDrive/Colab Notebooks/Proyecto /Gif3/img00{0}.png\".format(x), bbox_inches='tight') \n",
    "  elif x<1000:\n",
    "    plt.imshow(Gif[x])\n",
    "    plt.savefig(\"/content/drive/MyDrive/Colab Notebooks/Proyecto /Gif3/img0{0}.png\".format(x), bbox_inches='tight') \n",
    "  elif x<10000:\n",
    "    plt.imshow(Gif[x])\n",
    "    plt.savefig(\"/content/drive/MyDrive/Colab Notebooks/Proyecto /Gif3/img{0}.png\".format(x), bbox_inches='tight') \n",
    "\n"
   ]
  },
  {
   "cell_type": "code",
   "execution_count": null,
   "metadata": {
    "colab": {
     "base_uri": "https://localhost:8080/"
    },
    "id": "4njxlZPQUAZh",
    "outputId": "6f8836e5-b1a0-4e7c-bcd9-fabca3c47283"
   },
   "outputs": [
    {
     "name": "stdout",
     "output_type": "stream",
     "text": [
      "\n",
      "[MoviePy] Building file movieOf2.0.gif with imageio\n"
     ]
    },
    {
     "name": "stderr",
     "output_type": "stream",
     "text": [
      "100%|██████████| 12/12 [00:00<00:00, 95.28it/s]\n"
     ]
    }
   ],
   "source": [
    "########Creación del Gif########\n",
    "\n",
    "#GifOfFinal es una lista donde sus elementos son las imagenes, estoy usando una libreria que manipula documentos, por lo cual se debe cambiar la ruta \n",
    "GifOfFinal = sorted(glob.glob('/content/drive/MyDrive/Colab Notebooks/Proyecto /Gif3/*.png'))  \n",
    "GifOfFinal.sort() \n",
    "\n",
    "#Dependiendo del numero de imagenes cambio el valor de la variable fps\n",
    "fps = 5\n",
    "clip = mpy.ImageSequenceClip(GifOfFinal, fps=fps)\n",
    "clip.write_gif('movieOf2.0.gif')\n",
    "\n",
    "#El gif se guarda dentro de la consola asi que debe descargarlo "
   ]
  },
  {
   "cell_type": "code",
   "execution_count": null,
   "metadata": {
    "colab": {
     "base_uri": "https://localhost:8080/"
    },
    "id": "9rsVAgxOA7u9",
    "outputId": "308d63e5-9f26-4324-fd2a-2941f55ce0e6"
   },
   "outputs": [
    {
     "name": "stdout",
     "output_type": "stream",
     "text": [
      "Datos x\n",
      "[6. 7. 8. 7. 6. 5. 4. 3. 2. 1. 0.]\n",
      "[12. 11. 10. 11. 12. 13. 14. 15. 16. 17. 18.]\n",
      "Datos y\n",
      "[0.0, 1.0, 2.0, 3.0, 4.0, 5.0, 6.0, 7.0, 8.0, 9.0, 10.0]\n",
      "[0.0, 1.0, 2.0, 3.0, 4.0, 5.0, 6.0, 7.0, 8.0, 9.0, 10.0]\n"
     ]
    }
   ],
   "source": [
    "####Con esto puede comprobar la informacion dentro de las listas###\n",
    "print(\"Datos x\")\n",
    "print(ListaOf[0][0])\n",
    "print(ListaOf[1][0])\n",
    "print(\"Datos y\")\n",
    "print(ListaOf[0][1])\n",
    "print(ListaOf[1][1])\n"
   ]
  }
 ],
 "metadata": {
  "colab": {
   "authorship_tag": "ABX9TyMZ/6yukLDcg4dVM0gZf/5E",
   "include_colab_link": true,
   "name": "CodAnimación ",
   "provenance": []
  },
  "kernelspec": {
   "display_name": "Python 3",
   "language": "python",
   "name": "python3"
  },
  "language_info": {
   "codemirror_mode": {
    "name": "ipython",
    "version": 3
   },
   "file_extension": ".py",
   "mimetype": "text/x-python",
   "name": "python",
   "nbconvert_exporter": "python",
   "pygments_lexer": "ipython3",
   "version": "3.8.3"
  }
 },
 "nbformat": 4,
 "nbformat_minor": 1
}
