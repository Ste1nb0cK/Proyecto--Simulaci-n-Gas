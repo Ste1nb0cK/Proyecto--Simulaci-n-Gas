{
 "cells": [
  {
   "cell_type": "code",
   "execution_count": 1,
   "metadata": {},
   "outputs": [],
   "source": [
    "import random\n",
    "import numpy as np\n",
    "from ParticleClass import hello as hell\n",
    "from FuncionesGeneradorasListas import FuncionesListas as fl\n",
    "import matplotlib.pyplot as plt\n",
    "from FGeneradora import FuncionGeneradora as fg"
   ]
  },
  {
   "cell_type": "code",
   "execution_count": null,
   "metadata": {},
   "outputs": [],
   "source": [
    "#hola"
   ]
  },
  {
   "cell_type": "code",
   "execution_count": 2,
   "metadata": {},
   "outputs": [],
   "source": [
    "%load_ext Cython"
   ]
  },
  {
   "cell_type": "markdown",
   "metadata": {},
   "source": [
    "Lo que hice: Corrí una simulación con los parametros que se muestran abajo y le construí el histograma."
   ]
  },
  {
   "cell_type": "code",
   "execution_count": 15,
   "metadata": {},
   "outputs": [
    {
     "name": "stdout",
     "output_type": "stream",
     "text": [
      "Wall time: 6.78 s\n"
     ]
    }
   ],
   "source": [
    "%%time\n",
    "%%cython \n",
    "#Se importan las cosas necesarias \n",
    "from ParticleClass import hello as hell\n",
    "import timeit\n",
    "from FuncionesGeneradorasListas import FuncionesListas as fl\n",
    "import matplotlib.pyplot as plt\n",
    "from FGeneradora import FuncionGeneradora as fg\n",
    "\n",
    "#Parametros simulación\n",
    "cdef float v1 = 30  #Velocidad mínima\n",
    "cdef float v2 = 150  #Velocidad máxima\n",
    "cdef float dt = 0.01 #tamaño del paso\n",
    "cdef float Lx = 200 #Tamñaño de la caja \n",
    "cdef float Ly = 200 \n",
    "cdef int n = 150 #número de partículas\n",
    "cdef float m = 1 #masa \n",
    "cdef float r = 2 #radio\n",
    "cdef int nt  = 10000 #número de pasos\n",
    "cdef int j,k,i\n",
    "\n",
    "\n",
    "\n",
    "\n",
    "def simulate(float v1, float v2, float dt, float Lx, float Ly, int n, float m, float r, int nt):\n",
    "    par = fg.funcion_generadora(Lx,Ly,v1,v2,m,r,n)\n",
    "    lista_posiciones = fl.listas_para_llenar_posiciones(n)\n",
    "    lista_velocidades = fl.listas_para_llenar_componentes_velocidad(n)\n",
    "    for j in range(nt):\n",
    "\n",
    "        for k in range(n):\n",
    "            lista_posiciones[k][0].append(par[k].posicion[0])  #Se añade la posición en x de cada partícula\n",
    "            lista_posiciones[k][1].append(par[k].posicion[1])  #Se añade la posicion en y de cada partícula\n",
    "            lista_velocidades[k][0].append(par[k].velocidad[0]) #Se añade la velocidad en x de cada partícula\n",
    "            lista_velocidades[k][1].append(par[k].velocidad[1]) #Se añade la velocidad en y de cada partícula\n",
    "        for p in par:     \n",
    "            for i in range(par.index(p)+1,n): #Revisamos las colisiones entre partículas\n",
    "                if  p.posicion[0] == par[i].posicion[0] and p.posicion[1] == par[i].posicion[1]:\n",
    "                    continue \n",
    "\n",
    "                elif p.ver_colision_pp(par[i])  :\n",
    "                    #print(\"CHOQUE\")\n",
    "                    p.resolver_colision_particula(par[i])\n",
    "        for p in par: \n",
    "            if p.ver_colision_muro(Lx,Ly): #Revisamos las condiciones de choque con la caja\n",
    "                p.resolver_colision_muro(Lx,Ly)\n",
    "            elif p.ver_colision_esquina(Lx,Ly): #Revisamos las condiciones de choque con las esquinas\n",
    "                p.resolver_colision_esquina()\n",
    "            p.paso_dt(dt)\n",
    "    return lista_posiciones , lista_velocidades\n",
    "        "
   ]
  },
  {
   "cell_type": "markdown",
   "metadata": {},
   "source": [
    "En estás celdas generé una lista con todas las magnitudes que se presentan en cada paso dado."
   ]
  },
  {
   "cell_type": "markdown",
   "metadata": {},
   "source": [
    "Ahora importo scipy para calcular las frecuencias relativas de la. De ahora en adelante me guíe por lo que está \n",
    "aquí: https://docs.scipy.org/doc/scipy/reference/generated/scipy.stats.relfreq.html "
   ]
  },
  {
   "cell_type": "code",
   "execution_count": 33,
   "metadata": {},
   "outputs": [],
   "source": [
    "A=simulate(0,100,0.01,100,100,2,1,1,3)[1]#Definimos una lista A, que contiene la historia de las velcidades de cada partícula"
   ]
  },
  {
   "cell_type": "code",
   "execution_count": 58,
   "metadata": {},
   "outputs": [
    {
     "name": "stdout",
     "output_type": "stream",
     "text": [
      "[[[46.286903381347656, 46.286903381347656, 46.286903381347656], [71.81390380859375, 71.81390380859375, 71.81390380859375]], [[89.75392150878906, 89.75392150878906, 89.75392150878906], [41.990169525146484, 41.990169525146484, 41.990169525146484]]]\n",
      "[7299.714204864169, 9818.940762956408]\n"
     ]
    }
   ],
   "source": [
    "#Esta es la idea principal que luego formalizamos en la función temperatura, imprimimos resultados para comparar\n",
    "print(A)\n",
    "l=[]\n",
    "for n in range(2):\n",
    "    \n",
    "    v_x=A[n][0][-1]\n",
    "    v_y=A[n][1][-1]\n",
    "    v_cuadrado=(v_x)**2+(v_y)**2\n",
    "    l.append(v_cuadrado)\n",
    "    \n",
    "print(l)"
   ]
  },
  {
   "cell_type": "code",
   "execution_count": 55,
   "metadata": {},
   "outputs": [],
   "source": [
    "def temperatura(n,lista_v,m):#La función recibe el número de partículas, la lista de velcidades que va a provenir de la simulación\n",
    "    l=[]                     #y la masa de las partículas(esta será igual siempre y la podremos sacar de los parámetros)\n",
    "    for i in range(n):\n",
    "    \n",
    "      v_x=lista_v[i][0][-1]\n",
    "      v_y=lista_v[i][1][-1]\n",
    "      v_cuadrado=(v_x)**2+(v_y)**2\n",
    "      l.append(v_cuadrado)\n",
    "    Temperatura=0.5*m*(sum(l)/float(len(l)))#Se calcula el promedio de la energía cinética en todo el gas para el último paso\n",
    "    return Temperatura\n"
   ]
  },
  {
   "cell_type": "code",
   "execution_count": 56,
   "metadata": {},
   "outputs": [
    {
     "data": {
      "text/plain": [
       "4279.663741955144"
      ]
     },
     "execution_count": 56,
     "metadata": {},
     "output_type": "execute_result"
    }
   ],
   "source": [
    "temperatura(2,A,1)#Prueba usando la lista A, efectivamente, da lo que tiene que dar haciendo el cálculo a mano"
   ]
  },
  {
   "cell_type": "code",
   "execution_count": 59,
   "metadata": {},
   "outputs": [],
   "source": [
    "def Area(lx,ly):\n",
    "    return lx*ly\n"
   ]
  },
  {
   "cell_type": "code",
   "execution_count": null,
   "metadata": {},
   "outputs": [],
   "source": []
  }
 ],
 "metadata": {
  "kernelspec": {
   "display_name": "Python 3",
   "language": "python",
   "name": "python3"
  },
  "language_info": {
   "codemirror_mode": {
    "name": "ipython",
    "version": 3
   },
   "file_extension": ".py",
   "mimetype": "text/x-python",
   "name": "python",
   "nbconvert_exporter": "python",
   "pygments_lexer": "ipython3",
   "version": "3.8.3"
  }
 },
 "nbformat": 4,
 "nbformat_minor": 4
}
