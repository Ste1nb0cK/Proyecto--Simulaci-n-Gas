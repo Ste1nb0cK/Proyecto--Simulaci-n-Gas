{
  "nbformat": 4,
  "nbformat_minor": 0,
  "metadata": {
    "colab": {
      "name": "part.ipynb",
      "provenance": [],
      "collapsed_sections": [],
      "authorship_tag": "ABX9TyOyoLeJBPdrCIkZ87P46PIZ",
      "include_colab_link": true
    },
    "kernelspec": {
      "name": "python3",
      "display_name": "Python 3"
    }
  },
  "cells": [
    {
      "cell_type": "markdown",
      "metadata": {
        "id": "view-in-github",
        "colab_type": "text"
      },
      "source": [
        "<a href=\"https://colab.research.google.com/github/Ste1nb0cK/Proyecto--Simulaci-n-Gas/blob/main/part.ipynb\" target=\"_parent\"><img src=\"https://colab.research.google.com/assets/colab-badge.svg\" alt=\"Open In Colab\"/></a>"
      ]
    },
    {
      "cell_type": "code",
      "metadata": {
        "id": "tRpRYLU3fivR",
        "outputId": "cc731371-343f-4997-b210-816a26ebc585",
        "colab": {
          "base_uri": "https://localhost:8080/",
          "height": 129
        }
      },
      "source": [
        "from visual import ∗\n",
        "\n",
        "# lados de la caja -L,L en las tres direcciones\n",
        "L=20 # las paredes de la caja (se dibujan 5)\n",
        "esp=0.1 # espesor\n",
        "L1=L*2\n",
        "s2=L1-esp  # ancho de paredes\n",
        "s3 = L1+esp\n",
        "\n",
        "pR = box(pos=vector(L,0,0),length=esp,height=s2,\\width=s3,color=(0.7,0.7,0.1))\n",
        "pL = box (pos=vector(-L, 0, 0), length=esp, height=s2,\\width=s3, color = (0.7,0.7,0.1))\n",
        "pB = box (pos=vector(0, -L, 0), length=s3, height=esp, \\width=s3, color = (0.7,0.7,0.1))\n",
        "pT = box (pos=vector(0, L, 0), length=s3, height=esp, \\width=s3, color = (0.7,0.7,0.1))\n",
        "pBK = box(pos=vector(0, 0, -L), length=s2, height=s2, \\width=esp, color = (0.8,0.8,0.2)) \n",
        "\n",
        "g = vector(0,-9.8,0)\n",
        "t, dt, R = 0.0, 0.001, 0.2\n",
        "p = sphere(radius=R, pos=(-10,5,0), color=color.white) # agregamos atributo al objeto p(sphere): la velocidad\n",
        "p.vel = vector(12,7,-1)\n",
        "pos = p.pos # posicion auxiliar\n",
        "\n",
        "# definimos LL para efecto visual (no traslape con la pared)\n",
        "LL = L - 0.5∗esp - R # una caja menor para el centro d masa\n",
        "def sgn(x):\n",
        "    if x > = 0.0 return 1.\n",
        "    else return -1\n",
        "def impacto(p):\n",
        "    global pos, LL\n",
        "    s = sgn(pos.x)\n",
        "    if abs(pos.x) > LL:\n",
        "        p.vel.x = -p.vel.x\n",
        "        posx = s∗abs(2∗LL) - pos.x\n",
        "    s = sgn(p.pos.y)\n",
        "    if abs(pos.y) > LL:\n",
        "        p.vel.y = -p.vel.y # nueva velocidad\n",
        "        pos.y = sabs(2∗LL) - pos.y\n",
        "    s = sgn(p.pos.z)\n",
        "    if abs(pos.z) > LL:\n",
        "        p.vel.z = -p.vel.z # nueva velocidad\n",
        "        pos.z = s∗abs(2∗LL) - pos.z\n",
        "while t < 5000:\n",
        "    dr = p.vel∗dt + 0.5∗g∗dt∗∗2 # suponiendo masa = 1\n",
        "    dv = g∗dt\n",
        "    pos = p.pos + dr # nueva posicion en auxiliar ´\n",
        "    impacto(p) # corrige posicion/velocidad\n",
        "    p.pos = pos # actualiza posicion particula\n",
        "    p.vel = p.vel + dv\n",
        "    t += dt"
      ],
      "execution_count": 1,
      "outputs": [
        {
          "output_type": "error",
          "ename": "SyntaxError",
          "evalue": "ignored",
          "traceback": [
            "\u001b[0;36m  File \u001b[0;32m\"<ipython-input-1-4deca1d1da99>\"\u001b[0;36m, line \u001b[0;32m1\u001b[0m\n\u001b[0;31m    from visual import ∗\u001b[0m\n\u001b[0m                       ^\u001b[0m\n\u001b[0;31mSyntaxError\u001b[0m\u001b[0;31m:\u001b[0m invalid character in identifier\n"
          ]
        }
      ]
    }
  ]
}