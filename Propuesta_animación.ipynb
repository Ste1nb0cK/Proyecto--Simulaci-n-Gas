{
  "nbformat": 4,
  "nbformat_minor": 0,
  "metadata": {
    "colab": {
      "name": "Propuesta animación",
      "provenance": [],
      "authorship_tag": "ABX9TyNrccMPdrVBiqBnMmBDJGLH",
      "include_colab_link": true
    },
    "kernelspec": {
      "name": "python3",
      "display_name": "Python 3"
    }
  },
  "cells": [
    {
      "cell_type": "markdown",
      "metadata": {
        "id": "view-in-github",
        "colab_type": "text"
      },
      "source": [
        "<a href=\"https://colab.research.google.com/github/Ste1nb0cK/Proyecto--Simulaci-n-Gas/blob/main/Propuesta_animaci%C3%B3n.ipynb\" target=\"_parent\"><img src=\"https://colab.research.google.com/assets/colab-badge.svg\" alt=\"Open In Colab\"/></a>"
      ]
    },
    {
      "cell_type": "markdown",
      "metadata": {
        "id": "9qLCdTbPXkW7"
      },
      "source": [
        "PROPUESTA PARA LA ANIMACIÓN DEL GAS\n",
        "\n",
        "\n",
        "\n",
        "\n",
        "\n"
      ]
    },
    {
      "cell_type": "code",
      "metadata": {
        "id": "7HVOQemXO6K6",
        "outputId": "0c3cad1f-650a-4ae5-c29e-b37a8057f4ed",
        "colab": {
          "base_uri": "https://localhost:8080/"
        }
      },
      "source": [
        "%pylab inline\n",
        "from skimage.draw import *#Usamos la librería prohibida xd, quién lo diría que nos puede salvar.\n"
      ],
      "execution_count": 11,
      "outputs": [
        {
          "output_type": "stream",
          "text": [
            "Populating the interactive namespace from numpy and matplotlib\n"
          ],
          "name": "stdout"
        }
      ]
    },
    {
      "cell_type": "code",
      "metadata": {
        "id": "doI7ngs_O9P3",
        "outputId": "54c08d5c-d30a-4eea-b070-db99a5c62327",
        "colab": {
          "base_uri": "https://localhost:8080/",
          "height": 286
        }
      },
      "source": [
        "m=np.zeros((600,600))#Se crea una matriz de ceros con las dimensiones que queramos\n",
        "x,y=circle(100,100,20)#Se crea un círculo con su centro y su radio usando la función circle de la librería prohibida\n",
        "m[x,y]=255 #Le pintamos el círculo \n",
        "imshow(m)"
      ],
      "execution_count": 22,
      "outputs": [
        {
          "output_type": "execute_result",
          "data": {
            "text/plain": [
              "<matplotlib.image.AxesImage at 0x7f42958968d0>"
            ]
          },
          "metadata": {
            "tags": []
          },
          "execution_count": 22
        },
        {
          "output_type": "display_data",
          "data": {
            "image/png": "[encoded data removed]",
            "text/plain": [
              "<Figure size 432x288 with 1 Axes>"
            ]
          },
          "metadata": {
            "tags": [],
            "needs_background": "light"
          }
        }
      ]
    },
    {
      "cell_type": "code",
      "metadata": {
        "id": "cFn40oeuRJ2p",
        "outputId": "de2c8191-ffb7-4b3f-8f03-3d5d711e7ad7",
        "colab": {
          "base_uri": "https://localhost:8080/",
          "height": 286
        }
      },
      "source": [
        "#La idea sería que apartir de la lista de posiciones que vamos a tener, pintar las partículas usando lo que ya vimos, este\n",
        "#es un ejemplo de un caso particular, nosotros a final de cuentas vamos a tener una lista de posiciones y lo único que \n",
        "#queremos es pintarlas en diferentes configuraciones que serán determinadas por lo que pase con el gas.\n",
        "posiciones=[(20,40),(50,60)]\n",
        "radios=[10,10]\n",
        "caja=np.zeros((200,200))\n",
        "for n in range(len(posiciones)):\n",
        "  x,y=circle(posiciones[n][0],posiciones[n][1],radios[n])\n",
        "  caja[x,y]=255\n",
        "\n",
        "imshow(m)\n",
        "#Este procedimiento lo podemos generalizar para una función que reciba n posiciones y n radios (si es que lo hacemos con radios\n",
        "#diferentes para cada partícula), si no, podemos fijar un radio estandar.\n",
        "#Esta forma me parece la más sencilla de pintar cada configuración que se da en cada caso, el único problema es la cuestión\n",
        "#De que se vea dinámico, para eso podemos ver lo que les decía de crear una función que pinte cada imagen,descargarlas y \n",
        "#volverlas un vídeo, debe haber alguna forma de hacerlo, fin del comunicado.\n",
        " \n"
      ],
      "execution_count": 26,
      "outputs": [
        {
          "output_type": "execute_result",
          "data": {
            "text/plain": [
              "<matplotlib.image.AxesImage at 0x7f42956a3438>"
            ]
          },
          "metadata": {
            "tags": []
          },
          "execution_count": 26
        },
        {
          "output_type": "display_data",
          "data": {
            "image/png": "[encoded data removed]",
            "text/plain": [
              "<Figure size 432x288 with 1 Axes>"
            ]
          },
          "metadata": {
            "tags": [],
            "needs_background": "light"
          }
        }
      ]
    },
    {
      "cell_type": "code",
      "metadata": {
        "id": "HP0_yGTGXLtm"
      },
      "source": [
        ""
      ],
      "execution_count": null,
      "outputs": []
    }
  ]
}